{
  "nbformat": 4,
  "nbformat_minor": 0,
  "metadata": {
    "colab": {
      "provenance": [],
      "authorship_tag": "ABX9TyOOXgsFTVt7bOW8MUCPf+MI",
      "include_colab_link": true
    },
    "kernelspec": {
      "name": "python3",
      "display_name": "Python 3"
    },
    "language_info": {
      "name": "python"
    }
  },
  "cells": [
    {
      "cell_type": "markdown",
      "metadata": {
        "id": "view-in-github",
        "colab_type": "text"
      },
      "source": [
        "<a href=\"https://colab.research.google.com/github/shrybhrdwj/TheCodeStreak/blob/main/OOPs_Practice_Ques.ipynb\" target=\"_parent\"><img src=\"https://colab.research.google.com/assets/colab-badge.svg\" alt=\"Open In Colab\"/></a>"
      ]
    },
    {
      "cell_type": "markdown",
      "source": [
        "## **Bank Account System**\n",
        "Question 0: Class for Bank Account\n",
        "Design a Python class named `BankAccount` to represent bank accounts.\n",
        "\n",
        "**Theory:** A bank account typically includes attributes such as account number, balance, and account holder name. The class should handle operations such as deposit, withdrawal, and transfer of funds between accounts.\n",
        "\n",
        "**Operations:**\n",
        "1. Deposit: Add funds to the account\n",
        "2. Withdrawal: Subtract funds from the account\n",
        "3. Transfer: Transfer funds from one account to another\n",
        "\n",
        "**Test Cases:**\n",
        "* Test Case 1: acc1 = BankAccount(\"John Doe\", 1000) acc2 = BankAccount(\"Jane Smith\", 2000) assert acc1.balance == 1000 assert acc2.balance == 2000 acc1.deposit(500) acc2.withdraw(100) acc1.transfer(acc2, 200) assert acc1.balance == 1300 assert acc2.balance == 2300\n",
        "* Test Case 2: acc3 = BankAccount(\"Alice Johnson\", 500) acc4 = BankAccount(\"Bob Brown\", 1500) assert acc3.balance == 500 assert acc4.balance == 1500 acc3.deposit(100) acc4.withdraw(200) acc3.transfer(acc4, 300) assert acc3.balance == 400 assert acc4.balance == 1800"
      ],
      "metadata": {
        "id": "hg0dhK0USDMS"
      }
    },
    {
      "cell_type": "code",
      "source": [
        "class BankAccount:\n",
        "    def __init__(self, account_holder, initial_balance):\n",
        "        self.account_holder = account_holder\n",
        "        self.balance = initial_balance\n",
        "\n",
        "    def deposit(self, amount):\n",
        "        if amount > 0:\n",
        "            self.balance += amount\n",
        "            return True\n",
        "        return False\n",
        "\n",
        "    def withdraw(self, amount):\n",
        "        if 0 < amount <= self.balance:\n",
        "            self.balance -= amount\n",
        "            return True\n",
        "        return False\n",
        "\n",
        "    def transfer(self, other_account, amount):\n",
        "        if self.withdraw(amount):\n",
        "            other_account.deposit(amount)\n",
        "            return True\n",
        "        return False\n",
        "\n",
        "\n",
        "# Test Case 1\n",
        "acc1 = BankAccount(\"John Doe\", 1000)\n",
        "acc2 = BankAccount(\"Jane Smith\", 2000)\n",
        "\n",
        "assert acc1.balance == 1000\n",
        "assert acc2.balance == 2000\n",
        "\n",
        "acc1.deposit(500)         # John: 1500\n",
        "acc2.withdraw(100)        # Jane: 1900\n",
        "acc1.transfer(acc2, 200)  # John -> Jane: 200\n",
        "\n",
        "assert acc1.balance == 1300\n",
        "assert acc2.balance == 2100\n",
        "\n",
        "\n",
        "# Test Case 2\n",
        "acc3 = BankAccount(\"Alice Johnson\", 500)\n",
        "acc4 = BankAccount(\"Bob Brown\", 1500)\n",
        "\n",
        "assert acc3.balance == 500\n",
        "assert acc4.balance == 1500\n",
        "\n",
        "acc3.deposit(100)          # Alice: 600\n",
        "acc4.withdraw(200)         # Bob: 1300\n",
        "acc3.transfer(acc4, 300)   # Alice -> Bob: 300\n",
        "\n",
        "assert acc3.balance == 300\n",
        "assert acc4.balance == 1600\n",
        "\n",
        "print(\" All test cases passed successfully!\")\n"
      ],
      "metadata": {
        "colab": {
          "base_uri": "https://localhost:8080/"
        },
        "id": "-bJlbDSXU7uZ",
        "outputId": "49257d2d-3c9f-437c-c22b-eeb11391481e"
      },
      "execution_count": 8,
      "outputs": [
        {
          "output_type": "stream",
          "name": "stdout",
          "text": [
            " All test cases passed successfully!\n"
          ]
        }
      ]
    },
    {
      "cell_type": "code",
      "execution_count": 1,
      "metadata": {
        "id": "yDIxH0CcbN0n"
      },
      "outputs": [],
      "source": [
        "class BankAccount:\n",
        "    def __init__(self, account_holder, initial_balance):\n",
        "        self.account_holder=account_holder\n",
        "        self.balance=initial_balance\n",
        "        pass\n",
        "\n",
        "    def deposit(self,amount):\n",
        "        if amount >0:\n",
        "            self.balance += amount\n",
        "            return True\n",
        "        return False\n",
        "        pass\n",
        "\n",
        "    def withdraw(self,amount):\n",
        "        if 0 < amount <= self.balance:\n",
        "            self.balance -= amount\n",
        "            return True\n",
        "        return False\n",
        "        pass\n",
        "\n",
        "    def transfer(self,amount,another_account):\n",
        "        if self.withdraw(amount):\n",
        "            another_account.deposit(amount)\n",
        "            return True\n",
        "        return False\n",
        "        pass\n",
        "\n",
        "    def __str__(self):\n",
        "        return f\"Account Holder: {self.account_holder} | Balance: {self.balance}\"\n",
        ""
      ]
    },
    {
      "cell_type": "code",
      "source": [
        "acc1 = BankAccount(\"Darshan\", 1000)\n",
        "acc2 = BankAccount(\"Robert\", 2000)\n",
        "\n",
        "acc1.deposit(500)        # 1500\n",
        "acc2.withdraw(100)       # 1900\n",
        "acc1.transfer(200, acc2) # Darshan -> Robert\n",
        "\n",
        "print(f\"After Transfer, Account1 holder's bank balance is {acc1.balance}\")  # 1300\n",
        "print(acc2.balance)  # 2100\n"
      ],
      "metadata": {
        "colab": {
          "base_uri": "https://localhost:8080/"
        },
        "id": "t34V02L1QbGF",
        "outputId": "a74c1be1-4ced-45c5-b585-980f6edc1fae"
      },
      "execution_count": 4,
      "outputs": [
        {
          "output_type": "stream",
          "name": "stdout",
          "text": [
            "After Transfer, Account1 holder's bank balance is 1300\n",
            "2100\n"
          ]
        }
      ]
    },
    {
      "cell_type": "markdown",
      "source": [
        "## **Calculator**\n",
        "\n",
        "Create a Python class named Calculator with the following specifications:\n",
        "\n",
        "* Constructor Method (__init__): Initializes two attributes, num1 and num2.\n",
        "* Method add: Takes no arguments and returns the sum of num1 and num2.\n",
        "* Method subtract: Takes no arguments and returns the result of subtracting num2 from num1.\n",
        "* Method multiply: Takes a single argument factor and returns the product of num1 and factor.\n",
        "* Method divide: Takes a single argument divisor and returns the result of dividing num1 by divisor. If divisor is zero, print an error message and return None."
      ],
      "metadata": {
        "id": "RI-xxHF3X2-n"
      }
    },
    {
      "cell_type": "code",
      "source": [
        "class Calculator:\n",
        "    def __init__(self, num1, num2):\n",
        "        # Initialize the attributes num1 and num2\n",
        "        self.num1 = num1\n",
        "        self.num2 = num2\n",
        "\n",
        "    def add(self):\n",
        "        # Return the sum of num1 and num2\n",
        "        return self.num1 + self.num2\n",
        "        pass\n",
        "\n",
        "    def subtract(self):\n",
        "        # Return the result of subtracting num2 from num1\n",
        "        return self.num1 - self.num2\n",
        "        pass\n",
        "\n",
        "    def multiply(self, factor):\n",
        "        # Return the product of num1 and factor\n",
        "        return self.num1 * factor\n",
        "        pass\n",
        "\n",
        "    def divide(self, divisor):\n",
        "        # Return the result of dividing num1 by divisor\n",
        "        # If divisor is zero, print an error message and return None\n",
        "        if divisor == 0:\n",
        "            print(f\"Error: Cannot divide by zero\")\n",
        "            return None\n",
        "        return self.num1 //divisor\n",
        "        pass\n"
      ],
      "metadata": {
        "id": "e1hI1Yu7X1CP"
      },
      "execution_count": 12,
      "outputs": []
    },
    {
      "cell_type": "code",
      "source": [
        "calc = Calculator(9,5)\n",
        "\n",
        "print(calc.add())\n",
        "print(calc.subtract())\n",
        "print(calc.multiply(8))\n",
        "print(calc.divide(2))"
      ],
      "metadata": {
        "colab": {
          "base_uri": "https://localhost:8080/"
        },
        "id": "3XyFFqCUYSgr",
        "outputId": "297a5510-d2dc-4b8d-d963-dd6080740e81"
      },
      "execution_count": 13,
      "outputs": [
        {
          "output_type": "stream",
          "name": "stdout",
          "text": [
            "14\n",
            "4\n",
            "72\n",
            "4\n"
          ]
        }
      ]
    },
    {
      "cell_type": "code",
      "source": [
        "print(calc.divide(0))"
      ],
      "metadata": {
        "colab": {
          "base_uri": "https://localhost:8080/"
        },
        "id": "OpcEuv3haylJ",
        "outputId": "d950985b-7417-4c5b-fce0-8149d99bddb5"
      },
      "execution_count": 14,
      "outputs": [
        {
          "output_type": "stream",
          "name": "stdout",
          "text": [
            "Error: Cannot divide by zero\n",
            "None\n"
          ]
        }
      ]
    }
  ]
}