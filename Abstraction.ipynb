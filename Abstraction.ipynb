{
  "nbformat": 4,
  "nbformat_minor": 0,
  "metadata": {
    "colab": {
      "provenance": [],
      "authorship_tag": "ABX9TyM4lviAsrYlWeh6Q7s/foqn",
      "include_colab_link": true
    },
    "kernelspec": {
      "name": "python3",
      "display_name": "Python 3"
    },
    "language_info": {
      "name": "python"
    }
  },
  "cells": [
    {
      "cell_type": "markdown",
      "metadata": {
        "id": "view-in-github",
        "colab_type": "text"
      },
      "source": [
        "<a href=\"https://colab.research.google.com/github/shrybhrdwj/TheCodeStreak/blob/main/Abstraction.ipynb\" target=\"_parent\"><img src=\"https://colab.research.google.com/assets/colab-badge.svg\" alt=\"Open In Colab\"/></a>"
      ]
    },
    {
      "cell_type": "markdown",
      "source": [
        "## **Abstraction**\n",
        "Abstraction is the concept of hiding the complex implementation details and showing only the necessary features of an object. This helps in reducing programming complexity and effort."
      ],
      "metadata": {
        "id": "ROrLWLllFWn3"
      }
    },
    {
      "cell_type": "code",
      "execution_count": 1,
      "metadata": {
        "colab": {
          "base_uri": "https://localhost:8080/"
        },
        "id": "51LlMC-XEgW2",
        "outputId": "1079aca3-2717-45a0-8282-c8cbb5e77ada"
      },
      "outputs": [
        {
          "output_type": "stream",
          "name": "stdout",
          "text": [
            "Car enginer started\n",
            "The vehicle is used for driving\n"
          ]
        }
      ],
      "source": [
        "from abc import ABC,abstractmethod\n",
        "\n",
        "## Abstract base cclass\n",
        "class Vehicle(ABC):\n",
        "    def drive(self):\n",
        "        print(\"The vehicle is used for driving\")\n",
        "\n",
        "    @abstractmethod\n",
        "    def start_engine(self):\n",
        "        pass\n",
        "\n",
        "class Car(Vehicle):\n",
        "    def start_engine(self):\n",
        "        print(\"Car enginer started\")\n",
        "\n",
        "def operate_vehicle(vehicle):\n",
        "    vehicle.start_engine()\n",
        "    vehicle.drive()\n",
        "\n",
        "car=Car()\n",
        "operate_vehicle(car)\n",
        "\n"
      ]
    }
  ]
}