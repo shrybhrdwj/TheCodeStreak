{
  "nbformat": 4,
  "nbformat_minor": 0,
  "metadata": {
    "colab": {
      "provenance": [],
      "authorship_tag": "ABX9TyOzBymgetieriHLysXo/5c3",
      "include_colab_link": true
    },
    "kernelspec": {
      "name": "python3",
      "display_name": "Python 3"
    },
    "language_info": {
      "name": "python"
    }
  },
  "cells": [
    {
      "cell_type": "markdown",
      "metadata": {
        "id": "view-in-github",
        "colab_type": "text"
      },
      "source": [
        "<a href=\"https://colab.research.google.com/github/shrybhrdwj/TheCodeStreak/blob/main/Sorting.ipynb\" target=\"_parent\"><img src=\"https://colab.research.google.com/assets/colab-badge.svg\" alt=\"Open In Colab\"/></a>"
      ]
    },
    {
      "cell_type": "markdown",
      "source": [
        "## **1. Bubble Sort**"
      ],
      "metadata": {
        "id": "VxYDBydlPyNj"
      }
    },
    {
      "cell_type": "code",
      "execution_count": 1,
      "metadata": {
        "colab": {
          "base_uri": "https://localhost:8080/"
        },
        "id": "hp5WZEg8tqaN",
        "outputId": "ccb784dc-15fb-4e01-de6a-4e97aa7cd9a4"
      },
      "outputs": [
        {
          "output_type": "stream",
          "name": "stdout",
          "text": [
            "Sorted list: [11, 12, 22, 25, 64]\n"
          ]
        }
      ],
      "source": [
        "def bubble_sort(lst):\n",
        "    # Your code goes here\n",
        "    n = len(lst)\n",
        "    for i in range(n):\n",
        "        # Last i elements are already sorted\n",
        "        for j in range(0, n - i - 1):\n",
        "            if lst[j] > lst[j + 1]:\n",
        "                # Swap if elements are in wrong order\n",
        "                lst[j], lst[j + 1] = lst[j + 1], lst[j]\n",
        "    return lst\n",
        "    pass\n",
        "\n",
        "nums = [64, 25, 12, 22, 11]\n",
        "sorted_nums = bubble_sort(nums)\n",
        "print(\"Sorted list:\", sorted_nums)"
      ]
    },
    {
      "cell_type": "markdown",
      "source": [
        "## **2. Selection Sort**"
      ],
      "metadata": {
        "id": "-DvSg7zLR7eV"
      }
    },
    {
      "cell_type": "code",
      "source": [
        "def selection_sort(lst):\n",
        "    # Your code goes here\n",
        "    n = len(lst)\n",
        "    for i in range(n):\n",
        "        min_index = i\n",
        "        # Find the index of the smallest element in the remaining unsorted part\n",
        "        for j in range(i + 1, n):\n",
        "            if lst[j] < lst[min_index]:\n",
        "                min_index = j\n",
        "        # Swap the smallest element found with the element at index i\n",
        "        lst[i], lst[min_index] = lst[min_index], lst[i]\n",
        "    return lst\n",
        "    pass\n",
        "\n",
        "lst = [34, 10, 64, 25, 12]\n",
        "sorted_lst = selection_sort(lst)\n",
        "print(\"Sorted list:\", sorted_lst)\n"
      ],
      "metadata": {
        "colab": {
          "base_uri": "https://localhost:8080/"
        },
        "id": "ZHcHCLuSSBZM",
        "outputId": "a02fc325-0e16-4cdd-9ca9-9c0bc333a7c1"
      },
      "execution_count": 2,
      "outputs": [
        {
          "output_type": "stream",
          "name": "stdout",
          "text": [
            "Sorted list: [10, 12, 25, 34, 64]\n"
          ]
        }
      ]
    },
    {
      "cell_type": "markdown",
      "source": [
        "## **3. Insertion Sort**"
      ],
      "metadata": {
        "id": "7zRccXYxS2P1"
      }
    },
    {
      "cell_type": "code",
      "source": [
        "def insertion_sort(lst):\n",
        "    # Your code goes here\n",
        "    for i in range(1, len(lst)):\n",
        "        key = lst[i]\n",
        "        j = i - 1\n",
        "\n",
        "        # Move elements of lst[0..i-1], that are greater than key,\n",
        "        # to one position ahead of their current position\n",
        "        while j >= 0 and lst[j] > key:\n",
        "            lst[j + 1] = lst[j]\n",
        "            j -= 1\n",
        "\n",
        "        lst[j + 1] = key\n",
        "    return lst\n",
        "    pass\n",
        "\n",
        "lst = [12, 11, 13, 5, 6]\n",
        "sorted_lst = insertion_sort(lst)\n",
        "print(\"Sorted list:\", sorted_lst)"
      ],
      "metadata": {
        "colab": {
          "base_uri": "https://localhost:8080/"
        },
        "id": "hELUx3snS5wu",
        "outputId": "39809640-c8b1-489d-9f73-85929cc932a2"
      },
      "execution_count": 3,
      "outputs": [
        {
          "output_type": "stream",
          "name": "stdout",
          "text": [
            "Sorted list: [5, 6, 11, 12, 13]\n"
          ]
        }
      ]
    }
  ]
}
