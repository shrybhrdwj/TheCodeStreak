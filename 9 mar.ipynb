{
 "cells": [
  {
   "cell_type": "markdown",
   "metadata": {},
   "source": [
    "33. Python"
   ]
  },
  {
   "cell_type": "code",
   "execution_count": 2,
   "metadata": {},
   "outputs": [
    {
     "name": "stdout",
     "output_type": "stream",
     "text": [
      "23\n",
      "65\n",
      "22\n",
      "76\n",
      "34\n",
      "98\n",
      "43\n"
     ]
    }
   ],
   "source": [
    "l1 = [23,65,22,76,34,98,43]\n",
    "it = iter(l1)\n",
    "while True:\n",
    "    try:\n",
    "        print(next(it))\n",
    "    except StopIteration:\n",
    "        break"
   ]
  },
  {
   "cell_type": "markdown",
   "metadata": {},
   "source": [
    "33. Create a generator for first n natural even numbers"
   ]
  },
  {
   "cell_type": "code",
   "execution_count": 3,
   "metadata": {},
   "outputs": [
    {
     "name": "stdout",
     "output_type": "stream",
     "text": [
      "[2, 4, 6, 8, 10, 12, 14, 16, 18, 20]\n"
     ]
    }
   ],
   "source": [
    "def evenNum(n):\n",
    "    i =1\n",
    "    while n:\n",
    "        yield 2*i\n",
    "        i+=1\n",
    "        n-=1\n",
    "it = evenNum(10)\n",
    "even_list = []\n",
    "while True:\n",
    "    try:\n",
    "        even_list.append(next(it))\n",
    "    except StopIteration:\n",
    "        break\n",
    "print(even_list)"
   ]
  },
  {
   "cell_type": "markdown",
   "metadata": {},
   "source": [
    "34. Overloading in Python"
   ]
  },
  {
   "cell_type": "code",
   "execution_count": 4,
   "metadata": {},
   "outputs": [
    {
     "name": "stdout",
     "output_type": "stream",
     "text": [
      "Hello, Ashutosh!\n",
      "Hi, Bob!\n"
     ]
    }
   ],
   "source": [
    "#Using Default Arguments\n",
    "def greet(name, greeting=\"Hello\"):\n",
    "    return f\"{greeting}, {name}!\"\n",
    "print(greet(\"Ashutosh\"))\n",
    "print(greet(\"Bob\",\"Hi\"))"
   ]
  },
  {
   "cell_type": "code",
   "execution_count": 5,
   "metadata": {},
   "outputs": [
    {
     "name": "stdout",
     "output_type": "stream",
     "text": [
      "4\n",
      "15\n"
     ]
    }
   ],
   "source": [
    "#using Variable-Length Arguments\n",
    "def add(*t):\n",
    "    return sum(t)\n",
    "print(add(1,3))\n",
    "print(add(1,3,5,6))"
   ]
  },
  {
   "cell_type": "code",
   "execution_count": 6,
   "metadata": {},
   "outputs": [
    {
     "name": "stdout",
     "output_type": "stream",
     "text": [
      "Processing an integer: 10\n",
      "Processing a string: hello\n"
     ]
    }
   ],
   "source": [
    "#Using functools.singledispatch\n",
    "from functools import singledispatch\n",
    "\n",
    "@singledispatch\n",
    "def process(value):\n",
    "    raise NotImplementedError(\"Unsupported type\")\n",
    "\n",
    "@process.register(int)\n",
    "def _(value):\n",
    "    return f\"Processing an integer: {value}\"\n",
    "\n",
    "@process.register(str)\n",
    "def _(value):\n",
    "    return f\"Processing a string: {value}\"\n",
    "\n",
    "print(process(10))\n",
    "print(process(\"hello\"))"
   ]
  },
  {
   "cell_type": "code",
   "execution_count": 7,
   "metadata": {},
   "outputs": [
    {
     "name": "stdout",
     "output_type": "stream",
     "text": [
      "6\n",
      "120\n"
     ]
    }
   ],
   "source": [
    "#Using Class Methods\n",
    "\n",
    "class Math:\n",
    "    @staticmethod\n",
    "    def multiply(a,b):\n",
    "        return a*b\n",
    "    @staticmethod\n",
    "    def multiply(a,b,c):\n",
    "        return a*b*c\n",
    "    \n",
    "class Math:\n",
    "    @staticmethod\n",
    "    def multiply(*t):\n",
    "        result = 1\n",
    "        for num in t:\n",
    "            result *=num\n",
    "        return result\n",
    "    \n",
    "print(Math.multiply(2,3))\n",
    "print(Math.multiply(2,3,4,5))"
   ]
  },
  {
   "cell_type": "markdown",
   "metadata": {},
   "source": [
    "35. Positional arguments in Python"
   ]
  },
  {
   "cell_type": "code",
   "execution_count": 8,
   "metadata": {},
   "outputs": [
    {
     "name": "stdout",
     "output_type": "stream",
     "text": [
      "a= 3 ,b= 5\n",
      "a= 30 ,b= 4\n",
      "a= 23 ,b= 34\n"
     ]
    }
   ],
   "source": [
    "def f1(a,b):\n",
    "    print(\"a=\",a,\",b=\",b)\n",
    "f1(3,5) #positional argument\n",
    "#f1(b=30,5) #syntax error(compile time error)\n",
    "f1(30, b=4)\n",
    "#f1(2,a=10) #type error: multiple values of a (run time error)\n",
    "f1(a=23,b=34) #keyword argument"
   ]
  }
 ],
 "metadata": {
  "kernelspec": {
   "display_name": "base",
   "language": "python",
   "name": "python3"
  },
  "language_info": {
   "codemirror_mode": {
    "name": "ipython",
    "version": 3
   },
   "file_extension": ".py",
   "mimetype": "text/x-python",
   "name": "python",
   "nbconvert_exporter": "python",
   "pygments_lexer": "ipython3",
   "version": "3.12.4"
  }
 },
 "nbformat": 4,
 "nbformat_minor": 2
}
