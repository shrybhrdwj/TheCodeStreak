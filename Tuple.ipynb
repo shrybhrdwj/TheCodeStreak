{
  "nbformat": 4,
  "nbformat_minor": 0,
  "metadata": {
    "colab": {
      "provenance": [],
      "authorship_tag": "ABX9TyMBHSfH/Eqhlzze0iSZLN8P",
      "include_colab_link": true
    },
    "kernelspec": {
      "name": "python3",
      "display_name": "Python 3"
    },
    "language_info": {
      "name": "python"
    }
  },
  "cells": [
    {
      "cell_type": "markdown",
      "metadata": {
        "id": "view-in-github",
        "colab_type": "text"
      },
      "source": [
        "<a href=\"https://colab.research.google.com/github/shrybhrdwj/TheCodeStreak/blob/main/Tuple.ipynb\" target=\"_parent\"><img src=\"https://colab.research.google.com/assets/colab-badge.svg\" alt=\"Open In Colab\"/></a>"
      ]
    },
    {
      "cell_type": "code",
      "execution_count": 1,
      "metadata": {
        "colab": {
          "base_uri": "https://localhost:8080/"
        },
        "id": "ke4aEVA33J_-",
        "outputId": "3f867ad1-0561-45f2-b44d-bb936a03ef04"
      },
      "outputs": [
        {
          "output_type": "stream",
          "name": "stdout",
          "text": [
            "(1, 2, -5)\n"
          ]
        }
      ],
      "source": [
        "#Create a Python Tuple\n",
        "numbers = (1,2,-5)\n",
        "print(numbers)"
      ]
    },
    {
      "cell_type": "code",
      "source": [
        "#Create a Tuple using tuple() constructor\n",
        "tuple_constructor = ('Jack', 'Maria', 'David')\n",
        "print(tuple_constructor)"
      ],
      "metadata": {
        "colab": {
          "base_uri": "https://localhost:8080/"
        },
        "id": "jXhv0IuD3jxu",
        "outputId": "8247f850-8600-4894-a474-b38148f8e8c4"
      },
      "execution_count": 3,
      "outputs": [
        {
          "output_type": "stream",
          "name": "stdout",
          "text": [
            "('Jack', 'Maria', 'David')\n"
          ]
        }
      ]
    },
    {
      "cell_type": "code",
      "source": [
        "#Create an empty tuple\n",
        "empty_tuple = ()\n",
        "print(empty_tuple)"
      ],
      "metadata": {
        "colab": {
          "base_uri": "https://localhost:8080/"
        },
        "id": "YCjkq1bE3_lS",
        "outputId": "051e5b6d-581d-409b-d466-83c874d3fc17"
      },
      "execution_count": 4,
      "outputs": [
        {
          "output_type": "stream",
          "name": "stdout",
          "text": [
            "()\n"
          ]
        }
      ]
    },
    {
      "cell_type": "code",
      "source": [
        "'''Tuple of Different Data Types'''\n",
        "#tuple of string types\n",
        "names = ('Jack', 'Maria', 'David', 'Eva')\n",
        "print(names)\n",
        "#tuple of float types\n",
        "float_values = (1.2,3.4,6.5)\n",
        "print(float_values)"
      ],
      "metadata": {
        "colab": {
          "base_uri": "https://localhost:8080/"
        },
        "id": "WJv7kjx-4QA8",
        "outputId": "de16a76b-9155-4f0a-8bcd-2eb097ebccbf"
      },
      "execution_count": 5,
      "outputs": [
        {
          "output_type": "stream",
          "name": "stdout",
          "text": [
            "('Jack', 'Maria', 'David', 'Eva')\n",
            "(1.2, 3.4, 6.5)\n"
          ]
        }
      ]
    },
    {
      "cell_type": "code",
      "source": [
        "'''Tuple of mixed data types'''\n",
        "#tuple including string and integer\n",
        "mixed_tuple = (2,'Hello','Python',4.2)\n",
        "print(mixed_tuple)"
      ],
      "metadata": {
        "colab": {
          "base_uri": "https://localhost:8080/"
        },
        "id": "dc8cnA3t4P0g",
        "outputId": "3c7993c0-b924-4dd4-a832-dafb373d946d"
      },
      "execution_count": 6,
      "outputs": [
        {
          "output_type": "stream",
          "name": "stdout",
          "text": [
            "(2, 'Hello', 'Python', 4.2)\n"
          ]
        }
      ]
    },
    {
      "cell_type": "code",
      "source": [
        "'''Access Tuple Items'''\n",
        "#access items using index\n",
        "languages= ('Python','Swift','C++')\n",
        "print(languages[0])\n",
        "print(languages[2])"
      ],
      "metadata": {
        "colab": {
          "base_uri": "https://localhost:8080/"
        },
        "id": "EFic8M2Y4PoH",
        "outputId": "7854ab8d-c4db-4ddf-a9c9-7fc4910f1565"
      },
      "execution_count": 7,
      "outputs": [
        {
          "output_type": "stream",
          "name": "stdout",
          "text": [
            "Python\n",
            "C++\n"
          ]
        }
      ]
    },
    {
      "cell_type": "code",
      "source": [
        "#Tuple cannot be modified\n",
        "cars = ('BMW','Tesla','Ford','Toyota')\n",
        "cars[0] = 'Nissan'\n",
        "print(cars)"
      ],
      "metadata": {
        "colab": {
          "base_uri": "https://localhost:8080/",
          "height": 193
        },
        "id": "JVlgyJ6j4Pdn",
        "outputId": "ec81d394-81bb-4ad3-f864-520db07efc0e"
      },
      "execution_count": 8,
      "outputs": [
        {
          "output_type": "error",
          "ename": "TypeError",
          "evalue": "'tuple' object does not support item assignment",
          "traceback": [
            "\u001b[0;31m---------------------------------------------------------------------------\u001b[0m",
            "\u001b[0;31mTypeError\u001b[0m                                 Traceback (most recent call last)",
            "\u001b[0;32m/tmp/ipython-input-8-3224375645.py\u001b[0m in \u001b[0;36m<cell line: 0>\u001b[0;34m()\u001b[0m\n\u001b[1;32m      1\u001b[0m \u001b[0;31m#Tuple cannot be modified\u001b[0m\u001b[0;34m\u001b[0m\u001b[0;34m\u001b[0m\u001b[0m\n\u001b[1;32m      2\u001b[0m \u001b[0mcars\u001b[0m \u001b[0;34m=\u001b[0m \u001b[0;34m(\u001b[0m\u001b[0;34m'BMW'\u001b[0m\u001b[0;34m,\u001b[0m\u001b[0;34m'Tesla'\u001b[0m\u001b[0;34m,\u001b[0m\u001b[0;34m'Ford'\u001b[0m\u001b[0;34m,\u001b[0m\u001b[0;34m'Toyota'\u001b[0m\u001b[0;34m)\u001b[0m\u001b[0;34m\u001b[0m\u001b[0;34m\u001b[0m\u001b[0m\n\u001b[0;32m----> 3\u001b[0;31m \u001b[0mcars\u001b[0m\u001b[0;34m[\u001b[0m\u001b[0;36m0\u001b[0m\u001b[0;34m]\u001b[0m \u001b[0;34m=\u001b[0m \u001b[0;34m'Nissan'\u001b[0m\u001b[0;34m\u001b[0m\u001b[0;34m\u001b[0m\u001b[0m\n\u001b[0m\u001b[1;32m      4\u001b[0m \u001b[0mprint\u001b[0m\u001b[0;34m(\u001b[0m\u001b[0mcars\u001b[0m\u001b[0;34m)\u001b[0m\u001b[0;34m\u001b[0m\u001b[0;34m\u001b[0m\u001b[0m\n",
            "\u001b[0;31mTypeError\u001b[0m: 'tuple' object does not support item assignment"
          ]
        }
      ]
    },
    {
      "cell_type": "code",
      "source": [
        "#Python Tuple length\n",
        "cars = ('BMW','Tesla','Ford','Toyota')\n",
        "print('Total items = ',len(cars))"
      ],
      "metadata": {
        "colab": {
          "base_uri": "https://localhost:8080/"
        },
        "id": "dsohCOk34PRw",
        "outputId": "59b767bb-7d8c-4b3b-a3d5-c9ec27196bd6"
      },
      "execution_count": 9,
      "outputs": [
        {
          "output_type": "stream",
          "name": "stdout",
          "text": [
            "Total items =  4\n"
          ]
        }
      ]
    },
    {
      "cell_type": "code",
      "source": [
        "#Iterate through a tuple\n",
        "cars = ('BMW','Tesla','Ford','Toyota')\n",
        "for car in cars:\n",
        "  print(car)"
      ],
      "metadata": {
        "colab": {
          "base_uri": "https://localhost:8080/"
        },
        "id": "2E-nZDkU4I2b",
        "outputId": "66ed5c48-b6fc-4ff2-c4b1-a7999f4c6311"
      },
      "execution_count": 10,
      "outputs": [
        {
          "output_type": "stream",
          "name": "stdout",
          "text": [
            "BMW\n",
            "Tesla\n",
            "Ford\n",
            "Toyota\n"
          ]
        }
      ]
    },
    {
      "cell_type": "code",
      "source": [
        "#Check if an item exists in the tuple\n",
        "colors = ('red', 'orange','blue')\n",
        "print('Yellow' in colors)\n",
        "print('red' in colors)\n",
        "print('orange' not in colors)"
      ],
      "metadata": {
        "colab": {
          "base_uri": "https://localhost:8080/"
        },
        "id": "ILUdRWaS4IrR",
        "outputId": "b1f828fd-2bcf-4989-a316-f150bac76d1e"
      },
      "execution_count": 11,
      "outputs": [
        {
          "output_type": "stream",
          "name": "stdout",
          "text": [
            "False\n",
            "True\n",
            "False\n"
          ]
        }
      ]
    },
    {
      "cell_type": "code",
      "source": [
        "#Delete tuples\n",
        "animals = ('dog','cat','rat')\n",
        "del animals"
      ],
      "metadata": {
        "id": "Kns1cMR04Hpu"
      },
      "execution_count": 14,
      "outputs": []
    }
  ]
}