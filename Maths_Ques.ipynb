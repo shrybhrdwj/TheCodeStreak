{
  "nbformat": 4,
  "nbformat_minor": 0,
  "metadata": {
    "colab": {
      "provenance": [],
      "authorship_tag": "ABX9TyNefqnLjJAc2jYS4BSjLKQY",
      "include_colab_link": true
    },
    "kernelspec": {
      "name": "python3",
      "display_name": "Python 3"
    },
    "language_info": {
      "name": "python"
    }
  },
  "cells": [
    {
      "cell_type": "markdown",
      "metadata": {
        "id": "view-in-github",
        "colab_type": "text"
      },
      "source": [
        "<a href=\"https://colab.research.google.com/github/shrybhrdwj/TheCodeStreak/blob/main/Maths_Ques.ipynb\" target=\"_parent\"><img src=\"https://colab.research.google.com/assets/colab-badge.svg\" alt=\"Open In Colab\"/></a>"
      ]
    },
    {
      "cell_type": "markdown",
      "source": [
        "## **1. Sum of N Even Natural Numbers**"
      ],
      "metadata": {
        "id": "yUSjP1A2E9K0"
      }
    },
    {
      "cell_type": "code",
      "source": [
        "def sum_of_even_numbers(n):\n",
        "    total_sum=0\n",
        "    current_even_number = 2\n",
        "    for i in range(n):\n",
        "        total_sum+=current_even_number\n",
        "        current_even_number+=2\n",
        "    return total_sum\n",
        "\n",
        "number = int(input(f\"Enter the number: \"))\n",
        "sum_of_even_numbers(number)"
      ],
      "metadata": {
        "colab": {
          "base_uri": "https://localhost:8080/"
        },
        "id": "1Ay3CKpiE8zm",
        "outputId": "c963d712-56d0-4b58-83c0-184f86c2c5a4"
      },
      "execution_count": 6,
      "outputs": [
        {
          "name": "stdout",
          "output_type": "stream",
          "text": [
            "Enter the number: 5\n"
          ]
        },
        {
          "output_type": "execute_result",
          "data": {
            "text/plain": [
              "30"
            ]
          },
          "metadata": {},
          "execution_count": 6
        }
      ]
    },
    {
      "cell_type": "code",
      "execution_count": 7,
      "metadata": {
        "colab": {
          "base_uri": "https://localhost:8080/"
        },
        "id": "nKlAyZGKDDtl",
        "outputId": "d867aad8-8116-4cef-aafe-34938d1681f2"
      },
      "outputs": [
        {
          "name": "stdout",
          "output_type": "stream",
          "text": [
            "Enter the number: 10\n"
          ]
        },
        {
          "output_type": "execute_result",
          "data": {
            "text/plain": [
              "110"
            ]
          },
          "metadata": {},
          "execution_count": 7
        }
      ],
      "source": [
        "def sum_even_natural(n):\n",
        "    return sum(range(2, 2 * n + 1, 2))\n",
        "\n",
        "number = int(input(f\"Enter the number: \"))\n",
        "sum_even_natural(number)"
      ]
    },
    {
      "cell_type": "markdown",
      "source": [
        "## **2. Check for Even Number**"
      ],
      "metadata": {
        "id": "hpFILGLbIaEz"
      }
    },
    {
      "cell_type": "code",
      "source": [
        "def is_even(n):\n",
        "    if n%2==0:\n",
        "        return True\n",
        "    else:\n",
        "        return False\n",
        "\n",
        "is_even(54)"
      ],
      "metadata": {
        "colab": {
          "base_uri": "https://localhost:8080/"
        },
        "id": "r4A5EStEH9ge",
        "outputId": "36636fac-c765-4af1-b144-d6b3ef8e5255"
      },
      "execution_count": 8,
      "outputs": [
        {
          "output_type": "execute_result",
          "data": {
            "text/plain": [
              "True"
            ]
          },
          "metadata": {},
          "execution_count": 8
        }
      ]
    },
    {
      "cell_type": "markdown",
      "source": [
        "## **3. Check for Prime Number**"
      ],
      "metadata": {
        "id": "obSt6Ik4IllQ"
      }
    },
    {
      "cell_type": "code",
      "source": [
        "def is_prime(n):\n",
        "  if n<=1:\n",
        "    return False\n",
        "\n",
        "  flag = True\n",
        "  for i in range(2,n):\n",
        "    if n%i==0:\n",
        "      flag = False\n",
        "      break\n",
        "  return flag\n",
        "\n",
        "is_prime(17)"
      ],
      "metadata": {
        "colab": {
          "base_uri": "https://localhost:8080/"
        },
        "id": "veIbG9Q0I9ST",
        "outputId": "051e3911-eb42-4dd8-ddc2-e9142aebdb06"
      },
      "execution_count": 14,
      "outputs": [
        {
          "output_type": "execute_result",
          "data": {
            "text/plain": [
              "True"
            ]
          },
          "metadata": {},
          "execution_count": 14
        }
      ]
    },
    {
      "cell_type": "markdown",
      "source": [
        "## **4. Valid Perfect Square**"
      ],
      "metadata": {
        "id": "SCKSA_qHV56O"
      }
    },
    {
      "cell_type": "code",
      "source": [
        "def perfect_square(num):\n",
        "  if num<1:\n",
        "    return False\n",
        "  i=1\n",
        "  while i*i <= num:\n",
        "    if i*i==num:\n",
        "      return True\n",
        "    i+=1\n",
        "  return False\n",
        "\n",
        "perfect_square(63)"
      ],
      "metadata": {
        "colab": {
          "base_uri": "https://localhost:8080/"
        },
        "id": "kpc8uiZXUMTA",
        "outputId": "14d6bcfc-2f15-4fed-d9a6-2f021525f432"
      },
      "execution_count": 2,
      "outputs": [
        {
          "output_type": "execute_result",
          "data": {
            "text/plain": [
              "False"
            ]
          },
          "metadata": {},
          "execution_count": 2
        }
      ]
    },
    {
      "cell_type": "code",
      "source": [
        "import math\n",
        "def is_perfect_square(n):\n",
        "  if n<0:\n",
        "    return False\n",
        "  return math.sqrt(n).is_integer()\n",
        "\n",
        "is_perfect_square(4)"
      ],
      "metadata": {
        "colab": {
          "base_uri": "https://localhost:8080/"
        },
        "id": "uoBwd0OAQyIN",
        "outputId": "e86d5e9c-bc35-45ab-826e-cf9eabf10568"
      },
      "execution_count": 12,
      "outputs": [
        {
          "output_type": "execute_result",
          "data": {
            "text/plain": [
              "True"
            ]
          },
          "metadata": {},
          "execution_count": 12
        }
      ]
    },
    {
      "cell_type": "markdown",
      "source": [
        "## **5. Decimal to binary**"
      ],
      "metadata": {
        "id": "V_nBeoDQWt_7"
      }
    },
    {
      "cell_type": "code",
      "source": [
        "def decimal_to_binary(n):\n",
        "    return bin(n)[2:]  # Remove '0b' prefix\n",
        "decimal_to_binary(2)"
      ],
      "metadata": {
        "colab": {
          "base_uri": "https://localhost:8080/",
          "height": 36
        },
        "id": "ZOKk82PLW1As",
        "outputId": "e2ce615f-535d-41cc-958e-4a70b514fd28"
      },
      "execution_count": 3,
      "outputs": [
        {
          "output_type": "execute_result",
          "data": {
            "text/plain": [
              "'10'"
            ],
            "application/vnd.google.colaboratory.intrinsic+json": {
              "type": "string"
            }
          },
          "metadata": {},
          "execution_count": 3
        }
      ]
    },
    {
      "cell_type": "code",
      "source": [
        "def convert_decimal_to_binary(n):\n",
        "    binary = \"\"\n",
        "    if n == 0:\n",
        "        return \"0\"\n",
        "    while n > 0:\n",
        "        binary = str(n % 2) + binary\n",
        "        n = n // 2\n",
        "    return binary\n",
        "\n",
        "convert_decimal_to_binary(10)"
      ],
      "metadata": {
        "colab": {
          "base_uri": "https://localhost:8080/",
          "height": 36
        },
        "id": "236LsQ-sXHGn",
        "outputId": "9cf066d7-3c41-43f8-e80b-b8d1b97792ab"
      },
      "execution_count": 6,
      "outputs": [
        {
          "output_type": "execute_result",
          "data": {
            "text/plain": [
              "'1010'"
            ],
            "application/vnd.google.colaboratory.intrinsic+json": {
              "type": "string"
            }
          },
          "metadata": {},
          "execution_count": 6
        }
      ]
    }
  ]
}