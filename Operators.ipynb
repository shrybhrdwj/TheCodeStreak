{
  "nbformat": 4,
  "nbformat_minor": 0,
  "metadata": {
    "colab": {
      "provenance": [],
      "authorship_tag": "ABX9TyOzSLhiee8er0/NL10ae+0B",
      "include_colab_link": true
    },
    "kernelspec": {
      "name": "python3",
      "display_name": "Python 3"
    },
    "language_info": {
      "name": "python"
    }
  },
  "cells": [
    {
      "cell_type": "markdown",
      "metadata": {
        "id": "view-in-github",
        "colab_type": "text"
      },
      "source": [
        "<a href=\"https://colab.research.google.com/github/shrybhrdwj/TheCodeStreak/blob/main/Operators.ipynb\" target=\"_parent\"><img src=\"https://colab.research.google.com/assets/colab-badge.svg\" alt=\"Open In Colab\"/></a>"
      ]
    },
    {
      "cell_type": "markdown",
      "source": [
        "# **1. Arithematic Operator**"
      ],
      "metadata": {
        "id": "AFk1LHTNbfhl"
      }
    },
    {
      "cell_type": "code",
      "execution_count": 2,
      "metadata": {
        "colab": {
          "base_uri": "https://localhost:8080/"
        },
        "id": "WETXLR4-bb55",
        "outputId": "f0ab5d74-2b51-4fe3-e923-ae3434a7937f"
      },
      "outputs": [
        {
          "output_type": "stream",
          "name": "stdout",
          "text": [
            "Enter the 1st number=20\n",
            "Enter the 2nd number=5\n",
            "Addition= 25.0\n",
            "Substraction= 15.0\n",
            "Multiplication= 100.0\n",
            "Divison= 4.0\n",
            "Floor_Division= 4.0\n",
            "Modulus= 0.0\n",
            "Exponentiation= 3200000.0\n"
          ]
        }
      ],
      "source": [
        "#Simple Calculator\n",
        "num1 = float(input(\"Enter the 1st number=\"))\n",
        "num2 = float(input(\"Enter the 2nd number=\"))\n",
        "\n",
        "#Arithematic Operators\n",
        "Addition = num1+num2\n",
        "Substraction = num1 - num2\n",
        "Multiplication = num1*num2\n",
        "Divison = num1/num2\n",
        "Floor_Division = num1 // num2\n",
        "Modulus = num1 % num2\n",
        "Exponentiation = num1 ** num2\n",
        "\n",
        "#Displaying Results\n",
        "print(\"Addition=\",Addition)\n",
        "print(\"Substraction=\",Substraction)\n",
        "print(\"Multiplication=\",Multiplication)\n",
        "print(\"Divison=\",Divison)\n",
        "print(\"Floor_Division=\",Floor_Division)\n",
        "print(\"Modulus=\",Modulus)\n",
        "print(\"Exponentiation=\",Exponentiation)"
      ]
    }
  ]
}