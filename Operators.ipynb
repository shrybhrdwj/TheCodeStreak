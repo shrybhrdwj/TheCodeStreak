{
  "nbformat": 4,
  "nbformat_minor": 0,
  "metadata": {
    "colab": {
      "provenance": [],
      "authorship_tag": "ABX9TyOC+i+rlhHG1BxZ2GPLU2rj",
      "include_colab_link": true
    },
    "kernelspec": {
      "name": "python3",
      "display_name": "Python 3"
    },
    "language_info": {
      "name": "python"
    }
  },
  "cells": [
    {
      "cell_type": "markdown",
      "metadata": {
        "id": "view-in-github",
        "colab_type": "text"
      },
      "source": [
        "<a href=\"https://colab.research.google.com/github/shrybhrdwj/TheCodeStreak/blob/main/Operators.ipynb\" target=\"_parent\"><img src=\"https://colab.research.google.com/assets/colab-badge.svg\" alt=\"Open In Colab\"/></a>"
      ]
    },
    {
      "cell_type": "markdown",
      "source": [
        "# **1. Arithematic Operators**"
      ],
      "metadata": {
        "id": "AFk1LHTNbfhl"
      }
    },
    {
      "cell_type": "code",
      "execution_count": 2,
      "metadata": {
        "colab": {
          "base_uri": "https://localhost:8080/"
        },
        "id": "WETXLR4-bb55",
        "outputId": "f0ab5d74-2b51-4fe3-e923-ae3434a7937f"
      },
      "outputs": [
        {
          "output_type": "stream",
          "name": "stdout",
          "text": [
            "Enter the 1st number=20\n",
            "Enter the 2nd number=5\n",
            "Addition= 25.0\n",
            "Substraction= 15.0\n",
            "Multiplication= 100.0\n",
            "Divison= 4.0\n",
            "Floor_Division= 4.0\n",
            "Modulus= 0.0\n",
            "Exponentiation= 3200000.0\n"
          ]
        }
      ],
      "source": [
        "#Simple Calculator\n",
        "num1 = float(input(\"Enter the 1st number=\"))\n",
        "num2 = float(input(\"Enter the 2nd number=\"))\n",
        "\n",
        "#Arithematic Operators\n",
        "Addition = num1+num2\n",
        "Substraction = num1 - num2\n",
        "Multiplication = num1*num2\n",
        "Divison = num1/num2\n",
        "Floor_Division = num1 // num2\n",
        "Modulus = num1 % num2\n",
        "Exponentiation = num1 ** num2\n",
        "\n",
        "#Displaying Results\n",
        "print(\"Addition=\",Addition)\n",
        "print(\"Substraction=\",Substraction)\n",
        "print(\"Multiplication=\",Multiplication)\n",
        "print(\"Divison=\",Divison)\n",
        "print(\"Floor_Division=\",Floor_Division)\n",
        "print(\"Modulus=\",Modulus)\n",
        "print(\"Exponentiation=\",Exponentiation)"
      ]
    },
    {
      "cell_type": "markdown",
      "source": [
        "# **2. Comparison Operators**"
      ],
      "metadata": {
        "id": "pCUM5_MthqZ5"
      }
    },
    {
      "cell_type": "code",
      "source": [
        "num1 = float(input(\"Enter the 1st number=\"))\n",
        "num2 = float(input(\"Enter the 2nd number=\"))\n",
        "\n",
        "#Comparison Operators\n",
        "Equal_to = num1 == num2\n",
        "NotEqual_to = num1!= num2\n",
        "less_than = num1<num2\n",
        "Greater_than = num1>num2\n",
        "Less_Equal = num1 <= num2\n",
        "Greater_Equal = num1>=num2\n",
        "\n",
        "#Displaying Results\n",
        "print(\"Result of Equal_to =\",Equal_to)\n",
        "print(\"Result of Not Equal_to =\",NotEqual_to)\n",
        "print(\"Result of less_than =\",less_than)\n",
        "print(\"Result of Greater_than =\",Greater_than)\n",
        "print(\"Result of Less_Equal =\",Less_Equal)\n",
        "print(\"Result of Greater_Equal =\",Greater_Equal)"
      ],
      "metadata": {
        "colab": {
          "base_uri": "https://localhost:8080/"
        },
        "id": "Cz_YU-Z2h1CW",
        "outputId": "b6c801f9-9559-4eb5-a6e1-e255e3c45bc4"
      },
      "execution_count": 5,
      "outputs": [
        {
          "output_type": "stream",
          "name": "stdout",
          "text": [
            "Enter the 1st number=5\n",
            "Enter the 2nd number=4\n",
            "Result of Equal_to = False\n",
            "Result of Not Equal_to = True\n",
            "Result of less_than = False\n",
            "Result of Greater_than = True\n",
            "Result of Less_Equal = False\n",
            "Result of Greater_Equal = True\n"
          ]
        }
      ]
    },
    {
      "cell_type": "code",
      "source": [
        "str1 = \"King\"\n",
        "str2 = \"king\"\n",
        "str1==str2"
      ],
      "metadata": {
        "colab": {
          "base_uri": "https://localhost:8080/"
        },
        "id": "TbRzyZElj744",
        "outputId": "a1314a3e-501a-430a-be48-86529e65e2f4"
      },
      "execution_count": 6,
      "outputs": [
        {
          "output_type": "execute_result",
          "data": {
            "text/plain": [
              "False"
            ]
          },
          "metadata": {},
          "execution_count": 6
        }
      ]
    },
    {
      "cell_type": "code",
      "source": [
        "str1 = \"King\"\n",
        "str2 = \"king\"\n",
        "str1!=str2"
      ],
      "metadata": {
        "colab": {
          "base_uri": "https://localhost:8080/"
        },
        "id": "tAOpic4ckYEU",
        "outputId": "d9e6264e-9e44-44f2-f619-c2cf6a947821"
      },
      "execution_count": 7,
      "outputs": [
        {
          "output_type": "execute_result",
          "data": {
            "text/plain": [
              "True"
            ]
          },
          "metadata": {},
          "execution_count": 7
        }
      ]
    },
    {
      "cell_type": "code",
      "source": [
        "str1 = \"King\"\n",
        "str2 = \"King\"\n",
        "str1==str2"
      ],
      "metadata": {
        "colab": {
          "base_uri": "https://localhost:8080/"
        },
        "id": "fhyilQZnkdZR",
        "outputId": "d754522d-9190-4474-e087-c323abc6637a"
      },
      "execution_count": 8,
      "outputs": [
        {
          "output_type": "execute_result",
          "data": {
            "text/plain": [
              "True"
            ]
          },
          "metadata": {},
          "execution_count": 8
        }
      ]
    },
    {
      "cell_type": "markdown",
      "source": [
        "# **3. Logical Operators**"
      ],
      "metadata": {
        "id": "U8KoxfXwkz-t"
      }
    },
    {
      "cell_type": "code",
      "source": [
        "x = True\n",
        "y = False\n",
        "\n",
        "print(\"And Operator =\",x and y)\n",
        "print(\"OR Operator =\",x or y)\n",
        "print(\"NOT Operator =\",not y)\n",
        "print(\"NOT Operator =\",not x)"
      ],
      "metadata": {
        "colab": {
          "base_uri": "https://localhost:8080/"
        },
        "id": "rWBbiODRk5L0",
        "outputId": "fd2315d7-3041-4366-b421-1b886969f880"
      },
      "execution_count": 9,
      "outputs": [
        {
          "output_type": "stream",
          "name": "stdout",
          "text": [
            "And Operator = False\n",
            "OR Operator = True\n",
            "NOT Operator = True\n",
            "NOT Operator = False\n"
          ]
        }
      ]
    },
    {
      "cell_type": "code",
      "source": [
        "x = 5\n",
        "y = 6\n",
        "\n",
        "print((x>2) and (x<=y))\n",
        "print((x>2) or (x>=y))\n",
        "print(not (x>=y))"
      ],
      "metadata": {
        "colab": {
          "base_uri": "https://localhost:8080/"
        },
        "id": "lKYXJZ50nH3-",
        "outputId": "9cfd332a-885d-4336-dcee-15f08be2f1b8"
      },
      "execution_count": 10,
      "outputs": [
        {
          "output_type": "stream",
          "name": "stdout",
          "text": [
            "True\n",
            "True\n",
            "True\n"
          ]
        }
      ]
    },
    {
      "cell_type": "markdown",
      "source": [
        "# **4. Assignment Operators**"
      ],
      "metadata": {
        "id": "SHwfdaHUnzYP"
      }
    },
    {
      "cell_type": "code",
      "source": [
        "number = float(input(\"Enter the 1st number=\"))\n",
        "next_number = float(input(\"Enter the 2nd number=\"))\n",
        "\n",
        "#Arithematic Operators\n",
        "number += next_number\n",
        "print(\"Addition=\",number)\n",
        "\n",
        "number -= next_number\n",
        "print(\"Substraction=\",number)\n",
        "\n",
        "number *= next_number\n",
        "print(\"Multiplication=\",number)\n",
        "\n",
        "number /= next_number\n",
        "print(\"Divison=\",number)\n",
        "\n",
        "number %= next_number\n",
        "print(\"Modulus=\",number)\n",
        "\n",
        "number **= next_number\n",
        "print(\"Exponentiation=\",number)\n",
        "\n"
      ],
      "metadata": {
        "colab": {
          "base_uri": "https://localhost:8080/"
        },
        "id": "S1cdOcRWoFbA",
        "outputId": "a28f9964-e335-41ed-b61e-f98698a396de"
      },
      "execution_count": 12,
      "outputs": [
        {
          "output_type": "stream",
          "name": "stdout",
          "text": [
            "Enter the 1st number=5\n",
            "Enter the 2nd number=4\n",
            "Addition= 9.0\n",
            "Substraction= 5.0\n",
            "Multiplication= 20.0\n",
            "Divison= 5.0\n",
            "Modulus= 1.0\n",
            "Exponentiation= 1.0\n"
          ]
        }
      ]
    }
  ]
}