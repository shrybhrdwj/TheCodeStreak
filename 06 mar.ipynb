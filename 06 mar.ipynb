{
 "cells": [
  {
   "cell_type": "raw",
   "id": "ae1dbb13-51e5-41f2-8188-c9b39fc7bc9d",
   "metadata": {},
   "source": [
    "31. Type Conversion"
   ]
  },
  {
   "cell_type": "code",
   "execution_count": 1,
   "id": "55b284b2-3f11-4202-8dd6-1df38d9e4ba3",
   "metadata": {},
   "outputs": [
    {
     "name": "stdout",
     "output_type": "stream",
     "text": [
      "<class 'int'>\n",
      "<class 'str'>\n",
      "5123\n",
      "128\n"
     ]
    }
   ],
   "source": [
    "x = 5\n",
    "print(type(x))\n",
    "s1 = '123'\n",
    "print(type(s1))\n",
    "print(str(x) + s1)\n",
    "print(x + int(s1))"
   ]
  },
  {
   "cell_type": "raw",
   "id": "c067b28b-8368-4ef9-9a65-d6509bd94f9f",
   "metadata": {},
   "source": [
    "32. What is python decorator"
   ]
  },
  {
   "cell_type": "code",
   "execution_count": 3,
   "id": "e42690f9-d8b2-4220-9ac6-8e15dc0c83d7",
   "metadata": {},
   "outputs": [
    {
     "name": "stdout",
     "output_type": "stream",
     "text": [
      "Before hello function\n",
      "Hello !\n",
      "Thanks for using the function\n",
      "Before hello function\n",
      "4\n",
      "Thanks for using the function\n"
     ]
    }
   ],
   "source": [
    "#function decorator\n",
    "def welcome(fx):\n",
    "    def mfx(*t, **d):\n",
    "        print(\"Before hello function\")\n",
    "        fx(*t,**d) # *args to take arguments as tuple, **kwrgs to take arguments\n",
    "        print(\"Thanks for using the function\")\n",
    "    return mfx\n",
    "\n",
    "#decorator function without arguments\n",
    "@welcome\n",
    "def hello():\n",
    "    print(\"Hello !\")\n",
    "\n",
    "#decortor function with arguments\n",
    "@welcome\n",
    "def add(a,b):\n",
    "    print(a+b)\n",
    "\n",
    "hello()\n",
    "add(1,3)"
   ]
  },
  {
   "cell_type": "code",
   "execution_count": null,
   "id": "168cd9e4-1512-487c-8259-204e9d7901ee",
   "metadata": {},
   "outputs": [
    {
     "data": {
      "text/plain": [
       "900"
      ]
     },
     "execution_count": 5,
     "metadata": {},
     "output_type": "execute_result"
    }
   ],
   "source": [
    "#class decorator\n",
    "\n",
    "class Calculator:\n",
    "    def __init__(self,func):\n",
    "        self.function = func\n",
    "    def __call__(self,*t,**d):\n",
    "        result = self.function(*t,**d)\n",
    "        return result**2\n",
    "\n",
    "@Calculator\n",
    "def add(a,b):\n",
    "    return a+b\n",
    "\n",
    "#add = Calculator(add)\n",
    "add(10,20) #add.__call__(a,b) since function type is callable"
   ]
  },
  {
   "cell_type": "code",
   "execution_count": 4,
   "id": "683cdce0-6e76-4c5a-97e4-65e8f081101c",
   "metadata": {},
   "outputs": [
    {
     "name": "stdout",
     "output_type": "stream",
     "text": [
      "PASS\n",
      "DISTINCTION\n",
      "PASS\n",
      "DISTINCTION\n",
      "PASS\n",
      "FAIL\n",
      "PASS\n",
      "DISTINCTION\n",
      "PASS\n",
      "Results: ['PASS', 'PASS', 'PASS', 'FAIL', 'PASS', 'PASS']\n"
     ]
    }
   ],
   "source": [
    "'''decorator are used to modify the behavior or functions or methods without changing their code\n",
    "Decorator function is a function that takes another functions as there argument.'''\n",
    "\n",
    "def decor_result(result_function):\n",
    "    def distinction(marks):\n",
    "        results = [] #List to store results for each element\n",
    "        for m in marks:\n",
    "            if m >= 75:\n",
    "                print(\"DISTINCTION\")\n",
    "            results.append(result_function([m])) \n",
    "        return results\n",
    "    return distinction\n",
    "\n",
    "@decor_result\n",
    "def result(marks):\n",
    "    for m in marks:\n",
    "        if m >= 33:\n",
    "            #pass\n",
    "            print(\"PASS\")\n",
    "            return \"PASS\"\n",
    "        else:\n",
    "            print(\"FAIL\")\n",
    "            return \"FAIL\" # Returns FAIL if any element fails\n",
    "    '''else:\n",
    "        print(\"PASS\")\n",
    "        return \"PASS\" '''\n",
    "    \n",
    "# Get the results for each element\n",
    "results = result([45, 78, 80, 32, 66, 90])\n",
    "print(\"Results:\",results)"
   ]
  }
 ],
 "metadata": {
  "kernelspec": {
   "display_name": "base",
   "language": "python",
   "name": "python3"
  },
  "language_info": {
   "codemirror_mode": {
    "name": "ipython",
    "version": 3
   },
   "file_extension": ".py",
   "mimetype": "text/x-python",
   "name": "python",
   "nbconvert_exporter": "python",
   "pygments_lexer": "ipython3",
   "version": "3.12.4"
  }
 },
 "nbformat": 4,
 "nbformat_minor": 5
}
