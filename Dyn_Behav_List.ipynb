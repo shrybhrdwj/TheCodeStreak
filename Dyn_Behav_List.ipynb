{
  "nbformat": 4,
  "nbformat_minor": 0,
  "metadata": {
    "colab": {
      "provenance": [],
      "authorship_tag": "ABX9TyOfieHxLGFBmcyhjM7h3S+P",
      "include_colab_link": true
    },
    "kernelspec": {
      "name": "python3",
      "display_name": "Python 3"
    },
    "language_info": {
      "name": "python"
    }
  },
  "cells": [
    {
      "cell_type": "markdown",
      "metadata": {
        "id": "view-in-github",
        "colab_type": "text"
      },
      "source": [
        "<a href=\"https://colab.research.google.com/github/shrybhrdwj/TheCodeStreak/blob/main/Dyn_Behav_List.ipynb\" target=\"_parent\"><img src=\"https://colab.research.google.com/assets/colab-badge.svg\" alt=\"Open In Colab\"/></a>"
      ]
    },
    {
      "cell_type": "code",
      "execution_count": 1,
      "metadata": {
        "colab": {
          "base_uri": "https://localhost:8080/"
        },
        "id": "KZXUaiiMQplb",
        "outputId": "557e4424-c0c2-4cc2-ed7c-e96716dbcbbe"
      },
      "outputs": [
        {
          "output_type": "stream",
          "name": "stdout",
          "text": [
            "Initial size 56\n",
            "0 --> 88\n",
            "1 --> 88\n",
            "2 --> 88\n",
            "3 --> 88\n",
            "4 --> 120\n",
            "5 --> 120\n",
            "6 --> 120\n",
            "7 --> 120\n",
            "8 --> 184\n",
            "9 --> 184\n",
            "10 --> 184\n",
            "11 --> 184\n",
            "12 --> 184\n",
            "13 --> 184\n",
            "14 --> 184\n",
            "15 --> 184\n",
            "16 --> 248\n",
            "11642088\n",
            "11642120\n",
            "11642056\n",
            "[0, 1, 2, 3, 4, 5, 6, 7, 8, 9, 10, 11, 12, 13, 14, 15, 16, 1, 'Python']\n"
          ]
        }
      ],
      "source": [
        "import sys\n",
        "\n",
        "l1 = []\n",
        "print(\"Initial size\",sys.getsizeof(l1))\n",
        "\n",
        "for i in range(0,17):\n",
        "  l1.append(i)\n",
        "  print(f\"{i} --> {sys.getsizeof(l1)}\")\n",
        "\n",
        "a =1\n",
        "l1.append(1)\n",
        "\n",
        "print(id(1))\n",
        "a = 2\n",
        "print(id(a))\n",
        "print(id(l1[0]))\n",
        "l1.append(\"Python\")\n",
        "print(l1)"
      ]
    },
    {
      "cell_type": "code",
      "source": [
        "s = \"python\"\n",
        "(s[:-1])\n",
        "\n",
        "l1 = [10,20,30,40,50]\n",
        "\n",
        "print(l1.pop())\n",
        "print(l1)\n",
        "\n",
        "# Indexing behaviour\n",
        "# print(l1[10])\n",
        "\n",
        "# Clear\n",
        "l2 = [100,200,300]\n",
        "print(l2)\n",
        "l2.clear()\n",
        "print(l2)\n",
        "\n",
        "# Insert\n",
        "print(\"\\nInsert\")\n",
        "l3 = [100,200,300]\n",
        "l3.insert(1,500)\n",
        "print(l3)\n",
        "\n",
        "# Remove\n",
        "print(\"\\nRemove\")\n",
        "l3.remove(500)\n",
        "print(l3)"
      ],
      "metadata": {
        "colab": {
          "base_uri": "https://localhost:8080/"
        },
        "id": "CZlhzdYdSjbm",
        "outputId": "c704e797-b018-43c7-a1a4-aaea0b4e120d"
      },
      "execution_count": 10,
      "outputs": [
        {
          "output_type": "stream",
          "name": "stdout",
          "text": [
            "50\n",
            "[10, 20, 30, 40]\n",
            "[100, 200, 300]\n",
            "[]\n",
            "\n",
            "Insert\n",
            "[100, 500, 200, 300]\n",
            "\n",
            "Remove\n",
            "[100, 200, 300]\n"
          ]
        }
      ]
    }
  ]
}