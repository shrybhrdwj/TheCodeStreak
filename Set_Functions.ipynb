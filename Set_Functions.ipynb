{
  "nbformat": 4,
  "nbformat_minor": 0,
  "metadata": {
    "colab": {
      "provenance": [],
      "authorship_tag": "ABX9TyOkX4uNfOZ8sdm9ywSUlRmi",
      "include_colab_link": true
    },
    "kernelspec": {
      "name": "python3",
      "display_name": "Python 3"
    },
    "language_info": {
      "name": "python"
    }
  },
  "cells": [
    {
      "cell_type": "markdown",
      "metadata": {
        "id": "view-in-github",
        "colab_type": "text"
      },
      "source": [
        "<a href=\"https://colab.research.google.com/github/shrybhrdwj/TheCodeStreak/blob/main/Set_Functions.ipynb\" target=\"_parent\"><img src=\"https://colab.research.google.com/assets/colab-badge.svg\" alt=\"Open In Colab\"/></a>"
      ]
    },
    {
      "cell_type": "markdown",
      "source": [
        "# **Build-in functions**\n",
        "\n",
        "1. all():\tReturns True if all elements of the set are true (or if the set is empty).\n",
        "2. any():\tReturns True if any element of the set is true. If the set is empty, returns False.\n",
        "3. enumerate():\tReturns an enumerate object. It contains the index and value for all the items of the set as a pair.\n",
        "4. len():\tReturns the length (the number of items) in the set.\n",
        "5. max():\tReturns the largest item in the set.\n",
        "6. min():\tReturns the smallest item in the set.\n",
        "7. sorted():\tReturns a new sorted list from elements in the set(does not sort the set itself).\n",
        "8. sum()\tReturns the sum of all elements in the set."
      ],
      "metadata": {
        "id": "WBtBrRYZiDgQ"
      }
    },
    {
      "cell_type": "markdown",
      "source": [
        "### **1. all()**"
      ],
      "metadata": {
        "id": "yfZDocGujOJR"
      }
    },
    {
      "cell_type": "code",
      "source": [
        "# all values true\n",
        "l = [1, 3, 4, 5]\n",
        "print(all(l))\n",
        "\n",
        "# all values false\n",
        "l = [0, False]\n",
        "print(all(l))\n",
        "\n",
        "# one false value\n",
        "l = [1, 3, 4, 0]\n",
        "print(all(l))\n",
        "\n",
        "# one true value\n",
        "l = [0, False, 5]\n",
        "print(all(l))\n",
        "\n",
        "# empty iterable\n",
        "l = []\n",
        "print(all(l))"
      ],
      "metadata": {
        "colab": {
          "base_uri": "https://localhost:8080/"
        },
        "id": "yks3OyGll6uj",
        "outputId": "8a92fdaf-73cc-482a-d5df-bd7ca1ac4d43"
      },
      "execution_count": 3,
      "outputs": [
        {
          "output_type": "stream",
          "name": "stdout",
          "text": [
            "True\n",
            "False\n",
            "False\n",
            "False\n",
            "True\n"
          ]
        }
      ]
    },
    {
      "cell_type": "code",
      "source": [
        "# How all() works for strings?\n",
        "\n",
        "s = \"This is good\"\n",
        "print(all(s))\n",
        "\n",
        "# 0 is False\n",
        "# '0' is True\n",
        "s = '000'\n",
        "print(all(s))\n",
        "\n",
        "s = ''\n",
        "print(all(s))"
      ],
      "metadata": {
        "colab": {
          "base_uri": "https://localhost:8080/"
        },
        "id": "BL7HFtKFi_99",
        "outputId": "2d7e1f5b-cff2-4a79-9cbd-39ad90ed38a9"
      },
      "execution_count": 2,
      "outputs": [
        {
          "output_type": "stream",
          "name": "stdout",
          "text": [
            "True\n",
            "True\n",
            "True\n"
          ]
        }
      ]
    },
    {
      "cell_type": "code",
      "execution_count": 1,
      "metadata": {
        "colab": {
          "base_uri": "https://localhost:8080/"
        },
        "id": "nTvczc1Lh6fB",
        "outputId": "23aabe9d-4336-4efd-c9dd-a6e9f9ef9208"
      },
      "outputs": [
        {
          "output_type": "stream",
          "name": "stdout",
          "text": [
            "False\n",
            "True\n",
            "False\n",
            "True\n",
            "True\n"
          ]
        }
      ],
      "source": [
        "s = {0: 'False', 1: 'False'}\n",
        "print(all(s))\n",
        "\n",
        "s = {1: 'True', 2: 'True'}\n",
        "print(all(s))\n",
        "\n",
        "s = {1: 'True', False: 0}\n",
        "print(all(s))\n",
        "\n",
        "s = {}\n",
        "print(all(s))\n",
        "\n",
        "# 0 is False\n",
        "# '0' is True\n",
        "s = {'0': 'True'}\n",
        "print(all(s))"
      ]
    },
    {
      "cell_type": "markdown",
      "source": [
        "### **2. any()**"
      ],
      "metadata": {
        "id": "jlqsBgOcmB0R"
      }
    },
    {
      "cell_type": "code",
      "source": [
        "# True since 1,3 and 4 (at least one) is true\n",
        "l = [1, 3, 4, 0]\n",
        "print(any(l))\n",
        "\n",
        "# False since both are False\n",
        "l = [0, False]\n",
        "print(any(l))\n",
        "\n",
        "# True since 5 is true\n",
        "l = [0, False, 5]\n",
        "print(any(l))\n",
        "\n",
        "# False since iterable is empty\n",
        "l = []\n",
        "print(any(l))"
      ],
      "metadata": {
        "colab": {
          "base_uri": "https://localhost:8080/"
        },
        "id": "j8Gu9sGmoUjk",
        "outputId": "9265e63e-a8b0-408e-9bc6-0565ca140ec1"
      },
      "execution_count": 6,
      "outputs": [
        {
          "output_type": "stream",
          "name": "stdout",
          "text": [
            "True\n",
            "False\n",
            "True\n",
            "False\n"
          ]
        }
      ]
    },
    {
      "cell_type": "code",
      "source": [
        "# At east one (in fact all) elements are True\n",
        "s = \"This is good\"\n",
        "print(any(s))\n",
        "\n",
        "# 0 is False\n",
        "# '0' is True since its a string character\n",
        "s = '000'\n",
        "print(any(s))\n",
        "\n",
        "# False since empty iterable\n",
        "s = ''\n",
        "print(any(s))"
      ],
      "metadata": {
        "colab": {
          "base_uri": "https://localhost:8080/"
        },
        "id": "wwXFREUKnIlK",
        "outputId": "bfd16a15-98da-4fc1-b2fb-12c4f5673225"
      },
      "execution_count": 5,
      "outputs": [
        {
          "output_type": "stream",
          "name": "stdout",
          "text": [
            "True\n",
            "True\n",
            "False\n"
          ]
        }
      ]
    },
    {
      "cell_type": "code",
      "source": [
        "# 0 is False\n",
        "d = {0: 'False'}\n",
        "print(any(d))\n",
        "\n",
        "# 1 is True\n",
        "d = {0: 'False', 1: 'True'}\n",
        "print(any(d))\n",
        "\n",
        "# 0 and False are false\n",
        "d = {0: 'False', False: 0}\n",
        "print(any(d))\n",
        "\n",
        "# iterable is empty\n",
        "d = {}\n",
        "print(any(d))\n",
        "\n",
        "# 0 is False\n",
        "# '0' is True\n",
        "d = {'0': 'False'}\n",
        "print(any(d))"
      ],
      "metadata": {
        "colab": {
          "base_uri": "https://localhost:8080/"
        },
        "id": "wep_Gr6AmSBC",
        "outputId": "0a1979c3-6bbc-4f37-b708-247ae73ecc5d"
      },
      "execution_count": 4,
      "outputs": [
        {
          "output_type": "stream",
          "name": "stdout",
          "text": [
            "False\n",
            "True\n",
            "False\n",
            "False\n",
            "True\n"
          ]
        }
      ]
    },
    {
      "cell_type": "markdown",
      "source": [
        "### **3. enumerate()**"
      ],
      "metadata": {
        "id": "kY69AhJIoXHj"
      }
    },
    {
      "cell_type": "code",
      "source": [
        "languages = ['Python', 'Java', 'JavaScript']\n",
        "\n",
        "# enumerate the list\n",
        "enumerated_languages = enumerate(languages)\n",
        "\n",
        "# convert enumerate object to list\n",
        "print(list(enumerated_languages))"
      ],
      "metadata": {
        "colab": {
          "base_uri": "https://localhost:8080/"
        },
        "id": "vztkr6bKpDws",
        "outputId": "2e0870a0-bd48-47c1-b7ff-7497f8ba19df"
      },
      "execution_count": 7,
      "outputs": [
        {
          "output_type": "stream",
          "name": "stdout",
          "text": [
            "[(0, 'Python'), (1, 'Java'), (2, 'JavaScript')]\n"
          ]
        }
      ]
    },
    {
      "cell_type": "code",
      "source": [
        "grocery = ['bread', 'milk', 'butter']\n",
        "\n",
        "# enumerate the list\n",
        "enumerateGrocery = enumerate(grocery)\n",
        "\n",
        "print(list(enumerateGrocery))\n",
        "\n",
        "# set default counter to 10\n",
        "enumerateGrocery = enumerate(grocery, 10)\n",
        "\n",
        "print(list(enumerateGrocery))"
      ],
      "metadata": {
        "colab": {
          "base_uri": "https://localhost:8080/"
        },
        "id": "okdUumgsp-0r",
        "outputId": "1a5dba67-42cb-4acb-aa56-9062ddc50a93"
      },
      "execution_count": 8,
      "outputs": [
        {
          "output_type": "stream",
          "name": "stdout",
          "text": [
            "[(0, 'bread'), (1, 'milk'), (2, 'butter')]\n",
            "[(10, 'bread'), (11, 'milk'), (12, 'butter')]\n"
          ]
        }
      ]
    },
    {
      "cell_type": "code",
      "source": [
        "grocery = ['bread', 'milk', 'butter']\n",
        "\n",
        "for item in enumerate(grocery):\n",
        "  print(item)\n",
        "\n",
        "print()\n",
        "\n",
        "# loop over an enumerate object\n",
        "for count, item in enumerate(grocery):\n",
        "  print(count, item)\n",
        "\n",
        "print()\n",
        "\n",
        "# change the default counter and loop\n",
        "for count, item in enumerate(grocery, 100):\n",
        "  print(count, item)"
      ],
      "metadata": {
        "colab": {
          "base_uri": "https://localhost:8080/"
        },
        "id": "FmGQ4AjeqYml",
        "outputId": "6c00a69d-6bfe-4881-ec74-d91da64c0772"
      },
      "execution_count": 9,
      "outputs": [
        {
          "output_type": "stream",
          "name": "stdout",
          "text": [
            "(0, 'bread')\n",
            "(1, 'milk')\n",
            "(2, 'butter')\n",
            "\n",
            "0 bread\n",
            "1 milk\n",
            "2 butter\n",
            "\n",
            "100 bread\n",
            "101 milk\n",
            "102 butter\n"
          ]
        }
      ]
    },
    {
      "cell_type": "code",
      "source": [
        "#Access the Next Element\n",
        "\n",
        "grocery = ['bread', 'milk', 'butter']\n",
        "\n",
        "enumerateGrocery = enumerate(grocery)\n",
        "\n",
        "# accessing the next element\n",
        "next_element = next(enumerateGrocery)\n",
        "\n",
        "print(f\"Next Element: {next_element}\")"
      ],
      "metadata": {
        "colab": {
          "base_uri": "https://localhost:8080/"
        },
        "id": "ktaZtGHHq_D-",
        "outputId": "618fc014-d80b-4048-f68e-0cab0bf81402"
      },
      "execution_count": 10,
      "outputs": [
        {
          "output_type": "stream",
          "name": "stdout",
          "text": [
            "Next Element: (0, 'bread')\n"
          ]
        }
      ]
    },
    {
      "cell_type": "markdown",
      "source": [
        "### **4. len()**"
      ],
      "metadata": {
        "id": "aXTi8hk8fB-w"
      }
    },
    {
      "cell_type": "code",
      "source": [
        "text = 'Python'\n",
        "print(len(text))\n",
        "\n",
        "person = {\"name\": 'Amanda', \"age\": 21}\n",
        "print(len(person))\n",
        "\n",
        "animals = {'tiger', 'lion', 'tiger', 'cat'}\n",
        "print(len(animals))"
      ],
      "metadata": {
        "colab": {
          "base_uri": "https://localhost:8080/"
        },
        "id": "HtiNXWI4g8X1",
        "outputId": "ba744506-da46-4037-cd99-809833555062"
      },
      "execution_count": 1,
      "outputs": [
        {
          "output_type": "stream",
          "name": "stdout",
          "text": [
            "6\n",
            "2\n",
            "3\n"
          ]
        }
      ]
    },
    {
      "cell_type": "code",
      "source": [
        "#len() with User-defined Object\n",
        "\n",
        "class Session:\n",
        "    def __init__(self, number = 0):\n",
        "      self.number = number\n",
        "\n",
        "    def __len__(self):\n",
        "      return self.number\n",
        "\n",
        "\n",
        "# default length is 0\n",
        "session1 = Session()\n",
        "print(len(session1))\n",
        "\n",
        "session2 = Session(6)\n",
        "print(len(session2))"
      ],
      "metadata": {
        "colab": {
          "base_uri": "https://localhost:8080/"
        },
        "id": "ALWtIfqvfJry",
        "outputId": "7c1890fb-f7cd-4480-94fe-4a15d26ea041"
      },
      "execution_count": 2,
      "outputs": [
        {
          "output_type": "stream",
          "name": "stdout",
          "text": [
            "0\n",
            "6\n"
          ]
        }
      ]
    },
    {
      "cell_type": "markdown",
      "source": [
        "### **5. max()**"
      ],
      "metadata": {
        "id": "l64Nw1sJiL1M"
      }
    },
    {
      "cell_type": "code",
      "source": [
        "# max() with iterable arguments\n",
        "\n",
        "languages = [\"Python\", \"C Programming\", \"Java\", \"JavaScript\"]\n",
        "largest_string = max(languages);\n",
        "\n",
        "print(\"The largest string is:\", largest_string)"
      ],
      "metadata": {
        "colab": {
          "base_uri": "https://localhost:8080/"
        },
        "id": "bATSJmzViRER",
        "outputId": "ffaae889-51cd-4e9a-efab-3039ca52212a"
      },
      "execution_count": 3,
      "outputs": [
        {
          "output_type": "stream",
          "name": "stdout",
          "text": [
            "The largest string is: Python\n"
          ]
        }
      ]
    },
    {
      "cell_type": "code",
      "source": [
        "# max() in dictionaries\n",
        "\n",
        "square = {2: 4, -3: 9, -1: 1, -2: 4}\n",
        "\n",
        "# the largest key\n",
        "key1 = max(square)\n",
        "print(\"The largest key:\", key1)\n",
        "\n",
        "# the key whose value is the largest\n",
        "key2 = max(square, key = lambda k: square[k])\n",
        "\n",
        "print(\"The key with the largest value:\", key2)\n",
        "\n",
        "# getting the largest value\n",
        "print(\"The largest value:\", square[key2])"
      ],
      "metadata": {
        "colab": {
          "base_uri": "https://localhost:8080/"
        },
        "id": "mAgf00F0i3-s",
        "outputId": "44ed23d9-84be-4d1f-81e9-59adec88e59b"
      },
      "execution_count": 7,
      "outputs": [
        {
          "output_type": "stream",
          "name": "stdout",
          "text": [
            "The largest key: 2\n",
            "The key with the largest value: -3\n",
            "The largest value: 9\n"
          ]
        }
      ]
    },
    {
      "cell_type": "code",
      "source": [
        "# max() without iterable\n",
        "\n",
        "# find max among the arguments\n",
        "result = max(4, -5, 23, 5)\n",
        "print(\"The maximum number is:\", result)"
      ],
      "metadata": {
        "colab": {
          "base_uri": "https://localhost:8080/"
        },
        "id": "VKms4h02jnli",
        "outputId": "b40afca1-f417-441d-f401-275fda437065"
      },
      "execution_count": 5,
      "outputs": [
        {
          "output_type": "stream",
          "name": "stdout",
          "text": [
            "The maximum number is: 23\n"
          ]
        }
      ]
    },
    {
      "cell_type": "markdown",
      "source": [
        "### **6. min()**"
      ],
      "metadata": {
        "id": "9ktltODOjxFo"
      }
    },
    {
      "cell_type": "code",
      "source": [
        "# min() with iterable arguments\n",
        "\n",
        "languages = [\"Python\", \"C Programming\", \"Java\", \"JavaScript\"]\n",
        "smallest_string = min(languages);\n",
        "\n",
        "print(\"The smallest string is:\", smallest_string)"
      ],
      "metadata": {
        "colab": {
          "base_uri": "https://localhost:8080/"
        },
        "id": "vHdisIJkj3Bq",
        "outputId": "4279c675-165c-45f6-fcb0-942c84646740"
      },
      "execution_count": 6,
      "outputs": [
        {
          "output_type": "stream",
          "name": "stdout",
          "text": [
            "The smallest string is: C Programming\n"
          ]
        }
      ]
    },
    {
      "cell_type": "code",
      "source": [
        "# min() in dictionaries\n",
        "\n",
        "square = {2: 4, -3: 9, -1: 1, -2: 4}\n",
        "\n",
        "# the smallest key\n",
        "key1 = min(square)\n",
        "print(\"The smallest key:\", key1)\n",
        "\n",
        "# the key whose value is the smallest\n",
        "key2 = min(square, key = lambda k: square[k])\n",
        "\n",
        "print(\"The key with the smallest value:\", key2)\n",
        "\n",
        "# getting the smallest value\n",
        "print(\"The smallest value:\", square[key2])"
      ],
      "metadata": {
        "colab": {
          "base_uri": "https://localhost:8080/"
        },
        "id": "Jc43KUdIkex2",
        "outputId": "7700a6b2-a29d-4aef-d03c-f10fa500367f"
      },
      "execution_count": 8,
      "outputs": [
        {
          "output_type": "stream",
          "name": "stdout",
          "text": [
            "The smallest key: -3\n",
            "The key with the smallest value: -1\n",
            "The smallest value: 1\n"
          ]
        }
      ]
    },
    {
      "cell_type": "code",
      "source": [
        "# min() without iterable\n",
        "\n",
        "# find min among the arguments\n",
        "result = min(4, -5, 23, 5)\n",
        "print(\"The minimum number is:\", result)"
      ],
      "metadata": {
        "colab": {
          "base_uri": "https://localhost:8080/"
        },
        "id": "Ek-MI6a4lAFE",
        "outputId": "924b881d-95c4-45d3-8a56-3594117c7b33"
      },
      "execution_count": 9,
      "outputs": [
        {
          "output_type": "stream",
          "name": "stdout",
          "text": [
            "The minimum number is: -5\n"
          ]
        }
      ]
    },
    {
      "cell_type": "markdown",
      "source": [
        "### **7. sorted()**"
      ],
      "metadata": {
        "id": "UVXMMGEzlNab"
      }
    },
    {
      "cell_type": "code",
      "source": [
        "#Sort a List in Ascending Order\n",
        "\n",
        "# list of vowels in random order\n",
        "vowels_list = ['e', 'a', 'u', 'o', 'i']\n",
        "\n",
        "# sort the vowels\n",
        "print('Sorted Vowels:', sorted(vowels_list))"
      ],
      "metadata": {
        "colab": {
          "base_uri": "https://localhost:8080/"
        },
        "id": "eCmgRjCImJAx",
        "outputId": "86e9fbdd-8927-4d44-e957-b30f6f9bf025"
      },
      "execution_count": 13,
      "outputs": [
        {
          "output_type": "stream",
          "name": "stdout",
          "text": [
            "Sorted Vowels: ['a', 'e', 'i', 'o', 'u']\n"
          ]
        }
      ]
    },
    {
      "cell_type": "code",
      "source": [
        "#Sort in Descending Order\n",
        "\n",
        "numbers = [2, 7, 3, 9, 13, 11]\n",
        "\n",
        "# sorting the numbers in descending order\n",
        "sorted_numbers = sorted(numbers, reverse=True)\n",
        "\n",
        "print(sorted_numbers)"
      ],
      "metadata": {
        "colab": {
          "base_uri": "https://localhost:8080/"
        },
        "id": "VPwcA1EOl4zx",
        "outputId": "4fc0de01-49bf-4944-99a3-e27b89efe87e"
      },
      "execution_count": 12,
      "outputs": [
        {
          "output_type": "stream",
          "name": "stdout",
          "text": [
            "[13, 11, 9, 7, 3, 2]\n"
          ]
        }
      ]
    },
    {
      "cell_type": "code",
      "source": [
        "# Sorting With the Key Function\n",
        "\n",
        "fruits = ['apple', 'banana', 'kiwi', 'pomegranate']\n",
        "\n",
        "# sorts the list based on the length of each string\n",
        "sorted_fruits = sorted(fruits, key=len)\n",
        "\n",
        "print('Sorted list:', sorted_fruits)\n",
        "\n",
        "# Output: Sorted list: ['kiwi', 'apple', 'banana', 'pomegranate']"
      ],
      "metadata": {
        "colab": {
          "base_uri": "https://localhost:8080/"
        },
        "id": "Y9RiCfgnlKDD",
        "outputId": "0ea2eb27-a97a-4c6f-9c39-d2da62b9747c"
      },
      "execution_count": 10,
      "outputs": [
        {
          "output_type": "stream",
          "name": "stdout",
          "text": [
            "Sorted list: ['kiwi', 'apple', 'banana', 'pomegranate']\n"
          ]
        }
      ]
    },
    {
      "cell_type": "markdown",
      "source": [
        "### **8. sum()**\n",
        "\n",
        "* sum() Syntax\n",
        "The syntax of the sum() function is:\n",
        "\n",
        "             sum(iterable, start)\n",
        "\n",
        "* The sum() function adds start and items of the given iterable from left to right.\n",
        "\n"
      ],
      "metadata": {
        "id": "v4vUyo13mZhM"
      }
    },
    {
      "cell_type": "code",
      "source": [
        "numbers = [2.5, 3, 4, -5]\n",
        "\n",
        "# start parameter is not provided\n",
        "numbers_sum = sum(numbers)\n",
        "print(numbers_sum)\n",
        "\n",
        "# start = 10\n",
        "numbers_sum = sum(numbers, 10)\n",
        "print(numbers_sum)"
      ],
      "metadata": {
        "colab": {
          "base_uri": "https://localhost:8080/"
        },
        "id": "icTPrIbRme1q",
        "outputId": "e8fc1ddd-60e8-497c-842c-cf5241f9dbcd"
      },
      "execution_count": 14,
      "outputs": [
        {
          "output_type": "stream",
          "name": "stdout",
          "text": [
            "4.5\n",
            "14.5\n"
          ]
        }
      ]
    }
  ]
}