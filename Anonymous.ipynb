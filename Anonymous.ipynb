{
  "nbformat": 4,
  "nbformat_minor": 0,
  "metadata": {
    "colab": {
      "provenance": [],
      "authorship_tag": "ABX9TyOeNWIuV0H7K5q8eFYkebZQ",
      "include_colab_link": true
    },
    "kernelspec": {
      "name": "python3",
      "display_name": "Python 3"
    },
    "language_info": {
      "name": "python"
    }
  },
  "cells": [
    {
      "cell_type": "markdown",
      "metadata": {
        "id": "view-in-github",
        "colab_type": "text"
      },
      "source": [
        "<a href=\"https://colab.research.google.com/github/shrybhrdwj/TheCodeStreak/blob/main/Anonymous.ipynb\" target=\"_parent\"><img src=\"https://colab.research.google.com/assets/colab-badge.svg\" alt=\"Open In Colab\"/></a>"
      ]
    },
    {
      "cell_type": "code",
      "execution_count": null,
      "metadata": {
        "colab": {
          "base_uri": "https://localhost:8080/"
        },
        "id": "44bwthDOJ-1F",
        "outputId": "fc562457-9be0-42f6-ca18-d52babe3b4ec"
      },
      "outputs": [
        {
          "output_type": "stream",
          "name": "stdout",
          "text": [
            "1\n",
            "array('i', [1, 2, 3, 4, 5])\n",
            "array('i', [10, 2, 3, 4, 5])\n"
          ]
        }
      ],
      "source": [
        "l1 = []\n",
        "\n",
        "l1.append(1)\n",
        "l1.append(1.5)\n",
        "l1.append('python')\n",
        "\n",
        "print(l1[0])\n",
        "\n",
        "\n",
        "import array\n",
        "\n",
        "arr = array.array('i',[1,2,3,4,5])\n",
        "print(arr)\n",
        "arr[0] = 10\n",
        "print(arr)"
      ]
    },
    {
      "cell_type": "code",
      "source": [
        "def linear_search(arr,target):\n",
        "    size = len(arr)\n",
        "    for index in range(0,size):\n",
        "        if(arr[index]==target):\n",
        "            return index\n",
        "\n",
        "    return -1\n",
        "\n",
        "\n",
        "\n",
        "my_list = [10,23,45,70,11]\n",
        "target = 700\n",
        "\n",
        "result = linear_search(my_list,target)\n",
        "\n",
        "print(result)"
      ],
      "metadata": {
        "id": "1wM1eGLjKK9S",
        "outputId": "17fdf6f9-e475-445c-c2b2-bc567154d52f",
        "colab": {
          "base_uri": "https://localhost:8080/"
        }
      },
      "execution_count": null,
      "outputs": [
        {
          "output_type": "stream",
          "name": "stdout",
          "text": [
            "-1\n"
          ]
        }
      ]
    },
    {
      "cell_type": "code",
      "source": [
        "def greet():\n",
        "\n",
        "    # local variable\n",
        "    message = 'Hello'\n",
        "\n",
        "    print('Local', message)\n",
        "\n",
        "greet()\n",
        "\n",
        "# try to access message variable\n",
        "# outside greet() function\n",
        "print(message)"
      ],
      "metadata": {
        "colab": {
          "base_uri": "https://localhost:8080/"
        },
        "id": "jlDAQd_BWsUS",
        "outputId": "a8f1700d-e21d-432c-ce93-8084853d1c90"
      },
      "execution_count": 5,
      "outputs": [
        {
          "output_type": "stream",
          "name": "stdout",
          "text": [
            "Local Hello\n",
            "Hello\n"
          ]
        }
      ]
    },
    {
      "cell_type": "code",
      "source": [
        "# declare global variable\n",
        "message = 'Hello'\n",
        "\n",
        "def greet():\n",
        "    # declare local variable\n",
        "    print('Local', message)\n",
        "\n",
        "greet()\n",
        "print('Global', message)"
      ],
      "metadata": {
        "colab": {
          "base_uri": "https://localhost:8080/"
        },
        "id": "7qFNDBboW3Fc",
        "outputId": "6bcfd1d8-8a4e-4ba7-b910-b940a326010d"
      },
      "execution_count": 2,
      "outputs": [
        {
          "output_type": "stream",
          "name": "stdout",
          "text": [
            "Local Hello\n",
            "Global Hello\n"
          ]
        }
      ]
    },
    {
      "cell_type": "code",
      "source": [
        "# outside function\n",
        "def outer():\n",
        "    message = 'local'\n",
        "\n",
        "    # nested function\n",
        "    def inner():\n",
        "\n",
        "        # declare nonlocal variable\n",
        "        nonlocal message\n",
        "\n",
        "        message = 'nonlocal'\n",
        "        print(\"inner:\", message)\n",
        "\n",
        "    inner()\n",
        "    print(\"outer:\", message)\n",
        "\n",
        "outer()"
      ],
      "metadata": {
        "colab": {
          "base_uri": "https://localhost:8080/"
        },
        "id": "GSgEXxylYDNm",
        "outputId": "417e9dc8-f45b-4cb2-86b5-513a1df8dfdc"
      },
      "execution_count": 8,
      "outputs": [
        {
          "output_type": "stream",
          "name": "stdout",
          "text": [
            "inner: nonlocal\n",
            "outer: nonlocal\n"
          ]
        }
      ]
    },
    {
      "cell_type": "code",
      "source": [
        "def factorial(n):\n",
        "  if n == 0 or n==1:\n",
        "    return 1\n",
        "  else:\n",
        "    return (n * factorial(n-1))\n",
        "\n",
        "factorial(4)"
      ],
      "metadata": {
        "colab": {
          "base_uri": "https://localhost:8080/"
        },
        "id": "UIyd3uXObShc",
        "outputId": "dbb7d36a-5d30-4ba6-8e3e-255c2e7e5a26"
      },
      "execution_count": 9,
      "outputs": [
        {
          "output_type": "execute_result",
          "data": {
            "text/plain": [
              "24"
            ]
          },
          "metadata": {},
          "execution_count": 9
        }
      ]
    },
    {
      "cell_type": "code",
      "source": [
        "def fibbo(n):\n",
        "  if n<=0:\n",
        "    return 0\n",
        "  elif n==1:\n",
        "    return 1\n",
        "  else:\n",
        "    return fibbo(n-1)+fibbo(n-2)\n",
        "\n",
        "for i in range(10):\n",
        "  print(fibbo(i),end=' ')\n",
        "fibbo(5)"
      ],
      "metadata": {
        "colab": {
          "base_uri": "https://localhost:8080/"
        },
        "id": "df4mDWQfcAmV",
        "outputId": "c1718246-e71b-4637-83df-e2e6b11ddfde"
      },
      "execution_count": 12,
      "outputs": [
        {
          "output_type": "stream",
          "name": "stdout",
          "text": [
            "0 1 1 2 3 5 8 13 21 34 "
          ]
        },
        {
          "output_type": "execute_result",
          "data": {
            "text/plain": [
              "5"
            ]
          },
          "metadata": {},
          "execution_count": 12
        }
      ]
    }
  ]
}
