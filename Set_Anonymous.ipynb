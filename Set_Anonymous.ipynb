{
  "nbformat": 4,
  "nbformat_minor": 0,
  "metadata": {
    "colab": {
      "provenance": [],
      "collapsed_sections": [
        "47Tj7ZNAa-l2",
        "L3RSn3eFu5b4",
        "6YVrTQplyPed",
        "ECJnUaZg4P1b",
        "LYmhbTN3bbYR"
      ],
      "authorship_tag": "ABX9TyOCVHCtput20eN1mdTkOxrT",
      "include_colab_link": true
    },
    "kernelspec": {
      "name": "python3",
      "display_name": "Python 3"
    },
    "language_info": {
      "name": "python"
    }
  },
  "cells": [
    {
      "cell_type": "markdown",
      "metadata": {
        "id": "view-in-github",
        "colab_type": "text"
      },
      "source": [
        "<a href=\"https://colab.research.google.com/github/shrybhrdwj/TheCodeStreak/blob/main/Set_Anonymous.ipynb\" target=\"_parent\"><img src=\"https://colab.research.google.com/assets/colab-badge.svg\" alt=\"Open In Colab\"/></a>"
      ]
    },
    {
      "cell_type": "markdown",
      "source": [
        "### duplicate numbers\n"
      ],
      "metadata": {
        "id": "47Tj7ZNAa-l2"
      }
    },
    {
      "cell_type": "code",
      "execution_count": 10,
      "metadata": {
        "colab": {
          "base_uri": "https://localhost:8080/"
        },
        "id": "dFuwktBMayuE",
        "outputId": "1b3b1d37-32e6-45e9-93de-7729a82e48ef"
      },
      "outputs": [
        {
          "output_type": "stream",
          "name": "stdout",
          "text": [
            "{2, 3, 4, 5, 6}\n"
          ]
        }
      ],
      "source": [
        "numbers= {2,3,4,5,6,2,2,4,4}\n",
        "print(numbers)"
      ]
    },
    {
      "cell_type": "markdown",
      "source": [
        "### **round()**"
      ],
      "metadata": {
        "id": "L3RSn3eFu5b4"
      }
    },
    {
      "cell_type": "code",
      "source": [
        "# for integers\n",
        "print(round(10))\n",
        "\n",
        "# for floating point\n",
        "print(round(10.7))\n",
        "\n",
        "# even choice\n",
        "print(round(5.5))"
      ],
      "metadata": {
        "colab": {
          "base_uri": "https://localhost:8080/"
        },
        "id": "Pd35SE1tvfrc",
        "outputId": "5bc93655-0ef3-4c00-d253-8d34ab03861d"
      },
      "execution_count": 1,
      "outputs": [
        {
          "output_type": "stream",
          "name": "stdout",
          "text": [
            "10\n",
            "11\n",
            "6\n"
          ]
        }
      ]
    },
    {
      "cell_type": "code",
      "source": [
        "print(round(2.665, 2))\n",
        "print(round(2.675, 2))"
      ],
      "metadata": {
        "colab": {
          "base_uri": "https://localhost:8080/"
        },
        "id": "JbgVrcDMvcpY",
        "outputId": "f94f15ef-343f-4cb7-a5d5-9d49e936bd40"
      },
      "execution_count": 2,
      "outputs": [
        {
          "output_type": "stream",
          "name": "stdout",
          "text": [
            "2.67\n",
            "2.67\n"
          ]
        }
      ]
    },
    {
      "cell_type": "code",
      "source": [
        "from decimal import Decimal\n",
        "\n",
        "# normal float\n",
        "num = 2.675\n",
        "print(round(num, 2))\n",
        "\n",
        "# using decimal.Decimal (passed float as string for precision)\n",
        "num = Decimal('2.675')\n",
        "print(round(num, 2))"
      ],
      "metadata": {
        "colab": {
          "base_uri": "https://localhost:8080/"
        },
        "id": "GZdspFvvu-r3",
        "outputId": "3be5da66-6c05-441a-ed88-8dbe1a2f9902"
      },
      "execution_count": 5,
      "outputs": [
        {
          "output_type": "stream",
          "name": "stdout",
          "text": [
            "2.67\n",
            "2.68\n"
          ]
        }
      ]
    },
    {
      "cell_type": "markdown",
      "source": [
        "### **set() method:** to change any data structure to sets."
      ],
      "metadata": {
        "id": "6YVrTQplyPed"
      }
    },
    {
      "cell_type": "code",
      "source": [
        "# empty set\n",
        "print(set())\n",
        "\n",
        "# from string\n",
        "print(set('Python'))\n",
        "\n",
        "# from tuple\n",
        "print(set(('a', 'e', 'i', 'o', 'u')))\n",
        "\n",
        "# from list\n",
        "print(set(['a', 'e', 'i', 'o', 'u']))\n",
        "\n",
        "# from range\n",
        "print(set(range(5)))"
      ],
      "metadata": {
        "colab": {
          "base_uri": "https://localhost:8080/"
        },
        "id": "HaYz9INZycoO",
        "outputId": "018206fb-0315-4f04-cd3c-6ffec9f929e9"
      },
      "execution_count": 6,
      "outputs": [
        {
          "output_type": "stream",
          "name": "stdout",
          "text": [
            "set()\n",
            "{'t', 'h', 'o', 'y', 'n', 'P'}\n",
            "{'a', 'o', 'u', 'e', 'i'}\n",
            "{'a', 'o', 'u', 'e', 'i'}\n",
            "{0, 1, 2, 3, 4}\n"
          ]
        }
      ]
    },
    {
      "cell_type": "code",
      "source": [
        "# from set\n",
        "print(set({'a', 'e', 'i', 'o', 'u'}))\n",
        "\n",
        "# from dictionary\n",
        "print(set({'a':1, 'e': 2, 'i':3, 'o':4, 'u':5}))\n",
        "\n",
        "# from frozen set\n",
        "frozen_set = frozenset(('a', 'e', 'i', 'o', 'u'))\n",
        "print(set(frozen_set))"
      ],
      "metadata": {
        "colab": {
          "base_uri": "https://localhost:8080/"
        },
        "id": "Kqyw4MxlyjH_",
        "outputId": "f12f8202-de17-4254-9fa9-5571c4db85f0"
      },
      "execution_count": 7,
      "outputs": [
        {
          "output_type": "stream",
          "name": "stdout",
          "text": [
            "{'e', 'i', 'a', 'o', 'u'}\n",
            "{'e', 'i', 'a', 'o', 'u'}\n",
            "{'e', 'i', 'a', 'o', 'u'}\n"
          ]
        }
      ]
    },
    {
      "cell_type": "markdown",
      "source": [
        "### **filter()**"
      ],
      "metadata": {
        "id": "ECJnUaZg4P1b"
      }
    },
    {
      "cell_type": "code",
      "source": [
        "# returns True if the argument passed is even\n",
        "def check_even(number):\n",
        "    if number % 2 == 0:\n",
        "          return True\n",
        "    return False\n",
        "\n",
        "numbers = [1, 2, 3, 4, 5, 6, 7, 8, 9, 10]\n",
        "\n",
        "# if an element passed to check_even() returns True, select it\n",
        "even_numbers_iterator = filter(check_even, numbers)\n",
        "\n",
        "# converting to list\n",
        "even_numbers = list(even_numbers_iterator)\n",
        "print(even_numbers)\n"
      ],
      "metadata": {
        "colab": {
          "base_uri": "https://localhost:8080/"
        },
        "id": "5cRlfZvf4VIm",
        "outputId": "bce80806-55cb-46f7-b69f-e323067588b9"
      },
      "execution_count": 8,
      "outputs": [
        {
          "output_type": "stream",
          "name": "stdout",
          "text": [
            "[2, 4, 6, 8, 10]\n"
          ]
        }
      ]
    },
    {
      "cell_type": "code",
      "source": [
        "def filter_vowels(letter):\n",
        "  vowels=['a','e','i','o','u']\n",
        "  if letter in vowels:\n",
        "    return True\n",
        "  else:\n",
        "    return False\n",
        "\n",
        "letters=['a','b','c','d','e','f','g','i','o','u']\n",
        "\n",
        "filtered_vowels=filter(filter_vowels,letters)\n",
        "vowels=tuple(filtered_vowels)\n",
        "print(vowels)"
      ],
      "metadata": {
        "colab": {
          "base_uri": "https://localhost:8080/"
        },
        "id": "xAD7Gi2E67TH",
        "outputId": "2e18fb85-6557-4d84-b18a-2d738dc4b443"
      },
      "execution_count": 9,
      "outputs": [
        {
          "output_type": "stream",
          "name": "stdout",
          "text": [
            "('a', 'e', 'i', 'o', 'u')\n"
          ]
        }
      ]
    },
    {
      "cell_type": "markdown",
      "source": [
        "# Practical Examples"
      ],
      "metadata": {
        "id": "LYmhbTN3bbYR"
      }
    },
    {
      "cell_type": "code",
      "source": [
        "# Counting Unique words in text\n",
        "\n",
        "text=\"In this tutorial we are discussing about sets\"\n",
        "words=text.split()\n",
        "\n",
        "## convert list of words to set to get unique words\n",
        "\n",
        "unique_words=set(words)\n",
        "print(unique_words)\n",
        "print(len(unique_words))"
      ],
      "metadata": {
        "id": "bo8QfrT_bdGc"
      },
      "execution_count": null,
      "outputs": []
    }
  ]
}