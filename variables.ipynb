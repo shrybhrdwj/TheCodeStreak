{
  "nbformat": 4,
  "nbformat_minor": 0,
  "metadata": {
    "colab": {
      "provenance": [],
      "authorship_tag": "ABX9TyPjQ0KBE3XLOtw0kdVgbe4L",
      "include_colab_link": true
    },
    "kernelspec": {
      "name": "python3",
      "display_name": "Python 3"
    },
    "language_info": {
      "name": "python"
    }
  },
  "cells": [
    {
      "cell_type": "markdown",
      "metadata": {
        "id": "view-in-github",
        "colab_type": "text"
      },
      "source": [
        "<a href=\"https://colab.research.google.com/github/shrybhrdwj/TheCodeStreak/blob/main/variables.ipynb\" target=\"_parent\"><img src=\"https://colab.research.google.com/assets/colab-badge.svg\" alt=\"Open In Colab\"/></a>"
      ]
    },
    {
      "cell_type": "code",
      "execution_count": null,
      "metadata": {
        "id": "7WuAeT98D60J"
      },
      "outputs": [],
      "source": [
        "site_name ="
      ]
    },
    {
      "cell_type": "code",
      "source": [
        "#naming Variables\n",
        "site_name = 'Google Collab'\n",
        "print(site_name)\n",
        "site_name = 'apple.com'\n",
        "print(site_name)"
      ],
      "metadata": {
        "colab": {
          "base_uri": "https://localhost:8080/"
        },
        "id": "0Sb-uaHnMv1v",
        "outputId": "57c8ff80-3f99-46ac-de4d-f34b0fe7d516"
      },
      "execution_count": 2,
      "outputs": [
        {
          "output_type": "stream",
          "name": "stdout",
          "text": [
            "Google Collab\n",
            "apple.com\n"
          ]
        }
      ]
    },
    {
      "cell_type": "code",
      "source": [
        "#Assuming multiple values to multiple vaariables\n",
        "a,b,c = 5, 3.2, 'Hello'\n",
        "print(a)\n",
        "print(b)\n",
        "print(c)"
      ],
      "metadata": {
        "colab": {
          "base_uri": "https://localhost:8080/"
        },
        "id": "VhdNZmYZNV_Z",
        "outputId": "3da3d803-fe2d-4fbe-c74a-51e4bc1cc2b6"
      },
      "execution_count": 3,
      "outputs": [
        {
          "output_type": "stream",
          "name": "stdout",
          "text": [
            "5\n",
            "3.2\n",
            "Hello\n"
          ]
        }
      ]
    },
    {
      "cell_type": "code",
      "source": [
        "#Assinging same values to multiple variables\n",
        "site1 = site2 ='Google Collab'\n",
        "print(site1)\n",
        "print(site2)"
      ],
      "metadata": {
        "colab": {
          "base_uri": "https://localhost:8080/"
        },
        "id": "exlpVnPeOCQB",
        "outputId": "4fa5b28c-0c21-4555-988a-1e98e12c2c2d"
      },
      "execution_count": 4,
      "outputs": [
        {
          "output_type": "stream",
          "name": "stdout",
          "text": [
            "Google Collab\n",
            "Google Collab\n"
          ]
        }
      ]
    }
  ]
}