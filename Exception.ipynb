{
  "nbformat": 4,
  "nbformat_minor": 0,
  "metadata": {
    "colab": {
      "provenance": [],
      "authorship_tag": "ABX9TyMdDIwePGHCp/JVkeYb+Kw5",
      "include_colab_link": true
    },
    "kernelspec": {
      "name": "python3",
      "display_name": "Python 3"
    },
    "language_info": {
      "name": "python"
    }
  },
  "cells": [
    {
      "cell_type": "markdown",
      "metadata": {
        "id": "view-in-github",
        "colab_type": "text"
      },
      "source": [
        "<a href=\"https://colab.research.google.com/github/shrybhrdwj/TheCodeStreak/blob/main/Exception.ipynb\" target=\"_parent\"><img src=\"https://colab.research.google.com/assets/colab-badge.svg\" alt=\"Open In Colab\"/></a>"
      ]
    },
    {
      "cell_type": "markdown",
      "source": [
        "## **Exception Handling**\n",
        "Exception handling in Python allows you to handle errors gracefully and take corrective actions without stopping the execution of the program.\n",
        "(try,except,else, and finally)"
      ],
      "metadata": {
        "id": "h4GhTGn0nh-s"
      }
    },
    {
      "cell_type": "markdown",
      "source": [
        "### What Are Exceptions?\n",
        "Exceptions are events that disrupt the normal flow of a program. They occur when an error is encountered during program execution. Common exceptions include:\n",
        "\n",
        "- ZeroDivisionError: Dividing by zero.\n",
        "- FileNotFoundError: File not found.\n",
        "- ValueError: Invalid value.\n",
        "- TypeError: Invalid type."
      ],
      "metadata": {
        "id": "fqKhlqlnntZE"
      }
    },
    {
      "cell_type": "code",
      "execution_count": 1,
      "metadata": {
        "colab": {
          "base_uri": "https://localhost:8080/"
        },
        "id": "9PzhnGgGnYHM",
        "outputId": "2a5ef225-fcd5-4e37-e605-549ab34c013c"
      },
      "outputs": [
        {
          "output_type": "stream",
          "name": "stdout",
          "text": [
            "The variable has not been assigned.\n"
          ]
        }
      ],
      "source": [
        "# Exception try, except block\n",
        "\n",
        "try:\n",
        "  a=b\n",
        "except:\n",
        "  print('The variable has not been assigned.')"
      ]
    },
    {
      "cell_type": "code",
      "source": [
        "# gives error\n",
        "\n",
        "a=b"
      ],
      "metadata": {
        "colab": {
          "base_uri": "https://localhost:8080/",
          "height": 176
        },
        "id": "MHbLey_3obK-",
        "outputId": "5c98cb75-c19a-42e5-b691-f61445ca6976"
      },
      "execution_count": 2,
      "outputs": [
        {
          "output_type": "error",
          "ename": "NameError",
          "evalue": "name 'b' is not defined",
          "traceback": [
            "\u001b[0;31m---------------------------------------------------------------------------\u001b[0m",
            "\u001b[0;31mNameError\u001b[0m                                 Traceback (most recent call last)",
            "\u001b[0;32m/tmp/ipython-input-1310246877.py\u001b[0m in \u001b[0;36m<cell line: 0>\u001b[0;34m()\u001b[0m\n\u001b[1;32m      1\u001b[0m \u001b[0;31m# gives error\u001b[0m\u001b[0;34m\u001b[0m\u001b[0;34m\u001b[0m\u001b[0m\n\u001b[1;32m      2\u001b[0m \u001b[0;34m\u001b[0m\u001b[0m\n\u001b[0;32m----> 3\u001b[0;31m \u001b[0ma\u001b[0m\u001b[0;34m=\u001b[0m\u001b[0mb\u001b[0m\u001b[0;34m\u001b[0m\u001b[0;34m\u001b[0m\u001b[0m\n\u001b[0m",
            "\u001b[0;31mNameError\u001b[0m: name 'b' is not defined"
          ]
        }
      ]
    },
    {
      "cell_type": "code",
      "source": [
        "# Nameerror as some other variable\n",
        "\n",
        "try:\n",
        "  a=b\n",
        "except NameError as ex:\n",
        "  print(ex)"
      ],
      "metadata": {
        "colab": {
          "base_uri": "https://localhost:8080/"
        },
        "id": "KDffEzB5ognH",
        "outputId": "21f705fb-aabd-4444-ddb9-486c58a3fb53"
      },
      "execution_count": 3,
      "outputs": [
        {
          "output_type": "stream",
          "name": "stdout",
          "text": [
            "name 'b' is not defined\n"
          ]
        }
      ]
    },
    {
      "cell_type": "markdown",
      "source": [
        "### **ZeroDivisionError: Dividing by zero.**"
      ],
      "metadata": {
        "id": "j5wh6LJ7pHa8"
      }
    },
    {
      "cell_type": "code",
      "source": [
        "try:\n",
        "  result=1/0\n",
        "except ZeroDivisionError as ex:\n",
        "  print(ex)\n",
        "  print('Please enter the denominator greater than 0.')"
      ],
      "metadata": {
        "colab": {
          "base_uri": "https://localhost:8080/"
        },
        "id": "cjFLxBR_o1IR",
        "outputId": "00ea2844-035f-4437-f945-335206208b61"
      },
      "execution_count": 4,
      "outputs": [
        {
          "output_type": "stream",
          "name": "stdout",
          "text": [
            "division by zero\n",
            "Please enter the denominator greater than 0.\n"
          ]
        }
      ]
    },
    {
      "cell_type": "code",
      "source": [
        "try:\n",
        "  result = 1/2\n",
        "  a=b\n",
        "except ZeroDivisionError as ex:\n",
        "  print(ex)\n",
        "  print(\"Please enter thr denominator greater than 0\")\n",
        "except Exception as ex1:\n",
        "  print(ex1)\n",
        "  print('Main exception got caught here')"
      ],
      "metadata": {
        "colab": {
          "base_uri": "https://localhost:8080/"
        },
        "id": "WbehtpixpM-k",
        "outputId": "3dd277ac-3bf3-4cac-9b98-058264a652b3"
      },
      "execution_count": 5,
      "outputs": [
        {
          "output_type": "stream",
          "name": "stdout",
          "text": [
            "name 'b' is not defined\n",
            "Main exception got caught here\n"
          ]
        }
      ]
    },
    {
      "cell_type": "markdown",
      "source": [
        "### **ValueError: Invalid value**"
      ],
      "metadata": {
        "id": "2akx-ppHqZs6"
      }
    },
    {
      "cell_type": "code",
      "source": [
        "try:\n",
        "  num=int(input(\"Enter a  umber: \"))\n",
        "  result=10/num\n",
        "except ValueError:\n",
        "  print(\"This is not a valid number.\")\n",
        "except ZeroDivisionError:\n",
        "  print(\"Enter the denominator graeter than 0.\")\n",
        "except Exception as ex:\n",
        "  print(ex)"
      ],
      "metadata": {
        "colab": {
          "base_uri": "https://localhost:8080/"
        },
        "id": "68CDrpC_pqSr",
        "outputId": "a13b3a94-a2c0-4fa3-fbbb-c7b471a3b0a5"
      },
      "execution_count": 8,
      "outputs": [
        {
          "output_type": "stream",
          "name": "stdout",
          "text": [
            "Enter a  umber: a\n",
            "This is not a valid number.\n"
          ]
        }
      ]
    },
    {
      "cell_type": "markdown",
      "source": [
        "### try, except,else block"
      ],
      "metadata": {
        "id": "DAV0AJoPqjiW"
      }
    },
    {
      "cell_type": "code",
      "source": [
        "try:\n",
        "  num = int(input(\"Enter a number:\"))\n",
        "  result=10/num\n",
        "except ValueError:\n",
        "  print(\"This is not a valid number.\")\n",
        "except ZeroDivisionError:\n",
        "  print(\"You can't divide by 0.\")\n",
        "except Exception as ex:\n",
        "  print(ex)\n",
        "else:\n",
        "  print(f\"the result is {result}\")"
      ],
      "metadata": {
        "colab": {
          "base_uri": "https://localhost:8080/"
        },
        "id": "42JWz1bRqiu9",
        "outputId": "2e526cb1-32d7-4ade-8482-fcdd4e76bc61"
      },
      "execution_count": 9,
      "outputs": [
        {
          "output_type": "stream",
          "name": "stdout",
          "text": [
            "Enter a number:3\n",
            "the result is 3.3333333333333335\n"
          ]
        }
      ]
    },
    {
      "cell_type": "markdown",
      "source": [
        "### try, except, else and finally"
      ],
      "metadata": {
        "id": "SPuwkWdFrVZx"
      }
    },
    {
      "cell_type": "code",
      "source": [
        "try:\n",
        "  num = int(input(\"ENter a number:\"))\n",
        "  result = 10/num\n",
        "except ValueError:\n",
        "  print(\"This is not a valid number.\")\n",
        "except ZeroDivisionError:\n",
        "  print(\"You can't divide by 0.\")\n",
        "except Exception as ex:\n",
        "  print(ex)\n",
        "else:\n",
        "  print(f\"the result is {result}\")\n",
        "finally:\n",
        "  print(\"Execution complete.\")"
      ],
      "metadata": {
        "colab": {
          "base_uri": "https://localhost:8080/"
        },
        "id": "GePGIVDMragQ",
        "outputId": "f6e0f6a5-71cf-478e-eb08-f5d3359f0427"
      },
      "execution_count": 10,
      "outputs": [
        {
          "output_type": "stream",
          "name": "stdout",
          "text": [
            "ENter a number:2\n",
            "the result is 5.0\n",
            "Execution complete.\n"
          ]
        }
      ]
    },
    {
      "cell_type": "markdown",
      "source": [
        "## **File handling and Exception Handling**"
      ],
      "metadata": {
        "id": "gQwwdRVEr3mP"
      }
    },
    {
      "cell_type": "code",
      "source": [
        "!mkdir package"
      ],
      "metadata": {
        "id": "3svmtr9asNZb"
      },
      "execution_count": 2,
      "outputs": []
    },
    {
      "cell_type": "code",
      "source": [
        "%%writefile package/demo.txt\n",
        "\n",
        "Hello Shreya!\n",
        "I am here"
      ],
      "metadata": {
        "colab": {
          "base_uri": "https://localhost:8080/"
        },
        "id": "vOMqkctosDe6",
        "outputId": "5c67e63b-4bdb-4a3e-ddce-4b626ce3ae99"
      },
      "execution_count": 15,
      "outputs": [
        {
          "output_type": "stream",
          "name": "stdout",
          "text": [
            "Overwriting package/demo.txt\n"
          ]
        }
      ]
    },
    {
      "cell_type": "code",
      "source": [
        "!rm -r package/demo.text"
      ],
      "metadata": {
        "id": "7COSpW9kk3ME"
      },
      "execution_count": 12,
      "outputs": []
    },
    {
      "cell_type": "markdown",
      "source": [
        "### **FileNotFoundError: File not found**"
      ],
      "metadata": {
        "id": "Ex-SXJZ2sgbP"
      }
    },
    {
      "cell_type": "code",
      "source": [
        "try:\n",
        "  file=open('example.txt','r')\n",
        "  content=file.read()\n",
        "  print(content)\n",
        "\n",
        "except FileNotFoundError:\n",
        "  print(\"This file does not exists.\")\n",
        "\n",
        "finally:\n",
        "  if 'file' in locals() and hasattr(file, 'closed') and not file.closed:\n",
        "    file.close()\n",
        "    print(\"File closed\")"
      ],
      "metadata": {
        "colab": {
          "base_uri": "https://localhost:8080/"
        },
        "id": "ye1Sg7P1htzk",
        "outputId": "21b91dd8-b984-4457-a450-f254bdaa9f20"
      },
      "execution_count": 8,
      "outputs": [
        {
          "output_type": "stream",
          "name": "stdout",
          "text": [
            "This file does not exists.\n"
          ]
        }
      ]
    },
    {
      "cell_type": "code",
      "source": [
        "try:\n",
        "  file=open('demo.txt','r')\n",
        "  content=file.read()\n",
        "  a=b\n",
        "  print(content)\n",
        "\n",
        "except FileNotFoundError:\n",
        "  print(\"This file does not exists\")\n",
        "except Exception as ex:\n",
        "  print(ex)\n",
        "\n",
        "finally:\n",
        "  if 'file' in locals() and hasattr(file,'closed') and not file.closed:\n",
        "    file.close()\n",
        "    print('file close')"
      ],
      "metadata": {
        "colab": {
          "base_uri": "https://localhost:8080/"
        },
        "id": "nQ7HASsBr-FL",
        "outputId": "9b5da126-0ac2-4651-bfe5-045b7da0dd06"
      },
      "execution_count": 16,
      "outputs": [
        {
          "output_type": "stream",
          "name": "stdout",
          "text": [
            "This file does not exists\n"
          ]
        }
      ]
    },
    {
      "cell_type": "code",
      "source": [
        "if 'file' in locals():\n",
        "    print(True)"
      ],
      "metadata": {
        "id": "Yr-QW4_YuHt1"
      },
      "execution_count": 19,
      "outputs": []
    },
    {
      "cell_type": "code",
      "source": [
        "not file.closed()"
      ],
      "metadata": {
        "colab": {
          "base_uri": "https://localhost:8080/",
          "height": 141
        },
        "id": "mI61ErBbuMaf",
        "outputId": "5c80b258-ac29-478e-8c9f-b307976988ed"
      },
      "execution_count": 21,
      "outputs": [
        {
          "output_type": "error",
          "ename": "NameError",
          "evalue": "name 'file' is not defined",
          "traceback": [
            "\u001b[0;31m---------------------------------------------------------------------------\u001b[0m",
            "\u001b[0;31mNameError\u001b[0m                                 Traceback (most recent call last)",
            "\u001b[0;32m/tmp/ipython-input-1754817964.py\u001b[0m in \u001b[0;36m<cell line: 0>\u001b[0;34m()\u001b[0m\n\u001b[0;32m----> 1\u001b[0;31m \u001b[0;32mnot\u001b[0m \u001b[0mfile\u001b[0m\u001b[0;34m.\u001b[0m\u001b[0mclosed\u001b[0m\u001b[0;34m(\u001b[0m\u001b[0;34m)\u001b[0m\u001b[0;34m\u001b[0m\u001b[0;34m\u001b[0m\u001b[0m\n\u001b[0m",
            "\u001b[0;31mNameError\u001b[0m: name 'file' is not defined"
          ]
        }
      ]
    }
  ]
}
