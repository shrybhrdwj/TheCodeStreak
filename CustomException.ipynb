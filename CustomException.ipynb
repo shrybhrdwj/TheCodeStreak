{
  "nbformat": 4,
  "nbformat_minor": 0,
  "metadata": {
    "colab": {
      "provenance": [],
      "authorship_tag": "ABX9TyMyqh5cKGj2vv/R7C9p8Psw",
      "include_colab_link": true
    },
    "kernelspec": {
      "name": "python3",
      "display_name": "Python 3"
    },
    "language_info": {
      "name": "python"
    }
  },
  "cells": [
    {
      "cell_type": "markdown",
      "metadata": {
        "id": "view-in-github",
        "colab_type": "text"
      },
      "source": [
        "<a href=\"https://colab.research.google.com/github/shrybhrdwj/TheCodeStreak/blob/main/CustomException.ipynb\" target=\"_parent\"><img src=\"https://colab.research.google.com/assets/colab-badge.svg\" alt=\"Open In Colab\"/></a>"
      ]
    },
    {
      "cell_type": "code",
      "execution_count": null,
      "metadata": {
        "id": "ICi1xpOs-hij"
      },
      "outputs": [],
      "source": [
        "class Error(Exception):\n",
        "  pass\n",
        "\n",
        "class dobException(Error):\n",
        "  pass"
      ]
    },
    {
      "cell_type": "code",
      "source": [
        "year = int(input(\"Enter the dob: \"))\n",
        "age = 2024-year\n",
        "\n",
        "try:\n",
        "  if age<=30 and age>=20:\n",
        "    print(\"The age is valid so you can apply for the exam\")\n",
        "  else:\n",
        "    raise dobException\n",
        "except dobException:\n",
        "  print(\"Sorry, your age should be greater than 20 or les  than 30\")"
      ],
      "metadata": {
        "colab": {
          "base_uri": "https://localhost:8080/"
        },
        "id": "tLOvgnoe_B0C",
        "outputId": "3adab18b-15f7-4205-ed73-26a83615f0bf"
      },
      "execution_count": 6,
      "outputs": [
        {
          "output_type": "stream",
          "name": "stdout",
          "text": [
            "Enter the dob: 2003\n",
            "The age is valid so you can apply for the exam\n"
          ]
        }
      ]
    }
  ]
}