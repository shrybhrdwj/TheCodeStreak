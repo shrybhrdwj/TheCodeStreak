{
 "cells": [
  {
   "cell_type": "raw",
   "id": "42eaee45-305d-479b-bec2-d9150aa347be",
   "metadata": {},
   "source": [
    "1.Converting an integer into decimals"
   ]
  },
  {
   "cell_type": "code",
   "execution_count": 1,
   "id": "403a77da-95d4-4f2c-8d90-b4b553db8d69",
   "metadata": {},
   "outputs": [
    {
     "name": "stdout",
     "output_type": "stream",
     "text": [
      "10\n",
      "<class 'decimal.Decimal'>\n"
     ]
    }
   ],
   "source": [
    "#Converting an integer into decimals\n",
    "import decimal\n",
    "integer = 10\n",
    "print(decimal.Decimal(integer))\n",
    "print(type(decimal.Decimal(integer)))"
   ]
  },
  {
   "cell_type": "markdown",
   "id": "43d084f6-06e8-4249-a6f2-2a9b4f81f7f0",
   "metadata": {},
   "source": [
    "2.Converting an string of integers into decimals"
   ]
  },
  {
   "cell_type": "code",
   "execution_count": 3,
   "id": "15b82ba6-9a6e-44ae-a8e7-3ad4fe81186c",
   "metadata": {},
   "outputs": [
    {
     "name": "stdout",
     "output_type": "stream",
     "text": [
      "12345\n",
      "<class 'decimal.Decimal'>\n"
     ]
    }
   ],
   "source": [
    "#Converting an string of integers into decimals\n",
    "import decimal\n",
    "string = '12345'\n",
    "print(decimal.Decimal(string))\n",
    "print(type(decimal.Decimal(string)))"
   ]
  },
  {
   "cell_type": "markdown",
   "id": "c1f948bb-e2e4-44a8-a1da-5deeffbc55c2",
   "metadata": {},
   "source": [
    "3.Reversing of string using an Extended Slicing Technique"
   ]
  },
  {
   "cell_type": "code",
   "execution_count": 5,
   "id": "ae119186-08f7-4a6a-bc7a-07198d0886f1",
   "metadata": {},
   "outputs": [
    {
     "name": "stdout",
     "output_type": "stream",
     "text": [
      "gnimmargorP nohtyP\n"
     ]
    }
   ],
   "source": [
    "#Reversing of string using an Extended Slicing Technique\n",
    "string = \"Python Programming\"\n",
    "print(string[::-1])"
   ]
  },
  {
   "cell_type": "markdown",
   "id": "a9d5914c-3e61-43fa-a125-25314f9c4733",
   "metadata": {},
   "source": [
    "4.Counting VOWELS in a given word"
   ]
  },
  {
   "cell_type": "code",
   "execution_count": 9,
   "id": "7a3760c8-38b9-4be3-9929-239500309671",
   "metadata": {},
   "outputs": [
    {
     "name": "stdout",
     "output_type": "stream",
     "text": [
      "3\n"
     ]
    }
   ],
   "source": [
    "#Counting VOWELS in a given word\n",
    "Vowel = ['a','e','i','o','u']\n",
    "word = \"programming\"\n",
    "count = 0\n",
    "for character in word:\n",
    "    if character in Vowel:\n",
    "        count+=1\n",
    "print(count)"
   ]
  },
  {
   "cell_type": "markdown",
   "id": "645ec56b-349a-4a33-8235-842e88022765",
   "metadata": {},
   "source": [
    "5.Counting CONSONENTS in a given word"
   ]
  },
  {
   "cell_type": "code",
   "execution_count": 11,
   "id": "a4bde4a3-2dc9-42a2-83b9-66bf9591f8eb",
   "metadata": {},
   "outputs": [
    {
     "name": "stdout",
     "output_type": "stream",
     "text": [
      "8\n"
     ]
    }
   ],
   "source": [
    "Vowel = ['a','e','i','o','u']\n",
    "word = \"programming\"\n",
    "count = 0\n",
    "for character in word:\n",
    "    if character not in Vowel:\n",
    "        count+=1\n",
    "print(count)"
   ]
  },
  {
   "cell_type": "code",
   "execution_count": null,
   "id": "03f16e85-7297-4173-999c-e13719ec3ba6",
   "metadata": {},
   "outputs": [],
   "source": []
  }
 ],
 "metadata": {
  "kernelspec": {
   "display_name": "Python 3 (ipykernel)",
   "language": "python",
   "name": "python3"
  },
  "language_info": {
   "codemirror_mode": {
    "name": "ipython",
    "version": 3
   },
   "file_extension": ".py",
   "mimetype": "text/x-python",
   "name": "python",
   "nbconvert_exporter": "python",
   "pygments_lexer": "ipython3",
   "version": "3.12.4"
  }
 },
 "nbformat": 4,
 "nbformat_minor": 5
}
