{
  "nbformat": 4,
  "nbformat_minor": 0,
  "metadata": {
    "colab": {
      "provenance": [],
      "authorship_tag": "ABX9TyOMIgYEijLz+bDIDNPY0QzD",
      "include_colab_link": true
    },
    "kernelspec": {
      "name": "python3",
      "display_name": "Python 3"
    },
    "language_info": {
      "name": "python"
    }
  },
  "cells": [
    {
      "cell_type": "markdown",
      "metadata": {
        "id": "view-in-github",
        "colab_type": "text"
      },
      "source": [
        "<a href=\"https://colab.research.google.com/github/shrybhrdwj/TheCodeStreak/blob/main/Map_Function.ipynb\" target=\"_parent\"><img src=\"https://colab.research.google.com/assets/colab-badge.svg\" alt=\"Open In Colab\"/></a>"
      ]
    },
    {
      "cell_type": "markdown",
      "source": [
        "## **The map() Function in Python**\n",
        "The map() function applies a given function to all items in an input list (or any other iterable) and returns a map object (an iterator). This is particularly useful for transforming data in a list comprehensively."
      ],
      "metadata": {
        "id": "rYb9XspQjzn8"
      }
    },
    {
      "cell_type": "code",
      "execution_count": 3,
      "metadata": {
        "colab": {
          "base_uri": "https://localhost:8080/"
        },
        "id": "XcRlK88jcDtY",
        "outputId": "e81cfcdf-b16a-4121-cd30-66e784d3e5ef"
      },
      "outputs": [
        {
          "output_type": "execute_result",
          "data": {
            "text/plain": [
              "[1, 4, 9, 16, 25, 36, 49, 64, 81]"
            ]
          },
          "metadata": {},
          "execution_count": 3
        }
      ],
      "source": [
        "def square(num):\n",
        "  return num*num\n",
        "\n",
        "numbers=[1,2,3,4,5,6,7,8,9]\n",
        "list(map(square,numbers))"
      ]
    },
    {
      "cell_type": "code",
      "source": [
        "# Lambda function with map\n",
        "\n",
        "numbers=[1,2,3,4,5,6,7,8,9]\n",
        "list(map(lambda x:x*x,numbers))"
      ],
      "metadata": {
        "colab": {
          "base_uri": "https://localhost:8080/"
        },
        "id": "kCCXRG89kxR9",
        "outputId": "2783b5ca-c879-4cf1-c377-f5a8c110e673"
      },
      "execution_count": 4,
      "outputs": [
        {
          "output_type": "execute_result",
          "data": {
            "text/plain": [
              "[1, 4, 9, 16, 25, 36, 49, 64, 81]"
            ]
          },
          "metadata": {},
          "execution_count": 4
        }
      ]
    },
    {
      "cell_type": "code",
      "source": [
        "# Addition of two list by map()\n",
        "\n",
        "numbers1=[1,2,3]\n",
        "numbers2=[7,8,9]\n",
        "\n",
        "addition=list(map(lambda a,b:a+b,numbers1,numbers2))\n",
        "print(addition)"
      ],
      "metadata": {
        "colab": {
          "base_uri": "https://localhost:8080/"
        },
        "id": "2vgecqBzlEOf",
        "outputId": "728e3054-11d4-4738-e141-4802962b35aa"
      },
      "execution_count": 5,
      "outputs": [
        {
          "output_type": "stream",
          "name": "stdout",
          "text": [
            "[8, 10, 12]\n"
          ]
        }
      ]
    },
    {
      "cell_type": "code",
      "source": [
        "# map() to convert a list of strings to integers\n",
        "# use map to convert strings to integers\n",
        "\n",
        "str_numbers=['1','2','3','4','5','6']\n",
        "int_numbers=list(map(int,str_numbers))\n",
        "\n",
        "print(int_numbers)"
      ],
      "metadata": {
        "colab": {
          "base_uri": "https://localhost:8080/"
        },
        "id": "duDS7Kcqlool",
        "outputId": "d6b88179-d96c-43be-d8d7-a6a79a2e45e6"
      },
      "execution_count": 6,
      "outputs": [
        {
          "output_type": "stream",
          "name": "stdout",
          "text": [
            "[1, 2, 3, 4, 5, 6]\n"
          ]
        }
      ]
    },
    {
      "cell_type": "code",
      "source": [
        "# upper to change small to capital letters\n",
        "\n",
        "words=['apple','papaya','watermelon']\n",
        "upper_word=list(map(str.upper,words))\n",
        "\n",
        "print(upper_word)"
      ],
      "metadata": {
        "colab": {
          "base_uri": "https://localhost:8080/"
        },
        "id": "m4bbLim2nBNw",
        "outputId": "473041d0-dcbc-4f14-832a-77f527ab52be"
      },
      "execution_count": 7,
      "outputs": [
        {
          "output_type": "stream",
          "name": "stdout",
          "text": [
            "['APPLE', 'PAPAYA', 'WATERMELON']\n"
          ]
        }
      ]
    },
    {
      "cell_type": "code",
      "source": [
        "def get_name(person):\n",
        "  return person['name']\n",
        "\n",
        "people=[\n",
        "    {'name':'Shreya','age':21},\n",
        "    {'name':'Swapnil','age':18}\n",
        "]\n",
        "\n",
        "list(map(get_name,people))"
      ],
      "metadata": {
        "colab": {
          "base_uri": "https://localhost:8080/"
        },
        "id": "7w1L1098nYnT",
        "outputId": "fb08d79b-71a4-46f0-dd9a-d568913d9714"
      },
      "execution_count": 9,
      "outputs": [
        {
          "output_type": "execute_result",
          "data": {
            "text/plain": [
              "['Shreya', 'Swapnil']"
            ]
          },
          "metadata": {},
          "execution_count": 9
        }
      ]
    },
    {
      "cell_type": "markdown",
      "source": [
        "#### Conclusion\n",
        "The map() function is a powerful tool for applying transformations to iterable data structures. It can be used with regular functions, lambda functions, and even multiple iterables, providing a versatile approach to data processing in Python. By understanding and utilizing map(), you can write more efficient and readable code."
      ],
      "metadata": {
        "id": "gSMykDmwoN96"
      }
    }
  ]
}