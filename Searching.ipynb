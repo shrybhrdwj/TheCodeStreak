{
  "nbformat": 4,
  "nbformat_minor": 0,
  "metadata": {
    "colab": {
      "provenance": [],
      "authorship_tag": "ABX9TyORL7KgtypnA/qDRbtHz8nA",
      "include_colab_link": true
    },
    "kernelspec": {
      "name": "python3",
      "display_name": "Python 3"
    },
    "language_info": {
      "name": "python"
    }
  },
  "cells": [
    {
      "cell_type": "markdown",
      "metadata": {
        "id": "view-in-github",
        "colab_type": "text"
      },
      "source": [
        "<a href=\"https://colab.research.google.com/github/shrybhrdwj/TheCodeStreak/blob/main/Searching.ipynb\" target=\"_parent\"><img src=\"https://colab.research.google.com/assets/colab-badge.svg\" alt=\"Open In Colab\"/></a>"
      ]
    },
    {
      "cell_type": "markdown",
      "source": [
        "## **1. Searching**"
      ],
      "metadata": {
        "id": "Ia9fXuxDVUUM"
      }
    },
    {
      "cell_type": "code",
      "execution_count": 4,
      "metadata": {
        "colab": {
          "base_uri": "https://localhost:8080/"
        },
        "id": "_Tnjs8rI1g8K",
        "outputId": "79fee33b-cc12-414e-8ce4-471762a11f1b"
      },
      "outputs": [
        {
          "output_type": "stream",
          "name": "stdout",
          "text": [
            "Enter the Array elements: 23 56 78 90 24\n",
            "Enter to be searched: 90\n",
            "Element is found at index 3\n"
          ]
        }
      ],
      "source": [
        "# Linear Search\n",
        "\n",
        "def linear_search(arr,target):\n",
        "  for i in range(len(arr)):\n",
        "    if arr[i] == target:\n",
        "      return i\n",
        "  return -1\n",
        "  pass\n",
        "\n",
        "arr = list(map(int, input(\"Enter the Array elements: \").split()))\n",
        "target = int(input(\"Enter to be searched: \"))\n",
        "\n",
        "result = linear_search(arr,target)\n",
        "\n",
        "if result != -1:\n",
        "  print(f\"Element is found at index {result}\")\n",
        "else:\n",
        "  print(f\"Element is not in the array\")"
      ]
    },
    {
      "cell_type": "code",
      "source": [
        "# Binary Search\n",
        "\n",
        "def binary_search(arr,target):\n",
        "  low = 0\n",
        "  high = len(arr) - 1\n",
        "\n",
        "  while low <= high:\n",
        "    mid = (low + high) // 2\n",
        "\n",
        "    if arr[mid] == target:\n",
        "      return mid\n",
        "    if arr[mid] < target:\n",
        "      low = mid+1\n",
        "    else:\n",
        "      high = mid - 1\n",
        "  return -1\n",
        "  pass\n",
        "\n",
        "arr = list(map(int, input(\"Enter the Array elements: \").split()))\n",
        "target = int(input(\"Enter to be searched: \"))\n",
        "\n",
        "result = linear_search(arr,target)\n",
        "\n",
        "if result != -1:\n",
        "  print(f\"Element is found at index {result}\")\n",
        "else:\n",
        "  print(f\"Element is not in the array\")"
      ],
      "metadata": {
        "colab": {
          "base_uri": "https://localhost:8080/"
        },
        "id": "LtSbsuShqyhh",
        "outputId": "c539684c-c2b7-45d8-d400-69c739b541d7"
      },
      "execution_count": 5,
      "outputs": [
        {
          "output_type": "stream",
          "name": "stdout",
          "text": [
            "Enter the Array elements: 23 56 78 90 24 34 5 8 9 25 89 99\n",
            "Enter to be searched: 78\n",
            "Element is found at index 2\n"
          ]
        }
      ]
    }
  ]
}