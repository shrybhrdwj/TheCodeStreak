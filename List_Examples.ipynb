{
  "nbformat": 4,
  "nbformat_minor": 0,
  "metadata": {
    "colab": {
      "provenance": [],
      "collapsed_sections": [
        "QbdSwU8L1lgi",
        "8fHPQzxs45AM",
        "PkNn6YWs5mBz",
        "8rHK8J4f5UGD"
      ],
      "authorship_tag": "ABX9TyMiqtEYxn/Kam6wC8n3EUxK",
      "include_colab_link": true
    },
    "kernelspec": {
      "name": "python3",
      "display_name": "Python 3"
    },
    "language_info": {
      "name": "python"
    }
  },
  "cells": [
    {
      "cell_type": "markdown",
      "metadata": {
        "id": "view-in-github",
        "colab_type": "text"
      },
      "source": [
        "<a href=\"https://colab.research.google.com/github/shrybhrdwj/TheCodeStreak/blob/main/List_Examples.ipynb\" target=\"_parent\"><img src=\"https://colab.research.google.com/assets/colab-badge.svg\" alt=\"Open In Colab\"/></a>"
      ]
    },
    {
      "cell_type": "markdown",
      "source": [
        "## **Example 1. Manage a To Do List**"
      ],
      "metadata": {
        "id": "QbdSwU8L1lgi"
      }
    },
    {
      "cell_type": "code",
      "execution_count": 8,
      "metadata": {
        "colab": {
          "base_uri": "https://localhost:8080/"
        },
        "id": "JfPdBkjJ1drk",
        "outputId": "933cfc6d-5d00-47bd-e66f-3d84a3321dbd"
      },
      "outputs": [
        {
          "output_type": "stream",
          "name": "stdout",
          "text": [
            "['Buy Groceries', 'Clean the house', 'Pay bills']\n",
            "\n",
            "Don't forget to pay the utility bills\n",
            "\n",
            "To Do List remaining\n",
            "* Buy Groceries\n",
            "* Pay bills\n",
            "* Schedule meeting\n",
            "* Go for a Run\n"
          ]
        }
      ],
      "source": [
        "to_do_list = ['Buy Groceries','Clean the house', 'Pay bills']\n",
        "print(to_do_list)\n",
        "\n",
        "# Adding task\n",
        "to_do_list.append('Schedule meeting')\n",
        "to_do_list.append('Go for a Run')\n",
        "\n",
        "#Removing Completed Task\n",
        "to_do_list.remove('Clean the house')\n",
        "\n",
        "# Checking if a task is in the list\n",
        "if 'Pay bills' in to_do_list:\n",
        "  print(\"\\nDon't forget to pay the utility bills\")\n",
        "\n",
        "print('\\nTo Do List remaining')\n",
        "for task in to_do_list:\n",
        "  print(f\"* {task}\")"
      ]
    },
    {
      "cell_type": "markdown",
      "source": [
        "## **Example 2: Organizing Student Grades**"
      ],
      "metadata": {
        "id": "8fHPQzxs45AM"
      }
    },
    {
      "cell_type": "code",
      "source": [
        "grades = [85,92,78,90,88]\n",
        "\n",
        "# Add a new grade\n",
        "grades.append(94)\n",
        "\n",
        "# Calculate the average grade\n",
        "average_grade = sum(grades)/len(grades)\n",
        "print(f\"Average Grade: {average_grade:.2f}\")\n",
        "\n",
        "# Finding the highest and lowest grades\n",
        "highest_grade = max(grades)\n",
        "lowest_grade = min(grades)\n",
        "\n",
        "print(f\"Highest Grade: {highest_grade}\")\n",
        "print(f\"Lowest Grade: {lowest_grade}\")"
      ],
      "metadata": {
        "colab": {
          "base_uri": "https://localhost:8080/"
        },
        "id": "3gE2DFOQ7a5v",
        "outputId": "4cd7740f-a605-462d-9477-7d390ebdb6ed"
      },
      "execution_count": 10,
      "outputs": [
        {
          "output_type": "stream",
          "name": "stdout",
          "text": [
            "Average Grade: 87.83\n",
            "Highest Grade: 94\n",
            "Lowest Grade: 78\n"
          ]
        }
      ]
    },
    {
      "cell_type": "code",
      "source": [
        "students = {\n",
        "    'Ram':{'Physics':80,'Maths':65,'English':94},\n",
        "    'Shyam':{'Physics':90,'Maths':76,'English':65},\n",
        "    'Shreya':{'Physics':88,'Maths':99,'English':56}\n",
        "}\n",
        "\n",
        "topper_name = ''\n",
        "topper_percentage = 0\n",
        "\n",
        "for name,subjects in students.items():\n",
        "  total_marks = sum(subjects.values())\n",
        "  num_subjects = len(subjects)\n",
        "  percentage = total_marks / (num_subjects)\n",
        "\n",
        "  # Assign Grades\n",
        "  if percentage>=90:\n",
        "    grade = 'A'\n",
        "  elif percentage>=80:\n",
        "    grade = 'B'\n",
        "  else:\n",
        "    grade = 'C'\n",
        "\n",
        "\n",
        "  print(f\"{name} - Total Marks: {total_marks}, Percentage: {percentage:.2f}%, Grade: {grade}\")\n",
        "\n",
        "  # Track Topper\n",
        "\n",
        "  if percentage>topper_percentage:\n",
        "    topper_percentage = percentage\n",
        "    topper_name = name\n",
        "\n",
        "print(f\"\\n{topper_name} is topper with {topper_percentage}%\")"
      ],
      "metadata": {
        "colab": {
          "base_uri": "https://localhost:8080/"
        },
        "id": "_yVfDIdTANgQ",
        "outputId": "3eb38dde-e653-455f-cc15-94de5f14ceee"
      },
      "execution_count": 22,
      "outputs": [
        {
          "output_type": "stream",
          "name": "stdout",
          "text": [
            "Ram - Total Marks: 239, Percentage: 79.67%, Grade: C\n",
            "Shyam - Total Marks: 231, Percentage: 77.00%, Grade: C\n",
            "Shreya - Total Marks: 243, Percentage: 81.00%, Grade: B\n",
            "\n",
            "Shreya is topper with 81.0%\n"
          ]
        }
      ]
    },
    {
      "cell_type": "code",
      "source": [
        "def get_grade(percentage):\n",
        "    if percentage >= 90:\n",
        "        return 'A'\n",
        "    elif percentage >= 80:\n",
        "        return 'B'\n",
        "    else:\n",
        "        return 'C'\n",
        "\n",
        "\n",
        "# Function to track topper\n",
        "def track_topper(current_topper, name, percentage):\n",
        "    if percentage > current_topper['percentage']:\n",
        "        return {'name': name, 'percentage': percentage}\n",
        "    return current_topper"
      ],
      "metadata": {
        "id": "U-12L521KjXv"
      },
      "execution_count": 18,
      "outputs": []
    },
    {
      "cell_type": "code",
      "source": [
        "students = {\n",
        "    'Ram':{'Physics':80,'Maths':65,'English':94},\n",
        "    'Shyam':{'Physics':90,'Maths':76,'English':65},\n",
        "    'Shreya':{'Physics':88,'Maths':99,'English':56}\n",
        "}\n",
        "\n",
        "topper = {'name':'','percentage':0}\n",
        "print(\"Student Report:\\n\")\n",
        "\n",
        "for name,subjects in students.items():\n",
        "  total_marks = sum(subjects.values())\n",
        "  num_subjects = len(subjects)\n",
        "  percentage = total_marks / (num_subjects)\n",
        "\n",
        "  grade=get_grade(percentage)\n",
        "  topper = track_topper(topper,name,percentage)\n",
        "\n",
        "  print(f\"{name} - Total Marks: {total_marks}, Percentage: {percentage:.2f}%, Grade: {grade}\")\n",
        "\n",
        "print(f\"\\n{topper_name} is topper with {topper_percentage}%\")"
      ],
      "metadata": {
        "colab": {
          "base_uri": "https://localhost:8080/"
        },
        "id": "gJSM8mo7ND6G",
        "outputId": "e84d40d3-b8bd-406d-ea30-f5738aaba184"
      },
      "execution_count": 21,
      "outputs": [
        {
          "output_type": "stream",
          "name": "stdout",
          "text": [
            "Student Report:\n",
            "\n",
            "Ram - Total Marks: 239, Percentage: 79.67%, Grade: C\n",
            "Shyam - Total Marks: 231, Percentage: 77.00%, Grade: C\n",
            "Shreya - Total Marks: 243, Percentage: 81.00%, Grade: B\n",
            "\n",
            "Shreya is topper with 81.0%\n"
          ]
        }
      ]
    },
    {
      "cell_type": "code",
      "source": [
        "# Table Header\n",
        "print(f\"{'Name':<10} {'Physics':<8} {'Maths':<7} {'English':<8} {'Total':<6} {'Percentage':<8} {'Grade':<6}\")\n",
        "print(\"-\" * 60)\n",
        "\n",
        "for name, subjects in students.items():\n",
        "    physics = subjects['Physics']\n",
        "    maths = subjects['Maths']\n",
        "    english = subjects['English']\n",
        "\n",
        "    total_marks = physics + maths + english\n",
        "    percentage = total_marks / len(subjects)\n",
        "\n",
        "    grade = get_grade(percentage)\n",
        "\n",
        "    # Print each student row\n",
        "    print(f\"{name:<10} {physics:<8} {maths:<7} {english:<8} {total_marks:<6} {percentage:<8.2f} {grade:<6}\")\n",
        "\n",
        "    # Track topper\n",
        "    if percentage > topper_percentage:\n",
        "        topper_percentage = percentage\n",
        "        topper_name = name\n",
        "\n",
        "print(\"-\" * 60)\n",
        "print(f\"Topper: {topper_name} with {topper_percentage:.2f}%\")\n"
      ],
      "metadata": {
        "colab": {
          "base_uri": "https://localhost:8080/"
        },
        "id": "o4gCjcGXI4cV",
        "outputId": "96b8a0c3-8fed-412b-bf39-1c926259c903"
      },
      "execution_count": 27,
      "outputs": [
        {
          "output_type": "stream",
          "name": "stdout",
          "text": [
            "Name       Physics  Maths   English  Total  Percentage Grade \n",
            "------------------------------------------------------------\n",
            "Ram        80       65      94       239    79.67    C     \n",
            "Shyam      90       76      65       231    77.00    C     \n",
            "Shreya     88       99      56       243    81.00    B     \n",
            "------------------------------------------------------------\n",
            "Topper: Shreya with 81.00%\n"
          ]
        }
      ]
    },
    {
      "cell_type": "code",
      "source": [
        "# Step 1: Prepare list with all calculated data\n",
        "results = []\n",
        "\n",
        "for name, subjects in students.items():\n",
        "    physics = subjects['Physics']\n",
        "    maths = subjects['Maths']\n",
        "    english = subjects['English']\n",
        "\n",
        "    total = sum(subjects.values())\n",
        "    percentage = total / len(subjects)\n",
        "\n",
        "    grade = get_grade(percentage)\n",
        "\n",
        "    results.append({\n",
        "        'name': name,\n",
        "        'physics': physics,\n",
        "        'maths': maths,\n",
        "        'english': english,\n",
        "        'total': total,\n",
        "        'percentage': percentage,\n",
        "        'grade': grade\n",
        "    })\n",
        "\n",
        "# Step 2: Sort students by percentage descending for ranking\n",
        "results.sort(key=lambda x: x['percentage'], reverse=True)\n",
        "\n",
        "# Step 3: Assign rank\n",
        "for idx, student in enumerate(results, start=1):\n",
        "    student['rank'] = idx\n",
        "\n",
        "# Step 4: Print Table Header\n",
        "print(f\"{'Rank':<5} {'Name':<10} {'Physics':<8} {'Maths':<7} {'English':<8} {'Total':<6} {'%':<8} {'Grade':<6}\")\n",
        "print(\"-\" * 75)\n",
        "\n",
        "# Step 5: Print each student row\n",
        "for student in results:\n",
        "    print(f\"{student['rank']:<5} {student['name']:<10} {student['physics']:<8} {student['maths']:<7} \"\n",
        "          f\"{student['english']:<8} {student['total']:<6} {student['percentage']:<8.2f} {student['grade']:<6}\")\n",
        "\n",
        "# Step 6: Print topper separately\n",
        "topper = results[0]\n",
        "print(\"-\" * 75)\n",
        "print(f\"Topper: {topper['name']} with {topper['percentage']:.2f}% (Rank {topper['rank']})\")\n"
      ],
      "metadata": {
        "colab": {
          "base_uri": "https://localhost:8080/"
        },
        "id": "kysnLEzKJvaL",
        "outputId": "a66c4193-551b-46a1-80ba-05cb410e5f3f"
      },
      "execution_count": 28,
      "outputs": [
        {
          "output_type": "stream",
          "name": "stdout",
          "text": [
            "Rank  Name       Physics  Maths   English  Total  %        Grade \n",
            "---------------------------------------------------------------------------\n",
            "1     Shreya     88       99      56       243    81.00    B     \n",
            "2     Ram        80       65      94       239    79.67    C     \n",
            "3     Shyam      90       76      65       231    77.00    C     \n",
            "---------------------------------------------------------------------------\n",
            "Topper: Shreya with 81.00% (Rank 1)\n"
          ]
        }
      ]
    },
    {
      "cell_type": "markdown",
      "source": [
        "## **Example 3: Managing An Inventory**"
      ],
      "metadata": {
        "id": "PkNn6YWs5mBz"
      }
    },
    {
      "cell_type": "code",
      "source": [
        "# Managing an inventory\n",
        "inventory = ['Apples','Bananas','Oranges','Grapes']\n",
        "\n",
        "# Adding a new item\n",
        "inventory.append('Kiwi')\n",
        "\n",
        "# Removing an item that is out of stock\n",
        "inventory.remove('Bananas')\n",
        "\n",
        "# Checking if an item is in stock\n",
        "item = 'Oranges'\n",
        "if item in inventory:\n",
        "  print(f\"{item} are in stock.\")\n",
        "else:\n",
        "  print(f\"{item} are out of stock.\")\n",
        "\n",
        "# Printing the inventory\n",
        "print(\"Inventory List:\")\n",
        "for item in inventory:\n",
        "  print(f\"- {item}\")"
      ],
      "metadata": {
        "colab": {
          "base_uri": "https://localhost:8080/"
        },
        "id": "7l0jZ7-V9PHw",
        "outputId": "1de51579-cc8e-461e-cc3d-7ed9b659d106"
      },
      "execution_count": 29,
      "outputs": [
        {
          "output_type": "stream",
          "name": "stdout",
          "text": [
            "Oranges are in stock.\n",
            "Inventory List:\n",
            "- Apples\n",
            "- Oranges\n",
            "- Grapes\n",
            "- Kiwi\n"
          ]
        }
      ]
    },
    {
      "cell_type": "markdown",
      "source": [
        "## **Example 4: Collecting User Feedback**"
      ],
      "metadata": {
        "id": "8rHK8J4f5UGD"
      }
    },
    {
      "cell_type": "code",
      "source": [
        "# Collecting user feedback\n",
        "feedback = ['Great Service!','Very satisfied','Could be better','Excellent experience']\n",
        "\n",
        "# Adding new feedback\n",
        "feedback.append('Not happy with the service')\n",
        "\n",
        "# Counting specific feedback\n",
        "positive_feebback_count = sum(1 for comment in feedback if 'good' in comment.lower() or 'excellent' in comment.lower())\n",
        "print(f\"Positive Feedback Count: {positive_feebback_count}\")\n",
        "\n",
        "# Printing all feebback\n",
        "print(\"\\nUser Feedback:\")\n",
        "for comment in feedback:\n",
        "  print(f\"- {comment}\")"
      ],
      "metadata": {
        "colab": {
          "base_uri": "https://localhost:8080/"
        },
        "id": "Im4r9sfQ5iSb",
        "outputId": "193eda76-a36d-41cf-d62c-88389f286a05"
      },
      "execution_count": 33,
      "outputs": [
        {
          "output_type": "stream",
          "name": "stdout",
          "text": [
            "Positive Feedback Count: 1\n",
            "\n",
            "User Feedback:\n",
            "- Great Service!\n",
            "- Very satisfied\n",
            "- Could be better\n",
            "- Excellent experience\n",
            "- Not happy with the service\n"
          ]
        }
      ]
    }
  ]
}