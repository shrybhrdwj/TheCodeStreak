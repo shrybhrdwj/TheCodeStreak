{
  "nbformat": 4,
  "nbformat_minor": 0,
  "metadata": {
    "colab": {
      "provenance": [],
      "authorship_tag": "ABX9TyMWAglPzHurQAl6GBeK3svT",
      "include_colab_link": true
    },
    "kernelspec": {
      "name": "python3",
      "display_name": "Python 3"
    },
    "language_info": {
      "name": "python"
    }
  },
  "cells": [
    {
      "cell_type": "markdown",
      "metadata": {
        "id": "view-in-github",
        "colab_type": "text"
      },
      "source": [
        "<a href=\"https://colab.research.google.com/github/shrybhrdwj/TheCodeStreak/blob/main/Tuple_Methods.ipynb\" target=\"_parent\"><img src=\"https://colab.research.google.com/assets/colab-badge.svg\" alt=\"Open In Colab\"/></a>"
      ]
    },
    {
      "cell_type": "markdown",
      "source": [
        "1. Python Tuple Count():"
      ],
      "metadata": {
        "id": "x_tVJKco-gMv"
      }
    },
    {
      "cell_type": "code",
      "source": [
        "#Tuple of vowels\n",
        "vowels = ('a','e','i','o','i','u')\n",
        "count = vowels.count('i')\n",
        "print(count)\n",
        "#Tuple of numbers\n",
        "numbers = (1,3,4,1,6,1)\n",
        "count = numbers.count(1)\n",
        "print('The count of 1 is =',count)\n",
        "count = numbers.count(7)\n",
        "print('The count of 7 is =',count)"
      ],
      "metadata": {
        "colab": {
          "base_uri": "https://localhost:8080/"
        },
        "id": "pKcjMkqf-XJH",
        "outputId": "1a3186b1-b189-4bd6-87a0-c74e9f90703a"
      },
      "execution_count": 3,
      "outputs": [
        {
          "output_type": "stream",
          "name": "stdout",
          "text": [
            "2\n",
            "The count of 1 is = 3\n",
            "The count of 7 is = 0\n"
          ]
        }
      ]
    },
    {
      "cell_type": "code",
      "source": [
        "#Count() to count List and tuple elements inside tuple\n",
        "random = ('a',('a','b'),('a','b'),[3,4])\n",
        "count = random.count(('a','b'))\n",
        "print(\"The count of ('a','b') is =\",count)\n",
        "count = random.count([3,4])\n",
        "print('The count of [3,4] is =',count)"
      ],
      "metadata": {
        "colab": {
          "base_uri": "https://localhost:8080/"
        },
        "id": "jRznpUUf-W7m",
        "outputId": "cc7d712a-e61e-4e6f-9518-18a82e2ba98d"
      },
      "execution_count": 11,
      "outputs": [
        {
          "output_type": "stream",
          "name": "stdout",
          "text": [
            "The count of ('a','b') is = 2\n",
            "The count of [3,4] is = 1\n"
          ]
        }
      ]
    },
    {
      "cell_type": "markdown",
      "source": [
        "2. Python Tuple index():"
      ],
      "metadata": {
        "id": "7GrBkck0BqSq"
      }
    },
    {
      "cell_type": "code",
      "source": [
        "#Tuple containing vowels\n",
        "vowels = ('a','e','i','o','i','u')\n",
        "index = vowels.index('e')\n",
        "print(index)\n",
        "index = vowels.index('i')\n",
        "print(index)"
      ],
      "metadata": {
        "colab": {
          "base_uri": "https://localhost:8080/"
        },
        "id": "IUSnzoFK-WwW",
        "outputId": "eeb35627-8153-44de-f584-5a19775f753a"
      },
      "execution_count": 6,
      "outputs": [
        {
          "output_type": "stream",
          "name": "stdout",
          "text": [
            "1\n",
            "2\n"
          ]
        }
      ]
    },
    {
      "cell_type": "code",
      "source": [
        "#index() throws an error if the specified element is absent in the tuple\n",
        "number = (0,2,4,6,8,10)\n",
        "index = number.index(3)\n",
        "print('Index of 3 is:',index)"
      ],
      "metadata": {
        "colab": {
          "base_uri": "https://localhost:8080/",
          "height": 193
        },
        "id": "UhgkD44m-WcO",
        "outputId": "44587e1b-156a-4596-c45e-41eae2888c72"
      },
      "execution_count": 7,
      "outputs": [
        {
          "output_type": "error",
          "ename": "ValueError",
          "evalue": "tuple.index(x): x not in tuple",
          "traceback": [
            "\u001b[0;31m---------------------------------------------------------------------------\u001b[0m",
            "\u001b[0;31mValueError\u001b[0m                                Traceback (most recent call last)",
            "\u001b[0;32m/tmp/ipython-input-7-4138378434.py\u001b[0m in \u001b[0;36m<cell line: 0>\u001b[0;34m()\u001b[0m\n\u001b[1;32m      1\u001b[0m \u001b[0;31m#index() throws an error if the specified element is absent in the tuple\u001b[0m\u001b[0;34m\u001b[0m\u001b[0;34m\u001b[0m\u001b[0m\n\u001b[1;32m      2\u001b[0m \u001b[0mnumber\u001b[0m \u001b[0;34m=\u001b[0m \u001b[0;34m(\u001b[0m\u001b[0;36m0\u001b[0m\u001b[0;34m,\u001b[0m\u001b[0;36m2\u001b[0m\u001b[0;34m,\u001b[0m\u001b[0;36m4\u001b[0m\u001b[0;34m,\u001b[0m\u001b[0;36m6\u001b[0m\u001b[0;34m,\u001b[0m\u001b[0;36m8\u001b[0m\u001b[0;34m,\u001b[0m\u001b[0;36m10\u001b[0m\u001b[0;34m)\u001b[0m\u001b[0;34m\u001b[0m\u001b[0;34m\u001b[0m\u001b[0m\n\u001b[0;32m----> 3\u001b[0;31m \u001b[0mindex\u001b[0m \u001b[0;34m=\u001b[0m \u001b[0mnumber\u001b[0m\u001b[0;34m.\u001b[0m\u001b[0mindex\u001b[0m\u001b[0;34m(\u001b[0m\u001b[0;36m3\u001b[0m\u001b[0;34m)\u001b[0m\u001b[0;34m\u001b[0m\u001b[0;34m\u001b[0m\u001b[0m\n\u001b[0m\u001b[1;32m      4\u001b[0m \u001b[0mprint\u001b[0m\u001b[0;34m(\u001b[0m\u001b[0;34m'Index of 3 is:'\u001b[0m\u001b[0;34m,\u001b[0m\u001b[0mindex\u001b[0m\u001b[0;34m)\u001b[0m\u001b[0;34m\u001b[0m\u001b[0;34m\u001b[0m\u001b[0m\n",
            "\u001b[0;31mValueError\u001b[0m: tuple.index(x): x not in tuple"
          ]
        }
      ]
    },
    {
      "cell_type": "code",
      "execution_count": 8,
      "metadata": {
        "colab": {
          "base_uri": "https://localhost:8080/"
        },
        "id": "Yc3FrvIz-MgQ",
        "outputId": "d96cdf41-c555-4002-82ea-e040715ce2f1"
      },
      "outputs": [
        {
          "output_type": "stream",
          "name": "stdout",
          "text": [
            "Index of i in alphabets= 2\n",
            "Index of i in alphabets from 4 to 7 = 6\n"
          ]
        }
      ],
      "source": [
        "#index() with start and end parameters\n",
        "alphabets = ('a','e','i','o','g','l','i','u')\n",
        "index = alphabets.index('i')\n",
        "print('Index of i in alphabets=',index)\n",
        "index = alphabets.index('i',4,7)\n",
        "print('Index of i in alphabets from 4 to 7 =',index)"
      ]
    }
  ]
}