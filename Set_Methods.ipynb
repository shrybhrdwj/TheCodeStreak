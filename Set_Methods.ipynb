{
  "nbformat": 4,
  "nbformat_minor": 0,
  "metadata": {
    "colab": {
      "provenance": [],
      "authorship_tag": "ABX9TyMHL7i3kXiXUsAWE+DELiWZ",
      "include_colab_link": true
    },
    "kernelspec": {
      "name": "python3",
      "display_name": "Python 3"
    },
    "language_info": {
      "name": "python"
    }
  },
  "cells": [
    {
      "cell_type": "markdown",
      "metadata": {
        "id": "view-in-github",
        "colab_type": "text"
      },
      "source": [
        "<a href=\"https://colab.research.google.com/github/shrybhrdwj/TheCodeStreak/blob/main/Set_Methods.ipynb\" target=\"_parent\"><img src=\"https://colab.research.google.com/assets/colab-badge.svg\" alt=\"Open In Colab\"/></a>"
      ]
    },
    {
      "cell_type": "markdown",
      "source": [
        "# **Set methods**\n",
        "\n",
        "1. **add():**\tAdds an element to the set\n",
        "2. **clear():**\tRemoves all elements from the set\n",
        "3. **copy**():\tReturns a copy of the set\n",
        "4. **difference**():\tReturns the difference of two or more sets as a new set\n",
        "5. **difference_update():**\tRemoves all elements of another set from this set\n",
        "6. **discard():**\tRemoves an element from the set if it is a member. (Do nothing if the element is not in set)\n",
        "7. **intersection():**\tReturns the intersection of two sets as a new set\n",
        "8. **intersection_update():**\tUpdates the set with the intersection of itself and another\n",
        "9. **isdisjoint():**\tReturns True if two sets have a null intersection\n",
        "10. **issubset():**\tReturns True if another set contains this set\n",
        "11. **issuperset():**\tReturns True if this set contains another set\n",
        "12. **pop():**\tRemoves and returns an arbitrary set element. Raises KeyError if the set is empty\n",
        "13. **remove():**\tRemoves an element from the set. If the element is not a member, raises a KeyError\n",
        "14. **symmetric_difference():**\tReturns the symmetric difference of two sets as a new set\n",
        "15. **symmetric_difference_update():**\tUpdates a set with the symmetric difference of itself and another\n",
        "16. **union():**\tReturns the union of sets in a new set\n",
        "17. **update():**\tUpdates the set with the union of itself and others\n",
        "\n",
        "\n",
        "\n",
        "\n",
        "\n",
        "\n",
        "\n"
      ],
      "metadata": {
        "id": "s2F874UEkQGr"
      }
    },
    {
      "cell_type": "markdown",
      "source": [
        "### **frozenset()**\n",
        "\n",
        "* Frozen set is just an immutable version of a Python set object. While elements of a set can be modified at any time, elements of the frozen set remain the same after creation.\n",
        "\n",
        "* Due to this, frozen sets can be used as keys in Dictionary or as elements of another set. But like sets, it is not ordered (the elements can be set at any index).\n",
        "\n",
        "* The syntax of frozenset() function is:\n",
        "\n",
        "            frozenset([iterable])"
      ],
      "metadata": {
        "id": "VNPLMu51Y6Qk"
      }
    },
    {
      "cell_type": "code",
      "source": [
        "# tuple of vowels\n",
        "vowels = ('a', 'e', 'i', 'o', 'u')\n",
        "\n",
        "fSet = frozenset(vowels)\n",
        "print('The frozen set is:', fSet)\n",
        "print('The empty frozen set is:', frozenset())\n",
        "\n",
        "# frozensets are immutable\n",
        "fSet.add('v')"
      ],
      "metadata": {
        "colab": {
          "base_uri": "https://localhost:8080/",
          "height": 211
        },
        "id": "Rz0EBdObZAz4",
        "outputId": "d4c24534-d235-486a-c9fc-b8d3922fbccb"
      },
      "execution_count": 1,
      "outputs": [
        {
          "output_type": "stream",
          "name": "stdout",
          "text": [
            "The frozen set is: frozenset({'o', 'e', 'i', 'a', 'u'})\n",
            "The empty frozen set is: frozenset()\n"
          ]
        },
        {
          "output_type": "error",
          "ename": "AttributeError",
          "evalue": "'frozenset' object has no attribute 'add'",
          "traceback": [
            "\u001b[0;31m---------------------------------------------------------------------------\u001b[0m",
            "\u001b[0;31mAttributeError\u001b[0m                            Traceback (most recent call last)",
            "\u001b[0;32m/tmp/ipython-input-1-4169465826.py\u001b[0m in \u001b[0;36m<cell line: 0>\u001b[0;34m()\u001b[0m\n\u001b[1;32m      7\u001b[0m \u001b[0;34m\u001b[0m\u001b[0m\n\u001b[1;32m      8\u001b[0m \u001b[0;31m# frozensets are immutable\u001b[0m\u001b[0;34m\u001b[0m\u001b[0;34m\u001b[0m\u001b[0m\n\u001b[0;32m----> 9\u001b[0;31m \u001b[0mfSet\u001b[0m\u001b[0;34m.\u001b[0m\u001b[0madd\u001b[0m\u001b[0;34m(\u001b[0m\u001b[0;34m'v'\u001b[0m\u001b[0;34m)\u001b[0m\u001b[0;34m\u001b[0m\u001b[0;34m\u001b[0m\u001b[0m\n\u001b[0m",
            "\u001b[0;31mAttributeError\u001b[0m: 'frozenset' object has no attribute 'add'"
          ]
        }
      ]
    },
    {
      "cell_type": "code",
      "source": [
        "# random dictionary\n",
        "person = {\"name\": \"John\", \"age\": 23, \"sex\": \"male\"}\n",
        "\n",
        "fSet = frozenset(person)\n",
        "print('The frozen set is:', fSet)"
      ],
      "metadata": {
        "colab": {
          "base_uri": "https://localhost:8080/"
        },
        "id": "vqPOmsVdazJa",
        "outputId": "f5d80a86-6ac8-49f3-9c76-fbfe1556e314"
      },
      "execution_count": 2,
      "outputs": [
        {
          "output_type": "stream",
          "name": "stdout",
          "text": [
            "The frozen set is: frozenset({'sex', 'name', 'age'})\n"
          ]
        }
      ]
    },
    {
      "cell_type": "code",
      "source": [
        "# Frozensets\n",
        "# initialize A and B\n",
        "A = frozenset([1, 2, 3, 4])\n",
        "B = frozenset([3, 4, 5, 6])\n",
        "\n",
        "# copying a frozenset\n",
        "C = A.copy()\n",
        "print(C)\n",
        "\n",
        "# union\n",
        "print(A.union(B))\n",
        "\n",
        "# intersection\n",
        "print(A.intersection(B))\n",
        "\n",
        "# difference\n",
        "print(A.difference(B))\n",
        "\n",
        "# symmetric_difference\n",
        "print(A.symmetric_difference(B))"
      ],
      "metadata": {
        "colab": {
          "base_uri": "https://localhost:8080/"
        },
        "id": "Aaf5hEwVbiuc",
        "outputId": "9244e519-19fe-400e-c285-562e0aa9f166"
      },
      "execution_count": 3,
      "outputs": [
        {
          "output_type": "stream",
          "name": "stdout",
          "text": [
            "frozenset({1, 2, 3, 4})\n",
            "frozenset({1, 2, 3, 4, 5, 6})\n",
            "frozenset({3, 4})\n",
            "frozenset({1, 2})\n",
            "frozenset({1, 2, 5, 6})\n"
          ]
        }
      ]
    },
    {
      "cell_type": "code",
      "source": [
        "# Frozensets\n",
        "# initialize A, B and C\n",
        "A = frozenset([1, 2, 3, 4])\n",
        "B = frozenset([3, 4, 5, 6])\n",
        "C = frozenset([5, 6])\n",
        "\n",
        "# isdisjoint() method\n",
        "print(A.isdisjoint(C))\n",
        "\n",
        "# issubset() method\n",
        "print(C.issubset(B))\n",
        "\n",
        "# issuperset() method\n",
        "print(B.issuperset(C))"
      ],
      "metadata": {
        "colab": {
          "base_uri": "https://localhost:8080/"
        },
        "id": "x85470MhcBA-",
        "outputId": "9c62aec5-9dbe-4723-8417-850247fcc2d6"
      },
      "execution_count": 4,
      "outputs": [
        {
          "output_type": "stream",
          "name": "stdout",
          "text": [
            "True\n",
            "True\n",
            "True\n"
          ]
        }
      ]
    },
    {
      "cell_type": "markdown",
      "source": [
        "### **1. add() method**"
      ],
      "metadata": {
        "id": "dX2WSxYKXCSF"
      }
    },
    {
      "cell_type": "code",
      "source": [
        "numbers = {1, 2, 3, 4}\n",
        "new_numbers = numbers\n",
        "\n",
        "print('numbers: ', numbers)\n",
        "\n",
        "# add 5 to the copied set\n",
        "new_numbers.add(5)\n",
        "\n",
        "print('new_numbers: ', new_numbers)"
      ],
      "metadata": {
        "colab": {
          "base_uri": "https://localhost:8080/"
        },
        "id": "2_qm7DDdVS0z",
        "outputId": "a0be7462-c1d9-455d-fa50-74e4b868de26"
      },
      "execution_count": 5,
      "outputs": [
        {
          "output_type": "stream",
          "name": "stdout",
          "text": [
            "numbers:  {1, 2, 3, 4}\n",
            "new_numbers:  {1, 2, 3, 4, 5}\n"
          ]
        }
      ]
    },
    {
      "cell_type": "code",
      "source": [
        "# set of vowels\n",
        "vowels = {'a', 'e', 'u'}\n",
        "\n",
        "# a tuple ('i', 'o')\n",
        "tup = ('i', 'o')\n",
        "\n",
        "# adding tuple\n",
        "vowels.add(tup)\n",
        "print('Vowels are:', vowels)\n",
        "\n",
        "# adding same tuple again\n",
        "vowels.add(tup)\n",
        "print('Vowels are:', vowels)"
      ],
      "metadata": {
        "colab": {
          "base_uri": "https://localhost:8080/"
        },
        "id": "jVPdKUK0XNyW",
        "outputId": "06bc7516-9348-42ba-e39e-363dc09a7312"
      },
      "execution_count": 94,
      "outputs": [
        {
          "output_type": "stream",
          "name": "stdout",
          "text": [
            "Vowels are: {'u', 'a', 'e', ('i', 'o')}\n",
            "Vowels are: {'u', 'a', 'e', ('i', 'o')}\n"
          ]
        }
      ]
    },
    {
      "cell_type": "markdown",
      "source": [
        "### **2. clear() method**"
      ],
      "metadata": {
        "id": "5rgv6rjFWm82"
      }
    },
    {
      "cell_type": "code",
      "source": [
        "# set of vowels\n",
        "vowels = {'a', 'e', 'i', 'o', 'u'}\n",
        "print('Vowels (before clear):', vowels)\n",
        "\n",
        "# clear vowels\n",
        "vowels.clear()\n",
        "\n",
        "print('Vowels (after clear):', vowels)"
      ],
      "metadata": {
        "colab": {
          "base_uri": "https://localhost:8080/"
        },
        "id": "0IInrOgyW3LI",
        "outputId": "f886a799-fb9e-48ff-c3b6-0eaf9c298e76"
      },
      "execution_count": 95,
      "outputs": [
        {
          "output_type": "stream",
          "name": "stdout",
          "text": [
            "Vowels (before clear): {'e', 'o', 'i', 'a', 'u'}\n",
            "Vowels (after clear): set()\n"
          ]
        }
      ]
    },
    {
      "cell_type": "code",
      "source": [
        "# set of strings\n",
        "names = {'John', 'Mary', 'Charlie'}\n",
        "print('Strings (before clear):', names)\n",
        "\n",
        "# clear strings\n",
        "names.clear()\n",
        "print('Strings (after clear):', names)"
      ],
      "metadata": {
        "colab": {
          "base_uri": "https://localhost:8080/"
        },
        "id": "3ZE89N2bWtuA",
        "outputId": "0cba2852-c384-4237-8bb9-1d823c6c35e8"
      },
      "execution_count": 96,
      "outputs": [
        {
          "output_type": "stream",
          "name": "stdout",
          "text": [
            "Strings (before clear): {'Mary', 'John', 'Charlie'}\n",
            "Strings (after clear): set()\n"
          ]
        }
      ]
    },
    {
      "cell_type": "markdown",
      "source": [
        "### **3. copy() method**"
      ],
      "metadata": {
        "id": "crUm5bInVTRK"
      }
    },
    {
      "cell_type": "code",
      "source": [
        "names = {\"John\", \"Charlie\", \"Marie\"}\n",
        "\n",
        "# items of names are copied to new_names\n",
        "new_names = names.copy()\n",
        "\n",
        "print('Original Names: ', names)\n",
        "print('Copied Names: ', new_names)"
      ],
      "metadata": {
        "colab": {
          "base_uri": "https://localhost:8080/"
        },
        "id": "hdoLD3cSVr95",
        "outputId": "78ecfd38-a757-422a-8edf-b86267523f46"
      },
      "execution_count": 97,
      "outputs": [
        {
          "output_type": "stream",
          "name": "stdout",
          "text": [
            "Original Names:  {'Marie', 'John', 'Charlie'}\n",
            "Copied Names:  {'Marie', 'John', 'Charlie'}\n"
          ]
        }
      ]
    },
    {
      "cell_type": "code",
      "source": [
        "# Copy Set using = operator\n",
        "\n",
        "names = {\"John\", \"Charlie\", \"Marie\"}\n",
        "\n",
        "# copy set using = operator\n",
        "new_names = names\n",
        "\n",
        "print('Original Names: ', names)\n",
        "print('Copied Names: ', new_names)"
      ],
      "metadata": {
        "colab": {
          "base_uri": "https://localhost:8080/"
        },
        "id": "ENj7UMI6VmxR",
        "outputId": "18c74efe-809e-47a0-b774-94eac0ead1bf"
      },
      "execution_count": 98,
      "outputs": [
        {
          "output_type": "stream",
          "name": "stdout",
          "text": [
            "Original Names:  {'Marie', 'John', 'Charlie'}\n",
            "Copied Names:  {'Marie', 'John', 'Charlie'}\n"
          ]
        }
      ]
    },
    {
      "cell_type": "markdown",
      "source": [
        "###  **4. difference() method**"
      ],
      "metadata": {
        "id": "LfHIzOCjTe2o"
      }
    },
    {
      "cell_type": "code",
      "source": [
        "# 4. difference() method\n",
        "\n",
        "A={1,2,3,4,5}\n",
        "B={2,4,6,8}\n",
        "\n",
        "# difference using difference()\n",
        "print(f\"Difference of A and B: {A.difference(B)}\")"
      ],
      "metadata": {
        "colab": {
          "base_uri": "https://localhost:8080/"
        },
        "id": "Dg_jrD5twEPC",
        "outputId": "2adfc6b2-baa2-4648-fe7d-66a7a7c8531b"
      },
      "execution_count": 99,
      "outputs": [
        {
          "output_type": "stream",
          "name": "stdout",
          "text": [
            "Difference of A and B: {1, 3, 5}\n"
          ]
        }
      ]
    },
    {
      "cell_type": "code",
      "source": [
        "A = {'a', 'b', 'c', 'd'}\n",
        "B = {'c', 'f', 'g'}\n",
        "\n",
        "# equivalent to A-B\n",
        "print(A.difference(B))\n",
        "\n",
        "# equivalent to B-A\n",
        "print(B.difference(A))"
      ],
      "metadata": {
        "colab": {
          "base_uri": "https://localhost:8080/"
        },
        "id": "1cTM7ewqUaUm",
        "outputId": "928866b2-0eea-4d1a-f6d4-e07686e3b011"
      },
      "execution_count": 100,
      "outputs": [
        {
          "output_type": "stream",
          "name": "stdout",
          "text": [
            "{'d', 'a', 'b'}\n",
            "{'g', 'f'}\n"
          ]
        }
      ]
    },
    {
      "cell_type": "markdown",
      "source": [
        "### **5. difference_update() method**"
      ],
      "metadata": {
        "id": "itpR58_FSSS1"
      }
    },
    {
      "cell_type": "code",
      "source": [
        "A = {'a', 'c', 'g', 'd'}\n",
        "B = {'c', 'f', 'g'}\n",
        "\n",
        "print('A before (A - B) =', A)\n",
        "\n",
        "A.difference_update(B)\n",
        "\n",
        "print('A after (A - B) = ', A)"
      ],
      "metadata": {
        "colab": {
          "base_uri": "https://localhost:8080/"
        },
        "id": "GW-bsIxPRPL4",
        "outputId": "c20738ac-1e26-4fb4-e8a4-c1da0c734b9e"
      },
      "execution_count": 101,
      "outputs": [
        {
          "output_type": "stream",
          "name": "stdout",
          "text": [
            "A before (A - B) = {'d', 'a', 'c', 'g'}\n",
            "A after (A - B) =  {'d', 'a'}\n"
          ]
        }
      ]
    },
    {
      "cell_type": "markdown",
      "source": [
        "### **6. discard() method**"
      ],
      "metadata": {
        "id": "iyXcAirLQ-W3"
      }
    },
    {
      "cell_type": "code",
      "source": [
        "numbers = {2, 3, 4, 5}\n",
        "\n",
        "# discards 3 from the set\n",
        "numbers.discard(3)\n",
        "\n",
        "print('Set after discard:', numbers)"
      ],
      "metadata": {
        "colab": {
          "base_uri": "https://localhost:8080/"
        },
        "id": "luW-LSUnRLpj",
        "outputId": "d0812754-b2df-4d93-d7f7-1719d983ce71"
      },
      "execution_count": 102,
      "outputs": [
        {
          "output_type": "stream",
          "name": "stdout",
          "text": [
            "Set after discard: {2, 4, 5}\n"
          ]
        }
      ]
    },
    {
      "cell_type": "code",
      "source": [
        "#Python Set discard with a non-existent item()\n",
        "\n",
        "numbers = {2, 3, 5, 4}\n",
        "print('Set before discard:', numbers)\n",
        "\n",
        "# discard the item that doesn't exist in set\n",
        "numbers.discard(10)\n",
        "\n",
        "print('Set after discard:', numbers)"
      ],
      "metadata": {
        "colab": {
          "base_uri": "https://localhost:8080/"
        },
        "id": "oHwKy4MeREKp",
        "outputId": "b8a769ec-359a-4ad5-81b6-4d240b38936d"
      },
      "execution_count": 103,
      "outputs": [
        {
          "output_type": "stream",
          "name": "stdout",
          "text": [
            "Set before discard: {2, 3, 4, 5}\n",
            "Set after discard: {2, 3, 4, 5}\n"
          ]
        }
      ]
    },
    {
      "cell_type": "markdown",
      "source": [
        "### **7. intersection() method**"
      ],
      "metadata": {
        "id": "np5XuRSvNk7T"
      }
    },
    {
      "cell_type": "code",
      "source": [
        "# 7. intersection() method\n",
        "\n",
        "A={1,2,3,4,5,6}\n",
        "B={2,4,6,8}\n",
        "C={1,3,5,6,7}\n",
        "\n",
        "# intersection using intersection()\n",
        "print(f\"Intersection of A and B: {A.intersection(B)}\")\n",
        "print(f'Intersection of A, B and c: {C.intersection(A,B)}')"
      ],
      "metadata": {
        "colab": {
          "base_uri": "https://localhost:8080/"
        },
        "id": "DiuH4OYJvly_",
        "outputId": "b1d3e4ba-7297-49c1-c184-eea2ba66b10a"
      },
      "execution_count": 104,
      "outputs": [
        {
          "output_type": "stream",
          "name": "stdout",
          "text": [
            "Intersection of A and B: {2, 4, 6}\n",
            "Intersection of A, B and c: {6}\n"
          ]
        }
      ]
    },
    {
      "cell_type": "code",
      "source": [
        "A = {100, 7, 8}\n",
        "B = {200, 4, 5}\n",
        "C = {300, 2, 3}\n",
        "D = {100, 200, 300}\n",
        "\n",
        "print(A.intersection(D))\n",
        "print(B.intersection(D))\n",
        "print(C.intersection(D))\n",
        "print(A.intersection(B, C, D))"
      ],
      "metadata": {
        "colab": {
          "base_uri": "https://localhost:8080/"
        },
        "id": "6PsapTs3OfZa",
        "outputId": "da6fcac3-1400-4f3c-e6c3-e361f35f158d"
      },
      "execution_count": 105,
      "outputs": [
        {
          "output_type": "stream",
          "name": "stdout",
          "text": [
            "{100}\n",
            "{200}\n",
            "{300}\n",
            "set()\n"
          ]
        }
      ]
    },
    {
      "cell_type": "markdown",
      "source": [
        "### **8. intersection_update() method**"
      ],
      "metadata": {
        "id": "OZ6gAOuFNc1s"
      }
    },
    {
      "cell_type": "code",
      "source": [
        "A = {1, 2, 3, 4}\n",
        "B = {2, 3, 4, 5, 6}\n",
        "C = {4, 5, 6, 9, 10}\n",
        "\n",
        "# performs intersection between A, B and C and updates the result to set A\n",
        "A.intersection_update(B, C)\n",
        "\n",
        "print('A =', A)\n",
        "print('B =', B)\n",
        "print('C =', C)"
      ],
      "metadata": {
        "colab": {
          "base_uri": "https://localhost:8080/"
        },
        "id": "YKm31_eKNw5o",
        "outputId": "e79d8611-24d2-46f1-e498-cb2d2d56b282"
      },
      "execution_count": 106,
      "outputs": [
        {
          "output_type": "stream",
          "name": "stdout",
          "text": [
            "A = {4}\n",
            "B = {2, 3, 4, 5, 6}\n",
            "C = {4, 5, 6, 9, 10}\n"
          ]
        }
      ]
    },
    {
      "cell_type": "markdown",
      "source": [
        "### **9. isdisjoint() method**"
      ],
      "metadata": {
        "id": "df4oMcPUI8AQ"
      }
    },
    {
      "cell_type": "code",
      "source": [
        "A = {1, 2, 3}\n",
        "B = {4, 5, 6}\n",
        "C = {6, 7, 8}\n",
        "\n",
        "print('A and B are disjoint:', A.isdisjoint(B))\n",
        "print('B and C are disjoint:', B.isdisjoint(C))"
      ],
      "metadata": {
        "colab": {
          "base_uri": "https://localhost:8080/"
        },
        "id": "cNPBFO9tJyhk",
        "outputId": "238a7e6e-b2f7-4400-8997-21d01036e87c"
      },
      "execution_count": 107,
      "outputs": [
        {
          "output_type": "stream",
          "name": "stdout",
          "text": [
            "A and B are disjoint: True\n",
            "B and C are disjoint: False\n"
          ]
        }
      ]
    },
    {
      "cell_type": "code",
      "source": [
        "# create a set A\n",
        "A = {'a', 'e', 'i', 'o', 'u'}\n",
        "\n",
        "# create a list B\n",
        "B = ['d', 'e', 'f']\n",
        "\n",
        "# create two dictionaries C and D\n",
        "C = {1 : 'a', 2 : 'b'}\n",
        "D = {'a' : 1, 'b' : 2}\n",
        "\n",
        "# isdisjoint() with set and list\n",
        "print('A and B are disjoint:', A.isdisjoint(B))\n",
        "\n",
        "# isdisjoint() with set and dictionaries\n",
        "print('A and C are disjoint:', A.isdisjoint(C))\n",
        "print('A and D are disjoint:', A.isdisjoint(D))"
      ],
      "metadata": {
        "colab": {
          "base_uri": "https://localhost:8080/"
        },
        "id": "QoM6c-0kJGaW",
        "outputId": "1023b664-faaf-447b-8736-99b150732b93"
      },
      "execution_count": 108,
      "outputs": [
        {
          "output_type": "stream",
          "name": "stdout",
          "text": [
            "A and B are disjoint: False\n",
            "A and C are disjoint: True\n",
            "A and D are disjoint: False\n"
          ]
        }
      ]
    },
    {
      "cell_type": "markdown",
      "source": [
        "### **10. issubset() method**"
      ],
      "metadata": {
        "id": "Yguqx9S-HPFi"
      }
    },
    {
      "cell_type": "code",
      "source": [
        "A = {1, 2, 3}\n",
        "B = {1, 2, 3, 4, 5}\n",
        "\n",
        "# all items of A are present in B\n",
        "print(A.issubset(B))"
      ],
      "metadata": {
        "colab": {
          "base_uri": "https://localhost:8080/"
        },
        "id": "4l9SH1ZjHjt3",
        "outputId": "a8e6e5fc-d2fd-4fe1-bb25-8956f88c1744"
      },
      "execution_count": 109,
      "outputs": [
        {
          "output_type": "stream",
          "name": "stdout",
          "text": [
            "True\n"
          ]
        }
      ]
    },
    {
      "cell_type": "code",
      "source": [
        "A = {'a', 'c', 'e'}\n",
        "B = {'a', 'b', 'c', 'd', 'e'}\n",
        "\n",
        "print('A is subset of B:', A.issubset(B))\n",
        "print('B is subset of A:', B.issubset(A))"
      ],
      "metadata": {
        "colab": {
          "base_uri": "https://localhost:8080/"
        },
        "id": "IgH4sSLRHV8B",
        "outputId": "2541d1d8-3541-4450-fe00-5e4efb0b8dac"
      },
      "execution_count": 110,
      "outputs": [
        {
          "output_type": "stream",
          "name": "stdout",
          "text": [
            "A is subset of B: True\n",
            "B is subset of A: False\n"
          ]
        }
      ]
    },
    {
      "cell_type": "markdown",
      "source": [
        "### **11. issuperset() method**"
      ],
      "metadata": {
        "id": "xgeJdM1dGuqE"
      }
    },
    {
      "cell_type": "code",
      "source": [
        "A = {1, 2, 3, 4, 5}\n",
        "B = {1, 2, 3}\n",
        "C = {1, 2, 3}\n",
        "\n",
        "\n",
        "print(A.issuperset(B))\n",
        "\n",
        "print(B.issuperset(A))\n",
        "\n",
        "print(C.issuperset(B))"
      ],
      "metadata": {
        "colab": {
          "base_uri": "https://localhost:8080/"
        },
        "id": "YaCXPzPEG4CO",
        "outputId": "132d6605-7549-4b25-f89e-1f891ba47072"
      },
      "execution_count": 111,
      "outputs": [
        {
          "output_type": "stream",
          "name": "stdout",
          "text": [
            "True\n",
            "False\n",
            "True\n"
          ]
        }
      ]
    },
    {
      "cell_type": "markdown",
      "source": [
        "### **12. pop() method**"
      ],
      "metadata": {
        "id": "pbSqlrWlE4pQ"
      }
    },
    {
      "cell_type": "code",
      "source": [
        "A = {'10', 'Ten', '100', 'Hundred'}\n",
        "\n",
        "# removes random item of set A\n",
        "print('Pop() removes:', A.pop())\n",
        "\n",
        "# updates A to new set without the popped item\n",
        "print('Updated set A:', A)"
      ],
      "metadata": {
        "colab": {
          "base_uri": "https://localhost:8080/"
        },
        "id": "ukpOV0ndFJSL",
        "outputId": "39dbc769-732a-44a7-bcfd-5940b8eabd05"
      },
      "execution_count": 112,
      "outputs": [
        {
          "output_type": "stream",
          "name": "stdout",
          "text": [
            "Pop() removes: Hundred\n",
            "Updated set A: {'100', '10', 'Ten'}\n"
          ]
        }
      ]
    },
    {
      "cell_type": "code",
      "source": [
        "# empty set\n",
        "A ={}\n",
        "\n",
        "# throws an error\n",
        "print(A.pop())"
      ],
      "metadata": {
        "colab": {
          "base_uri": "https://localhost:8080/",
          "height": 176
        },
        "id": "FDEzvp5EFALL",
        "outputId": "5ee31883-bdbc-49dc-d863-a13bb5e715e7"
      },
      "execution_count": 113,
      "outputs": [
        {
          "output_type": "error",
          "ename": "TypeError",
          "evalue": "pop expected at least 1 argument, got 0",
          "traceback": [
            "\u001b[0;31m---------------------------------------------------------------------------\u001b[0m",
            "\u001b[0;31mTypeError\u001b[0m                                 Traceback (most recent call last)",
            "\u001b[0;32m/tmp/ipython-input-113-2291429634.py\u001b[0m in \u001b[0;36m<cell line: 0>\u001b[0;34m()\u001b[0m\n\u001b[1;32m      3\u001b[0m \u001b[0;34m\u001b[0m\u001b[0m\n\u001b[1;32m      4\u001b[0m \u001b[0;31m# throws an error\u001b[0m\u001b[0;34m\u001b[0m\u001b[0;34m\u001b[0m\u001b[0m\n\u001b[0;32m----> 5\u001b[0;31m \u001b[0mprint\u001b[0m\u001b[0;34m(\u001b[0m\u001b[0mA\u001b[0m\u001b[0;34m.\u001b[0m\u001b[0mpop\u001b[0m\u001b[0;34m(\u001b[0m\u001b[0;34m)\u001b[0m\u001b[0;34m)\u001b[0m\u001b[0;34m\u001b[0m\u001b[0;34m\u001b[0m\u001b[0m\n\u001b[0m",
            "\u001b[0;31mTypeError\u001b[0m: pop expected at least 1 argument, got 0"
          ]
        }
      ]
    },
    {
      "cell_type": "markdown",
      "source": [
        "### **13. remove() method**"
      ],
      "metadata": {
        "id": "ztnWJPqzDxfs"
      }
    },
    {
      "cell_type": "code",
      "source": [
        "# language set\n",
        "language = {'English', 'French', 'German'}\n",
        "\n",
        "# removing 'German' from language\n",
        "language.remove('German')\n",
        "\n",
        "# Updated language set\n",
        "print('Updated language set:', language)"
      ],
      "metadata": {
        "colab": {
          "base_uri": "https://localhost:8080/"
        },
        "id": "9apM0ObtESqa",
        "outputId": "8600ee70-c15a-49b1-c140-27feb9465027"
      },
      "execution_count": 6,
      "outputs": [
        {
          "output_type": "stream",
          "name": "stdout",
          "text": [
            "Updated language set: {'English', 'French'}\n"
          ]
        }
      ]
    },
    {
      "cell_type": "code",
      "source": [
        "# animal set\n",
        "animal = {'cat', 'dog', 'rabbit', 'guinea pig'}\n",
        "\n",
        "# Deleting 'fish' element\n",
        "animal.remove('fish')\n",
        "\n",
        "# Updated animal\n",
        "print('Updated animal set:', animal)"
      ],
      "metadata": {
        "colab": {
          "base_uri": "https://localhost:8080/",
          "height": 211
        },
        "id": "T67CQsrGC4jk",
        "outputId": "f3d60f28-c937-4f07-c5ac-f4eb88f1cd3c"
      },
      "execution_count": 7,
      "outputs": [
        {
          "output_type": "error",
          "ename": "KeyError",
          "evalue": "'fish'",
          "traceback": [
            "\u001b[0;31m---------------------------------------------------------------------------\u001b[0m",
            "\u001b[0;31mKeyError\u001b[0m                                  Traceback (most recent call last)",
            "\u001b[0;32m/tmp/ipython-input-7-2201341729.py\u001b[0m in \u001b[0;36m<cell line: 0>\u001b[0;34m()\u001b[0m\n\u001b[1;32m      3\u001b[0m \u001b[0;34m\u001b[0m\u001b[0m\n\u001b[1;32m      4\u001b[0m \u001b[0;31m# Deleting 'fish' element\u001b[0m\u001b[0;34m\u001b[0m\u001b[0;34m\u001b[0m\u001b[0m\n\u001b[0;32m----> 5\u001b[0;31m \u001b[0manimal\u001b[0m\u001b[0;34m.\u001b[0m\u001b[0mremove\u001b[0m\u001b[0;34m(\u001b[0m\u001b[0;34m'fish'\u001b[0m\u001b[0;34m)\u001b[0m\u001b[0;34m\u001b[0m\u001b[0;34m\u001b[0m\u001b[0m\n\u001b[0m\u001b[1;32m      6\u001b[0m \u001b[0;34m\u001b[0m\u001b[0m\n\u001b[1;32m      7\u001b[0m \u001b[0;31m# Updated animal\u001b[0m\u001b[0;34m\u001b[0m\u001b[0;34m\u001b[0m\u001b[0m\n",
            "\u001b[0;31mKeyError\u001b[0m: 'fish'"
          ]
        }
      ]
    },
    {
      "cell_type": "markdown",
      "source": [
        "### **14. symmetric_difference() method**"
      ],
      "metadata": {
        "id": "X34quZguCw7M"
      }
    },
    {
      "cell_type": "code",
      "source": [
        "# 14. symmetric_difference() method\n",
        "\n",
        "A={1,2,3,4,5}\n",
        "B={2,4,6,8}\n",
        "\n",
        "# symmetric difference using symmetric_difference()\n",
        "print(f\"Symmetric Difference of A and B: {A.symmetric_difference(B)}\")"
      ],
      "metadata": {
        "colab": {
          "base_uri": "https://localhost:8080/"
        },
        "id": "ZujjDA4C3Nw2",
        "outputId": "0d276278-7e8b-4cbe-cf5e-ecf584ad058d"
      },
      "execution_count": 8,
      "outputs": [
        {
          "output_type": "stream",
          "name": "stdout",
          "text": [
            "Symmetric Difference of A and B: {1, 3, 5, 6, 8}\n"
          ]
        }
      ]
    },
    {
      "cell_type": "code",
      "source": [
        "# create two sets A and B\n",
        "A = {'Python', 'Java', 'Go'}\n",
        "B = {'Python', 'JavaScript', 'C' }\n",
        "\n",
        "print('Original Set A:', A)\n",
        "\n",
        "# symmetric difference using symmetric_difference()\n",
        "print(f'Updated Set A: {A.symmetric_difference(B)}')\n",
        "print(A)"
      ],
      "metadata": {
        "colab": {
          "base_uri": "https://localhost:8080/"
        },
        "id": "qOLHIkkbA3pU",
        "outputId": "1a4c2bab-ad45-4d18-fb0e-65a717d2310e"
      },
      "execution_count": 9,
      "outputs": [
        {
          "output_type": "stream",
          "name": "stdout",
          "text": [
            "Original Set A: {'Go', 'Python', 'Java'}\n",
            "Updated Set A: {'C', 'Go', 'JavaScript', 'Java'}\n",
            "{'Go', 'Python', 'Java'}\n"
          ]
        }
      ]
    },
    {
      "cell_type": "markdown",
      "source": [
        "### **15. symmetric_difference_update() method**"
      ],
      "metadata": {
        "id": "qB3WWA6o-z2t"
      }
    },
    {
      "cell_type": "code",
      "source": [
        "A={1,2,3,4,5}\n",
        "B={2,4,6,8}\n",
        "\n",
        "print(f'Original Set A: {A}')\n",
        "\n",
        "# updates A with the symmetric difference of A and B\n",
        "A.symmetric_difference_update(B)\n",
        "\n",
        "print(f\"Updated Set A: {A}\")"
      ],
      "metadata": {
        "colab": {
          "base_uri": "https://localhost:8080/"
        },
        "id": "jhN1y_gUBbrl",
        "outputId": "98c3ef83-1ed2-45e7-c50a-546c7d0aa3ff"
      },
      "execution_count": 10,
      "outputs": [
        {
          "output_type": "stream",
          "name": "stdout",
          "text": [
            "Original Set A: {1, 2, 3, 4, 5}\n",
            "Updated Set A: {1, 3, 5, 6, 8}\n"
          ]
        }
      ]
    },
    {
      "cell_type": "code",
      "source": [
        "# create two sets A and B\n",
        "A = {'Python', 'Java', 'Go'}\n",
        "B = {'Python', 'JavaScript', 'C' }\n",
        "\n",
        "print('Original Set A:', A)\n",
        "\n",
        "# updates A with the symmetric difference of A and B\n",
        "A.symmetric_difference_update(B)\n",
        "\n",
        "print(f'Updated Set A: {A}')"
      ],
      "metadata": {
        "colab": {
          "base_uri": "https://localhost:8080/"
        },
        "id": "902U5Jul_bHE",
        "outputId": "9797e04d-b190-4793-ae66-70cc0a3db704"
      },
      "execution_count": 11,
      "outputs": [
        {
          "output_type": "stream",
          "name": "stdout",
          "text": [
            "Original Set A: {'Go', 'Python', 'Java'}\n",
            "Updated Set A: {'C', 'Go', 'JavaScript', 'Java'}\n"
          ]
        }
      ]
    },
    {
      "cell_type": "markdown",
      "source": [
        "### **16. union() method**"
      ],
      "metadata": {
        "id": "nTrMqmi59VNo"
      }
    },
    {
      "cell_type": "code",
      "source": [
        "# 16. Union() method\n",
        "\n",
        "A={2,4,6,8}\n",
        "B={3,4,7,9}\n",
        "\n",
        "#union using union()\n",
        "print(f\"Union of A and B: {A.union(B)}\")"
      ],
      "metadata": {
        "colab": {
          "base_uri": "https://localhost:8080/"
        },
        "id": "BVHMxfvKvBm4",
        "outputId": "65fdd423-6b8d-4a20-b2dc-fd51501abb42"
      },
      "execution_count": 12,
      "outputs": [
        {
          "output_type": "stream",
          "name": "stdout",
          "text": [
            "Union of A and B: {2, 3, 4, 6, 7, 8, 9}\n"
          ]
        }
      ]
    },
    {
      "cell_type": "code",
      "source": [
        "A = {'a', 'c', 'd'}\n",
        "B = {'c', 'd', 2 }\n",
        "C = {1, 2, 3}\n",
        "\n",
        "print('A U B =', A.union(B))\n",
        "print('B U C =', B.union(C))\n",
        "print('A U B U C =', A.union(B, C))\n",
        "\n",
        "print('A.union() =', A.union())"
      ],
      "metadata": {
        "colab": {
          "base_uri": "https://localhost:8080/"
        },
        "id": "LmwXnl4B9xnu",
        "outputId": "981e6ecd-d3e3-4cca-a74b-c380f76ed452"
      },
      "execution_count": 13,
      "outputs": [
        {
          "output_type": "stream",
          "name": "stdout",
          "text": [
            "A U B = {'d', 2, 'a', 'c'}\n",
            "B U C = {1, 2, 'd', 3, 'c'}\n",
            "A U B U C = {1, 'd', 2, 3, 'a', 'c'}\n",
            "A.union() = {'c', 'a', 'd'}\n"
          ]
        }
      ]
    },
    {
      "cell_type": "markdown",
      "source": [
        "### **17. update() Method**"
      ],
      "metadata": {
        "id": "ICNb5N8L5pYw"
      }
    },
    {
      "cell_type": "code",
      "source": [
        "A={1,2,3,4}\n",
        "B={5,6,7}\n",
        "C={9}\n",
        "\n",
        "print(f\"Original A: {A}\")\n",
        "\n",
        "#adds items of B and C to A\n",
        "A.update(B,C)\n",
        "\n",
        "print(f\"A after update(): {A}\")"
      ],
      "metadata": {
        "colab": {
          "base_uri": "https://localhost:8080/"
        },
        "id": "xZ7eHnc-6Ele",
        "outputId": "c1236cf5-2a5d-4aff-c250-fc357f1cdd31"
      },
      "execution_count": 14,
      "outputs": [
        {
          "output_type": "stream",
          "name": "stdout",
          "text": [
            "Original A: {1, 2, 3, 4}\n",
            "A after update(): {1, 2, 3, 4, 5, 6, 7, 9}\n"
          ]
        }
      ]
    },
    {
      "cell_type": "code",
      "source": [
        "#string\n",
        "alphabet='odd'\n",
        "\n",
        "#sets\n",
        "number1={1,3,5,7}\n",
        "number2={6,2}\n",
        "\n",
        "#dictionary\n",
        "key_value={'key':8, 'lock':9}\n",
        "\n",
        "#add string elements to the sets\n",
        "number1.update(alphabet)\n",
        "#add dictionary to the sets\n",
        "number2.update(key_value)\n",
        "\n",
        "print(f\"Set and strings: {number1}\")\n",
        "print(f'Set and dictionary: {number2}')"
      ],
      "metadata": {
        "colab": {
          "base_uri": "https://localhost:8080/"
        },
        "id": "5ujvtEWy7tku",
        "outputId": "f964fa43-2159-4c92-a31b-b01f785057a7"
      },
      "execution_count": 15,
      "outputs": [
        {
          "output_type": "stream",
          "name": "stdout",
          "text": [
            "Set and strings: {'o', 1, 'd', 3, 5, 7}\n",
            "Set and dictionary: {'key', 2, 'lock', 6}\n"
          ]
        }
      ]
    }
  ]
}