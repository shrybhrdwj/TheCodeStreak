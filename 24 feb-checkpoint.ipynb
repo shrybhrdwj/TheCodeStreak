{
 "cells": [
  {
   "cell_type": "markdown",
   "id": "6a68afe2-27e7-44f4-927d-c5d51cce5de1",
   "metadata": {},
   "source": [
    "6.Counting the number of occurances of a character in a string"
   ]
  },
  {
   "cell_type": "code",
   "execution_count": 1,
   "id": "2ec45286-1150-44d2-8f10-81bb6f07354e",
   "metadata": {},
   "outputs": [
    {
     "name": "stdout",
     "output_type": "stream",
     "text": [
      "2\n"
     ]
    }
   ],
   "source": [
    "word = \"programming\"\n",
    "character = 'r'\n",
    "count = 0\n",
    "for i in word:\n",
    "    if i ==character:\n",
    "        count+=1\n",
    "print(count)"
   ]
  },
  {
   "cell_type": "markdown",
   "id": "7d2d2528-1b19-4e41-be0e-72e527978fac",
   "metadata": {},
   "source": [
    "7.Writing FIBONACCI Series"
   ]
  },
  {
   "cell_type": "code",
   "execution_count": 5,
   "id": "e4e08700-59df-4513-bcb1-79cfb8f573d9",
   "metadata": {},
   "outputs": [
    {
     "name": "stdout",
     "output_type": "stream",
     "text": [
      "0,1,1,2,3,5,8\n"
     ]
    }
   ],
   "source": [
    "fib = [0,1]\n",
    "# Range start from 0 by default\n",
    "n=5\n",
    "for i in range(n):\n",
    "    fib.append(fib[-1] + fib[-2])\n",
    "\n",
    "#Converting the list of integers to string\n",
    "print(','.join(str(e) for e in fib))"
   ]
  },
  {
   "cell_type": "markdown",
   "id": "68a5960c-4b5a-4281-be3c-1239b89f5d9b",
   "metadata": {},
   "source": [
    "8.Finding the maximum number in a list"
   ]
  },
  {
   "cell_type": "code",
   "execution_count": 7,
   "id": "28e93618-3e6b-4ddf-95ec-55e1b664633b",
   "metadata": {},
   "outputs": [
    {
     "name": "stdout",
     "output_type": "stream",
     "text": [
      "564\n"
     ]
    }
   ],
   "source": [
    "numberList = [12,3,55,67,564,90,34,78]\n",
    "max = numberList[0]\n",
    "for num in numberList:\n",
    "    if max < num:\n",
    "        max = num\n",
    "print(max)"
   ]
  },
  {
   "cell_type": "markdown",
   "id": "6504918e-456a-4c08-a7fd-278974161954",
   "metadata": {},
   "source": [
    "9.Finding the minimum number in a list"
   ]
  },
  {
   "cell_type": "code",
   "execution_count": 9,
   "id": "861d7390-cd79-4b68-a901-de5f6bd3ee56",
   "metadata": {},
   "outputs": [
    {
     "name": "stdout",
     "output_type": "stream",
     "text": [
      "3\n"
     ]
    }
   ],
   "source": [
    "numberList = [12,3,55,67,564,90,34,78]\n",
    "min = numberList[0]\n",
    "for num in numberList:\n",
    "    if min > num:\n",
    "        min = num\n",
    "print(min)"
   ]
  },
  {
   "cell_type": "markdown",
   "id": "5e79a129-3db9-4204-94e2-bf14731bf48b",
   "metadata": {},
   "source": [
    "10.Finding the middle Element in a list"
   ]
  },
  {
   "cell_type": "code",
   "execution_count": 15,
   "id": "d3c4bfe1-708d-4ff1-bd86-d0f71cf48496",
   "metadata": {},
   "outputs": [
    {
     "name": "stdout",
     "output_type": "stream",
     "text": [
      "90\n"
     ]
    }
   ],
   "source": [
    "numberList = [12,3,55,67,564,90,34,78,89,51,65]\n",
    "midElement = int((len(numberList)/2))\n",
    "print(numberList[midElement])"
   ]
  }
 ],
 "metadata": {
  "kernelspec": {
   "display_name": "Python 3 (ipykernel)",
   "language": "python",
   "name": "python3"
  },
  "language_info": {
   "codemirror_mode": {
    "name": "ipython",
    "version": 3
   },
   "file_extension": ".py",
   "mimetype": "text/x-python",
   "name": "python",
   "nbconvert_exporter": "python",
   "pygments_lexer": "ipython3",
   "version": "3.12.4"
  }
 },
 "nbformat": 4,
 "nbformat_minor": 5
}
