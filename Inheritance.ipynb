{
  "nbformat": 4,
  "nbformat_minor": 0,
  "metadata": {
    "colab": {
      "provenance": [],
      "authorship_tag": "ABX9TyPosB5rGQRRzVzkHdiVeRP+",
      "include_colab_link": true
    },
    "kernelspec": {
      "name": "python3",
      "display_name": "Python 3"
    },
    "language_info": {
      "name": "python"
    }
  },
  "cells": [
    {
      "cell_type": "markdown",
      "metadata": {
        "id": "view-in-github",
        "colab_type": "text"
      },
      "source": [
        "<a href=\"https://colab.research.google.com/github/shrybhrdwj/TheCodeStreak/blob/main/Inheritance.ipynb\" target=\"_parent\"><img src=\"https://colab.research.google.com/assets/colab-badge.svg\" alt=\"Open In Colab\"/></a>"
      ]
    },
    {
      "cell_type": "markdown",
      "source": [
        "# **Inheritance In Python**\n",
        "Inheritance is a fundamental concept in Object-Oriented Programming (OOP) that allows a class to inherit attributes and methods from another class."
      ],
      "metadata": {
        "id": "bEflR8Esox3z"
      }
    },
    {
      "cell_type": "markdown",
      "source": [
        "### **Inheritance (Single Inheritance)**"
      ],
      "metadata": {
        "id": "D_nbDoTLqvUx"
      }
    },
    {
      "cell_type": "code",
      "execution_count": 1,
      "metadata": {
        "id": "lhraJ5YUomEN"
      },
      "outputs": [],
      "source": [
        "# Parent class\n",
        "\n",
        "class Car:\n",
        "  def __init__(self,windows,doors,enginetype):\n",
        "    self.windows=windows\n",
        "    self.doors=doors\n",
        "    self.enginetype=enginetype\n",
        "\n",
        "  def drive(self):\n",
        "    print(f\"The person will drive the {self.enginetype} car\")"
      ]
    },
    {
      "cell_type": "code",
      "source": [
        "car1=Car(4,5,'Petrol')\n",
        "car1.drive()"
      ],
      "metadata": {
        "colab": {
          "base_uri": "https://localhost:8080/"
        },
        "id": "SqjPvG_XppJ4",
        "outputId": "c69d3a52-cd53-44bf-edb1-d496ef49b6b8"
      },
      "execution_count": 2,
      "outputs": [
        {
          "output_type": "stream",
          "name": "stdout",
          "text": [
            "The person will drive the Petrol car\n"
          ]
        }
      ]
    },
    {
      "cell_type": "code",
      "source": [
        "class Tesla(Car):\n",
        "  def __init__(self, windows, doors, enginetype,is_selfdriving):\n",
        "    super().__init__(windows, doors, enginetype)\n",
        "    self.is_selfdriving=is_selfdriving\n",
        "\n",
        "  def selfdriving(self):\n",
        "    print(f\"Tesla supports self driving : {self.is_selfdriving}\")"
      ],
      "metadata": {
        "id": "jI8iq9YMp1-H"
      },
      "execution_count": 3,
      "outputs": []
    },
    {
      "cell_type": "code",
      "source": [
        "tesla1=Tesla(4,5,'electric',True)\n",
        "tesla1.selfdriving()"
      ],
      "metadata": {
        "colab": {
          "base_uri": "https://localhost:8080/"
        },
        "id": "IUgppOR1qWn2",
        "outputId": "a39b8d68-339a-4313-d060-a5e603cc52d1"
      },
      "execution_count": 4,
      "outputs": [
        {
          "output_type": "stream",
          "name": "stdout",
          "text": [
            "Tesla supports self driving : True\n"
          ]
        }
      ]
    },
    {
      "cell_type": "code",
      "source": [
        "tesla1.drive()"
      ],
      "metadata": {
        "colab": {
          "base_uri": "https://localhost:8080/"
        },
        "id": "9Ah7Qt8Hqj9h",
        "outputId": "0c1f38be-42e8-4fb1-af22-12e1e40469c2"
      },
      "execution_count": 5,
      "outputs": [
        {
          "output_type": "stream",
          "name": "stdout",
          "text": [
            "The person will drive the electric car\n"
          ]
        }
      ]
    },
    {
      "cell_type": "markdown",
      "source": [
        "### **Multiple Inheritance**\n",
        "\n",
        "When a class inherits from more than one base class."
      ],
      "metadata": {
        "id": "ppyVsWtFq5zA"
      }
    },
    {
      "cell_type": "code",
      "source": [
        "# Base Class 1\n",
        "class Animal:\n",
        "  def __init__(self,name):\n",
        "    self.name=name\n",
        "    pass\n",
        "\n",
        "  def speak(self):\n",
        "    print(\"Subclass must implement this method\")\n",
        "\n",
        "# Base Class 2\n",
        "class Pet:\n",
        "  def __init__(self,owner):\n",
        "    self.owner=owner\n",
        "    pass\n",
        "\n",
        "# Derived class\n",
        "class Dog(Animal,Pet):\n",
        "  def __init__(self,name,owner):\n",
        "    Animal.__init__(self,name)\n",
        "    Pet.__init__(self,owner)\n",
        "\n",
        "  def speak(self):\n",
        "    return f\"{self.name} say woof\"\n",
        "\n",
        "# Create an object\n",
        "dog=Dog('Tiger','Summi')\n",
        "print(dog.speak())\n",
        "print(f\"Owner:{dog.owner}\")"
      ],
      "metadata": {
        "colab": {
          "base_uri": "https://localhost:8080/"
        },
        "id": "AXq83h1Kqp6e",
        "outputId": "4d3d7aa6-d978-430a-f1d9-8f15491b4824"
      },
      "execution_count": 7,
      "outputs": [
        {
          "output_type": "stream",
          "name": "stdout",
          "text": [
            "Tiger say woof\n",
            "Owner:Summi\n"
          ]
        }
      ]
    },
    {
      "cell_type": "markdown",
      "source": [
        "## **Conclusion**\n",
        "Inheritance is a powerful feature in OOP that allows for code reuse and the creation of a more logical class structure. Single inheritance involves one base class, while multiple inheritance involves more than one base class."
      ],
      "metadata": {
        "id": "636PKNLitlhS"
      }
    }
  ]
}