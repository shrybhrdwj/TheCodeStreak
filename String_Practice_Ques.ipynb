{
  "nbformat": 4,
  "nbformat_minor": 0,
  "metadata": {
    "colab": {
      "provenance": [],
      "authorship_tag": "ABX9TyMKhIqP+LODtY3UaMl3jFEM",
      "include_colab_link": true
    },
    "kernelspec": {
      "name": "python3",
      "display_name": "Python 3"
    },
    "language_info": {
      "name": "python"
    }
  },
  "cells": [
    {
      "cell_type": "markdown",
      "metadata": {
        "id": "view-in-github",
        "colab_type": "text"
      },
      "source": [
        "<a href=\"https://colab.research.google.com/github/shrybhrdwj/TheCodeStreak/blob/main/String_Practice_Ques.ipynb\" target=\"_parent\"><img src=\"https://colab.research.google.com/assets/colab-badge.svg\" alt=\"Open In Colab\"/></a>"
      ]
    },
    {
      "cell_type": "markdown",
      "source": [
        "## **1. Reverse a String**"
      ],
      "metadata": {
        "id": "s8_UHMS_wf6M"
      }
    },
    {
      "cell_type": "code",
      "execution_count": 3,
      "metadata": {
        "colab": {
          "base_uri": "https://localhost:8080/",
          "height": 36
        },
        "id": "WOEH1FI9wY7f",
        "outputId": "f0238227-4af4-45d0-afc5-f5829f5e12e6"
      },
      "outputs": [
        {
          "output_type": "execute_result",
          "data": {
            "text/plain": [
              "'uleehs'"
            ],
            "application/vnd.google.colaboratory.intrinsic+json": {
              "type": "string"
            }
          },
          "metadata": {},
          "execution_count": 3
        }
      ],
      "source": [
        "# Method 1: Using Slicing (Most Pythonic)\n",
        "\n",
        "def reverse_string(string):\n",
        "  return string[::-1].lower()\n",
        "\n",
        "string = \"Sheelu\"\n",
        "reverse_string(string)"
      ]
    },
    {
      "cell_type": "code",
      "source": [
        "# Method 2: Using reversed() + join()\n",
        "\n",
        "def string_reverse(s):\n",
        "  return ''.join(reversed(s))\n",
        "\n",
        "word = input(\"Enter word: \")\n",
        "string_reverse(word)"
      ],
      "metadata": {
        "colab": {
          "base_uri": "https://localhost:8080/",
          "height": 53
        },
        "id": "IgbmNk8kxWi3",
        "outputId": "8c969223-7298-432a-f793-468d5f614df8"
      },
      "execution_count": 4,
      "outputs": [
        {
          "name": "stdout",
          "output_type": "stream",
          "text": [
            "Enter word: milli\n"
          ]
        },
        {
          "output_type": "execute_result",
          "data": {
            "text/plain": [
              "'illim'"
            ],
            "application/vnd.google.colaboratory.intrinsic+json": {
              "type": "string"
            }
          },
          "metadata": {},
          "execution_count": 4
        }
      ]
    },
    {
      "cell_type": "code",
      "source": [
        "# Method 3: Using a Loop (Manual)\n",
        "\n",
        "def rev_string(s):\n",
        "    reversed_str = ''\n",
        "    for char in s:\n",
        "        reversed_str = char + reversed_str\n",
        "    return reversed_str\n",
        "\n",
        "print(rev_string(\"Python\"))\n",
        "print(rev_string(\"racecar\"))"
      ],
      "metadata": {
        "colab": {
          "base_uri": "https://localhost:8080/"
        },
        "id": "hbfgxkqzyPAp",
        "outputId": "3e6bb379-43af-4e18-8943-dac6df7d1e99"
      },
      "execution_count": 5,
      "outputs": [
        {
          "output_type": "stream",
          "name": "stdout",
          "text": [
            "nohtyP\n",
            "racecar\n"
          ]
        }
      ]
    },
    {
      "cell_type": "markdown",
      "source": [
        "## **2. Count Vowels in a string**"
      ],
      "metadata": {
        "id": "6ryLM9yjzE_9"
      }
    },
    {
      "cell_type": "code",
      "source": [
        "# Method 1: Using a Loop\n",
        "\n",
        "def count_vowels(s):\n",
        "  vowels = 'aeiouAEIOU'\n",
        "  count = 0\n",
        "  for ch in s:\n",
        "    if ch in vowels:\n",
        "      count+=1\n",
        "  return count\n",
        "\n",
        "word = input(\"Enter the word: \")\n",
        "print(f\"Number of vowels in {word} is {count_vowels(word)}\")"
      ],
      "metadata": {
        "colab": {
          "base_uri": "https://localhost:8080/"
        },
        "id": "ggnY7EzwzJW7",
        "outputId": "7f1b1e68-1077-44be-fe59-0d09d3bbd64e"
      },
      "execution_count": 13,
      "outputs": [
        {
          "output_type": "stream",
          "name": "stdout",
          "text": [
            "Enter the word: sheelu\n",
            "Number of vowels in sheelu is 3\n"
          ]
        }
      ]
    },
    {
      "cell_type": "code",
      "source": [
        "# Method 2: Using List Comprehension\n",
        "def count_vowel(s):\n",
        "  return len([ch for ch in s if ch.lower() in 'aeiou'])\n",
        "\n",
        "word = input(\"Enter the word: \")\n",
        "print(f\"Number of vowels in {word} is {count_vowel(word)}\")"
      ],
      "metadata": {
        "colab": {
          "base_uri": "https://localhost:8080/"
        },
        "id": "9r2Vcpxw04kZ",
        "outputId": "8dd08aa2-fc61-44a6-94df-bb5d05da9fa5"
      },
      "execution_count": 14,
      "outputs": [
        {
          "output_type": "stream",
          "name": "stdout",
          "text": [
            "Enter the word: YUVRAJ\n",
            "Number of vowels in YUVRAJ is 2\n"
          ]
        }
      ]
    },
    {
      "cell_type": "markdown",
      "source": [
        "## **3. Check for same strings**"
      ],
      "metadata": {
        "id": "k4-SuDPH3QL3"
      }
    },
    {
      "cell_type": "code",
      "source": [
        "# Method 1: Basic Equality Check\n",
        "\n",
        "def are_string_same(s1,s2):\n",
        "  return s1 == s2\n",
        "\n",
        "s1=input(\"Enter 1st string: \")\n",
        "s2=input(\"Enter 2nd string: \")\n",
        "print(f\"Is both string same: {are_string_same(s1,s2)}\")"
      ],
      "metadata": {
        "colab": {
          "base_uri": "https://localhost:8080/"
        },
        "id": "_LTSA2xv3UU5",
        "outputId": "7df645c6-7acc-4455-a0a9-62280d5dcdbb"
      },
      "execution_count": 20,
      "outputs": [
        {
          "output_type": "stream",
          "name": "stdout",
          "text": [
            "Enter 1st string: hello\n",
            "Enter 2nd string: Hello\n",
            "Is both string same: False\n"
          ]
        }
      ]
    },
    {
      "cell_type": "code",
      "source": [
        "def are_string_equal(s1,s2):\n",
        "  return s1.lower() == s2.lower()\n",
        "\n",
        "s1=input(\"Enter 1st string: \")\n",
        "s2=input(\"Enter 2nd string: \")\n",
        "print(f\"Is both string same: {are_string_equal(s1,s2)}\")"
      ],
      "metadata": {
        "colab": {
          "base_uri": "https://localhost:8080/"
        },
        "id": "B1-7b0RF4eOv",
        "outputId": "fb729cc0-3f37-447e-9b24-31196d2ad295"
      },
      "execution_count": 21,
      "outputs": [
        {
          "output_type": "stream",
          "name": "stdout",
          "text": [
            "Enter 1st string: HeLlo\n",
            "Enter 2nd string: hello\n",
            "Is both string same: True\n"
          ]
        }
      ]
    },
    {
      "cell_type": "code",
      "source": [
        "def is_string_same(s1,s2):\n",
        "  return s1.replace(' ','') == s2.replace(' ','')\n",
        "\n",
        "s1=input(\"Enter 1st string: \")\n",
        "s2=input(\"Enter 2nd string: \")\n",
        "print(f\"Is both string same: {is_string_same(s1,s2)}\")"
      ],
      "metadata": {
        "colab": {
          "base_uri": "https://localhost:8080/"
        },
        "id": "Nk6vTtmc4pjx",
        "outputId": "2cd281ab-7aa4-4697-a721-4b721117c89c"
      },
      "execution_count": 24,
      "outputs": [
        {
          "output_type": "stream",
          "name": "stdout",
          "text": [
            "Enter 1st string: car\n",
            "Enter 2nd string: c a r\n",
            "Is both string same: True\n"
          ]
        }
      ]
    },
    {
      "cell_type": "markdown",
      "source": [
        "## **4. Check Palindrome**"
      ],
      "metadata": {
        "id": "196T2FsN6qHR"
      }
    },
    {
      "cell_type": "code",
      "source": [
        "# Method 1: Simple Check (Case-sensitive)\n",
        "def is_palindrome(s):\n",
        "  return s==s[::-1]\n",
        "\n",
        "is_palindrome('Racecar')"
      ],
      "metadata": {
        "colab": {
          "base_uri": "https://localhost:8080/"
        },
        "id": "BKhbqffu6vLb",
        "outputId": "8371599b-b603-46c1-81d8-ffe316a625e0"
      },
      "execution_count": 26,
      "outputs": [
        {
          "output_type": "execute_result",
          "data": {
            "text/plain": [
              "False"
            ]
          },
          "metadata": {},
          "execution_count": 26
        }
      ]
    },
    {
      "cell_type": "code",
      "source": [
        "# Method 2: Ignore Case and Spaces\n",
        "def palindrome(s):\n",
        "  s = s.replace(' ','').lower()\n",
        "  return s==s[::-1]\n",
        "\n",
        "word = input(\"Enter word: \")\n",
        "print(f\"Is '{word}' Palindrome: {palindrome(word)}\")"
      ],
      "metadata": {
        "colab": {
          "base_uri": "https://localhost:8080/"
        },
        "id": "5lMurNP67sQD",
        "outputId": "681e94fb-9805-4080-9d79-e451208050fa"
      },
      "execution_count": 29,
      "outputs": [
        {
          "output_type": "stream",
          "name": "stdout",
          "text": [
            "Enter word: A man a plan a canal Panama\n",
            "Is 'A man a plan a canal Panama' Palindrome: True\n"
          ]
        }
      ]
    },
    {
      "cell_type": "markdown",
      "source": [
        "## **5. Count words in a string**"
      ],
      "metadata": {
        "id": "YIv2h8zc9YDL"
      }
    },
    {
      "cell_type": "code",
      "source": [
        "# Method 1: Using split()\n",
        "\n",
        "def count_word(s):\n",
        "  return len(s.split())\n",
        "\n",
        "count_word('Text')"
      ],
      "metadata": {
        "colab": {
          "base_uri": "https://localhost:8080/"
        },
        "id": "6ov4881P9bTK",
        "outputId": "2eeffef1-f24b-45b1-c0dd-4e7927d96915"
      },
      "execution_count": 30,
      "outputs": [
        {
          "output_type": "execute_result",
          "data": {
            "text/plain": [
              "1"
            ]
          },
          "metadata": {},
          "execution_count": 30
        }
      ]
    },
    {
      "cell_type": "code",
      "source": [
        "# Method 2: Manual (using loop)\n",
        "\n",
        "def count_words_in_sentence(s):\n",
        "  count = 0\n",
        "  in_word = False\n",
        "  for ch in s:\n",
        "    if ch.isspace():\n",
        "      in_word = False\n",
        "    elif not in_word:\n",
        "      count +=1\n",
        "      in_word = True\n",
        "  return count\n",
        "\n",
        "sentence = input(\"Enter word or sentence: \")\n",
        "print(f\"Number of strings in '{sentence}' is {count_words_in_sentence(sentence)}\")\n"
      ],
      "metadata": {
        "colab": {
          "base_uri": "https://localhost:8080/"
        },
        "id": "77q4eo5jAA-q",
        "outputId": "d1ebcb82-ca40-4fa9-a4fb-6ac1a5174c33"
      },
      "execution_count": 31,
      "outputs": [
        {
          "output_type": "stream",
          "name": "stdout",
          "text": [
            "Enter word or sentence: Python programming is fun.\n",
            "Number of strings in 'Python programming is fun.' is 4\n"
          ]
        }
      ]
    },
    {
      "cell_type": "markdown",
      "source": [
        "## **6. Remove Duplicates in a string**"
      ],
      "metadata": {
        "id": "7Gl9k1GUBkMn"
      }
    },
    {
      "cell_type": "code",
      "source": [
        "# Method 1: Remove Duplicates and Preserve Order\n",
        "def remove_duplicates(s):\n",
        "  result = \"\"\n",
        "  for ch in s:\n",
        "    if ch not in result:\n",
        "      result+=ch\n",
        "  return result\n",
        "\n",
        "s = input(\"Enter word: \")\n",
        "print(f\"Word without duplicates is {remove_duplicates(s)}\")"
      ],
      "metadata": {
        "colab": {
          "base_uri": "https://localhost:8080/"
        },
        "id": "fzrL0JB_Botu",
        "outputId": "adbe3406-4b7e-41e0-cac3-5448fc47ca03"
      },
      "execution_count": 32,
      "outputs": [
        {
          "output_type": "stream",
          "name": "stdout",
          "text": [
            "Enter word: programming\n",
            "Word without duplicates is progamin\n"
          ]
        }
      ]
    },
    {
      "cell_type": "code",
      "source": [
        "# Method 2: Using set() (Order Not Preserved)\n",
        "\n",
        "def remove_duplicates_unordered(s):\n",
        "  return ''.join(set(s))\n",
        "\n",
        "remove_duplicates_unordered('milli')"
      ],
      "metadata": {
        "colab": {
          "base_uri": "https://localhost:8080/",
          "height": 36
        },
        "id": "HNea71T4EBnf",
        "outputId": "5788ed72-3df2-4c0f-b9b6-5c98ae41634e"
      },
      "execution_count": 33,
      "outputs": [
        {
          "output_type": "execute_result",
          "data": {
            "text/plain": [
              "'iml'"
            ],
            "application/vnd.google.colaboratory.intrinsic+json": {
              "type": "string"
            }
          },
          "metadata": {},
          "execution_count": 33
        }
      ]
    },
    {
      "cell_type": "code",
      "source": [
        "# returnung unordered list\n",
        "\n",
        "def duplicates_unordered(s):\n",
        "  return (set(s))\n",
        "\n",
        "duplicates_unordered('milli')"
      ],
      "metadata": {
        "colab": {
          "base_uri": "https://localhost:8080/"
        },
        "id": "ccrr72j2EdiQ",
        "outputId": "c2dbd498-eafd-4bf2-eb1d-4e6eb9deee85"
      },
      "execution_count": 34,
      "outputs": [
        {
          "output_type": "execute_result",
          "data": {
            "text/plain": [
              "{'i', 'l', 'm'}"
            ]
          },
          "metadata": {},
          "execution_count": 34
        }
      ]
    },
    {
      "cell_type": "markdown",
      "source": [
        "## **7. Count consonants in a string**"
      ],
      "metadata": {
        "id": "JZ6TD29YE1ag"
      }
    },
    {
      "cell_type": "code",
      "source": [
        "# Method: Count Consonants in a String\n",
        "\n",
        "def count_consonants(s):\n",
        "  vowels = 'aeiou'\n",
        "  count = 0\n",
        "  for ch in s:\n",
        "    if ch.isalpha() and ch.lower() not in vowels:\n",
        "      count+=1\n",
        "  return count\n",
        "\n",
        "print(f\"consonent count is '{count_consonants('Python Programming')}'\")"
      ],
      "metadata": {
        "colab": {
          "base_uri": "https://localhost:8080/"
        },
        "id": "I8pyL7TaE7Z_",
        "outputId": "4aa6a4ea-b53e-4862-98a1-8e6305f4a31d"
      },
      "execution_count": 35,
      "outputs": [
        {
          "output_type": "stream",
          "name": "stdout",
          "text": [
            "consonent count is '13'\n"
          ]
        }
      ]
    },
    {
      "cell_type": "code",
      "source": [
        "# Method 2: Using List Comprehension\n",
        "\n",
        "def count_consonant(s):\n",
        "    return len([ch for ch in s if ch.isalpha() and ch.lower() not in 'aeiou'])\n",
        "\n",
        "text = \"Artificial Intelligence\"\n",
        "print(\"Consonant count:\", count_consonants(text))"
      ],
      "metadata": {
        "colab": {
          "base_uri": "https://localhost:8080/"
        },
        "id": "45gZAFbqH3Ug",
        "outputId": "235a2af1-0b03-473b-a446-50ccc7191b54"
      },
      "execution_count": 36,
      "outputs": [
        {
          "output_type": "stream",
          "name": "stdout",
          "text": [
            "Consonant count: 12\n"
          ]
        }
      ]
    },
    {
      "cell_type": "markdown",
      "source": [
        "## **8. Check for anagrams**"
      ],
      "metadata": {
        "id": "LHM3Hw-IHplR"
      }
    },
    {
      "cell_type": "code",
      "source": [
        "# Method 1: Using sorted()\n",
        "\n",
        "def check_anagram(s1,s2):\n",
        "  s1 = s1.replace(' ','').lower()\n",
        "  s2 = s2.replace(' ','').lower()\n",
        "  return sorted(s1) == sorted(s2)\n",
        "\n",
        "check_anagram('Listen','Silent')"
      ],
      "metadata": {
        "colab": {
          "base_uri": "https://localhost:8080/"
        },
        "id": "qFrIlb5fHs-Y",
        "outputId": "da6a078f-a4bb-4f96-de39-fd928dddf771"
      },
      "execution_count": 38,
      "outputs": [
        {
          "output_type": "execute_result",
          "data": {
            "text/plain": [
              "True"
            ]
          },
          "metadata": {},
          "execution_count": 38
        }
      ]
    },
    {
      "cell_type": "code",
      "source": [
        "from collections import Counter\n",
        "# Method 2: Using collections.Counter (Faster)\n",
        "\n",
        "def anagram(s1,s2):\n",
        "  return Counter(s1.replace(' ','').lower()) == Counter(s2.replace(' ','').lower())\n",
        "\n",
        "anagram('toor','Root')"
      ],
      "metadata": {
        "colab": {
          "base_uri": "https://localhost:8080/"
        },
        "id": "HQ1cvxX9Jp1T",
        "outputId": "582e44b7-ac8a-4b30-d8ec-8e484d8e4542"
      },
      "execution_count": 39,
      "outputs": [
        {
          "output_type": "execute_result",
          "data": {
            "text/plain": [
              "True"
            ]
          },
          "metadata": {},
          "execution_count": 39
        }
      ]
    },
    {
      "cell_type": "markdown",
      "source": [
        "## **9. Check Subsequence:**\n",
        "All characters of the first string appear in the second string, in the same order, but not necessarily consecutively."
      ],
      "metadata": {
        "id": "GrEa5Am5KUwO"
      }
    },
    {
      "cell_type": "code",
      "source": [
        "# Method 1: Pointer Approach\n",
        "\n",
        "def is_subsequence(s, t):\n",
        "    i, j = 0, 0\n",
        "    while i < len(s) and j < len(t):\n",
        "        if s[i] == t[j]:\n",
        "            j+= 1\n",
        "        i+= 1\n",
        "    return j == len(t)\n",
        "\n",
        "s = \"abcde\"\n",
        "t = \"ace\"\n",
        "is_subsequence(s,t)"
      ],
      "metadata": {
        "colab": {
          "base_uri": "https://localhost:8080/"
        },
        "id": "7lhT-r9cKYe4",
        "outputId": "a6cec8b2-84da-4170-a45f-8c39c64e3b24"
      },
      "execution_count": 41,
      "outputs": [
        {
          "output_type": "execute_result",
          "data": {
            "text/plain": [
              "True"
            ]
          },
          "metadata": {},
          "execution_count": 41
        }
      ]
    },
    {
      "cell_type": "markdown",
      "source": [
        "## **10. Check for substring**"
      ],
      "metadata": {
        "id": "kewvHs41M2P-"
      }
    },
    {
      "cell_type": "code",
      "source": [
        "# Method 1: Using in (Built-in & Best)\n",
        "\n",
        "def is_substring(small, large):\n",
        "    return small in large\n",
        "\n",
        "print(is_substring(\"cat\", \"education\"))\n",
        "print(is_substring(\"bat\", \"alphabet\"))"
      ],
      "metadata": {
        "colab": {
          "base_uri": "https://localhost:8080/"
        },
        "id": "A8Czci6LM_ir",
        "outputId": "00ed5c0e-05e6-499d-d1f4-bcc2cf74eee0"
      },
      "execution_count": 43,
      "outputs": [
        {
          "output_type": "stream",
          "name": "stdout",
          "text": [
            "True\n",
            "False\n"
          ]
        }
      ]
    },
    {
      "cell_type": "code",
      "source": [
        "# Method 2: Using find() ---- Most accurate\n",
        "\n",
        "def check_substring(small, large):\n",
        "    return large.find(small) != -1\n",
        "\n",
        "print(check_substring(\"Python\", \"Python Programming\"))"
      ],
      "metadata": {
        "colab": {
          "base_uri": "https://localhost:8080/"
        },
        "id": "e0w7kkg2Q9-9",
        "outputId": "e370406f-7b67-4df6-b5bd-fa865ab56f94"
      },
      "execution_count": 51,
      "outputs": [
        {
          "output_type": "stream",
          "name": "stdout",
          "text": [
            "True\n"
          ]
        }
      ]
    },
    {
      "cell_type": "code",
      "source": [
        "# Method 3: Case-insensitive Substring Check\n",
        "\n",
        "def substring(small, large):\n",
        "    return small.lower() in large.lower()\n",
        "\n",
        "print(substring(\"hello\", \"Hello world\"))"
      ],
      "metadata": {
        "colab": {
          "base_uri": "https://localhost:8080/"
        },
        "id": "KmMcxlphRIYO",
        "outputId": "c66df4bf-6e5d-4bf8-bed3-8c2c2e43aa2f"
      },
      "execution_count": 47,
      "outputs": [
        {
          "output_type": "stream",
          "name": "stdout",
          "text": [
            "True\n"
          ]
        }
      ]
    },
    {
      "cell_type": "markdown",
      "source": [
        "## **11. Lengh of the longest string**"
      ],
      "metadata": {
        "id": "a4c6yxfDMvwb"
      }
    },
    {
      "cell_type": "code",
      "source": [
        "# Method 1: Using max() and len()\n",
        "\n",
        "def length_of_longest_string(s):\n",
        "  words = s.split()\n",
        "  if not words:\n",
        "    return 0\n",
        "  longest = max(words, key=len)\n",
        "  return len(longest)\n",
        "\n",
        "sentence = \"Python is an amazing programming language\"\n",
        "print(\"Length of longest word:\", length_of_longest_string(sentence))"
      ],
      "metadata": {
        "colab": {
          "base_uri": "https://localhost:8080/"
        },
        "id": "unMETGI5NAox",
        "outputId": "36d6ec70-38c9-4f9e-ebab-2251e65880d6"
      },
      "execution_count": 54,
      "outputs": [
        {
          "output_type": "stream",
          "name": "stdout",
          "text": [
            "Length of longest word: 11\n"
          ]
        }
      ]
    },
    {
      "cell_type": "code",
      "source": [
        "# Method 2: Manual Loop\n",
        "\n",
        "def length_of_longest_word(sentence):\n",
        "    max_len = 0\n",
        "    for word in sentence.split():\n",
        "        if len(word) > max_len:\n",
        "            max_len = len(word)\n",
        "    return max_len\n",
        "\n",
        "length_of_longest_word(\"The quick brown fox jumps over the lazy dog\")"
      ],
      "metadata": {
        "colab": {
          "base_uri": "https://localhost:8080/"
        },
        "id": "vu8hUcWuUf9u",
        "outputId": "aec61432-b174-4d54-e89b-9c44e23c5e1f"
      },
      "execution_count": 55,
      "outputs": [
        {
          "output_type": "execute_result",
          "data": {
            "text/plain": [
              "5"
            ]
          },
          "metadata": {},
          "execution_count": 55
        }
      ]
    }
  ]
}