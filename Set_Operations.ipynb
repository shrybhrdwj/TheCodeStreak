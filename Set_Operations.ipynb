{
  "nbformat": 4,
  "nbformat_minor": 0,
  "metadata": {
    "colab": {
      "provenance": [],
      "authorship_tag": "ABX9TyPmOZWm6Qw+JjwIUP15kPJo",
      "include_colab_link": true
    },
    "kernelspec": {
      "name": "python3",
      "display_name": "Python 3"
    },
    "language_info": {
      "name": "python"
    }
  },
  "cells": [
    {
      "cell_type": "markdown",
      "metadata": {
        "id": "view-in-github",
        "colab_type": "text"
      },
      "source": [
        "<a href=\"https://colab.research.google.com/github/shrybhrdwj/TheCodeStreak/blob/main/Set_Operations.ipynb\" target=\"_parent\"><img src=\"https://colab.research.google.com/assets/colab-badge.svg\" alt=\"Open In Colab\"/></a>"
      ]
    },
    {
      "cell_type": "markdown",
      "source": [
        "# **Set Operations**\n",
        "\n",
        " * **Union of Two Sets:**\n",
        "The union of two sets A and B includes all the elements of sets A and B.\n",
        "\n",
        "* **Set Intersection:**\n",
        "The intersection of two sets A and B include the common elements between set A and B.\n",
        "\n",
        "* **Difference between Two Sets:**\n",
        "The difference between two sets A and B include elements of set A that are not present on set B.\n",
        "\n",
        "* **Set Symmetric Difference:**\n",
        "The symmetric difference between two sets A and B includes all elements of A and B without the common elements.\n",
        "\n",
        "* **Check if two sets are equal:**\n",
        "We can use the == operator to check whether two sets are equal or not."
      ],
      "metadata": {
        "id": "WCCn3_A3fDy7"
      }
    },
    {
      "cell_type": "code",
      "execution_count": 1,
      "metadata": {
        "colab": {
          "base_uri": "https://localhost:8080/"
        },
        "id": "-x7sbTO8exMv",
        "outputId": "19713e53-3012-4497-fca5-bfb355b617af"
      },
      "outputs": [
        {
          "output_type": "stream",
          "name": "stdout",
          "text": [
            "Union of A and B: {2, 3, 4, 6, 7, 8, 9}\n",
            "Union of A and B: {2, 3, 4, 6, 7, 8, 9}\n"
          ]
        }
      ],
      "source": [
        "#Union of two sets\n",
        "\n",
        "A={2,4,6,8}\n",
        "B={3,4,7,9}\n",
        "\n",
        "# union operation using | symbol\n",
        "print(f\"Union of A and B: {A|B}\")\n",
        "\n",
        "#union using union()\n",
        "print(f\"Union of A and B: {A.union(B)}\")"
      ]
    },
    {
      "cell_type": "code",
      "source": [
        "# Intersection\n",
        "\n",
        "A={1,2,3,4,5}\n",
        "B={2,4,6,8}\n",
        "\n",
        "# intersection operation using & symbol\n",
        "print(f\"Intersection of A and B: {A&B}\")\n",
        "\n",
        "# intersection using intersection()\n",
        "print(f\"Intersection of A and B: {A.intersection(B)}\")"
      ],
      "metadata": {
        "colab": {
          "base_uri": "https://localhost:8080/"
        },
        "id": "C0B0bpCpe_6S",
        "outputId": "296ca53a-7b7f-45cb-8f76-ca011559c00d"
      },
      "execution_count": 3,
      "outputs": [
        {
          "output_type": "stream",
          "name": "stdout",
          "text": [
            "Intersection of A and B: {2, 4}\n",
            "Intersection of A and B: {2, 4}\n"
          ]
        }
      ]
    },
    {
      "cell_type": "code",
      "source": [
        "#Difference of two sets\n",
        "\n",
        "A={1,2,3,4,5}\n",
        "B={2,4,6,8}\n",
        "\n",
        "# difference operation using - symbol\n",
        "print(f\"Difference of A and B: {A-B}\")\n",
        "\n",
        "# difference using difference()\n",
        "print(f\"Difference of A and B: {A.difference(B)}\")"
      ],
      "metadata": {
        "colab": {
          "base_uri": "https://localhost:8080/"
        },
        "id": "cgB3HfHnfydq",
        "outputId": "f2b59c78-5b42-4ce2-8cd8-4104e095dcf3"
      },
      "execution_count": 4,
      "outputs": [
        {
          "output_type": "stream",
          "name": "stdout",
          "text": [
            "Difference of A and B: {1, 3, 5}\n",
            "Difference of A and B: {1, 3, 5}\n"
          ]
        }
      ]
    },
    {
      "cell_type": "code",
      "source": [
        "#Symmetric Difference\n",
        "\n",
        "A={1,2,3,4,5}\n",
        "B={2,4,6,8}\n",
        "\n",
        "# symmetric difference using ^ symbol\n",
        "print(f\"Symmetric difference of A and B: {A^B}\")\n",
        "\n",
        "# symmetric difference using symmetric_difference()\n",
        "print(f\"Symmetric Difference of A and B: {A.symmetric_difference(B)}\")"
      ],
      "metadata": {
        "colab": {
          "base_uri": "https://localhost:8080/"
        },
        "id": "zFYmv2R0f4M0",
        "outputId": "dee608c9-a4ed-42d2-ddc8-1dc28c899505"
      },
      "execution_count": 5,
      "outputs": [
        {
          "output_type": "stream",
          "name": "stdout",
          "text": [
            "Symmetric difference of A and B: {1, 3, 5, 6, 8}\n",
            "Symmetric Difference of A and B: {1, 3, 5, 6, 8}\n"
          ]
        }
      ]
    },
    {
      "cell_type": "code",
      "source": [
        "#Check if two sets are equal\n",
        "\n",
        "A={1,2,3,4,5}\n",
        "B={2,4,6,8}\n",
        "\n",
        "# check equality using == symbol\n",
        "if A==B:\n",
        "  print(\"Set A and B are Equal\")\n",
        "else:\n",
        "  print(\"Set A and B are not Equal\")"
      ],
      "metadata": {
        "colab": {
          "base_uri": "https://localhost:8080/"
        },
        "id": "fzbDEKCAf-Oo",
        "outputId": "40430b03-c8a0-4abb-d588-75a1c2a47c63"
      },
      "execution_count": 6,
      "outputs": [
        {
          "output_type": "stream",
          "name": "stdout",
          "text": [
            "Set A and B are not Equal\n"
          ]
        }
      ]
    }
  ]
}