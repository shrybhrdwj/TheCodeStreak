{
  "nbformat": 4,
  "nbformat_minor": 0,
  "metadata": {
    "colab": {
      "provenance": [],
      "authorship_tag": "ABX9TyPAKE2W84E6QUK1PYnXTgj7",
      "include_colab_link": true
    },
    "kernelspec": {
      "name": "python3",
      "display_name": "Python 3"
    },
    "language_info": {
      "name": "python"
    }
  },
  "cells": [
    {
      "cell_type": "markdown",
      "metadata": {
        "id": "view-in-github",
        "colab_type": "text"
      },
      "source": [
        "<a href=\"https://colab.research.google.com/github/shrybhrdwj/TheCodeStreak/blob/main/Access_String.ipynb\" target=\"_parent\"><img src=\"https://colab.research.google.com/assets/colab-badge.svg\" alt=\"Open In Colab\"/></a>"
      ]
    },
    {
      "cell_type": "code",
      "execution_count": 1,
      "metadata": {
        "colab": {
          "base_uri": "https://localhost:8080/"
        },
        "id": "Y1A3DjpMRzh_",
        "outputId": "d5743061-112b-455a-d8c2-8afe61e50afc"
      },
      "outputs": [
        {
          "output_type": "stream",
          "name": "stdout",
          "text": [
            "Python\n",
            "Python for beginners\n"
          ]
        }
      ],
      "source": [
        "#String Datatype\n",
        "name = 'Python'\n",
        "print(name)\n",
        "message = 'Python for beginners'\n",
        "print(message)"
      ]
    },
    {
      "cell_type": "code",
      "source": [
        "#Access Characters by positive indexing\n",
        "greet = 'Hello'\n",
        "print(greet[1])"
      ],
      "metadata": {
        "colab": {
          "base_uri": "https://localhost:8080/"
        },
        "id": "rOvCnB4jTpV6",
        "outputId": "fc937a43-681d-4e4a-93e6-96bfd225d47f"
      },
      "execution_count": 2,
      "outputs": [
        {
          "output_type": "stream",
          "name": "stdout",
          "text": [
            "e\n"
          ]
        }
      ]
    },
    {
      "cell_type": "code",
      "source": [
        "#Access Characters by positive indexing\n",
        "greet = 'Hello'\n",
        "print(greet[-4])"
      ],
      "metadata": {
        "colab": {
          "base_uri": "https://localhost:8080/"
        },
        "id": "HxV4OyzQT6Cr",
        "outputId": "e5acdded-d235-44e2-d3dd-f3519856f346"
      },
      "execution_count": 3,
      "outputs": [
        {
          "output_type": "stream",
          "name": "stdout",
          "text": [
            "e\n"
          ]
        }
      ]
    },
    {
      "cell_type": "code",
      "source": [
        "#Slicing in Python\n",
        "greet = 'Hello'\n",
        "print(greet[1:4])"
      ],
      "metadata": {
        "colab": {
          "base_uri": "https://localhost:8080/"
        },
        "id": "eUoomQTbUDo_",
        "outputId": "218300d5-888a-4b7f-8139-af819e17b48c"
      },
      "execution_count": 4,
      "outputs": [
        {
          "output_type": "stream",
          "name": "stdout",
          "text": [
            "ell\n"
          ]
        }
      ]
    },
    {
      "cell_type": "code",
      "source": [
        "#Multiine String\n",
        "message = \"\"\"\n",
        "I am in love with Pyhton.\n",
        "I become a scientist cum professor in future, for sure\n",
        "\"\"\"\n",
        "print(message)"
      ],
      "metadata": {
        "colab": {
          "base_uri": "https://localhost:8080/"
        },
        "id": "72G2nzgSUY5R",
        "outputId": "81fc68e8-840f-4908-f5c3-c5b43dcbe520"
      },
      "execution_count": 5,
      "outputs": [
        {
          "output_type": "stream",
          "name": "stdout",
          "text": [
            " \n",
            "I am in love with Pyhton.\n",
            "I become a scientist cum professor in future, for sure\n",
            "\n"
          ]
        }
      ]
    }
  ]
}
