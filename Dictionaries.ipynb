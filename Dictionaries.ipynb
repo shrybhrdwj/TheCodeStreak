{
  "nbformat": 4,
  "nbformat_minor": 0,
  "metadata": {
    "colab": {
      "provenance": [],
      "collapsed_sections": [
        "3lr6deeFyqge",
        "x7C2bMysy---",
        "OhNvDXdBzMlb",
        "Tc4dvqhC2HE_",
        "FsFqir2A30FF",
        "kpEa3XUK5a5x",
        "HqrpvMmk8f_Q",
        "FTrDI-LQ9uKE"
      ],
      "authorship_tag": "ABX9TyNXhAHoUcdHqQZrxqeQwRJN",
      "include_colab_link": true
    },
    "kernelspec": {
      "name": "python3",
      "display_name": "Python 3"
    },
    "language_info": {
      "name": "python"
    }
  },
  "cells": [
    {
      "cell_type": "markdown",
      "metadata": {
        "id": "view-in-github",
        "colab_type": "text"
      },
      "source": [
        "<a href=\"https://colab.research.google.com/github/shrybhrdwj/TheCodeStreak/blob/main/Dictionaries.ipynb\" target=\"_parent\"><img src=\"https://colab.research.google.com/assets/colab-badge.svg\" alt=\"Open In Colab\"/></a>"
      ]
    },
    {
      "cell_type": "markdown",
      "source": [
        "# Dictionaries\n",
        "  \n",
        "1. Introduction to Dictionaries\n",
        "2. Creating Dictionaries\n",
        "3. Accessing Dictionary Elements\n",
        "4. Modifying Dictionary Elements\n",
        "5. Dictionary Methods\n",
        "6. Iterating Over Dictionaries\n",
        "7. Nested Dictionaries\n",
        "8. Dictionary Comprehensions\n",
        "9. Practical Examples and Common Errors"
      ],
      "metadata": {
        "id": "ECzn3FG1vsVL"
      }
    },
    {
      "cell_type": "markdown",
      "source": [
        "## **Creating Dictionaries**"
      ],
      "metadata": {
        "id": "3lr6deeFyqge"
      }
    },
    {
      "cell_type": "code",
      "execution_count": null,
      "metadata": {
        "colab": {
          "base_uri": "https://localhost:8080/"
        },
        "id": "hKRa_KN9vqYM",
        "outputId": "09529c80-3340-46a5-aab6-c6fd66239b7d"
      },
      "outputs": [
        {
          "output_type": "stream",
          "name": "stdout",
          "text": [
            "<class 'dict'>\n"
          ]
        },
        {
          "output_type": "execute_result",
          "data": {
            "text/plain": [
              "{}"
            ]
          },
          "metadata": {},
          "execution_count": 3
        }
      ],
      "source": [
        "empty_dict = {}\n",
        "print(type(empty_dict))\n",
        "\n",
        "empty_dict"
      ]
    },
    {
      "cell_type": "code",
      "source": [
        "country_capitals = {\n",
        "  \"Germany\": \"Berlin\",\n",
        "  \"Canada\": \"Ottawa\",\n",
        "  \"England\": \"London\"\n",
        "}\n",
        "\n",
        "print(country_capitals)"
      ],
      "metadata": {
        "colab": {
          "base_uri": "https://localhost:8080/"
        },
        "id": "z7g0B-gkvtU-",
        "outputId": "d56790e3-e194-4cf2-e51e-5d519b97667d"
      },
      "execution_count": null,
      "outputs": [
        {
          "output_type": "stream",
          "name": "stdout",
          "text": [
            "{'Germany': 'Berlin', 'Canada': 'Ottawa', 'England': 'London'}\n"
          ]
        }
      ]
    },
    {
      "cell_type": "code",
      "source": [
        "# Single key is always used\n",
        "student={\"name\":\"Krish\",\"age\":32,\"name\":24}\n",
        "print(student)"
      ],
      "metadata": {
        "colab": {
          "base_uri": "https://localhost:8080/"
        },
        "id": "NRBExgSPwqkd",
        "outputId": "687536d6-7dda-4565-9ba1-20a0209a2cf4"
      },
      "execution_count": null,
      "outputs": [
        {
          "output_type": "stream",
          "name": "stdout",
          "text": [
            "{'name': 24, 'age': 32}\n"
          ]
        }
      ]
    },
    {
      "cell_type": "markdown",
      "source": [
        "## **Accessing Dictionary Elements**"
      ],
      "metadata": {
        "id": "x7C2bMysy---"
      }
    },
    {
      "cell_type": "code",
      "source": [
        "student={'name':'Shreya','age':21,'grade':'A'}\n",
        "print(student)"
      ],
      "metadata": {
        "colab": {
          "base_uri": "https://localhost:8080/"
        },
        "id": "joJHPX04w6UW",
        "outputId": "e2a7b817-d0f2-44df-e365-1de86b4c9b47"
      },
      "execution_count": null,
      "outputs": [
        {
          "output_type": "stream",
          "name": "stdout",
          "text": [
            "{'name': 'Shreya', 'age': 21, 'grade': 'A'}\n"
          ]
        }
      ]
    },
    {
      "cell_type": "code",
      "source": [
        "print(student['grade'])\n",
        "print(student['age'])\n",
        "\n",
        "# Acessing using get() method\n",
        "print(student.get('grade'))\n",
        "print(student.get('last_name'))\n",
        "print(student.get('last_name','Not Available'))\n",
        "print(f\"Middle_name of {student.get('name')} is {student.get('Middle_name','Singh')}\")"
      ],
      "metadata": {
        "colab": {
          "base_uri": "https://localhost:8080/"
        },
        "id": "u_0Fmgvqwtsv",
        "outputId": "347b43e6-a7ff-49fe-9a27-67811fcb982d"
      },
      "execution_count": null,
      "outputs": [
        {
          "output_type": "stream",
          "name": "stdout",
          "text": [
            "A\n",
            "21\n",
            "A\n",
            "None\n",
            "Not Available\n",
            "Middle_name of Shreya is Singh\n"
          ]
        }
      ]
    },
    {
      "cell_type": "markdown",
      "source": [
        "## **Modifying Dictionary Elements**"
      ],
      "metadata": {
        "id": "OhNvDXdBzMlb"
      }
    },
    {
      "cell_type": "code",
      "source": [
        "student={'name':'Shreya','age':21,'grade':'A'}\n",
        "print(student)\n",
        "\n",
        "student['age']=22\n",
        "print(student)\n",
        "\n",
        "# Adding new elements to the existing dict\n",
        "student['address']='Bihar'\n",
        "print(student)"
      ],
      "metadata": {
        "colab": {
          "base_uri": "https://localhost:8080/"
        },
        "id": "n-RITd9mzWvt",
        "outputId": "ab3314ae-5a6e-4c70-a3a5-8b6fc47bdc8e"
      },
      "execution_count": null,
      "outputs": [
        {
          "output_type": "stream",
          "name": "stdout",
          "text": [
            "{'name': 'Shreya', 'age': 21, 'grade': 'A'}\n",
            "{'name': 'Shreya', 'age': 22, 'grade': 'A'}\n",
            "{'name': 'Shreya', 'age': 22, 'grade': 'A', 'address': 'Bihar'}\n"
          ]
        }
      ]
    },
    {
      "cell_type": "code",
      "source": [
        "# deleting any key-value pair\n",
        "del student['grade']\n",
        "print(student)"
      ],
      "metadata": {
        "colab": {
          "base_uri": "https://localhost:8080/"
        },
        "id": "xGAmayk90Z3p",
        "outputId": "5c0626c1-23bf-4762-b5ce-a2edec991a0c"
      },
      "execution_count": null,
      "outputs": [
        {
          "output_type": "stream",
          "name": "stdout",
          "text": [
            "{'name': 'Shreya', 'age': 22, 'address': 'Bihar'}\n"
          ]
        }
      ]
    },
    {
      "cell_type": "markdown",
      "source": [
        "## **Shallow copy**"
      ],
      "metadata": {
        "id": "Tc4dvqhC2HE_"
      }
    },
    {
      "cell_type": "code",
      "source": [
        "# shallow copy\n",
        "\n",
        "student={'name':'Shreya','age':21,'grade':'A'}\n",
        "print(student)\n",
        "\n",
        "student_copy=student\n",
        "print(student_copy)"
      ],
      "metadata": {
        "colab": {
          "base_uri": "https://localhost:8080/"
        },
        "id": "FxLESgQW0_9n",
        "outputId": "bb70cebe-c58c-448a-d9af-404d91db758c"
      },
      "execution_count": null,
      "outputs": [
        {
          "output_type": "stream",
          "name": "stdout",
          "text": [
            "{'name': 'Shreya', 'age': 21, 'grade': 'A'}\n",
            "{'name': 'Shreya', 'age': 21, 'grade': 'A'}\n"
          ]
        }
      ]
    },
    {
      "cell_type": "code",
      "source": [
        "student['name']='milli'\n",
        "print(student)\n",
        "print(student_copy)"
      ],
      "metadata": {
        "colab": {
          "base_uri": "https://localhost:8080/"
        },
        "id": "mAwa1zKU1iuX",
        "outputId": "4f5045c0-d382-4adb-9f9a-53850727b36d"
      },
      "execution_count": null,
      "outputs": [
        {
          "output_type": "stream",
          "name": "stdout",
          "text": [
            "{'name': 'milli', 'age': 21, 'grade': 'A'}\n",
            "{'name': 'milli', 'age': 21, 'grade': 'A'}\n"
          ]
        }
      ]
    },
    {
      "cell_type": "code",
      "source": [
        "student_copy1=student.copy()\n",
        "print(student_copy1)\n",
        "print(student)"
      ],
      "metadata": {
        "colab": {
          "base_uri": "https://localhost:8080/"
        },
        "id": "CIm4tuT_2WKx",
        "outputId": "598e34d2-a800-4d40-bbbf-df7203f86fff"
      },
      "execution_count": null,
      "outputs": [
        {
          "output_type": "stream",
          "name": "stdout",
          "text": [
            "{'name': 'milli', 'age': 21, 'grade': 'A'}\n",
            "{'name': 'milli', 'age': 21, 'grade': 'A'}\n"
          ]
        }
      ]
    },
    {
      "cell_type": "code",
      "source": [
        "student['name']='Sheelu'\n",
        "print(student_copy1)\n",
        "print(student)"
      ],
      "metadata": {
        "id": "QgZ5yYFG2nfk",
        "colab": {
          "base_uri": "https://localhost:8080/"
        },
        "outputId": "a8a93ddb-dd9b-46c4-d23c-c1729b822b33"
      },
      "execution_count": null,
      "outputs": [
        {
          "output_type": "stream",
          "name": "stdout",
          "text": [
            "{'name': 'milli', 'age': 21, 'grade': 'A'}\n",
            "{'name': 'Sheelu', 'age': 21, 'grade': 'A'}\n"
          ]
        }
      ]
    },
    {
      "cell_type": "markdown",
      "source": [
        "## **Iterating Over Dictionaries**"
      ],
      "metadata": {
        "id": "FsFqir2A30FF"
      }
    },
    {
      "cell_type": "code",
      "source": [
        "# You can use loops to iterate over dictionatries, keys,values,or items\n",
        "# Iterating over keys\n",
        "\n",
        "for keys in student.keys():\n",
        "  print(keys)"
      ],
      "metadata": {
        "colab": {
          "base_uri": "https://localhost:8080/"
        },
        "id": "ju_qxJh032oV",
        "outputId": "59c1ed4a-dc42-41ee-ede6-beac42202eeb"
      },
      "execution_count": null,
      "outputs": [
        {
          "output_type": "stream",
          "name": "stdout",
          "text": [
            "name\n",
            "age\n",
            "grade\n"
          ]
        }
      ]
    },
    {
      "cell_type": "code",
      "source": [
        "# Iterate over values\n",
        "\n",
        "for value in student.values():\n",
        "  print(value)"
      ],
      "metadata": {
        "colab": {
          "base_uri": "https://localhost:8080/"
        },
        "id": "YqWJRX-k4K5w",
        "outputId": "0b06cf2c-3fb8-4539-afb5-633d6499ccb8"
      },
      "execution_count": null,
      "outputs": [
        {
          "output_type": "stream",
          "name": "stdout",
          "text": [
            "Sheelu\n",
            "21\n",
            "A\n"
          ]
        }
      ]
    },
    {
      "cell_type": "code",
      "source": [
        "# Iterate over key value pairs\n",
        "\n",
        "for key, value in student.items():\n",
        "  print(f\"{key}: {value}\")"
      ],
      "metadata": {
        "colab": {
          "base_uri": "https://localhost:8080/"
        },
        "id": "2vsn9bhC4rqc",
        "outputId": "d3b856ee-d41a-4f53-bfce-2338f6828df0"
      },
      "execution_count": null,
      "outputs": [
        {
          "output_type": "stream",
          "name": "stdout",
          "text": [
            "name: Sheelu\n",
            "age: 21\n",
            "grade: A\n"
          ]
        }
      ]
    },
    {
      "cell_type": "markdown",
      "source": [
        "## **Nested Dictionaries**"
      ],
      "metadata": {
        "id": "kpEa3XUK5a5x"
      }
    },
    {
      "cell_type": "code",
      "source": [
        "students = {\n",
        "    'student1':{'name':'Shreya','age':22},\n",
        "    'student2':{'name':'Sheelu','age':21}\n",
        "}\n",
        "print(students)"
      ],
      "metadata": {
        "colab": {
          "base_uri": "https://localhost:8080/"
        },
        "id": "eFFfwa0y5doP",
        "outputId": "3f08494d-f6b1-4f8b-85ce-e29f55ff8c13"
      },
      "execution_count": null,
      "outputs": [
        {
          "output_type": "stream",
          "name": "stdout",
          "text": [
            "{'student1': {'name': 'Shreya', 'age': 22}, 'student2': {'name': 'Sheelu', 'age': 21}}\n"
          ]
        }
      ]
    },
    {
      "cell_type": "code",
      "source": [
        "# Access nested dictionaries elements\n",
        "print(students['student2']['name'])\n",
        "print(students['student2']['age'])"
      ],
      "metadata": {
        "colab": {
          "base_uri": "https://localhost:8080/"
        },
        "id": "Mmt7E5Ea6C-A",
        "outputId": "ed265475-4fde-41a7-fc8e-9fe6250fb1bc"
      },
      "execution_count": null,
      "outputs": [
        {
          "output_type": "stream",
          "name": "stdout",
          "text": [
            "Sheelu\n",
            "21\n"
          ]
        }
      ]
    },
    {
      "cell_type": "code",
      "source": [
        "students.items()"
      ],
      "metadata": {
        "colab": {
          "base_uri": "https://localhost:8080/"
        },
        "id": "hU-9UL0V6ov9",
        "outputId": "779954fb-7713-4f6c-e43f-88983bbbdc6e"
      },
      "execution_count": null,
      "outputs": [
        {
          "output_type": "execute_result",
          "data": {
            "text/plain": [
              "dict_items([('student1', {'name': 'Shreya', 'age': 22}), ('student2', {'name': 'Sheelu', 'age': 21})])"
            ]
          },
          "metadata": {},
          "execution_count": 27
        }
      ]
    },
    {
      "cell_type": "code",
      "source": [
        "# Iterating over nested dictionaries\n",
        "for student_id,student_info in students.items():\n",
        "  print(f\"{student_id}:{student_info}\")\n",
        "  for key,value in student_info.items():\n",
        "    print(f\"{key}:{value}\")"
      ],
      "metadata": {
        "colab": {
          "base_uri": "https://localhost:8080/"
        },
        "id": "LtC4ISie7FEx",
        "outputId": "dd4a3853-d479-45b0-a690-c8292e7b45ae"
      },
      "execution_count": null,
      "outputs": [
        {
          "output_type": "stream",
          "name": "stdout",
          "text": [
            "student1:{'name': 'Shreya', 'age': 22}\n",
            "name:Shreya\n",
            "age:22\n",
            "student2:{'name': 'Sheelu', 'age': 21}\n",
            "name:Sheelu\n",
            "age:21\n"
          ]
        }
      ]
    },
    {
      "cell_type": "markdown",
      "source": [
        "## **Dictionary Comprehensions**"
      ],
      "metadata": {
        "id": "HqrpvMmk8f_Q"
      }
    },
    {
      "cell_type": "code",
      "source": [
        "squares={x:x**2 for x in range(5)}\n",
        "print(squares)"
      ],
      "metadata": {
        "colab": {
          "base_uri": "https://localhost:8080/"
        },
        "id": "d7546fRY8jKO",
        "outputId": "f93806cd-8cea-497c-957f-ab6c285ba7b5"
      },
      "execution_count": null,
      "outputs": [
        {
          "output_type": "stream",
          "name": "stdout",
          "text": [
            "{0: 0, 1: 1, 2: 4, 3: 9, 4: 16}\n"
          ]
        }
      ]
    },
    {
      "cell_type": "code",
      "source": [
        "# Conditioanal dictionary comprehension\n",
        "evens = {x:x**2 for x in range(10) if x%2==0}\n",
        "print(evens)"
      ],
      "metadata": {
        "colab": {
          "base_uri": "https://localhost:8080/"
        },
        "id": "Dzt6CGSG82iZ",
        "outputId": "7ddba336-188f-402c-a9ae-0bf010bc01da"
      },
      "execution_count": null,
      "outputs": [
        {
          "output_type": "stream",
          "name": "stdout",
          "text": [
            "{0: 0, 2: 4, 4: 16, 6: 36, 8: 64}\n"
          ]
        }
      ]
    },
    {
      "cell_type": "markdown",
      "source": [
        "## **Practical Examples**"
      ],
      "metadata": {
        "id": "FTrDI-LQ9uKE"
      }
    },
    {
      "cell_type": "code",
      "source": [
        "# USe a dictionary to count the frequency of elements in list\n",
        "\n",
        "numbers = [1,2,2,3,3,3,4,4,4,4]\n",
        "frequency={}\n",
        "\n",
        "for number in numbers:\n",
        "  if number in frequency:\n",
        "    frequency[number]+=1\n",
        "  else:\n",
        "    frequency[number]=1\n",
        "print(frequency)"
      ],
      "metadata": {
        "colab": {
          "base_uri": "https://localhost:8080/"
        },
        "id": "OZUZeiRZ9td7",
        "outputId": "b9342bbc-00be-4e40-bdb8-e8b23a89e9dc"
      },
      "execution_count": null,
      "outputs": [
        {
          "output_type": "stream",
          "name": "stdout",
          "text": [
            "{1: 1, 2: 2, 3: 3, 4: 4}\n"
          ]
        }
      ]
    },
    {
      "cell_type": "code",
      "source": [
        "# Merge 2 dictionaries into one\n",
        "\n",
        "dict1={'a':1,'b':2}\n",
        "dict2={'b':3,'c':4}\n",
        "merged_dict={**dict1,**dict2}\n",
        "print(merged_dict)"
      ],
      "metadata": {
        "colab": {
          "base_uri": "https://localhost:8080/"
        },
        "id": "tOgeBbx6-eBC",
        "outputId": "5fa8e53e-3258-46c0-987f-a161200313e9"
      },
      "execution_count": null,
      "outputs": [
        {
          "output_type": "stream",
          "name": "stdout",
          "text": [
            "{'a': 1, 'b': 3, 'c': 4}\n"
          ]
        }
      ]
    }
  ]
}
