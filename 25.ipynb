{
 "cells": [
  {
   "cell_type": "raw",
   "id": "634f65c8-91d5-424f-a410-a3a3b833e6ab",
   "metadata": {},
   "source": [
    "11.Converting a list into a string"
   ]
  },
  {
   "cell_type": "code",
   "execution_count": 1,
   "id": "96770066-dd17-49ee-ac41-9b098f6401bc",
   "metadata": {},
   "outputs": [
    {
     "name": "stdout",
     "output_type": "stream",
     "text": [
      "PYTHON\n",
      "<class 'str'>\n"
     ]
    }
   ],
   "source": [
    "list = [\"P\",\"Y\",\"T\",\"H\",\"O\",\"N\"]\n",
    "string = \"\".join(list)\n",
    "print(string)\n",
    "print(type(string))"
   ]
  },
  {
   "cell_type": "raw",
   "id": "a1314734-805c-4109-a884-99806e15eb92",
   "metadata": {},
   "source": [
    "12.Adding two list elements together"
   ]
  },
  {
   "cell_type": "code",
   "execution_count": 3,
   "id": "6d5acf60-f8b4-46d4-87b6-42123771a479",
   "metadata": {},
   "outputs": [
    {
     "name": "stdout",
     "output_type": "stream",
     "text": [
      "[5, 7, 9]\n"
     ]
    }
   ],
   "source": [
    "list1 = [1,2,3]\n",
    "list2 = [4,5,6]\n",
    "res_lst = []\n",
    "for i in range(0,len(list1)):\n",
    "    res_lst.append(list1[i] + list2[i])\n",
    "print(res_lst)"
   ]
  },
  {
   "cell_type": "raw",
   "id": "1dd320a6-1601-4a47-815d-f7f8c5602cb4",
   "metadata": {},
   "source": [
    "13. Compare two strings for ANAGRAMS\n",
    "    ANAGRAMS means a word with differnt meaning but formed by rearrangement of the same letters\n",
    "    Example - mug and gum"
   ]
  },
  {
   "cell_type": "code",
   "execution_count": 11,
   "id": "5cc20460-2375-46e1-ac5c-69c208d398fe",
   "metadata": {},
   "outputs": [
    {
     "name": "stdout",
     "output_type": "stream",
     "text": [
      "True\n"
     ]
    }
   ],
   "source": [
    "str1 = \"Listen\"\n",
    "str2 = \"Silent\"\n",
    "str1 = str1.replace(\" \",\"\").upper()\n",
    "str2 = str2.replace(\" \",\"\").upper()\n",
    "\n",
    "if sorted(str1) == sorted(str2):\n",
    "    print(\"True\")\n",
    "else:\n",
    "    print(\"False\")"
   ]
  },
  {
   "cell_type": "raw",
   "id": "a5ba3b65-4a42-418b-83d3-4d95230303fa",
   "metadata": {},
   "source": [
    "14. Checking for PALINDROME using Extended Slicing Technique"
   ]
  },
  {
   "cell_type": "code",
   "execution_count": 13,
   "id": "b63b6a3b-9cc6-4cd0-ba65-c23731be91af",
   "metadata": {},
   "outputs": [
    {
     "name": "stdout",
     "output_type": "stream",
     "text": [
      "True\n"
     ]
    }
   ],
   "source": [
    "str1 = \"Kayak\".lower()\n",
    "\n",
    "if str1 == str1[::-1]:\n",
    "    print(\"True\")\n",
    "else:\n",
    "    print(\"False\")"
   ]
  },
  {
   "cell_type": "raw",
   "id": "17e0f805-4950-4c1f-b0e5-962d0ea37391",
   "metadata": {},
   "source": [
    "15. Counting the white spaces in a string"
   ]
  },
  {
   "cell_type": "code",
   "execution_count": 19,
   "id": "420ffe98-e53b-4af2-8da0-b2b2d0a10d12",
   "metadata": {},
   "outputs": [
    {
     "name": "stdout",
     "output_type": "stream",
     "text": [
      "3\n"
     ]
    }
   ],
   "source": [
    "str = \"My name is shreya\"\n",
    "print(str.count(\" \"))"
   ]
  }
 ],
 "metadata": {
  "kernelspec": {
   "display_name": "Python 3 (ipykernel)",
   "language": "python",
   "name": "python3"
  },
  "language_info": {
   "codemirror_mode": {
    "name": "ipython",
    "version": 3
   },
   "file_extension": ".py",
   "mimetype": "text/x-python",
   "name": "python",
   "nbconvert_exporter": "python",
   "pygments_lexer": "ipython3",
   "version": "3.12.4"
  }
 },
 "nbformat": 4,
 "nbformat_minor": 5
}
