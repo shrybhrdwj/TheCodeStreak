{
  "nbformat": 4,
  "nbformat_minor": 0,
  "metadata": {
    "colab": {
      "provenance": [],
      "authorship_tag": "ABX9TyPa9/aPXg9FGd8zQEmvqw3T",
      "include_colab_link": true
    },
    "kernelspec": {
      "name": "python3",
      "display_name": "Python 3"
    },
    "language_info": {
      "name": "python"
    }
  },
  "cells": [
    {
      "cell_type": "markdown",
      "metadata": {
        "id": "view-in-github",
        "colab_type": "text"
      },
      "source": [
        "<a href=\"https://colab.research.google.com/github/shrybhrdwj/TheCodeStreak/blob/main/Loops.ipynb\" target=\"_parent\"><img src=\"https://colab.research.google.com/assets/colab-badge.svg\" alt=\"Open In Colab\"/></a>"
      ]
    },
    {
      "cell_type": "markdown",
      "source": [
        "# **For Loop**"
      ],
      "metadata": {
        "id": "A6IXnSeDfZvp"
      }
    },
    {
      "cell_type": "code",
      "execution_count": 1,
      "metadata": {
        "colab": {
          "base_uri": "https://localhost:8080/"
        },
        "id": "7Sr575YxE9p1",
        "outputId": "040ec6fe-e6ad-47b9-bc3c-6205755c2c14"
      },
      "outputs": [
        {
          "output_type": "stream",
          "name": "stdout",
          "text": [
            "0\n",
            "1\n",
            "2\n",
            "3\n",
            "4\n"
          ]
        }
      ],
      "source": [
        "for i in range(5):\n",
        "  print (i)"
      ]
    },
    {
      "cell_type": "code",
      "source": [
        "for i in range(1,10,2):\n",
        "  print(i)"
      ],
      "metadata": {
        "colab": {
          "base_uri": "https://localhost:8080/"
        },
        "id": "4RAnetyxf9cv",
        "outputId": "1aac7126-79ab-4dcd-bf4c-a2541e281d89"
      },
      "execution_count": 2,
      "outputs": [
        {
          "output_type": "stream",
          "name": "stdout",
          "text": [
            "1\n",
            "3\n",
            "5\n",
            "7\n",
            "9\n"
          ]
        }
      ]
    },
    {
      "cell_type": "code",
      "source": [
        "for i in range(10,1,-2):\n",
        "  print(i)"
      ],
      "metadata": {
        "colab": {
          "base_uri": "https://localhost:8080/"
        },
        "id": "n91rh59-gPkN",
        "outputId": "8aa807c5-6af1-47cb-952e-d034cfce4b36"
      },
      "execution_count": 5,
      "outputs": [
        {
          "output_type": "stream",
          "name": "stdout",
          "text": [
            "10\n",
            "8\n",
            "6\n",
            "4\n",
            "2\n"
          ]
        }
      ]
    },
    {
      "cell_type": "code",
      "source": [
        "str = \"Shreya Bhardwaj\"\n",
        "\n",
        "for i in str:\n",
        "  print(i)"
      ],
      "metadata": {
        "colab": {
          "base_uri": "https://localhost:8080/"
        },
        "id": "INzzmWOCgdJy",
        "outputId": "dc3cfa67-0e22-40f1-9d0d-d1f5012f9202"
      },
      "execution_count": 6,
      "outputs": [
        {
          "output_type": "stream",
          "name": "stdout",
          "text": [
            "S\n",
            "h\n",
            "r\n",
            "e\n",
            "y\n",
            "a\n",
            " \n",
            "B\n",
            "h\n",
            "a\n",
            "r\n",
            "d\n",
            "w\n",
            "a\n",
            "j\n"
          ]
        }
      ]
    },
    {
      "cell_type": "markdown",
      "source": [
        "# **While loop**"
      ],
      "metadata": {
        "id": "f5_IP5j-ffcL"
      }
    },
    {
      "cell_type": "code",
      "source": [
        "#It executes as long as the condition is True\n",
        "count =0\n",
        "name = \"Sheelu\"\n",
        "\n",
        "while count<5:\n",
        "  print(name)\n",
        "  count+=1"
      ],
      "metadata": {
        "colab": {
          "base_uri": "https://localhost:8080/"
        },
        "id": "C7mKnopKhLv5",
        "outputId": "8124ea2b-88aa-4be3-fd32-3e561f909e0d"
      },
      "execution_count": 8,
      "outputs": [
        {
          "output_type": "stream",
          "name": "stdout",
          "text": [
            "Sheelu\n",
            "Sheelu\n",
            "Sheelu\n",
            "Sheelu\n",
            "Sheelu\n"
          ]
        }
      ]
    },
    {
      "cell_type": "markdown",
      "source": [
        "# **Loop Control Statements**"
      ],
      "metadata": {
        "id": "jU554BrqfmUX"
      }
    },
    {
      "cell_type": "markdown",
      "source": [
        "**Break Statement:** breaks or terminates the whole loop when condition fullfills."
      ],
      "metadata": {
        "id": "fS7cC9V4iEq4"
      }
    },
    {
      "cell_type": "code",
      "source": [
        "#Break Statement\n",
        "statement = \"I Love Python\"\n",
        "for i in range(10):\n",
        "  if i==5:\n",
        "    break\n",
        "  print(statement)"
      ],
      "metadata": {
        "colab": {
          "base_uri": "https://localhost:8080/"
        },
        "id": "ghm-aas_iULh",
        "outputId": "d09ab22b-fce9-44ab-b164-a09e1d657eb1"
      },
      "execution_count": 10,
      "outputs": [
        {
          "output_type": "stream",
          "name": "stdout",
          "text": [
            "I Love Python\n",
            "I Love Python\n",
            "I Love Python\n",
            "I Love Python\n",
            "I Love Python\n"
          ]
        }
      ]
    },
    {
      "cell_type": "markdown",
      "source": [
        "**Continue Statement:** it use to terminate current statement."
      ],
      "metadata": {
        "id": "-f1dXD75jifN"
      }
    },
    {
      "cell_type": "code",
      "source": [
        "#Continue statement\n",
        "for i in range(10):\n",
        "  if i%2 !=0:\n",
        "    continue\n",
        "  print(i)"
      ],
      "metadata": {
        "colab": {
          "base_uri": "https://localhost:8080/"
        },
        "id": "23A5MRftiUIJ",
        "outputId": "9dcee348-9358-42a8-f8ed-ebc1690ad507"
      },
      "execution_count": 11,
      "outputs": [
        {
          "output_type": "stream",
          "name": "stdout",
          "text": [
            "0\n",
            "2\n",
            "4\n",
            "6\n",
            "8\n"
          ]
        }
      ]
    },
    {
      "cell_type": "markdown",
      "source": [
        "Pass Statement:\n",
        "*   It is a null operation; it does nothing.\n",
        "*   we use it in empty function to not get error.\n",
        "*   if use comment pass statement or remove it, it may give error.\n",
        "*   It is not necessary to use it.\n",
        "\n",
        "\n",
        "\n"
      ],
      "metadata": {
        "id": "NV938XWmjxun"
      }
    },
    {
      "cell_type": "code",
      "source": [
        "for i in range(5):\n",
        "  if i!=3:\n",
        "    pass\n",
        "  print(i)"
      ],
      "metadata": {
        "colab": {
          "base_uri": "https://localhost:8080/"
        },
        "id": "hCFySwPAh-ro",
        "outputId": "3cc06e8d-823f-4a1e-9046-c011488fe895"
      },
      "execution_count": 12,
      "outputs": [
        {
          "output_type": "stream",
          "name": "stdout",
          "text": [
            "0\n",
            "1\n",
            "2\n",
            "3\n",
            "4\n"
          ]
        }
      ]
    },
    {
      "cell_type": "markdown",
      "source": [
        "# **Nested Loops**"
      ],
      "metadata": {
        "id": "-rcIWGBJlk6M"
      }
    },
    {
      "cell_type": "code",
      "source": [
        "for i in range(5):\n",
        "  for j in range(2):\n",
        "    print(f\"i:{i} and j:{j}\")"
      ],
      "metadata": {
        "colab": {
          "base_uri": "https://localhost:8080/"
        },
        "id": "Y9jHcdWNlq-Q",
        "outputId": "41623643-52a8-4b4e-822c-c7b86cc15b35"
      },
      "execution_count": 14,
      "outputs": [
        {
          "output_type": "stream",
          "name": "stdout",
          "text": [
            "i:0 and j:0\n",
            "i:0 and j:1\n",
            "i:1 and j:0\n",
            "i:1 and j:1\n",
            "i:2 and j:0\n",
            "i:2 and j:1\n",
            "i:3 and j:0\n",
            "i:3 and j:1\n",
            "i:4 and j:0\n",
            "i:4 and j:1\n"
          ]
        }
      ]
    },
    {
      "cell_type": "markdown",
      "source": [
        "# **Practical Examples**"
      ],
      "metadata": {
        "id": "OC6hbEGvlo8R"
      }
    },
    {
      "cell_type": "code",
      "source": [
        "#Calculate the sum of first N natural numbers using a while loop and for loop\n",
        "#while loop\n",
        "\n",
        "n =int(input(\"Enter the number = \"))\n",
        "sum =0\n",
        "count =1\n",
        "\n",
        "while count<=n:\n",
        "  sum+=count\n",
        "  count+=1\n",
        "print(f\"Sum of first {n} numbers is: {sum}\")"
      ],
      "metadata": {
        "colab": {
          "base_uri": "https://localhost:8080/"
        },
        "id": "l16XdipSmiR8",
        "outputId": "da0ca6df-31ee-452a-a7ec-ba7c8dea98a1"
      },
      "execution_count": 1,
      "outputs": [
        {
          "output_type": "stream",
          "name": "stdout",
          "text": [
            "Enter the number = 10\n",
            "Sum of first 10 numbers is: 55\n"
          ]
        }
      ]
    },
    {
      "cell_type": "code",
      "source": [
        "#for loop\n",
        "n =int(input(\"Enter the number = \"))\n",
        "sum =0\n",
        "\n",
        "for i in range (n+1):\n",
        "  sum+=i\n",
        "print(f\"Sum of first {n} numbers is: {sum}\")"
      ],
      "metadata": {
        "colab": {
          "base_uri": "https://localhost:8080/"
        },
        "id": "tejxBCwoppQZ",
        "outputId": "f8ff6e33-30db-4b26-c9f8-5b79f86fdf6c"
      },
      "execution_count": 3,
      "outputs": [
        {
          "output_type": "stream",
          "name": "stdout",
          "text": [
            "Enter the number = 10\n",
            "Sum of first 10 numbers is: 55\n"
          ]
        }
      ]
    },
    {
      "cell_type": "code",
      "source": [
        "#To find Prime numbers\n",
        "num=int(input(\"Enter the number to find prime: \"))\n",
        "\n",
        "if num>1:\n",
        "  for i in range(2,num):\n",
        "    if (num%i) == 0:\n",
        "      print(f\"{num} is not a prime number..\")\n",
        "      break\n",
        "  else:\n",
        "      print(f\"{num} is a prime number..\")\n",
        "else:\n",
        "  print(f\"{num} is not a prime number\")"
      ],
      "metadata": {
        "colab": {
          "base_uri": "https://localhost:8080/"
        },
        "id": "z68pO7zSw8Y_",
        "outputId": "27deeff0-0625-4e5b-ed48-8de6dc883ced"
      },
      "execution_count": 9,
      "outputs": [
        {
          "output_type": "stream",
          "name": "stdout",
          "text": [
            "Enter the number to find prime: 47\n",
            "47 is a prime number..\n"
          ]
        }
      ]
    },
    {
      "cell_type": "code",
      "source": [
        "#Prime Number between two numbers\n",
        "num1=int(input(\"Enter the starting Number: \"))\n",
        "num2=int(input(\"Enter the Last Number: \"))\n",
        "\n",
        "for num in range(num1,num2+1):\n",
        "  if num>1:\n",
        "    for i in range(num1+1,num):\n",
        "      if num%i==0:\n",
        "        break\n",
        "    else:\n",
        "      print(num)"
      ],
      "metadata": {
        "colab": {
          "base_uri": "https://localhost:8080/"
        },
        "id": "w5YPwgn8qQbM",
        "outputId": "8d8a7cce-61c5-4800-dec8-91cf2bbc1f04"
      },
      "execution_count": 4,
      "outputs": [
        {
          "output_type": "stream",
          "name": "stdout",
          "text": [
            "Enter the starting Number: 1\n",
            "Enter the Last Number: 50\n",
            "2\n",
            "3\n",
            "5\n",
            "7\n",
            "11\n",
            "13\n",
            "17\n",
            "19\n",
            "23\n",
            "29\n",
            "31\n",
            "37\n",
            "41\n",
            "43\n",
            "47\n"
          ]
        }
      ]
    }
  ]
}