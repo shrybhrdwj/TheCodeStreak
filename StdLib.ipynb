{
  "nbformat": 4,
  "nbformat_minor": 0,
  "metadata": {
    "colab": {
      "provenance": [],
      "authorship_tag": "ABX9TyNld9vq2GM0NgsWpiPELHhI",
      "include_colab_link": true
    },
    "kernelspec": {
      "name": "python3",
      "display_name": "Python 3"
    },
    "language_info": {
      "name": "python"
    }
  },
  "cells": [
    {
      "cell_type": "markdown",
      "metadata": {
        "id": "view-in-github",
        "colab_type": "text"
      },
      "source": [
        "<a href=\"https://colab.research.google.com/github/shrybhrdwj/TheCodeStreak/blob/main/StdLib.ipynb\" target=\"_parent\"><img src=\"https://colab.research.google.com/assets/colab-badge.svg\" alt=\"Open In Colab\"/></a>"
      ]
    },
    {
      "cell_type": "markdown",
      "source": [
        "## **Standard Library Overview**\n",
        "Python's Standard Library is a vast collection of modules and packages that come bundled with Python, providing a wide range of functionalities out of the box."
      ],
      "metadata": {
        "id": "oKruG3OyNwfH"
      }
    },
    {
      "cell_type": "code",
      "execution_count": 3,
      "metadata": {
        "colab": {
          "base_uri": "https://localhost:8080/"
        },
        "id": "YHyWmXLgNnC_",
        "outputId": "bef65689-8111-4afe-8d50-267b10357efe"
      },
      "outputs": [
        {
          "output_type": "stream",
          "name": "stdout",
          "text": [
            "array('i', [1, 2, 3, 4])\n"
          ]
        }
      ],
      "source": [
        "import array\n",
        "arr = array.array('i',[1,2,3,4])\n",
        "print(arr)"
      ]
    },
    {
      "cell_type": "code",
      "source": [
        "import math\n",
        "print(math.sqrt(81))\n"
      ],
      "metadata": {
        "colab": {
          "base_uri": "https://localhost:8080/"
        },
        "id": "cPWFwb6MOTRm",
        "outputId": "eb0e5906-80f6-4b91-f18b-214e6692b37f"
      },
      "execution_count": 4,
      "outputs": [
        {
          "output_type": "stream",
          "name": "stdout",
          "text": [
            "9.0\n"
          ]
        }
      ]
    },
    {
      "cell_type": "code",
      "source": [
        "# random\n",
        "\n",
        "import random\n",
        "print(random.randint(1,10))\n",
        "print(random.choice(['apple','banana','cherry']))"
      ],
      "metadata": {
        "colab": {
          "base_uri": "https://localhost:8080/"
        },
        "id": "-ZW0fTmUOb8E",
        "outputId": "f41189a6-eaba-4f15-c903-1342105f0bc1"
      },
      "execution_count": 5,
      "outputs": [
        {
          "output_type": "stream",
          "name": "stdout",
          "text": [
            "5\n",
            "cherry\n"
          ]
        }
      ]
    },
    {
      "cell_type": "markdown",
      "source": [
        "### **File and Directory Access**"
      ],
      "metadata": {
        "id": "V-xuM505YUz6"
      }
    },
    {
      "cell_type": "code",
      "source": [
        "import os\n",
        "print(os.getcwd())"
      ],
      "metadata": {
        "colab": {
          "base_uri": "https://localhost:8080/"
        },
        "id": "IzRnC1eTO6Jx",
        "outputId": "e1f715be-32f2-4665-cd44-c838e92fca13"
      },
      "execution_count": 6,
      "outputs": [
        {
          "output_type": "stream",
          "name": "stdout",
          "text": [
            "/content\n"
          ]
        }
      ]
    },
    {
      "cell_type": "code",
      "source": [
        "os.mkdir('test_dir')"
      ],
      "metadata": {
        "id": "BrCMZUBFPNrk"
      },
      "execution_count": 7,
      "outputs": []
    },
    {
      "cell_type": "code",
      "source": [
        "%%writefile source.text\n",
        "Hello, How are you\n",
        "I am fine"
      ],
      "metadata": {
        "colab": {
          "base_uri": "https://localhost:8080/"
        },
        "id": "OXh2jItuXozj",
        "outputId": "b8f873ea-ae42-4cd4-a198-0bdb0251a917"
      },
      "execution_count": 8,
      "outputs": [
        {
          "output_type": "stream",
          "name": "stdout",
          "text": [
            "Writing source.text\n"
          ]
        }
      ]
    },
    {
      "cell_type": "code",
      "source": [
        "# High level operations on files and collection of files\n",
        "\n",
        "import shutil\n",
        "shutil.copyfile('/content/source.text','destintion.txt')"
      ],
      "metadata": {
        "colab": {
          "base_uri": "https://localhost:8080/",
          "height": 36
        },
        "id": "r0I-XC9IPV0m",
        "outputId": "925b94e9-4a62-4293-b41d-76a2c843313e"
      },
      "execution_count": 9,
      "outputs": [
        {
          "output_type": "execute_result",
          "data": {
            "text/plain": [
              "'destintion.txt'"
            ],
            "application/vnd.google.colaboratory.intrinsic+json": {
              "type": "string"
            }
          },
          "metadata": {},
          "execution_count": 9
        }
      ]
    },
    {
      "cell_type": "markdown",
      "source": [
        "### **Data Serialization**"
      ],
      "metadata": {
        "id": "2D81bKEjRmQE"
      }
    },
    {
      "cell_type": "code",
      "source": [
        "# Data Serialization\n",
        "\n",
        "import json\n",
        "data={'name':'Shreya','age':'21'}\n",
        "\n",
        "json_str=json.dumps(data)\n",
        "print(json_str)\n",
        "print(type(json_str))\n",
        "\n",
        "parsed_data=json.loads(json_str)\n",
        "print(parsed_data)\n",
        "print(type(parsed_data))"
      ],
      "metadata": {
        "colab": {
          "base_uri": "https://localhost:8080/"
        },
        "id": "MJIF_-jZQyEE",
        "outputId": "5621710e-b337-4777-96b1-da0b07c487f7"
      },
      "execution_count": null,
      "outputs": [
        {
          "output_type": "stream",
          "name": "stdout",
          "text": [
            "{\"name\": \"Shreya\", \"age\": \"21\"}\n",
            "<class 'str'>\n",
            "{'name': 'Shreya', 'age': '21'}\n",
            "<class 'dict'>\n"
          ]
        }
      ]
    },
    {
      "cell_type": "markdown",
      "source": [
        "### **CSV**"
      ],
      "metadata": {
        "id": "xSAfsxcRRysX"
      }
    },
    {
      "cell_type": "code",
      "source": [
        "import csv\n",
        "\n",
        "with open('example.csv',mode='w',newline='') as file:\n",
        "  writer=csv.writer(file)\n",
        "  writer.writerow(['name','age'])\n",
        "  writer.writerow(['Shreya',21])\n",
        "\n",
        "with open('example.csv',mode='r') as file:\n",
        "  reader=csv.reader(file)\n",
        "  for row in reader:\n",
        "    print(row)"
      ],
      "metadata": {
        "id": "PgLmEXD7R2IR",
        "colab": {
          "base_uri": "https://localhost:8080/"
        },
        "outputId": "2bded8ca-5824-47d7-c772-de502b6c55f6"
      },
      "execution_count": 1,
      "outputs": [
        {
          "output_type": "stream",
          "name": "stdout",
          "text": [
            "['name', 'age']\n",
            "['Shreya', '21']\n"
          ]
        }
      ]
    },
    {
      "cell_type": "markdown",
      "source": [
        "### **DateTime**"
      ],
      "metadata": {
        "id": "vcNGn3u6R8jm"
      }
    },
    {
      "cell_type": "code",
      "source": [
        "from datetime import datetime,timedelta\n",
        "\n",
        "now=datetime.now()\n",
        "print(now)\n",
        "\n",
        "yesterday=now-timedelta(days=1)\n",
        "print(yesterday)"
      ],
      "metadata": {
        "colab": {
          "base_uri": "https://localhost:8080/"
        },
        "id": "QSUX51eVR8Cz",
        "outputId": "dc5ec99a-345b-46ce-be78-17b2ca28f05f"
      },
      "execution_count": 11,
      "outputs": [
        {
          "output_type": "stream",
          "name": "stdout",
          "text": [
            "2025-08-11 07:51:54.462836\n",
            "2025-08-10 07:51:54.462836\n"
          ]
        }
      ]
    },
    {
      "cell_type": "code",
      "source": [
        "!pip install pytz\n",
        "from datetime import datetime, timedelta\n",
        "import pytz\n",
        "\n",
        "# Set timezone to IST\n",
        "ist = pytz.timezone('Asia/Kolkata')\n",
        "\n",
        "now = datetime.now(ist)\n",
        "print(\"Now:\", now)\n",
        "\n",
        "yesterday = now - timedelta(days=1)\n",
        "print(\"Yesterday:\", yesterday)\n"
      ],
      "metadata": {
        "colab": {
          "base_uri": "https://localhost:8080/"
        },
        "id": "wPhPWs22HtrB",
        "outputId": "6e46451a-2844-484f-844f-128ba3ecd0b6"
      },
      "execution_count": 12,
      "outputs": [
        {
          "output_type": "stream",
          "name": "stdout",
          "text": [
            "Requirement already satisfied: pytz in /usr/local/lib/python3.11/dist-packages (2025.2)\n",
            "Now: 2025-08-11 13:32:24.027523+05:30\n",
            "Yesterday: 2025-08-10 13:32:24.027523+05:30\n"
          ]
        }
      ]
    },
    {
      "cell_type": "code",
      "source": [
        "from datetime import datetime, timedelta\n",
        "from zoneinfo import ZoneInfo\n",
        "\n",
        "ist = ZoneInfo(\"Asia/Kolkata\")\n",
        "\n",
        "now = datetime.now(ist)\n",
        "print(\"Now:\", now)\n",
        "\n",
        "yesterday = now - timedelta(days=1)\n",
        "print(\"Yesterday:\", yesterday)"
      ],
      "metadata": {
        "colab": {
          "base_uri": "https://localhost:8080/"
        },
        "id": "l3pREtzfJ461",
        "outputId": "893fbbf4-2409-48ce-c37f-87bcda3ed7a6"
      },
      "execution_count": 13,
      "outputs": [
        {
          "output_type": "stream",
          "name": "stdout",
          "text": [
            "Now: 2025-08-11 13:33:15.613915+05:30\n",
            "Yesterday: 2025-08-10 13:33:15.613915+05:30\n"
          ]
        }
      ]
    },
    {
      "cell_type": "code",
      "source": [
        "import time\n",
        "print(time.time())\n",
        "time.sleep(2)\n",
        "print(time.time())"
      ],
      "metadata": {
        "colab": {
          "base_uri": "https://localhost:8080/"
        },
        "id": "3e8s5DAoSe7i",
        "outputId": "a41ec49f-c28d-4314-b465-3342b5abdc6b"
      },
      "execution_count": null,
      "outputs": [
        {
          "output_type": "stream",
          "name": "stdout",
          "text": [
            "1754851356.0896833\n",
            "1754851358.090316\n"
          ]
        }
      ]
    },
    {
      "cell_type": "markdown",
      "source": [
        "### **Regular Expression**"
      ],
      "metadata": {
        "id": "KjiD4sADSsOq"
      }
    },
    {
      "cell_type": "code",
      "source": [
        "from typing import Pattern\n",
        "import re\n",
        "\n",
        "pattern=r'\\d+'\n",
        "text='There are 46 apples in town 65'\n",
        "match=re.search(pattern,text)\n",
        "print(match.group())"
      ],
      "metadata": {
        "colab": {
          "base_uri": "https://localhost:8080/"
        },
        "id": "kUbGf4eZSxWH",
        "outputId": "53dfe5dc-8e44-4f4f-ef7d-3755462232ae"
      },
      "execution_count": null,
      "outputs": [
        {
          "output_type": "stream",
          "name": "stdout",
          "text": [
            "46\n"
          ]
        }
      ]
    },
    {
      "cell_type": "markdown",
      "source": [
        "Python's Standard Library is extensive and provides tools for almost any task we can think of, from file handling to web services, from data serialization to concurrent execution. Familiarizing ourself with the modules and packages available in the Standard Library can significantly enhance our ability to write efficient and effective Python programs."
      ],
      "metadata": {
        "id": "g3flW9uhTexR"
      }
    }
  ]
}