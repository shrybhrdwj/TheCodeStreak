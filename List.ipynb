{
  "nbformat": 4,
  "nbformat_minor": 0,
  "metadata": {
    "colab": {
      "provenance": [],
      "authorship_tag": "ABX9TyNMpB55xivaDDRLQfFfwLX8",
      "include_colab_link": true
    },
    "kernelspec": {
      "name": "python3",
      "display_name": "Python 3"
    },
    "language_info": {
      "name": "python"
    }
  },
  "cells": [
    {
      "cell_type": "markdown",
      "metadata": {
        "id": "view-in-github",
        "colab_type": "text"
      },
      "source": [
        "<a href=\"https://colab.research.google.com/github/shrybhrdwj/TheCodeStreak/blob/main/List.ipynb\" target=\"_parent\"><img src=\"https://colab.research.google.com/assets/colab-badge.svg\" alt=\"Open In Colab\"/></a>"
      ]
    },
    {
      "cell_type": "markdown",
      "source": [
        "# **Modifying List Elements**"
      ],
      "metadata": {
        "id": "RNdvykNAQuvq"
      }
    },
    {
      "cell_type": "code",
      "execution_count": null,
      "metadata": {
        "colab": {
          "base_uri": "https://localhost:8080/"
        },
        "id": "s3Y_6FyA2jmN",
        "outputId": "566953e5-f25e-4b37-bab4-261a387bc33b"
      },
      "outputs": [
        {
          "output_type": "execute_result",
          "data": {
            "text/plain": [
              "['Banana', 'apple', 'pineapple', 'kiwi']"
            ]
          },
          "metadata": {},
          "execution_count": 15
        }
      ],
      "source": [
        "fruits=['Banana', 'apple', 'pineapple', 'kiwi']\n",
        "fruits"
      ]
    },
    {
      "cell_type": "code",
      "source": [
        "fruits[1] =\"wattermelon\"\n",
        "fruits"
      ],
      "metadata": {
        "colab": {
          "base_uri": "https://localhost:8080/"
        },
        "id": "EkP1kcePR-Vj",
        "outputId": "d940e2dd-8cde-43c8-c1f8-845c058b4a58"
      },
      "execution_count": null,
      "outputs": [
        {
          "output_type": "execute_result",
          "data": {
            "text/plain": [
              "['Banana', 'wattermelon', 'pineapple', 'kiwi']"
            ]
          },
          "metadata": {},
          "execution_count": 14
        }
      ]
    },
    {
      "cell_type": "markdown",
      "source": [
        "# **List Methods**"
      ],
      "metadata": {
        "id": "cRt5s3jLTBFC"
      }
    },
    {
      "cell_type": "markdown",
      "source": [
        "### **1. List append()**"
      ],
      "metadata": {
        "id": "J5SX8pJsYyBG"
      }
    },
    {
      "cell_type": "code",
      "source": [
        "#List append()\n",
        "#append element in the list itself\n",
        "\n",
        "car = ['Mercedes','Tesla','BMW']\n",
        "car.append('Nissan')\n",
        "car"
      ],
      "metadata": {
        "colab": {
          "base_uri": "https://localhost:8080/"
        },
        "id": "5T1gJ96QShkO",
        "outputId": "e3945d28-15ab-46f7-9cbb-c68d43fe0025"
      },
      "execution_count": null,
      "outputs": [
        {
          "output_type": "execute_result",
          "data": {
            "text/plain": [
              "['Mercedes', 'Tesla', 'BMW', 'Nissan']"
            ]
          },
          "metadata": {},
          "execution_count": 18
        }
      ]
    },
    {
      "cell_type": "code",
      "source": [
        "#Append another list to the main list\n",
        "\n",
        "Drivers = ['Max Verstappen','Yuki Tsunoda']\n",
        "Ferrari = ['Charles Leclerc','Lewis Hamilton']\n",
        "\n",
        "Drivers.append(Ferrari)\n",
        "print(Drivers)"
      ],
      "metadata": {
        "colab": {
          "base_uri": "https://localhost:8080/"
        },
        "id": "n4YeuHtnWxSN",
        "outputId": "6f797fd3-a900-411b-d3dd-18f29ceb81b5"
      },
      "execution_count": null,
      "outputs": [
        {
          "output_type": "stream",
          "name": "stdout",
          "text": [
            "['Max Verstappen', 'Yuki Tsunoda', ['Charles Leclerc', 'Lewis Hamilton']]\n"
          ]
        }
      ]
    },
    {
      "cell_type": "markdown",
      "source": [
        "### **2. List extend():** This method adds all the items of the specified iterable, such as list, tuple, dictionary, or string , to the end of a list."
      ],
      "metadata": {
        "id": "q5U2wmCGeE31"
      }
    },
    {
      "cell_type": "code",
      "source": [
        "languages = ['French', 'English']\n",
        "languages1 = ['Spanish', 'Portuguese']\n",
        "\n",
        "# append items of language1 to language\n",
        "languages.extend(languages1)\n",
        "print('Languages List:', languages)"
      ],
      "metadata": {
        "colab": {
          "base_uri": "https://localhost:8080/"
        },
        "id": "5L7NIDdBgHzJ",
        "outputId": "40223132-3d63-4ee8-b21a-8cb0a55d3c4a"
      },
      "execution_count": null,
      "outputs": [
        {
          "output_type": "stream",
          "name": "stdout",
          "text": [
            "Languages List: ['French', 'English', 'Spanish', 'Portuguese']\n"
          ]
        }
      ]
    },
    {
      "cell_type": "markdown",
      "source": [
        "Add Items from Other Iterables"
      ],
      "metadata": {
        "id": "v0Jdr-nkgR0m"
      }
    },
    {
      "cell_type": "code",
      "source": [
        "languages = ['French']\n",
        "\n",
        "languages_tuple = ('Spanish', 'Portuguese')\n",
        "\n",
        "# add items of the tuple to the languages list\n",
        "languages.extend(languages_tuple)\n",
        "print(languages)\n",
        "\n",
        "languages_set = {'Chinese', 'Japanese'}\n",
        "\n",
        "# add items of the set to the languages list\n",
        "languages.extend(languages_set)\n",
        "print(languages)"
      ],
      "metadata": {
        "colab": {
          "base_uri": "https://localhost:8080/"
        },
        "id": "MNQPbvR6gPhL",
        "outputId": "4519d86c-eb1a-4d6b-e1c4-c73441a2ef91"
      },
      "execution_count": null,
      "outputs": [
        {
          "output_type": "stream",
          "name": "stdout",
          "text": [
            "['French', 'Spanish', 'Portuguese']\n",
            "['French', 'Spanish', 'Portuguese', 'Chinese', 'Japanese']\n"
          ]
        }
      ]
    },
    {
      "cell_type": "markdown",
      "source": [
        "Using '+' Operator: We can also extend a list using the + operator.."
      ],
      "metadata": {
        "id": "peHIl6logpnO"
      }
    },
    {
      "cell_type": "code",
      "source": [
        "a = [1, 2]\n",
        "b = [3, 4]\n",
        "\n",
        "a = a + b\n",
        "\n",
        "print(a)\n",
        "\n",
        "Name='Shreya '\n",
        "Surname1='Singh '\n",
        "Surname2='Bhardwaj'\n",
        "\n",
        "Name=Name+ Surname1+ Surname2\n",
        "print(Name)"
      ],
      "metadata": {
        "colab": {
          "base_uri": "https://localhost:8080/"
        },
        "id": "YB0HV8oBg8PQ",
        "outputId": "024642fb-8545-494b-c9c4-17bd3aae8a2c"
      },
      "execution_count": null,
      "outputs": [
        {
          "output_type": "stream",
          "name": "stdout",
          "text": [
            "[1, 2, 3, 4]\n",
            "Shreya Singh Bhardwaj\n"
          ]
        }
      ]
    },
    {
      "cell_type": "code",
      "source": [
        "#Python extend() Vs append()\n",
        "\n",
        "a1 = [1, 2]\n",
        "a2 = [1, 2]\n",
        "b = (3, 4)\n",
        "\n",
        "# add items of b to the a1 list\n",
        "a1.extend(b) #  [1, 2, 3, 4]\n",
        "print(f\"Extended Elements: {a1}\")\n",
        "\n",
        "# add b itself to the a1 list\n",
        "a2.append(b)\n",
        "print(f\"List after append: {a2}\")"
      ],
      "metadata": {
        "colab": {
          "base_uri": "https://localhost:8080/"
        },
        "id": "wAgd3ZZVeWtP",
        "outputId": "642a8436-0bb1-4945-d088-3e2709582a07"
      },
      "execution_count": null,
      "outputs": [
        {
          "output_type": "stream",
          "name": "stdout",
          "text": [
            "Extended Elements: [1, 2, 3, 4]\n",
            "List after append: [1, 2, (3, 4)]\n"
          ]
        }
      ]
    },
    {
      "cell_type": "markdown",
      "source": [
        "### **3. List clear():** this method removes all the elements from the list."
      ],
      "metadata": {
        "id": "VzYJaGmzZrLn"
      }
    },
    {
      "cell_type": "code",
      "source": [
        "prime_numbers = [2, 3, 5, 7, 9, 11]\n",
        "\n",
        "# remove all elements\n",
        "prime_numbers.clear()\n",
        "\n",
        "# Updated prime_numbers List\n",
        "print('List after clear():', prime_numbers)"
      ],
      "metadata": {
        "colab": {
          "base_uri": "https://localhost:8080/"
        },
        "id": "rfttgdREY8wK",
        "outputId": "21959941-f7c4-4144-8e35-b8738a72bb43"
      },
      "execution_count": null,
      "outputs": [
        {
          "output_type": "stream",
          "name": "stdout",
          "text": [
            "List after clear(): []\n"
          ]
        }
      ]
    },
    {
      "cell_type": "code",
      "source": [
        "list = [{1, 2}, ('a'), ['1.1', '2.2']]\n",
        "\n",
        "# clearing the list\n",
        "list.clear()\n",
        "\n",
        "print('List:', list)"
      ],
      "metadata": {
        "colab": {
          "base_uri": "https://localhost:8080/"
        },
        "id": "O6AVn9T4apeK",
        "outputId": "211cb4c0-d43b-49fc-8380-8f37daaec562"
      },
      "execution_count": null,
      "outputs": [
        {
          "output_type": "stream",
          "name": "stdout",
          "text": [
            "List: []\n"
          ]
        }
      ]
    },
    {
      "cell_type": "code",
      "source": [
        "# Defining a list\n",
        "list = [{1, 2}, ('a'), ['1.1', '2.2']]\n",
        "\n",
        "# clearing the list\n",
        "del list[:]\n",
        "\n",
        "print('List:', list)"
      ],
      "metadata": {
        "colab": {
          "base_uri": "https://localhost:8080/"
        },
        "id": "0PWLXK7oa7nz",
        "outputId": "cb104572-e4af-4048-ec50-b385cf77a5b7"
      },
      "execution_count": null,
      "outputs": [
        {
          "output_type": "stream",
          "name": "stdout",
          "text": [
            "List: []\n"
          ]
        }
      ]
    },
    {
      "cell_type": "markdown",
      "source": [
        "### **4. List copy():** this method returns a shallow copy of the list."
      ],
      "metadata": {
        "id": "HHNRahgnbUHI"
      }
    },
    {
      "cell_type": "code",
      "source": [
        "# mixed list\n",
        "prime_numbers = [2, 3, 5]\n",
        "\n",
        "# copying a list\n",
        "numbers = prime_numbers.copy()\n",
        "\n",
        "print('Copied List:', numbers)\n"
      ],
      "metadata": {
        "colab": {
          "base_uri": "https://localhost:8080/"
        },
        "id": "jmhjU7Wkbedm",
        "outputId": "98ae37be-6cbf-4b66-a4be-a60313e581a7"
      },
      "execution_count": null,
      "outputs": [
        {
          "output_type": "stream",
          "name": "stdout",
          "text": [
            "Copied List: [2, 3, 5]\n"
          ]
        }
      ]
    },
    {
      "cell_type": "code",
      "source": [
        "#We can also use the = operator to copy a list.\n",
        "\n",
        "old_list = [1, 2, 3]\n",
        "\n",
        "# copy list using =\n",
        "new_list = old_list\n",
        "\n",
        "# add an element to list\n",
        "new_list.append('a')\n",
        "\n",
        "print('New List:', new_list)\n",
        "print('Old List:', old_list)"
      ],
      "metadata": {
        "colab": {
          "base_uri": "https://localhost:8080/"
        },
        "id": "r76kjfMhby-W",
        "outputId": "1162b39c-1091-46e1-a273-a2945e82b547"
      },
      "execution_count": null,
      "outputs": [
        {
          "output_type": "stream",
          "name": "stdout",
          "text": [
            "New List: [1, 2, 3, 'a']\n",
            "Old List: [1, 2, 3, 'a']\n"
          ]
        }
      ]
    },
    {
      "cell_type": "code",
      "source": [
        "# shallow copy using the slicing syntax\n",
        "\n",
        "# mixed list\n",
        "list = ['cat', 0, 6.7]\n",
        "\n",
        "# copying a list using slicing\n",
        "new_list = list[:]\n",
        "\n",
        "# Adding an element to the new list\n",
        "new_list.append('dog')\n",
        "\n",
        "# Printing new and old list\n",
        "print('Old List:', list)\n",
        "print('New List:', new_list)"
      ],
      "metadata": {
        "colab": {
          "base_uri": "https://localhost:8080/"
        },
        "id": "RhUucBcZcMsW",
        "outputId": "763a95c8-c45c-4a22-e7cd-83a985016be5"
      },
      "execution_count": null,
      "outputs": [
        {
          "output_type": "stream",
          "name": "stdout",
          "text": [
            "Old List: ['cat', 0, 6.7]\n",
            "New List: ['cat', 0, 6.7, 'dog']\n"
          ]
        }
      ]
    },
    {
      "cell_type": "markdown",
      "source": [
        "### **5. List count():** this method returns the number of times the specified element appears in the list."
      ],
      "metadata": {
        "id": "LFYBOCc5dEIK"
      }
    },
    {
      "cell_type": "code",
      "source": [
        "# vowels list\n",
        "vowels = ['a', 'e', 'i', 'o', 'i', 'u']\n",
        "\n",
        "# count element 'i'\n",
        "count = vowels.count('i')\n",
        "print('The count of i is:', count)\n",
        "\n",
        "# count element 'p'\n",
        "count = vowels.count('p')\n",
        "print('The count of p is:', count)"
      ],
      "metadata": {
        "colab": {
          "base_uri": "https://localhost:8080/"
        },
        "id": "_oQ8pqAidnD_",
        "outputId": "e81befae-8086-41d9-9ddd-60b23473be02"
      },
      "execution_count": null,
      "outputs": [
        {
          "output_type": "stream",
          "name": "stdout",
          "text": [
            "The count of i is: 2\n",
            "The count of p is: 0\n"
          ]
        }
      ]
    },
    {
      "cell_type": "code",
      "source": [
        "# random list\n",
        "random = ['a', ('a', 'b'), ('a', 'b'), [3, 4]]\n",
        "\n",
        "# count element ('a', 'b')\n",
        "count = random.count(('a', 'b'))\n",
        "print(\"The count of ('a', 'b') is:\", count)\n",
        "\n",
        "# count element [3, 4]\n",
        "count = random.count([3, 4])\n",
        "print(\"The count of [3, 4] is:\", count)"
      ],
      "metadata": {
        "colab": {
          "base_uri": "https://localhost:8080/"
        },
        "id": "F1PELNnedV30",
        "outputId": "b1a0826a-cb7d-41e9-dc7b-41932e3e1cf5"
      },
      "execution_count": null,
      "outputs": [
        {
          "output_type": "stream",
          "name": "stdout",
          "text": [
            "The count of ('a', 'b') is: 2\n",
            "The count of [3, 4] is: 1\n"
          ]
        }
      ]
    },
    {
      "cell_type": "markdown",
      "source": [
        "### **6. List index():** This method returns the index of the specified element in the list."
      ],
      "metadata": {
        "id": "pInaw7H3fA1_"
      }
    },
    {
      "cell_type": "code",
      "source": [
        "# vowels list\n",
        "vowels = ['a', 'e', 'i', 'o', 'i', 'u']\n",
        "\n",
        "# index of 'e' in vowels\n",
        "index = vowels.index('e')\n",
        "print('The index of e:', index)\n",
        "\n",
        "# index of first 'i'\n",
        "index = vowels.index('i')\n",
        "print('The index of i:', index)"
      ],
      "metadata": {
        "colab": {
          "base_uri": "https://localhost:8080/"
        },
        "id": "_WQmRVcfi9sm",
        "outputId": "1429b510-248e-44f1-d591-4377f4b09ed0"
      },
      "execution_count": null,
      "outputs": [
        {
          "output_type": "stream",
          "name": "stdout",
          "text": [
            "The index of e: 1\n",
            "The index of i: 2\n"
          ]
        }
      ]
    },
    {
      "cell_type": "code",
      "source": [
        "#Working of index() With Start and End Parameters\n",
        "\n",
        "# alphabets list\n",
        "alphabets = ['a', 'e', 'i', 'o', 'g', 'l', 'i', 'u']\n",
        "\n",
        "# index of 'i' in alphabets\n",
        "index = alphabets.index('e')   # 1\n",
        "print('The index of e:', index)\n",
        "\n",
        "# 'i' after the 4th index is searched\n",
        "index = alphabets.index('i', 4)   # 6\n",
        "print('The index of i:', index)\n",
        "\n",
        "# 'i' between 3rd and 5th index is searched\n",
        "index = alphabets.index('i', 3, 5)\n",
        "print('The index of i:', index)"
      ],
      "metadata": {
        "colab": {
          "base_uri": "https://localhost:8080/",
          "height": 228
        },
        "id": "cHD78b3ThvQ0",
        "outputId": "ad089ed7-973a-4b91-d003-0cbbaca47d1f"
      },
      "execution_count": null,
      "outputs": [
        {
          "output_type": "stream",
          "name": "stdout",
          "text": [
            "The index of e: 1\n",
            "The index of i: 6\n"
          ]
        },
        {
          "output_type": "error",
          "ename": "ValueError",
          "evalue": "'i' is not in list",
          "traceback": [
            "\u001b[0;31m---------------------------------------------------------------------------\u001b[0m",
            "\u001b[0;31mValueError\u001b[0m                                Traceback (most recent call last)",
            "\u001b[0;32m/tmp/ipython-input-42-523472812.py\u001b[0m in \u001b[0;36m<cell line: 0>\u001b[0;34m()\u001b[0m\n\u001b[1;32m     13\u001b[0m \u001b[0;34m\u001b[0m\u001b[0m\n\u001b[1;32m     14\u001b[0m \u001b[0;31m# 'i' between 3rd and 5th index is searched\u001b[0m\u001b[0;34m\u001b[0m\u001b[0;34m\u001b[0m\u001b[0m\n\u001b[0;32m---> 15\u001b[0;31m \u001b[0mindex\u001b[0m \u001b[0;34m=\u001b[0m \u001b[0malphabets\u001b[0m\u001b[0;34m.\u001b[0m\u001b[0mindex\u001b[0m\u001b[0;34m(\u001b[0m\u001b[0;34m'i'\u001b[0m\u001b[0;34m,\u001b[0m \u001b[0;36m3\u001b[0m\u001b[0;34m,\u001b[0m \u001b[0;36m5\u001b[0m\u001b[0;34m)\u001b[0m   \u001b[0;31m# Error!\u001b[0m\u001b[0;34m\u001b[0m\u001b[0;34m\u001b[0m\u001b[0m\n\u001b[0m\u001b[1;32m     16\u001b[0m \u001b[0mprint\u001b[0m\u001b[0;34m(\u001b[0m\u001b[0;34m'The index of i:'\u001b[0m\u001b[0;34m,\u001b[0m \u001b[0mindex\u001b[0m\u001b[0;34m)\u001b[0m\u001b[0;34m\u001b[0m\u001b[0;34m\u001b[0m\u001b[0m\n",
            "\u001b[0;31mValueError\u001b[0m: 'i' is not in list"
          ]
        }
      ]
    },
    {
      "cell_type": "markdown",
      "source": [
        "### **7. List insert():** This method inserts an element to the list at the specified index."
      ],
      "metadata": {
        "id": "y2aUijiffAqk"
      }
    },
    {
      "cell_type": "code",
      "source": [
        "# create a list of prime numbers\n",
        "prime_numbers = [2, 3, 5, 7]\n",
        "\n",
        "# insert 11 at index 4\n",
        "prime_numbers.insert(4, 11)\n",
        "\n",
        "print('List:', prime_numbers)"
      ],
      "metadata": {
        "colab": {
          "base_uri": "https://localhost:8080/"
        },
        "id": "IQR8q7n2mrZE",
        "outputId": "49dd1355-a85e-45fa-c53e-2ce13f091c72"
      },
      "execution_count": null,
      "outputs": [
        {
          "output_type": "stream",
          "name": "stdout",
          "text": [
            "List: [2, 3, 5, 7, 11]\n"
          ]
        }
      ]
    },
    {
      "cell_type": "code",
      "source": [
        "#Inserting a Tuple (as an Element) to the List\n",
        "\n",
        "mixed_list = [{1, 2}, [5, 6, 7]]\n",
        "print(f\"List: {mixed_list}\")\n",
        "\n",
        "# number tuple\n",
        "number_tuple = (3, 4)\n",
        "\n",
        "# inserting a tuple to the list\n",
        "mixed_list.insert(1, number_tuple)\n",
        "\n",
        "print('Updated List:', mixed_list)"
      ],
      "metadata": {
        "colab": {
          "base_uri": "https://localhost:8080/"
        },
        "id": "iyE-y28plOnm",
        "outputId": "01904d5c-5b1f-44b0-97c2-91aff968b829"
      },
      "execution_count": null,
      "outputs": [
        {
          "output_type": "stream",
          "name": "stdout",
          "text": [
            "List: [{1, 2}, [5, 6, 7]]\n",
            "Updated List: [{1, 2}, (3, 4), [5, 6, 7]]\n"
          ]
        }
      ]
    },
    {
      "cell_type": "markdown",
      "source": [
        "### **8. List pop():** This list method removes the item at the specified index. The method also returns the removed item."
      ],
      "metadata": {
        "id": "4Dzp7WSKkaS0"
      }
    },
    {
      "cell_type": "code",
      "source": [
        "# Pop item at the given index from the list\n",
        "\n",
        "# programming languages list\n",
        "languages = ['Python', 'Java', 'C++', 'French', 'C']\n",
        "\n",
        "# remove and return the 4th item\n",
        "return_value = languages.pop(3)\n",
        "print('Return Value:', return_value)\n",
        "\n",
        "# Updated List\n",
        "print('Updated List:', languages)"
      ],
      "metadata": {
        "colab": {
          "base_uri": "https://localhost:8080/"
        },
        "id": "uMqy68PMoi3o",
        "outputId": "d135a1dc-6b60-4090-f38f-da3edf6dd2c1"
      },
      "execution_count": null,
      "outputs": [
        {
          "output_type": "stream",
          "name": "stdout",
          "text": [
            "Return Value: French\n",
            "Updated List: ['Python', 'Java', 'C++', 'C']\n"
          ]
        }
      ]
    },
    {
      "cell_type": "code",
      "source": [
        "# pop() without an index, and for negative indices\n",
        "\n",
        "# programming languages list\n",
        "languages = ['Python', 'Java', 'C++', 'Ruby', 'C']\n",
        "\n",
        "# remove and return the last item\n",
        "print('When index is not passed:')\n",
        "print('Return Value:', languages.pop())\n",
        "print('Updated List:', languages)\n",
        "\n",
        "# remove and return the last item\n",
        "print('\\nWhen -1 is passed:')\n",
        "print('Return Value:', languages.pop(-1))\n",
        "print('Updated List:', languages)\n",
        "\n",
        "# remove and return the third last item\n",
        "print('\\nWhen -3 is passed:')\n",
        "print('Return Value:', languages.pop(-3))\n",
        "print('Updated List:', languages)"
      ],
      "metadata": {
        "colab": {
          "base_uri": "https://localhost:8080/"
        },
        "id": "Bm-HIsFknM-G",
        "outputId": "3af1cee4-1973-4e15-af41-1c6d2b92b383"
      },
      "execution_count": null,
      "outputs": [
        {
          "output_type": "stream",
          "name": "stdout",
          "text": [
            "When index is not passed:\n",
            "Return Value: C\n",
            "Updated List: ['Python', 'Java', 'C++', 'Ruby']\n",
            "\n",
            "When -1 is passed:\n",
            "Return Value: Ruby\n",
            "Updated List: ['Python', 'Java', 'C++']\n",
            "\n",
            "When -3 is passed:\n",
            "Return Value: Python\n",
            "Updated List: ['Java', 'C++']\n"
          ]
        }
      ]
    },
    {
      "cell_type": "markdown",
      "source": [
        "### **9. List remove():** This method removes the first matching element (which is passed as an argument) from the list."
      ],
      "metadata": {
        "id": "bV8UodMEpNMs"
      }
    },
    {
      "cell_type": "code",
      "source": [
        "# animals list\n",
        "animals = ['cat', 'dog', 'rabbit', 'guinea pig']\n",
        "\n",
        "# 'rabbit' is removed\n",
        "animals.remove('rabbit')\n",
        "print('Updated animals list: ', animals)"
      ],
      "metadata": {
        "colab": {
          "base_uri": "https://localhost:8080/"
        },
        "id": "3GaRk_nFqhdM",
        "outputId": "5aa971b2-4a10-4850-9da9-9201cd731eb0"
      },
      "execution_count": null,
      "outputs": [
        {
          "output_type": "stream",
          "name": "stdout",
          "text": [
            "Updated animals list:  ['cat', 'dog', 'guinea pig']\n"
          ]
        }
      ]
    },
    {
      "cell_type": "code",
      "source": [
        "# remove() method on a list having duplicate elements\n",
        "\n",
        "# animals list\n",
        "animals = ['cat', 'dog', 'dog', 'guinea pig', 'dog']\n",
        "\n",
        "# 'dog' is removed\n",
        "animals.remove('dog')\n",
        "print('Updated animals list: ', animals)"
      ],
      "metadata": {
        "colab": {
          "base_uri": "https://localhost:8080/"
        },
        "id": "GV1sBy1Zp4jz",
        "outputId": "1b5d3f2f-7ee8-4f19-ca00-cafdeb6f3107"
      },
      "execution_count": null,
      "outputs": [
        {
          "output_type": "stream",
          "name": "stdout",
          "text": [
            "Updated animals list:  ['cat', 'dog', 'guinea pig', 'dog']\n"
          ]
        }
      ]
    },
    {
      "cell_type": "code",
      "source": [
        "# Deleting element that doesn't exist\n",
        "\n",
        "# animals list\n",
        "animals = ['cat', 'dog', 'rabbit', 'guinea pig']\n",
        "\n",
        "# Deleting 'fish' element\n",
        "animals.remove('fish')\n",
        "print('Updated animals list: ', animals)"
      ],
      "metadata": {
        "colab": {
          "base_uri": "https://localhost:8080/",
          "height": 193
        },
        "id": "TZh-ilMhpl1a",
        "outputId": "57da43ea-3360-4052-a8e1-26e86ebfbc76"
      },
      "execution_count": null,
      "outputs": [
        {
          "output_type": "error",
          "ename": "ValueError",
          "evalue": "list.remove(x): x not in list",
          "traceback": [
            "\u001b[0;31m---------------------------------------------------------------------------\u001b[0m",
            "\u001b[0;31mValueError\u001b[0m                                Traceback (most recent call last)",
            "\u001b[0;32m/tmp/ipython-input-52-4026310869.py\u001b[0m in \u001b[0;36m<cell line: 0>\u001b[0;34m()\u001b[0m\n\u001b[1;32m      5\u001b[0m \u001b[0;34m\u001b[0m\u001b[0m\n\u001b[1;32m      6\u001b[0m \u001b[0;31m# Deleting 'fish' element\u001b[0m\u001b[0;34m\u001b[0m\u001b[0;34m\u001b[0m\u001b[0m\n\u001b[0;32m----> 7\u001b[0;31m \u001b[0manimals\u001b[0m\u001b[0;34m.\u001b[0m\u001b[0mremove\u001b[0m\u001b[0;34m(\u001b[0m\u001b[0;34m'fish'\u001b[0m\u001b[0;34m)\u001b[0m\u001b[0;34m\u001b[0m\u001b[0;34m\u001b[0m\u001b[0m\n\u001b[0m\u001b[1;32m      8\u001b[0m \u001b[0mprint\u001b[0m\u001b[0;34m(\u001b[0m\u001b[0;34m'Updated animals list: '\u001b[0m\u001b[0;34m,\u001b[0m \u001b[0manimals\u001b[0m\u001b[0;34m)\u001b[0m\u001b[0;34m\u001b[0m\u001b[0;34m\u001b[0m\u001b[0m\n",
            "\u001b[0;31mValueError\u001b[0m: list.remove(x): x not in list"
          ]
        }
      ]
    },
    {
      "cell_type": "markdown",
      "source": [
        "### 10. **List reverse():** This list method reverses the elements of the list."
      ],
      "metadata": {
        "id": "r0lz41bpqwqw"
      }
    },
    {
      "cell_type": "code",
      "source": [
        "# Operating System List\n",
        "systems = ['Windows', 'macOS', 'Linux']\n",
        "print('Original List:', systems)\n",
        "\n",
        "# List Reverse\n",
        "systems.reverse()\n",
        "\n",
        "# updated list\n",
        "print('Updated List:', systems)"
      ],
      "metadata": {
        "colab": {
          "base_uri": "https://localhost:8080/"
        },
        "id": "DHk43vQDsh9S",
        "outputId": "0bb49269-a42c-4385-c232-f232277e8a63"
      },
      "execution_count": null,
      "outputs": [
        {
          "output_type": "stream",
          "name": "stdout",
          "text": [
            "Original List: ['Windows', 'macOS', 'Linux']\n",
            "Updated List: ['Linux', 'macOS', 'Windows']\n"
          ]
        }
      ]
    },
    {
      "cell_type": "code",
      "source": [
        "# Reverse a List Using Slicing Operator\n",
        "\n",
        "# Operating System List\n",
        "systems = ['Windows', 'macOS', 'Linux']\n",
        "print('Original List:', systems)\n",
        "\n",
        "# Reversing a list\n",
        "# Syntax: reversed_list = systems[start:stop:step]\n",
        "reversed_list = systems[::-1]\n",
        "print('Updated List:', reversed_list)"
      ],
      "metadata": {
        "colab": {
          "base_uri": "https://localhost:8080/"
        },
        "id": "8FHZbg-0ru3t",
        "outputId": "800eeb05-32cc-451f-df1b-ab2919223a32"
      },
      "execution_count": null,
      "outputs": [
        {
          "output_type": "stream",
          "name": "stdout",
          "text": [
            "Original List: ['Windows', 'macOS', 'Linux']\n",
            "Updated List: ['Linux', 'macOS', 'Windows']\n"
          ]
        }
      ]
    },
    {
      "cell_type": "code",
      "source": [
        "# Accessing Elements in Reversed Order\n",
        "\n",
        "# Operating System List\n",
        "systems = ['Windows', 'macOS', 'Linux']\n",
        "\n",
        "# Printing Elements in Reversed Order\n",
        "for o in reversed(systems):\n",
        "    print(o)"
      ],
      "metadata": {
        "colab": {
          "base_uri": "https://localhost:8080/"
        },
        "id": "pA7bKMQjq_5r",
        "outputId": "23d78923-e4f4-4500-fa76-33cd62d197bf"
      },
      "execution_count": null,
      "outputs": [
        {
          "output_type": "stream",
          "name": "stdout",
          "text": [
            "Linux\n",
            "macOS\n",
            "Windows\n"
          ]
        }
      ]
    },
    {
      "cell_type": "markdown",
      "source": [
        "### **11. List sort():** This list method sorts the elements of a list."
      ],
      "metadata": {
        "id": "DIEW6isGs9Sq"
      }
    },
    {
      "cell_type": "code",
      "source": [
        "prime_numbers = [11, 3, 7, 5, 2]\n",
        "\n",
        "# sort the list in ascending order\n",
        "prime_numbers.sort()\n",
        "print(f\"Sorted List: {prime_numbers}\")"
      ],
      "metadata": {
        "colab": {
          "base_uri": "https://localhost:8080/"
        },
        "id": "5SyyOgMLs83v",
        "outputId": "ee3dc832-6dea-48c5-b8b7-7a64787bd221"
      },
      "execution_count": null,
      "outputs": [
        {
          "output_type": "stream",
          "name": "stdout",
          "text": [
            "Sorted List: [2, 3, 5, 7, 11]\n"
          ]
        }
      ]
    },
    {
      "cell_type": "code",
      "source": [
        "# Sort in Descending order\n",
        "\n",
        "numbers = [7, 3, 11, 2, 5]\n",
        "\n",
        "# reverse is set to True\n",
        "numbers.sort(reverse = True)\n",
        "print(f\"Sorted List: {numbers}\")"
      ],
      "metadata": {
        "colab": {
          "base_uri": "https://localhost:8080/"
        },
        "id": "bIDAa79ytaLv",
        "outputId": "74116c64-6493-40e1-ebe7-ed4441f4126d"
      },
      "execution_count": null,
      "outputs": [
        {
          "output_type": "stream",
          "name": "stdout",
          "text": [
            "Sorted List: [11, 7, 5, 3, 2]\n"
          ]
        }
      ]
    },
    {
      "cell_type": "code",
      "source": [
        "# Sort a List of Strings\n",
        "\n",
        "cities = [\"Tokyo\", \"London\", \"Washington D.C\"]\n",
        "\n",
        "# sort in dictionary order\n",
        "cities.sort()\n",
        "print(f\"Dictionary order: {cities}\")\n",
        "\n",
        "# sort in reverse dictionary order\n",
        "cities.sort(reverse = True)\n",
        "print(f\"Reverse dictionary order: {cities}\")"
      ],
      "metadata": {
        "colab": {
          "base_uri": "https://localhost:8080/"
        },
        "id": "Ax2fx5shtk5E",
        "outputId": "69ce4a0d-f8d5-4bc0-cb57-027cab4a9275"
      },
      "execution_count": null,
      "outputs": [
        {
          "output_type": "stream",
          "name": "stdout",
          "text": [
            "Dictionary order: ['London', 'Tokyo', 'Washington D.C']\n",
            "Reverse dictionary order: ['Washington D.C', 'Tokyo', 'London']\n"
          ]
        }
      ]
    },
    {
      "cell_type": "code",
      "source": [
        "# Reverse Strings Based on Length\n",
        "\n",
        "text = [\"abc\", \"wxyz\", \"gh\", \"a\"]\n",
        "\n",
        "# stort strings based on their length\n",
        "text.sort(key = len)\n",
        "print(text)"
      ],
      "metadata": {
        "colab": {
          "base_uri": "https://localhost:8080/"
        },
        "id": "fmvh-BsktoKj",
        "outputId": "fc4e9132-843e-4782-9fd5-cc0bd4856f81"
      },
      "execution_count": null,
      "outputs": [
        {
          "output_type": "stream",
          "name": "stdout",
          "text": [
            "['a', 'gh', 'abc', 'wxyz']\n"
          ]
        }
      ]
    },
    {
      "cell_type": "markdown",
      "source": [
        "# **Slicing**"
      ],
      "metadata": {
        "id": "0jhUgbl6w2w-"
      }
    },
    {
      "cell_type": "code",
      "source": [
        "# Slicing List\n",
        "\n",
        "numbers = [1, 2, 3, 4, 5, 6, 7, 8, 9, 10]\n",
        "print(numbers[2:5])\n",
        "print(numbers[:5])\n",
        "print(numbers[5:])\n",
        "print(numbers[::2])\n",
        "print(numbers[::-1])"
      ],
      "metadata": {
        "colab": {
          "base_uri": "https://localhost:8080/"
        },
        "id": "9JrnTAdH0DN7",
        "outputId": "74606fd8-a079-4569-eae5-8ad1b0642a2c"
      },
      "execution_count": null,
      "outputs": [
        {
          "output_type": "stream",
          "name": "stdout",
          "text": [
            "[3, 4, 5]\n",
            "[1, 2, 3, 4, 5]\n",
            "[6, 7, 8, 9, 10]\n",
            "[1, 3, 5, 7, 9]\n",
            "[10, 9, 8, 7, 6, 5, 4, 3, 2, 1]\n"
          ]
        }
      ]
    },
    {
      "cell_type": "code",
      "source": [
        "# Slicing of numbers with some jump\n",
        "\n",
        "numbers = [1, 2, 3, 4, 5, 6, 7, 8, 9, 10]\n",
        "numbers[::3]\n",
        "print(f\"Numbers after 3 jump: {numbers}\")\n",
        "\n",
        "numbers[::-2]"
      ],
      "metadata": {
        "colab": {
          "base_uri": "https://localhost:8080/"
        },
        "id": "FwHgpacfwJDV",
        "outputId": "9f4d976d-1427-4605-d89b-fe39687dd749"
      },
      "execution_count": null,
      "outputs": [
        {
          "output_type": "stream",
          "name": "stdout",
          "text": [
            "Numbers after 3 jump: [1, 2, 3, 4, 5, 6, 7, 8, 9, 10]\n"
          ]
        },
        {
          "output_type": "execute_result",
          "data": {
            "text/plain": [
              "[10, 8, 6, 4, 2]"
            ]
          },
          "metadata": {},
          "execution_count": 75
        }
      ]
    },
    {
      "cell_type": "markdown",
      "source": [
        "# **Iteration over List**"
      ],
      "metadata": {
        "id": "RHNykbHaydvk"
      }
    },
    {
      "cell_type": "code",
      "source": [
        "# Iterating over List\n",
        "\n",
        "for number in numbers:\n",
        "  print(number)"
      ],
      "metadata": {
        "colab": {
          "base_uri": "https://localhost:8080/"
        },
        "id": "VE_BJWBYzbAK",
        "outputId": "fc66a207-de30-4d19-8e9e-686cb61e738f"
      },
      "execution_count": null,
      "outputs": [
        {
          "output_type": "stream",
          "name": "stdout",
          "text": [
            "1\n",
            "2\n",
            "3\n",
            "4\n",
            "5\n",
            "6\n",
            "7\n",
            "8\n",
            "9\n",
            "10\n"
          ]
        }
      ]
    },
    {
      "cell_type": "code",
      "source": [
        "# Iterating with index\n",
        "\n",
        "for index,number in enumerate(numbers):\n",
        "  print(index,number)"
      ],
      "metadata": {
        "colab": {
          "base_uri": "https://localhost:8080/"
        },
        "id": "IpR1OpKLzlFa",
        "outputId": "dd607c7b-e37e-4176-e940-d60bac4d6a5b"
      },
      "execution_count": null,
      "outputs": [
        {
          "output_type": "stream",
          "name": "stdout",
          "text": [
            "0 1\n",
            "1 2\n",
            "2 3\n",
            "3 4\n",
            "4 5\n",
            "5 6\n",
            "6 7\n",
            "7 8\n",
            "8 9\n",
            "9 10\n"
          ]
        }
      ]
    },
    {
      "cell_type": "markdown",
      "source": [
        "# **List Comprehensions**\n",
        "\n",
        "* Basics Syntax [expression for item in iterable]\n",
        "\n",
        "* with conditional logic [expression for item in iterable if condition]\n",
        "\n",
        "* Nested List Comprehension [expression for item1 in iterable1 for item2 in iterable2]\n",
        "\n",
        "\n"
      ],
      "metadata": {
        "id": "0vLnh1OjyfGi"
      }
    },
    {
      "cell_type": "code",
      "source": [
        "# List comprehension\n",
        "\n",
        "lst=[]\n",
        "for x in range(10):\n",
        "    lst.append(x**2)\n",
        "\n",
        "print(lst)\n"
      ],
      "metadata": {
        "colab": {
          "base_uri": "https://localhost:8080/"
        },
        "id": "0YjL7Yg40Pfg",
        "outputId": "1b5563d6-09f9-4139-f610-c6a910c67136"
      },
      "execution_count": null,
      "outputs": [
        {
          "output_type": "stream",
          "name": "stdout",
          "text": [
            "[0, 1, 4, 9, 16, 25, 36, 49, 64, 81]\n"
          ]
        }
      ]
    },
    {
      "cell_type": "code",
      "source": [
        "# In one line code\n",
        "\n",
        "[x**2 for x in range(10)]"
      ],
      "metadata": {
        "colab": {
          "base_uri": "https://localhost:8080/"
        },
        "id": "ed9uA9Ww0ck_",
        "outputId": "adfd6318-fcda-430c-ee27-995d77a58e31"
      },
      "execution_count": null,
      "outputs": [
        {
          "output_type": "execute_result",
          "data": {
            "text/plain": [
              "[0, 1, 4, 9, 16, 25, 36, 49, 64, 81]"
            ]
          },
          "metadata": {},
          "execution_count": 81
        }
      ]
    },
    {
      "cell_type": "code",
      "source": [
        "square=[num**2 for num in range(8)]\n",
        "print(square)"
      ],
      "metadata": {
        "colab": {
          "base_uri": "https://localhost:8080/"
        },
        "id": "fZinNq512Q8i",
        "outputId": "071aa009-0db4-4c6c-9130-57acf24c770e"
      },
      "execution_count": null,
      "outputs": [
        {
          "output_type": "stream",
          "name": "stdout",
          "text": [
            "[0, 1, 4, 9, 16, 25, 36, 49]\n"
          ]
        }
      ]
    },
    {
      "cell_type": "code",
      "source": [
        "lst=[]\n",
        "for i in range(10):\n",
        "    if i%2==0:\n",
        "        lst.append(i)\n",
        "\n",
        "print(lst)"
      ],
      "metadata": {
        "colab": {
          "base_uri": "https://localhost:8080/"
        },
        "id": "N0YcdIS22p2L",
        "outputId": "d6b5371f-accb-4e68-be5f-2edffb60abec"
      },
      "execution_count": null,
      "outputs": [
        {
          "output_type": "stream",
          "name": "stdout",
          "text": [
            "[0, 2, 4, 6, 8]\n"
          ]
        }
      ]
    },
    {
      "cell_type": "code",
      "source": [
        "even_numbers=[num for num in range(10) if num%2==0]\n",
        "print(even_numbers)"
      ],
      "metadata": {
        "colab": {
          "base_uri": "https://localhost:8080/"
        },
        "id": "dafWaAnhkpTt",
        "outputId": "581a6be8-2e36-4e35-d6b9-80167271b66e"
      },
      "execution_count": null,
      "outputs": [
        {
          "output_type": "stream",
          "name": "stdout",
          "text": [
            "[0, 2, 4, 6, 8]\n"
          ]
        }
      ]
    },
    {
      "cell_type": "markdown",
      "source": [
        "# **Nested List**"
      ],
      "metadata": {
        "id": "mhca3g_pyv0O"
      }
    },
    {
      "cell_type": "code",
      "source": [
        "lst1=[1,2,3,4]\n",
        "lst2=['a','b','c','d']\n",
        "\n",
        "pair=[[i,j] for i in lst1 for j in lst2]\n",
        "print(pair)"
      ],
      "metadata": {
        "colab": {
          "base_uri": "https://localhost:8080/"
        },
        "id": "6cZDh_YtlHPP",
        "outputId": "252854d1-1ab7-4604-eaa5-844741896cb8"
      },
      "execution_count": null,
      "outputs": [
        {
          "output_type": "stream",
          "name": "stdout",
          "text": [
            "[[1, 'a'], [1, 'b'], [1, 'c'], [1, 'd'], [2, 'a'], [2, 'b'], [2, 'c'], [2, 'd'], [3, 'a'], [3, 'b'], [3, 'c'], [3, 'd'], [4, 'a'], [4, 'b'], [4, 'c'], [4, 'd']]\n"
          ]
        }
      ]
    },
    {
      "cell_type": "markdown",
      "source": [
        "# **Practical Examples and Common Error**"
      ],
      "metadata": {
        "id": "6tIteTIEzMRO"
      }
    },
    {
      "cell_type": "code",
      "source": [
        "# Write a program to count length of each word from the list\n",
        "# List comprehension with function calls\n",
        "words=['hello','world','python','list','comprehension']\n",
        "lengths=[len(word) for word in words]\n",
        "print(lengths)"
      ],
      "metadata": {
        "colab": {
          "base_uri": "https://localhost:8080/"
        },
        "id": "i4toZktNltNX",
        "outputId": "6b94074a-2873-43ca-8db2-f62dc938229e"
      },
      "execution_count": null,
      "outputs": [
        {
          "output_type": "stream",
          "name": "stdout",
          "text": [
            "[5, 5, 6, 4, 13]\n"
          ]
        }
      ]
    }
  ]
}