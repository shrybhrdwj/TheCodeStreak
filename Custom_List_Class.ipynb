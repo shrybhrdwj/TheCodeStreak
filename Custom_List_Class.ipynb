{
  "nbformat": 4,
  "nbformat_minor": 0,
  "metadata": {
    "colab": {
      "provenance": [],
      "authorship_tag": "ABX9TyPXLI2q9bkonMyI5+vZjz52",
      "include_colab_link": true
    },
    "kernelspec": {
      "name": "python3",
      "display_name": "Python 3"
    },
    "language_info": {
      "name": "python"
    }
  },
  "cells": [
    {
      "cell_type": "markdown",
      "metadata": {
        "id": "view-in-github",
        "colab_type": "text"
      },
      "source": [
        "<a href=\"https://colab.research.google.com/github/shrybhrdwj/TheCodeStreak/blob/main/Custom_List_Class.ipynb\" target=\"_parent\"><img src=\"https://colab.research.google.com/assets/colab-badge.svg\" alt=\"Open In Colab\"/></a>"
      ]
    },
    {
      "cell_type": "code",
      "execution_count": 1,
      "metadata": {
        "colab": {
          "base_uri": "https://localhost:8080/"
        },
        "id": "K_NZjK1mG-uD",
        "outputId": "68a2a110-a178-41e5-ee9e-b2054579be4e"
      },
      "outputs": [
        {
          "output_type": "stream",
          "name": "stdout",
          "text": [
            "[1,2,3,4]\n",
            "[1,100,2,3,4]\n"
          ]
        }
      ],
      "source": [
        "import ctypes\n",
        "\n",
        "class CustomList:\n",
        "  def __init__(self):\n",
        "    initialCapacity = 1\n",
        "    self.capacity = initialCapacity\n",
        "    self.size = 0\n",
        "    self.array = self.__create_array(self.capacity)\n",
        "\n",
        "  def __create_array(self,capacity):\n",
        "    # Create a new referential array with given capacity\n",
        "    return (capacity*ctypes.py_object)()\n",
        "\n",
        "  def __resize(self,new_capacity):\n",
        "    new_array = self.__create_array(new_capacity)\n",
        "    for i in range(self.size):\n",
        "      new_array[i] = self.array[i]\n",
        "\n",
        "    self.array = new_array # Replace the old array\n",
        "    self.capacity = new_capacity\n",
        "\n",
        "  def append(self,item):\n",
        "    if(self.size == self.capacity):\n",
        "      self.__resize(2*self.capacity)\n",
        "\n",
        "    self.array[self.size] = item\n",
        "    self.size +=1\n",
        "\n",
        "  def __len__(self):\n",
        "    return self.size\n",
        "\n",
        "  def __str__(self):\n",
        "    output = ''\n",
        "    for i in range(self.size):\n",
        "      output = output + str(self.array[i]) + ','\n",
        "    return '[' + output[:-1] + ']'\n",
        "\n",
        "  def pop(self):\n",
        "    if(self.size == 0):\n",
        "      return ('Empty List, IndexError: pop from empty list')\n",
        "\n",
        "    popped_item = self.array[self.size-1]\n",
        "    self.size = self.size -1\n",
        "    return popped_item\n",
        "\n",
        "  def __getitem__(self,index):\n",
        "    if(index >= 0 and index < self.size):\n",
        "      return self.array[index]\n",
        "    else:\n",
        "      return \"Index Error : Invalid index\"\n",
        "\n",
        "  def clear(self):\n",
        "    self.size = 0\n",
        "\n",
        "  def insert(self,position,element):\n",
        "    # Position will be inside only\n",
        "    if(self.size == self.capacity):\n",
        "      self.__resize(2*self.capacity)\n",
        "\n",
        "    for index in range(self.size, position,-1):\n",
        "      self.array[index] = self.array[index-1]\n",
        "\n",
        "    self.array[position] = element\n",
        "    self.size +=1\n",
        "\n",
        "  def remove(self,element):\n",
        "    pass\n",
        "\n",
        "myList = CustomList()\n",
        "myList.append(1)\n",
        "myList.append(2)\n",
        "myList.append(3)\n",
        "myList.append(4)\n",
        "print(myList)\n",
        "myList.insert(1,100)\n",
        "print(myList)"
      ]
    }
  ]
}