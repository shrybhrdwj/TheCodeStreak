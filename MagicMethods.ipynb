{
  "nbformat": 4,
  "nbformat_minor": 0,
  "metadata": {
    "colab": {
      "provenance": [],
      "authorship_tag": "ABX9TyNPxtzySEz9XAfglf+g/5hn",
      "include_colab_link": true
    },
    "kernelspec": {
      "name": "python3",
      "display_name": "Python 3"
    },
    "language_info": {
      "name": "python"
    }
  },
  "cells": [
    {
      "cell_type": "markdown",
      "metadata": {
        "id": "view-in-github",
        "colab_type": "text"
      },
      "source": [
        "<a href=\"https://colab.research.google.com/github/shrybhrdwj/TheCodeStreak/blob/main/MagicMethods.ipynb\" target=\"_parent\"><img src=\"https://colab.research.google.com/assets/colab-badge.svg\" alt=\"Open In Colab\"/></a>"
      ]
    },
    {
      "cell_type": "markdown",
      "source": [
        "## **Magic Methods**\n",
        "Magic methods in Python, also known as dunder methods (double underscore methods), are special methods that start and end with double underscores. These methods enable us to define the behavior of objects for built-in operations, such as arithmetic operations, comparisons, and more."
      ],
      "metadata": {
        "id": "PrpW_3U10R3f"
      }
    },
    {
      "cell_type": "markdown",
      "source": [
        "### **Magic Methods**\n",
        "Magic methods are predefined methods in Python that you can override to change the behavior of your objects. Some common magic methods include:\n",
        "\n"
      ],
      "metadata": {
        "id": "aEgH76r16sSw"
      }
    },
    {
      "cell_type": "code",
      "execution_count": 1,
      "metadata": {
        "colab": {
          "base_uri": "https://localhost:8080/",
          "height": 53
        },
        "id": "bw3OgAhXy2H0",
        "outputId": "e96439b5-5e0a-473c-b7a7-fe88e28ee80a"
      },
      "outputs": [
        {
          "output_type": "execute_result",
          "data": {
            "text/plain": [
              "\"\\n__init__': Initializes a new instance of a class.\\n__str__: Returns a string representation of an object.\\n__repr__: Returns an official string representation of an object.\\n__len__: Returns the length of an object.\\n__getitem__: Gets an item from a container.\\n__setitem__: Sets an item in a container.\\n\""
            ],
            "application/vnd.google.colaboratory.intrinsic+json": {
              "type": "string"
            }
          },
          "metadata": {},
          "execution_count": 1
        }
      ],
      "source": [
        "'''\n",
        "__init__': Initializes a new instance of a class.\n",
        "__str__: Returns a string representation of an object.\n",
        "__repr__: Returns an official string representation of an object.\n",
        "__len__: Returns the length of an object.\n",
        "__getitem__: Gets an item from a container.\n",
        "__setitem__: Sets an item in a container.\n",
        "'''"
      ]
    },
    {
      "cell_type": "code",
      "source": [
        "class Person:\n",
        "  pass\n",
        "\n",
        "person=Person()\n",
        "dir(person)"
      ],
      "metadata": {
        "colab": {
          "base_uri": "https://localhost:8080/"
        },
        "id": "wm7MNuce7M6n",
        "outputId": "09b8a81a-50b2-4547-95cb-df5e78ba86ae"
      },
      "execution_count": 2,
      "outputs": [
        {
          "output_type": "execute_result",
          "data": {
            "text/plain": [
              "['__class__',\n",
              " '__delattr__',\n",
              " '__dict__',\n",
              " '__dir__',\n",
              " '__doc__',\n",
              " '__eq__',\n",
              " '__format__',\n",
              " '__ge__',\n",
              " '__getattribute__',\n",
              " '__getstate__',\n",
              " '__gt__',\n",
              " '__hash__',\n",
              " '__init__',\n",
              " '__init_subclass__',\n",
              " '__le__',\n",
              " '__lt__',\n",
              " '__module__',\n",
              " '__ne__',\n",
              " '__new__',\n",
              " '__reduce__',\n",
              " '__reduce_ex__',\n",
              " '__repr__',\n",
              " '__setattr__',\n",
              " '__sizeof__',\n",
              " '__str__',\n",
              " '__subclasshook__',\n",
              " '__weakref__']"
            ]
          },
          "metadata": {},
          "execution_count": 2
        }
      ]
    },
    {
      "cell_type": "code",
      "source": [
        "print(person)"
      ],
      "metadata": {
        "colab": {
          "base_uri": "https://localhost:8080/"
        },
        "id": "dmWtLopM7cQQ",
        "outputId": "fe05f03a-020e-43f2-919f-f3b9db848274"
      },
      "execution_count": 3,
      "outputs": [
        {
          "output_type": "stream",
          "name": "stdout",
          "text": [
            "<__main__.Person object at 0x799bbf562a80>\n"
          ]
        }
      ]
    },
    {
      "cell_type": "code",
      "source": [
        "# BAsic Methods\n",
        "\n",
        "class Person:\n",
        "  def __init__(self,name,age):\n",
        "    self.name=name\n",
        "    self.age=age\n",
        "\n",
        "person=Person(\"Shreya\",22)\n",
        "print(person)"
      ],
      "metadata": {
        "colab": {
          "base_uri": "https://localhost:8080/"
        },
        "id": "oNuf3kt77gDe",
        "outputId": "3362c1eb-a790-4d3b-9e1d-5d5e8d046bee"
      },
      "execution_count": 4,
      "outputs": [
        {
          "output_type": "stream",
          "name": "stdout",
          "text": [
            "<__main__.Person object at 0x799bb6d1d670>\n"
          ]
        }
      ]
    },
    {
      "cell_type": "code",
      "source": [
        "# Basic Methods\n",
        "\n",
        "class Person:\n",
        "    def __init__(self,name,age):\n",
        "        self.name=name\n",
        "        self.age=age\n",
        "\n",
        "    def __str__(self):\n",
        "        return f\"{self.name} is {self.age} years old\"\n",
        "\n",
        "    def __repr__(self):\n",
        "        return f\"Person(name={self.name},age={self.age})\"\n",
        "\n",
        "person=Person(\"Shreya\",22)\n",
        "print(person)\n",
        "print(repr(person))"
      ],
      "metadata": {
        "colab": {
          "base_uri": "https://localhost:8080/"
        },
        "id": "OWqAcead7-rT",
        "outputId": "b1aacde5-caea-488f-f3c9-6320633d2a14"
      },
      "execution_count": 6,
      "outputs": [
        {
          "output_type": "stream",
          "name": "stdout",
          "text": [
            "Shreya,22 years old\n",
            "Person(name=Shreya,age=22)\n"
          ]
        }
      ]
    }
  ]
}
