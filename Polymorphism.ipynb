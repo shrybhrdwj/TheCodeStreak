{
  "nbformat": 4,
  "nbformat_minor": 0,
  "metadata": {
    "colab": {
      "provenance": [],
      "authorship_tag": "ABX9TyMhTNcgjO69wt74NK7JK6AN",
      "include_colab_link": true
    },
    "kernelspec": {
      "name": "python3",
      "display_name": "Python 3"
    },
    "language_info": {
      "name": "python"
    }
  },
  "cells": [
    {
      "cell_type": "markdown",
      "metadata": {
        "id": "view-in-github",
        "colab_type": "text"
      },
      "source": [
        "<a href=\"https://colab.research.google.com/github/shrybhrdwj/TheCodeStreak/blob/main/Polymorphism.ipynb\" target=\"_parent\"><img src=\"https://colab.research.google.com/assets/colab-badge.svg\" alt=\"Open In Colab\"/></a>"
      ]
    },
    {
      "cell_type": "markdown",
      "source": [
        "## **Polymorphism**\n",
        "Polymorphism is a core concept in Object-Oriented Programming (OOP) that allows objects of different classes to be treated as objects of a common superclass. It provides a way to perform a single action in different forms. Polymorphism is typically achieved through method overriding and interfaces"
      ],
      "metadata": {
        "id": "DtRO8wVavcM9"
      }
    },
    {
      "cell_type": "markdown",
      "source": [
        "###  **Method Overriding**\n",
        "Method overriding allows a child class to provide a specific implementation of a method that is already defined in its parent class."
      ],
      "metadata": {
        "id": "Rtw-Sz6cvjx7"
      }
    },
    {
      "cell_type": "code",
      "execution_count": 1,
      "metadata": {
        "colab": {
          "base_uri": "https://localhost:8080/"
        },
        "id": "KJHpXkx3t9iC",
        "outputId": "eec6428a-9827-4f18-c86d-18d82d3b8676"
      },
      "outputs": [
        {
          "output_type": "stream",
          "name": "stdout",
          "text": [
            "Woof!\n",
            "Meow!\n",
            "Woof!\n"
          ]
        }
      ],
      "source": [
        "# Base Class\n",
        "class Animal:\n",
        "  def speak(self):\n",
        "    return \"Sound of the animal\"\n",
        "\n",
        "# Derived Class 1\n",
        "class Dog(Animal):\n",
        "  def speak(self):\n",
        "    return \"Woof!\"\n",
        "\n",
        "# Derived Class 2\n",
        "class Cat(Animal):\n",
        "  def speak(self):\n",
        "    return \"Meow!\"\n",
        "\n",
        "# Function that demonstrates polymorphism\n",
        "def animal_speak(animal):\n",
        "  print(animal.speak())\n",
        "\n",
        "dog=Dog()\n",
        "cat=Cat()\n",
        "print(dog.speak())\n",
        "print(cat.speak())\n",
        "animal_speak(dog)"
      ]
    },
    {
      "cell_type": "code",
      "source": [
        "# Polymorphism with functions and methods\n",
        "import math\n",
        "\n",
        "# BAse Class\n",
        "class Shape:\n",
        "  def area(self):\n",
        "    return \"The area of the figure\"\n",
        "\n",
        "# Derived class 1\n",
        "class Rectangle(Shape):\n",
        "  def __init__(self,width,height):\n",
        "    self.width=width\n",
        "    self.height=height\n",
        "\n",
        "  def area(self):\n",
        "    return self.width * self.height\n",
        "\n",
        "# Derived Class 2\n",
        "class Circle(Shape):\n",
        "  def __init__(self,radius):\n",
        "    self.radius=radius\n",
        "\n",
        "  def area(self):\n",
        "    return math.pi * (self.radius **2)\n",
        "\n",
        "# Function that demonstrates polymorphism\n",
        "def print_area(shape):\n",
        "  print(f\"The area is {shape.area()}\")\n",
        "\n",
        "rectangle=Rectangle(4,5)\n",
        "circle=Circle(3)\n",
        "\n",
        "print_area(rectangle)\n",
        "print_area(circle)"
      ],
      "metadata": {
        "colab": {
          "base_uri": "https://localhost:8080/"
        },
        "id": "twO-zRsbyRTX",
        "outputId": "e4077350-c5f6-4e53-9fea-c078ce63cef9"
      },
      "execution_count": 2,
      "outputs": [
        {
          "output_type": "stream",
          "name": "stdout",
          "text": [
            "The area is 20\n",
            "The area is 28.274333882308138\n"
          ]
        }
      ]
    },
    {
      "cell_type": "markdown",
      "source": [
        "### P**olymorphism with Abstract Base Classes**\n",
        "Abstract Base Classes (ABCs) are used to define common methods for a group of related objects. They can enforce that derived classes implement particular methods, promoting consistency across different implementations."
      ],
      "metadata": {
        "id": "lJ6tMjXy01l2"
      }
    },
    {
      "cell_type": "code",
      "source": [
        "from abc import ABC,abstractmethod\n",
        "\n",
        "# Define an abstract class\n",
        "class Vehicle(ABC):\n",
        "  @abstractmethod\n",
        "  def start_engine(self):\n",
        "    pass\n",
        "\n",
        "# Derived class 1\n",
        "class Car(Vehicle):\n",
        "  def start_engine(self):\n",
        "    return \"Car engine started\"\n",
        "\n",
        "# Derived class 2\n",
        "class Motorcycle(Vehicle):\n",
        "  def start_engine(self):\n",
        "    return \"Motorcycle engine started\"\n",
        "\n",
        "# Function that demonstrates polymorphism\n",
        "def start_vehicle(vehicle):\n",
        "  print(vehicle.start_engine())\n",
        "\n",
        "# Create objects of car and motorcycle\n",
        "car = Car()\n",
        "motorcycle=Motorcycle()\n",
        "\n",
        "start_vehicle(car)\n",
        "start_vehicle(motorcycle)"
      ],
      "metadata": {
        "colab": {
          "base_uri": "https://localhost:8080/"
        },
        "id": "E9-3BVeA0_DI",
        "outputId": "5e43c8a2-8e99-4ab6-fef2-898e1cb4e776"
      },
      "execution_count": 5,
      "outputs": [
        {
          "output_type": "stream",
          "name": "stdout",
          "text": [
            "Car engine started\n",
            "Motorcycle engine started\n"
          ]
        }
      ]
    },
    {
      "cell_type": "markdown",
      "source": [
        "## **Conclusion**\n",
        "Polymorphism is a powerful feature of OOP that allows for flexibility and integration in code design. It enables a single function to handle objects of different classes, each with its own implementation of a method. By understanding and applying polymorphism, you can create more extensible and maintainable object-oriented programs."
      ],
      "metadata": {
        "id": "5-sO90JQ1KRS"
      }
    }
  ]
}