{
  "nbformat": 4,
  "nbformat_minor": 0,
  "metadata": {
    "colab": {
      "provenance": [],
      "authorship_tag": "ABX9TyMOSaRrKRVB+pDOPN11KVH0",
      "include_colab_link": true
    },
    "kernelspec": {
      "name": "python3",
      "display_name": "Python 3"
    },
    "language_info": {
      "name": "python"
    }
  },
  "cells": [
    {
      "cell_type": "markdown",
      "metadata": {
        "id": "view-in-github",
        "colab_type": "text"
      },
      "source": [
        "<a href=\"https://colab.research.google.com/github/shrybhrdwj/TheCodeStreak/blob/main/Inbuild_DS.ipynb\" target=\"_parent\"><img src=\"https://colab.research.google.com/assets/colab-badge.svg\" alt=\"Open In Colab\"/></a>"
      ]
    },
    {
      "cell_type": "markdown",
      "source": [
        "## **1. Sum of List items**"
      ],
      "metadata": {
        "id": "LaBXVCtugvzg"
      }
    },
    {
      "cell_type": "code",
      "execution_count": 3,
      "metadata": {
        "colab": {
          "base_uri": "https://localhost:8080/"
        },
        "id": "v1XbmPeVeVVs",
        "outputId": "4b57544f-ada5-44a1-8493-bd4c9fa0c95e"
      },
      "outputs": [
        {
          "output_type": "stream",
          "name": "stdout",
          "text": [
            "Enter the numbers: 10 20 30 40\n",
            "Sum of whole list is: 100\n"
          ]
        }
      ],
      "source": [
        "def sum_list():\n",
        "  numbers=list(map(int,input(\"Enter the numbers: \").split()))\n",
        "  total=0\n",
        "  for number in numbers:\n",
        "    total+=number\n",
        "  return total\n",
        "\n",
        "\n",
        "print(f\"Sum of whole list is: {sum_list()}\")"
      ]
    },
    {
      "cell_type": "code",
      "execution_count": 5,
      "metadata": {
        "colab": {
          "base_uri": "https://localhost:8080/"
        },
        "outputId": "b6a370f4-0a71-443c-b18c-ca76ede2b13b",
        "id": "6WFxJ2V_neR2"
      },
      "outputs": [
        {
          "output_type": "stream",
          "name": "stdout",
          "text": [
            "Enter the numbers: 1 2 3 4 5 6\n",
            "Sum of whole list is: 21\n"
          ]
        }
      ],
      "source": [
        "def sum_of_list(numbers):\n",
        "  total=0\n",
        "  for number in numbers:\n",
        "    total+=number\n",
        "  return total\n",
        "\n",
        "numbers=list(map(int,input(\"Enter the numbers: \").split()))\n",
        "print(f\"Sum of whole list is: {sum_of_list(numbers)}\")"
      ]
    },
    {
      "cell_type": "code",
      "source": [
        "# In build function(sum)\n",
        "\n",
        "def add_list_items(numbers):\n",
        "  return sum(numbers)\n",
        "\n",
        "numbers=list(map(int,input(\"Enter the numbers of list: \").split()))\n",
        "print(f\"Sum of list: {add_list_items(numbers)}\")"
      ],
      "metadata": {
        "colab": {
          "base_uri": "https://localhost:8080/"
        },
        "id": "zBIpRGCTncV3",
        "outputId": "9cade928-ce82-4f37-c1c7-8cde311b3547"
      },
      "execution_count": 6,
      "outputs": [
        {
          "output_type": "stream",
          "name": "stdout",
          "text": [
            "Enter the numbers of list: 2 4 6 8 10\n",
            "Sum of list: 30\n"
          ]
        }
      ]
    },
    {
      "cell_type": "markdown",
      "source": [
        "## **2. Largest number from the list**"
      ],
      "metadata": {
        "id": "FKKPTlfkrNjG"
      }
    },
    {
      "cell_type": "code",
      "source": [
        "def find_largest(numbers):\n",
        "    if not numbers:\n",
        "        return None\n",
        "    max_number=numbers[0]\n",
        "    for number in numbers[1:]:\n",
        "        if number>max_number:\n",
        "            max_number=number\n",
        "    return max_number\n",
        "\n",
        "numbers=list(map(int,input(\"Enter the list of numbers: \").split()))\n",
        "print(f\"Largest element from the list: {find_largest(numbers)}\")"
      ],
      "metadata": {
        "colab": {
          "base_uri": "https://localhost:8080/"
        },
        "id": "-o3AXaJ-rgy_",
        "outputId": "943c5856-d9eb-4d81-8d35-010d495df299"
      },
      "execution_count": 14,
      "outputs": [
        {
          "output_type": "stream",
          "name": "stdout",
          "text": [
            "Enter the list of numbers: 9 89 -23 \n",
            "Largest element from the list: 89\n"
          ]
        }
      ]
    },
    {
      "cell_type": "code",
      "source": [
        "find_largest([2,3,4,5])"
      ],
      "metadata": {
        "colab": {
          "base_uri": "https://localhost:8080/"
        },
        "id": "WiDdalXIvfiQ",
        "outputId": "ac9be926-ab32-4990-fac0-05f854275409"
      },
      "execution_count": 20,
      "outputs": [
        {
          "output_type": "execute_result",
          "data": {
            "text/plain": [
              "5"
            ]
          },
          "metadata": {},
          "execution_count": 20
        }
      ]
    },
    {
      "cell_type": "code",
      "source": [
        "find_largest([-2,-56,-9,-1])"
      ],
      "metadata": {
        "colab": {
          "base_uri": "https://localhost:8080/"
        },
        "id": "0dyiqmOzwlk9",
        "outputId": "57d49d77-5a62-4ddc-fb6f-27a4e8198144"
      },
      "execution_count": 19,
      "outputs": [
        {
          "output_type": "execute_result",
          "data": {
            "text/plain": [
              "-1"
            ]
          },
          "metadata": {},
          "execution_count": 19
        }
      ]
    },
    {
      "cell_type": "code",
      "source": [
        "find_largest([9])"
      ],
      "metadata": {
        "colab": {
          "base_uri": "https://localhost:8080/"
        },
        "id": "Nws1vBY8wGnP",
        "outputId": "e1d2018b-9932-4115-cf4f-6d5772f19835"
      },
      "execution_count": 18,
      "outputs": [
        {
          "output_type": "execute_result",
          "data": {
            "text/plain": [
              "9"
            ]
          },
          "metadata": {},
          "execution_count": 18
        }
      ]
    },
    {
      "cell_type": "code",
      "source": [
        "find_largest([5,6,-9,6])"
      ],
      "metadata": {
        "colab": {
          "base_uri": "https://localhost:8080/"
        },
        "id": "kzMruNxVwYY2",
        "outputId": "c9bcd2bd-267e-4cb3-e360-29c5abe1968a"
      },
      "execution_count": 17,
      "outputs": [
        {
          "output_type": "execute_result",
          "data": {
            "text/plain": [
              "6"
            ]
          },
          "metadata": {},
          "execution_count": 17
        }
      ]
    },
    {
      "cell_type": "code",
      "source": [
        "def Largest_element(numbers):\n",
        "  return max(numbers)\n",
        "\n",
        "numbers=[-2, -7, -4, -8]\n",
        "max(numbers)"
      ],
      "metadata": {
        "colab": {
          "base_uri": "https://localhost:8080/"
        },
        "id": "OXjeDnr4s0RJ",
        "outputId": "8c975b53-0385-4ab6-c5ed-c353edc6a94d"
      },
      "execution_count": 13,
      "outputs": [
        {
          "output_type": "execute_result",
          "data": {
            "text/plain": [
              "-2"
            ]
          },
          "metadata": {},
          "execution_count": 13
        }
      ]
    },
    {
      "cell_type": "markdown",
      "source": [
        "## **3. Remove Duplicate from the list**"
      ],
      "metadata": {
        "id": "1bFRNr2YxBrl"
      }
    },
    {
      "cell_type": "code",
      "source": [
        "def remove_duplicates(numbers):\n",
        "  unique_lst=[]\n",
        "  for item in numbers:\n",
        "    if item not in unique_lst:\n",
        "      unique_lst.append(item)\n",
        "  return unique_lst\n",
        "  pass\n",
        "\n",
        "remove_duplicates([9,5,7,-8,4,9,9,5,5])"
      ],
      "metadata": {
        "colab": {
          "base_uri": "https://localhost:8080/"
        },
        "id": "HlbcEzIPxGme",
        "outputId": "47a22d53-7e6a-468d-d8cc-44c855b8297b"
      },
      "execution_count": 22,
      "outputs": [
        {
          "output_type": "execute_result",
          "data": {
            "text/plain": [
              "[9, 5, 7, -8, 4]"
            ]
          },
          "metadata": {},
          "execution_count": 22
        }
      ]
    },
    {
      "cell_type": "code",
      "source": [
        "def remove_duplicates(numbers):\n",
        "  return list(set(numbers))\n",
        "\n",
        "remove_duplicates([9,5,7,-8,4,9,9,5,5])"
      ],
      "metadata": {
        "colab": {
          "base_uri": "https://localhost:8080/"
        },
        "id": "mqb2JgXXyQFZ",
        "outputId": "9bae653b-60be-4e09-a8cb-a0a5606c1323"
      },
      "execution_count": 21,
      "outputs": [
        {
          "output_type": "execute_result",
          "data": {
            "text/plain": [
              "[4, 5, 7, 9, -8]"
            ]
          },
          "metadata": {},
          "execution_count": 21
        }
      ]
    },
    {
      "cell_type": "markdown",
      "source": [
        "## **4. Check if all elements in a list are Unique**"
      ],
      "metadata": {
        "id": "eQkHIUxE0d9j"
      }
    },
    {
      "cell_type": "code",
      "source": [
        "def check_unique(numbers):\n",
        "  return len(numbers)==len(set(numbers))\n",
        "\n",
        "check_unique([1,2,3,4,4])"
      ],
      "metadata": {
        "colab": {
          "base_uri": "https://localhost:8080/"
        },
        "id": "OMfLLgZ00oXd",
        "outputId": "5c36c4e4-460d-441d-e5f3-693c79f45822"
      },
      "execution_count": 23,
      "outputs": [
        {
          "output_type": "execute_result",
          "data": {
            "text/plain": [
              "False"
            ]
          },
          "metadata": {},
          "execution_count": 23
        }
      ]
    },
    {
      "cell_type": "code",
      "source": [
        "check_unique([1,2,3,4,5])"
      ],
      "metadata": {
        "colab": {
          "base_uri": "https://localhost:8080/"
        },
        "id": "NV5Fi7Vx5uSH",
        "outputId": "6d23bce8-0505-43ec-a912-49f4d34628c4"
      },
      "execution_count": 24,
      "outputs": [
        {
          "output_type": "execute_result",
          "data": {
            "text/plain": [
              "True"
            ]
          },
          "metadata": {},
          "execution_count": 24
        }
      ]
    },
    {
      "cell_type": "markdown",
      "source": [
        "## **5. Program to reverse a list**"
      ],
      "metadata": {
        "id": "5zdbUn6P1v8g"
      }
    },
    {
      "cell_type": "code",
      "source": [
        "def reverse_list(numbers):\n",
        "  return numbers[::-1]\n",
        "\n",
        "reverse_list([1,2,3,4,5])"
      ],
      "metadata": {
        "colab": {
          "base_uri": "https://localhost:8080/"
        },
        "id": "1BbUZT-N50va",
        "outputId": "c061deef-ef75-4444-ddc5-ebcf33de3596"
      },
      "execution_count": 25,
      "outputs": [
        {
          "output_type": "execute_result",
          "data": {
            "text/plain": [
              "[5, 4, 3, 2, 1]"
            ]
          },
          "metadata": {},
          "execution_count": 25
        }
      ]
    },
    {
      "cell_type": "markdown",
      "source": [
        "## **6. Count Number of Odd and Even Elements in a List**"
      ],
      "metadata": {
        "id": "ebxtT5AF2IpY"
      }
    },
    {
      "cell_type": "code",
      "source": [
        "def count_even_odd(lst):\n",
        "    even_count=0\n",
        "    odd_count=0\n",
        "    for item in lst:\n",
        "        if item%2==0:\n",
        "            even_count+=1\n",
        "        else:\n",
        "            odd_count+=1\n",
        "    return even_count,odd_count\n",
        "\n",
        "even,odd = count_even_odd([1,2,3,4,5,6,7,8,9])\n",
        "print(f\"Even number count: {even}\")\n",
        "print(f\"Odd number count: {odd}\")"
      ],
      "metadata": {
        "colab": {
          "base_uri": "https://localhost:8080/"
        },
        "id": "Wi7cIZ-EEmZ6",
        "outputId": "94240847-2e15-41dc-9686-64710324ab70"
      },
      "execution_count": 27,
      "outputs": [
        {
          "output_type": "stream",
          "name": "stdout",
          "text": [
            "Even number count: 4\n",
            "Odd number count: 5\n"
          ]
        }
      ]
    },
    {
      "cell_type": "markdown",
      "source": [
        "## **7. Maximum difference between two consecutive elements in a list.**"
      ],
      "metadata": {
        "id": "RF_fGRmfLMBT"
      }
    },
    {
      "cell_type": "code",
      "source": [
        "def max_consecutive_difference(numbers):\n",
        "    # Your code goes here\n",
        "    if len(numbers)<2:\n",
        "        return 0\n",
        "\n",
        "    max_diff=0\n",
        "    for item in range(1,len(numbers)):\n",
        "        current_diff=abs(numbers[item]-numbers[item-1])\n",
        "        if current_diff>max_diff:\n",
        "            max_diff=current_diff\n",
        "    return max_diff\n",
        "\n",
        "numbers = [10, 11, 15, 3]\n",
        "print(f\"Maximum Consecutive difference from the list is {max_consecutive_difference(numbers)}\")"
      ],
      "metadata": {
        "colab": {
          "base_uri": "https://localhost:8080/"
        },
        "id": "Yxv3CdOwLPCT",
        "outputId": "09428a72-2f3b-49fd-b0b3-f519399f3985"
      },
      "execution_count": 30,
      "outputs": [
        {
          "output_type": "stream",
          "name": "stdout",
          "text": [
            "Maximum Consecutive difference from the list is 12\n"
          ]
        }
      ]
    },
    {
      "cell_type": "markdown",
      "source": [
        "## **8. Merge two Sorted List**"
      ],
      "metadata": {
        "id": "5vcICv_mRpHG"
      }
    },
    {
      "cell_type": "code",
      "source": [
        "def merge_two_sorted_list(list1,list2):\n",
        "  return (sorted(list1 + list2))\n",
        "\n",
        "list1=[56,78,23,9,1]\n",
        "list2=[23,98,64,12,34]\n",
        "print(f\"After merging two sorted list: {merge_two_sorted_list(list1,list2)}\")"
      ],
      "metadata": {
        "colab": {
          "base_uri": "https://localhost:8080/"
        },
        "id": "hUVjsrn_PaiN",
        "outputId": "edd2c155-db3c-4f41-8e50-77ab33981f3e"
      },
      "execution_count": 36,
      "outputs": [
        {
          "output_type": "stream",
          "name": "stdout",
          "text": [
            "After merging two sorted list: [1, 9, 12, 23, 23, 34, 56, 64, 78, 98]\n"
          ]
        }
      ]
    },
    {
      "cell_type": "markdown",
      "source": [
        "## **9. Rotate a list**"
      ],
      "metadata": {
        "id": "zsE-wrlfUN65"
      }
    },
    {
      "cell_type": "code",
      "source": [
        "def rotate_list(lst, k):\n",
        "    if not lst:\n",
        "        return []\n",
        "\n",
        "    k = k % len(lst)\n",
        "\n",
        "    for _ in range(k):\n",
        "        last_element = lst.pop()\n",
        "        lst.insert(0,last_element)\n",
        "    return lst\n",
        "    pass\n",
        "\n",
        "lst = [1,2,3,4,5,6]\n",
        "print(f\"List after rotation: {rotate_list(lst,2)}\")"
      ],
      "metadata": {
        "colab": {
          "base_uri": "https://localhost:8080/"
        },
        "id": "Mruw_RaUUSO-",
        "outputId": "31ee1a30-a5b9-4111-f889-9d8cea425ca1"
      },
      "execution_count": 38,
      "outputs": [
        {
          "output_type": "stream",
          "name": "stdout",
          "text": [
            "List after rotation: [5, 6, 1, 2, 3, 4]\n"
          ]
        }
      ]
    },
    {
      "cell_type": "markdown",
      "source": [
        "## **10. Merge two list into dictionary**"
      ],
      "metadata": {
        "id": "fyb99ct2VmvV"
      }
    },
    {
      "cell_type": "code",
      "source": [
        "def merge_list_to_dict (keys,values):\n",
        "  return dict(zip(keys,values))\n",
        "\n",
        "keys = ['a', 'b', 'c']\n",
        "values = [1, 2, 3]\n",
        "merge_list_to_dict(keys,values)"
      ],
      "metadata": {
        "colab": {
          "base_uri": "https://localhost:8080/"
        },
        "id": "hIdwO1ENVssN",
        "outputId": "edb82aad-50f0-475c-dbe3-cd17c0e79281"
      },
      "execution_count": 42,
      "outputs": [
        {
          "output_type": "execute_result",
          "data": {
            "text/plain": [
              "{'a': 1, 'b': 2, 'c': 3}"
            ]
          },
          "metadata": {},
          "execution_count": 42
        }
      ]
    },
    {
      "cell_type": "code",
      "source": [
        "def merge_lists_to_dictionary(keys, values):\n",
        "    # Your code goes here\n",
        "    if len(keys) != len(values):\n",
        "        return False\n",
        "\n",
        "    total = {}\n",
        "    for i in range(len(keys)):\n",
        "        total[keys[i]] = values[i]\n",
        "    return total\n",
        "    pass\n",
        "\n",
        "keys = ['a', 'b', 'c']\n",
        "values = ['apple','banana','kiwi']\n",
        "merge_lists_to_dictionary(keys,values)"
      ],
      "metadata": {
        "colab": {
          "base_uri": "https://localhost:8080/"
        },
        "id": "SzBqC7GAZsK8",
        "outputId": "963c5f97-bbff-48e6-b884-dda9ca21c6ff"
      },
      "execution_count": 43,
      "outputs": [
        {
          "output_type": "execute_result",
          "data": {
            "text/plain": [
              "{'a': 'apple', 'b': 'banana', 'c': 'kiwi'}"
            ]
          },
          "metadata": {},
          "execution_count": 43
        }
      ]
    },
    {
      "cell_type": "markdown",
      "source": [
        "## **11. Merge Multiple Dictionaries**"
      ],
      "metadata": {
        "id": "PvCAxLIOaWnW"
      }
    },
    {
      "cell_type": "code",
      "source": [
        "# Method 1: Using the {**d1, **d2, **d3} unpacking syntax\n",
        "\n",
        "def merge_multiple_dictionaries(dict1,dict2,dict3):\n",
        "  merged = {**dict1,**dict2,**dict3}\n",
        "  return merged\n",
        "  pass\n",
        "\n",
        "dict1 = {'a': 1, 'b': 2, 'c': 3}\n",
        "dict2 = {'a': 'apple', 'b': 'banana', 'c': 'kiwi'}\n",
        "dict3 = {'d': 'grapes', 'e': 'orange', 'f': 'straberry'}\n",
        "merge_multiple_dictionaries(dict1,dict2,dict3)"
      ],
      "metadata": {
        "colab": {
          "base_uri": "https://localhost:8080/"
        },
        "id": "a9q6mZiDaazP",
        "outputId": "dba84c00-19bb-475e-9f63-b32d30d41c76"
      },
      "execution_count": 50,
      "outputs": [
        {
          "output_type": "execute_result",
          "data": {
            "text/plain": [
              "{'a': 'apple',\n",
              " 'b': 'banana',\n",
              " 'c': 'kiwi',\n",
              " 'd': 'grapes',\n",
              " 'e': 'orange',\n",
              " 'f': 'straberry'}"
            ]
          },
          "metadata": {},
          "execution_count": 50
        }
      ]
    },
    {
      "cell_type": "code",
      "source": [
        "# Method 2: By using loop and dict.update()\n",
        "\n",
        "def merge_multiple_dictionaries(dict1,dict2,dict3):\n",
        "  merged = {}\n",
        "  for d in (dict1,dict2,dict3):\n",
        "    merged.update(d)\n",
        "  return merged\n",
        "  pass\n",
        "\n",
        "dict1 = {'a': 1, 'b': 2, 'c': 3}\n",
        "dict2 = {'a': 'apple', 'b': 'banana', 'c': 'kiwi'}\n",
        "dict3 = {'d': 'grapes', 'e': 'orange', 'f': 'straberry'}\n",
        "merge_multiple_dictionaries(dict1,dict2,dict3)"
      ],
      "metadata": {
        "colab": {
          "base_uri": "https://localhost:8080/"
        },
        "id": "DskpjPvafLTQ",
        "outputId": "2b82358e-7bbf-49a8-8c1e-98ff4eda447a"
      },
      "execution_count": 51,
      "outputs": [
        {
          "output_type": "execute_result",
          "data": {
            "text/plain": [
              "{'a': 'apple',\n",
              " 'b': 'banana',\n",
              " 'c': 'kiwi',\n",
              " 'd': 'grapes',\n",
              " 'e': 'orange',\n",
              " 'f': 'straberry'}"
            ]
          },
          "metadata": {},
          "execution_count": 51
        }
      ]
    },
    {
      "cell_type": "code",
      "source": [
        "def merge_three_dictionaries(dict1, dict2, dict3):\n",
        "    # Your code goes here\n",
        "    merged_dict = dict1.copy()\n",
        "\n",
        "    for key,value in dict2.items():\n",
        "        merged_dict[key] = value\n",
        "\n",
        "    for key,value in dict3.items():\n",
        "        merged_dict[key] = value\n",
        "\n",
        "    return merged_dict\n",
        "    pass\n",
        "\n",
        "dict1 = {'x': 1, 'y': 2, 'z': 3}\n",
        "dict2 = {'a': 'apple', 'b': 'banana', 'c': 'kiwi'}\n",
        "dict3 = {'d': 'grapes', 'e': 'orange', 'f': 'straberry'}\n",
        "merge_three_dictionaries(dict1,dict2,dict3)"
      ],
      "metadata": {
        "colab": {
          "base_uri": "https://localhost:8080/"
        },
        "id": "1R9yUVKQeXKu",
        "outputId": "6baa32a1-993f-4e5f-ab2a-c79c2e12c092"
      },
      "execution_count": 47,
      "outputs": [
        {
          "output_type": "execute_result",
          "data": {
            "text/plain": [
              "{'x': 1,\n",
              " 'y': 2,\n",
              " 'z': 3,\n",
              " 'a': 'apple',\n",
              " 'b': 'banana',\n",
              " 'c': 'kiwi',\n",
              " 'd': 'grapes',\n",
              " 'e': 'orange',\n",
              " 'f': 'straberry'}"
            ]
          },
          "metadata": {},
          "execution_count": 47
        }
      ]
    },
    {
      "cell_type": "markdown",
      "source": [
        "## **12. Words Frequency in a Sentence**"
      ],
      "metadata": {
        "id": "6jhYWD3Lg_dW"
      }
    },
    {
      "cell_type": "code",
      "source": [
        "from collections import Counter\n",
        "def word_frequency(sentence):\n",
        "  word = sentence.lower().split()\n",
        "  return Counter(word)\n",
        "  pass\n",
        "\n",
        "word_frequency(\"hello world hello\")"
      ],
      "metadata": {
        "colab": {
          "base_uri": "https://localhost:8080/"
        },
        "id": "xJWrgLbKhDNX",
        "outputId": "6aa2d4ef-c8f3-47e5-dffa-718f2f8b8df7"
      },
      "execution_count": 52,
      "outputs": [
        {
          "output_type": "execute_result",
          "data": {
            "text/plain": [
              "Counter({'hello': 2, 'world': 1})"
            ]
          },
          "metadata": {},
          "execution_count": 52
        }
      ]
    },
    {
      "cell_type": "code",
      "source": [
        "def count_word_frequency(sentence):\n",
        "    word_count = {}\n",
        "    words = sentence.split()\n",
        "\n",
        "    for word in words:\n",
        "        if word in word_count:\n",
        "            word_count[word] += 1\n",
        "        else:\n",
        "            word_count[word] = 1\n",
        "\n",
        "    return word_count\n",
        "\n",
        "sentence =input(\"Enter the sentence: \")\n",
        "count_word_frequency(sentence)"
      ],
      "metadata": {
        "colab": {
          "base_uri": "https://localhost:8080/"
        },
        "id": "MHakrJIgiJ9C",
        "outputId": "53d1d048-92e9-4fd0-88cc-756ed78384ae"
      },
      "execution_count": 54,
      "outputs": [
        {
          "name": "stdout",
          "output_type": "stream",
          "text": [
            "Enter the sentence: milli is not milli anymore\n"
          ]
        },
        {
          "output_type": "execute_result",
          "data": {
            "text/plain": [
              "{'milli': 2, 'is': 1, 'not': 1, 'anymore': 1}"
            ]
          },
          "metadata": {},
          "execution_count": 54
        }
      ]
    },
    {
      "cell_type": "markdown",
      "source": [
        "## **13. Palindromic Tuple: Check if Tuple is Palindromic**"
      ],
      "metadata": {
        "id": "hseUDpSGiJbe"
      }
    },
    {
      "cell_type": "code",
      "source": [
        "def is_palindromic_tuple(tup):\n",
        "    if tup==tup[::-1]:\n",
        "      return True\n",
        "    else:\n",
        "      return False\n",
        "    pass\n",
        "\n",
        "is_palindromic_tuple((1,2,3,4,2,1))"
      ],
      "metadata": {
        "colab": {
          "base_uri": "https://localhost:8080/"
        },
        "id": "Q5DMW46kjGr8",
        "outputId": "8702707c-c5e9-4845-e8a5-f7b3cdfffe17"
      },
      "execution_count": 61,
      "outputs": [
        {
          "output_type": "execute_result",
          "data": {
            "text/plain": [
              "False"
            ]
          },
          "metadata": {},
          "execution_count": 61
        }
      ]
    },
    {
      "cell_type": "code",
      "source": [
        "def palindromic(tup):\n",
        "  if tup==tup[::-1]:\n",
        "      return True\n",
        "  else:\n",
        "      return False\n",
        "  pass\n",
        "\n",
        "tulip = tuple(map(int,input(\"Enter the tuple: \").split()))\n",
        "palindromic(tulip)"
      ],
      "metadata": {
        "colab": {
          "base_uri": "https://localhost:8080/"
        },
        "id": "MUk_2ZUTk2k9",
        "outputId": "7b3a42ff-c360-4aa7-c36f-2eedcac1771f"
      },
      "execution_count": 62,
      "outputs": [
        {
          "name": "stdout",
          "output_type": "stream",
          "text": [
            "Enter the tuple: 1 2 3 2 1\n"
          ]
        },
        {
          "output_type": "execute_result",
          "data": {
            "text/plain": [
              "True"
            ]
          },
          "metadata": {},
          "execution_count": 62
        }
      ]
    },
    {
      "cell_type": "markdown",
      "source": [
        "## **14. Merge Dictionaries with Common Keys**"
      ],
      "metadata": {
        "id": "74wL6YoOl1Ak"
      }
    },
    {
      "cell_type": "code",
      "source": [
        "from collections import Counter\n",
        "\n",
        "def merge_dict_with_common_keys(*dicts):\n",
        "  return sum(map(Counter,dicts), Counter())\n",
        "\n",
        "d1 = {'a': 10, 'b': 20}\n",
        "d2 = {'b': 5, 'c': 7}\n",
        "d3 = {'a': 3, 'c': 4, 'd': 2}\n",
        "merged = merge_dict_with_common_keys(d1, d2, d3)\n",
        "print(\"Merged Dictionary:\", dict(merged))"
      ],
      "metadata": {
        "colab": {
          "base_uri": "https://localhost:8080/"
        },
        "id": "SNHe5Mlpl4z1",
        "outputId": "e53e2067-9e66-445d-8d3d-376d46d46be9"
      },
      "execution_count": 2,
      "outputs": [
        {
          "output_type": "stream",
          "name": "stdout",
          "text": [
            "Merged Dictionary: {'a': 13, 'b': 25, 'c': 11, 'd': 2}\n"
          ]
        }
      ]
    },
    {
      "cell_type": "code",
      "source": [
        "def merge_dicts_with_overlapping_keys(*dicts):\n",
        "    result = {}\n",
        "    for d in dicts:\n",
        "        for key, value in d.items():\n",
        "            if key in result:\n",
        "                result[key] += value\n",
        "            else:\n",
        "                result[key] = value\n",
        "    return result\n",
        "\n",
        "\n",
        "d1 = {'a': 10, 'b': 20}\n",
        "d2 = {'b': 5, 'c': 7}\n",
        "d3 = {'a': 3, 'c': 4, 'd': 2}\n",
        "\n",
        "result = merge_dicts_with_overlapping_keys(d1, d2, d3)\n",
        "print(\"Merged Dictionary:\", result)"
      ],
      "metadata": {
        "colab": {
          "base_uri": "https://localhost:8080/"
        },
        "id": "7BuTqriWnMwr",
        "outputId": "b37dc5d6-0656-4910-8ce8-96ed68b983a5"
      },
      "execution_count": 5,
      "outputs": [
        {
          "output_type": "stream",
          "name": "stdout",
          "text": [
            "Merged Dictionary: {'a': 13, 'b': 25, 'c': 11, 'd': 2}\n"
          ]
        }
      ]
    },
    {
      "cell_type": "markdown",
      "source": [
        "## **15. Check if List is Subset of another List**"
      ],
      "metadata": {
        "id": "DGPv2s5LnppP"
      }
    },
    {
      "cell_type": "code",
      "source": [
        "def is_subset_of(lst1,lst2):\n",
        "  return set(lst1).issubset(set(lst2))\n",
        "\n",
        "a=[1,2,3]\n",
        "b=[1,2,3,4,5]\n",
        "\n",
        "print(f\"Is a subset of b: {is_subset_of(a,b)}\")\n",
        "print(f\"Is b subset of a: {is_subset_of(b,a)}\")"
      ],
      "metadata": {
        "colab": {
          "base_uri": "https://localhost:8080/"
        },
        "id": "XuUFPI1LFlG0",
        "outputId": "5653237b-a3ec-48c2-b598-8b6d783fc90f"
      },
      "execution_count": 6,
      "outputs": [
        {
          "output_type": "stream",
          "name": "stdout",
          "text": [
            "Is a subset of b: True\n",
            "Is b subset of a: False\n"
          ]
        }
      ]
    },
    {
      "cell_type": "code",
      "source": [
        "def is_subset(lst1, lst2):\n",
        "    for element in lst1:\n",
        "        found = False\n",
        "        for item in lst2:\n",
        "            if item == element:\n",
        "                found = True\n",
        "                break\n",
        "        if not found:\n",
        "            return False\n",
        "    return True\n",
        "\n",
        "a=[1,2,3,4,5,6]\n",
        "b=[1,2,3,4,5]\n",
        "\n",
        "print(f\"Is a subset of b: {is_subset(a,b)}\")\n",
        "print(f\"Is b subset of a: {is_subset(b,a)}\")"
      ],
      "metadata": {
        "colab": {
          "base_uri": "https://localhost:8080/"
        },
        "id": "k-Mlp6_7nurh",
        "outputId": "16ecff6d-6970-45d8-c847-64f9b8f286e0"
      },
      "execution_count": 9,
      "outputs": [
        {
          "output_type": "stream",
          "name": "stdout",
          "text": [
            "Is a subset of b: False\n",
            "Is b subset of a: True\n"
          ]
        }
      ]
    }
  ]
}