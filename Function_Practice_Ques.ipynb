{
  "nbformat": 4,
  "nbformat_minor": 0,
  "metadata": {
    "colab": {
      "provenance": [],
      "authorship_tag": "ABX9TyNIqdexC5QlsWLPQ582K7gi",
      "include_colab_link": true
    },
    "kernelspec": {
      "name": "python3",
      "display_name": "Python 3"
    },
    "language_info": {
      "name": "python"
    }
  },
  "cells": [
    {
      "cell_type": "markdown",
      "metadata": {
        "id": "view-in-github",
        "colab_type": "text"
      },
      "source": [
        "<a href=\"https://colab.research.google.com/github/shrybhrdwj/TheCodeStreak/blob/main/Function_Practice_Ques.ipynb\" target=\"_parent\"><img src=\"https://colab.research.google.com/assets/colab-badge.svg\" alt=\"Open In Colab\"/></a>"
      ]
    },
    {
      "cell_type": "markdown",
      "source": [
        "## **1. Celsius to Fahrenheit**"
      ],
      "metadata": {
        "id": "BePaovgrVFXT"
      }
    },
    {
      "cell_type": "code",
      "execution_count": 3,
      "metadata": {
        "colab": {
          "base_uri": "https://localhost:8080/"
        },
        "id": "3LRKxXT2UZvs",
        "outputId": "09c8804f-f6bf-4047-a566-33fcec76fe4c"
      },
      "outputs": [
        {
          "output_type": "stream",
          "name": "stdout",
          "text": [
            "Enter the temperature in Celsius: 25\n",
            "77.0\n"
          ]
        }
      ],
      "source": [
        "def celsius_to_fahrenheit(C):\n",
        "  F = (C * 9/5) + 32\n",
        "  return F\n",
        "\n",
        "Celsius = int(input(\"Enter the temperature in Celsius: \"))\n",
        "print(celsius_to_fahrenheit(Celsius))"
      ]
    },
    {
      "cell_type": "markdown",
      "source": [
        "## **2. Area of a Rectangle**"
      ],
      "metadata": {
        "id": "3TaWGEFcW2fX"
      }
    },
    {
      "cell_type": "code",
      "source": [
        "def area_of_rectangle(length,breadth):\n",
        "  return (length*breadth)\n",
        "\n",
        "length = int(input(\"Enter the length of the rectangle: \"))\n",
        "breadth = int(input(\"Enter the breadth of the rectangle: \"))\n",
        "\n",
        "print(area_of_rectangle(length,breadth))"
      ],
      "metadata": {
        "colab": {
          "base_uri": "https://localhost:8080/"
        },
        "id": "VTlAbmHBW_n2",
        "outputId": "5803b230-8616-4c98-a2e2-0028a0cf9b44"
      },
      "execution_count": 4,
      "outputs": [
        {
          "output_type": "stream",
          "name": "stdout",
          "text": [
            "Enter the length of the rectangle: 4\n",
            "Enter the breadth of the rectangle: 8\n",
            "32\n"
          ]
        }
      ]
    },
    {
      "cell_type": "markdown",
      "source": [
        "## **3. Distance covered by a Vehicle**\n",
        "\n",
        "             Distance=Speed×Time"
      ],
      "metadata": {
        "id": "WU7gLsInX1Q3"
      }
    },
    {
      "cell_type": "code",
      "source": [
        "def calculate_distance(speed,time):\n",
        "  return (speed*time)\n",
        "\n",
        "Speed = int(input(\"Enter the speed of the vehicals: \"))\n",
        "Time = int(input(\"Enter the time taken to reach at the destination: \"))\n",
        "print(calculate_distance(Speed,Time))"
      ],
      "metadata": {
        "colab": {
          "base_uri": "https://localhost:8080/"
        },
        "id": "IIIx2R94YJwe",
        "outputId": "04a94eaf-8ad2-482e-e858-d151f43b43b6"
      },
      "execution_count": 5,
      "outputs": [
        {
          "output_type": "stream",
          "name": "stdout",
          "text": [
            "Enter the speed of the vehicals: 10\n",
            "Enter the time taken to reach at the destination: 4\n",
            "40\n"
          ]
        }
      ]
    },
    {
      "cell_type": "markdown",
      "source": [
        "## **4. Number of Rounds the Lift needs to cover**"
      ],
      "metadata": {
        "id": "eJsVlGRhZkLU"
      }
    },
    {
      "cell_type": "code",
      "source": [
        "def calculate_rounds(n,capacity):\n",
        "  rounds = (n + capacity - 1) // capacity\n",
        "  return rounds\n",
        "\n",
        "number_of_people = int(input(\"Enter the number of people: \"))\n",
        "capacity_of_lift = int(input(\"Enter the capacity of lift: \"))\n",
        "\n",
        "print(calculate_rounds(number_of_people,capacity_of_lift))"
      ],
      "metadata": {
        "colab": {
          "base_uri": "https://localhost:8080/"
        },
        "id": "v6EL1PKcaLfU",
        "outputId": "b7c4d140-12c3-4eb6-d244-c30493815bfc"
      },
      "execution_count": 6,
      "outputs": [
        {
          "output_type": "stream",
          "name": "stdout",
          "text": [
            "Enter the number of people: 10\n",
            "Enter the capacity of lift: 3\n",
            "4\n"
          ]
        }
      ]
    },
    {
      "cell_type": "markdown",
      "source": [
        "## **5. Line Equation**\n",
        "\n",
        "                   y = mx + b"
      ],
      "metadata": {
        "id": "S0h_Ib78b9a-"
      }
    },
    {
      "cell_type": "code",
      "source": [
        "def calculate_y(slope, intercept, x):\n",
        "  y = (slope*x) + intercept\n",
        "  return y\n",
        "\n",
        "Slope = int(input(\"Enter the slope of the line: \"))\n",
        "Intercept = int(input(\"Enter the intercept or constant: \"))\n",
        "x = int(input(\"Enter the value of x: \"))\n",
        "\n",
        "print(calculate_y(Slope,Intercept,x))"
      ],
      "metadata": {
        "colab": {
          "base_uri": "https://localhost:8080/"
        },
        "id": "8hFNlTroce8H",
        "outputId": "11a09fc6-5614-4f49-8273-b237de233b2b"
      },
      "execution_count": 8,
      "outputs": [
        {
          "output_type": "stream",
          "name": "stdout",
          "text": [
            "Enter the slope of the line: 4\n",
            "Enter the intercept or constant: 3\n",
            "Enter the value of x: 2\n",
            "11\n"
          ]
        }
      ]
    }
  ]
}