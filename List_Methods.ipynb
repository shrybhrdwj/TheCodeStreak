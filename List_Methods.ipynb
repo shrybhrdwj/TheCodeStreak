{
  "nbformat": 4,
  "nbformat_minor": 0,
  "metadata": {
    "colab": {
      "provenance": [],
      "authorship_tag": "ABX9TyNGWaziOERw+2DumQBiD9N3",
      "include_colab_link": true
    },
    "kernelspec": {
      "name": "python3",
      "display_name": "Python 3"
    },
    "language_info": {
      "name": "python"
    }
  },
  "cells": [
    {
      "cell_type": "markdown",
      "metadata": {
        "id": "view-in-github",
        "colab_type": "text"
      },
      "source": [
        "<a href=\"https://colab.research.google.com/github/shrybhrdwj/TheCodeStreak/blob/main/List_Methods.ipynb\" target=\"_parent\"><img src=\"https://colab.research.google.com/assets/colab-badge.svg\" alt=\"Open In Colab\"/></a>"
      ]
    },
    {
      "cell_type": "code",
      "source": [
        "#add elements to a python list\n",
        "fruits = ['apple', 'banana', 'orange']\n",
        "print('Original List:', fruits)\n",
        "fruits.append('cherry')\n",
        "print('Updated List:', fruits)"
      ],
      "metadata": {
        "colab": {
          "base_uri": "https://localhost:8080/"
        },
        "id": "-3MR9pHMBSS9",
        "outputId": "00389c20-6afa-41e0-e4fb-9d5d5192eabf"
      },
      "execution_count": 14,
      "outputs": [
        {
          "output_type": "stream",
          "name": "stdout",
          "text": [
            "Original List: ['apple', 'banana', 'orange']\n",
            "Updated List: ['apple', 'banana', 'orange', 'cherry']\n"
          ]
        }
      ]
    },
    {
      "cell_type": "code",
      "execution_count": 2,
      "metadata": {
        "colab": {
          "base_uri": "https://localhost:8080/"
        },
        "id": "3Ix_tAce3PeM",
        "outputId": "461d7f7a-6d84-4aa4-cb91-d51e42ae1a59"
      },
      "outputs": [
        {
          "output_type": "stream",
          "name": "stdout",
          "text": [
            "Original List= ['apple', 'banana', 'orange']\n",
            "Updated List= ['apple', 'banana', 'Cherry', 'orange']\n"
          ]
        }
      ],
      "source": [
        "#Add elements at the specified index\n",
        "fruits = ['apple','banana', 'orange']\n",
        "print(\"Original List=\", fruits)\n",
        "fruits.insert(2,'Cherry')\n",
        "print(\"Updated List=\",fruits)"
      ]
    },
    {
      "cell_type": "code",
      "source": [
        "#Add elements to a list from other iterables\n",
        "numbers = [1,3,5]\n",
        "print('numbers=',numbers)\n",
        "even_numbers = [2,4,6]\n",
        "print(even_numbers)\n",
        "numbers.extend(even_numbers)\n",
        "print(\"Updated numbers=\",numbers)"
      ],
      "metadata": {
        "colab": {
          "base_uri": "https://localhost:8080/"
        },
        "id": "Sv6TIfME4yqv",
        "outputId": "031f1911-b531-4547-a1fa-adae1983b458"
      },
      "execution_count": 3,
      "outputs": [
        {
          "output_type": "stream",
          "name": "stdout",
          "text": [
            "numbers= [1, 3, 5]\n",
            "[2, 4, 6]\n",
            "Updated numbers= [1, 3, 5, 2, 4, 6]\n"
          ]
        }
      ]
    },
    {
      "cell_type": "code",
      "source": [
        "#change List items\n",
        "colors = ['Red', 'Black', 'Blue']\n",
        "print(\"original_Lis=\",colors)\n",
        "colors[0] = 'Purple'\n",
        "colors[2] = 'royal blue'\n",
        "print('upated List=',colors)"
      ],
      "metadata": {
        "colab": {
          "base_uri": "https://localhost:8080/"
        },
        "id": "A0jMcN2S6ASm",
        "outputId": "1aeafc4c-c9df-4489-db73-ec0e0b750b44"
      },
      "execution_count": 5,
      "outputs": [
        {
          "output_type": "stream",
          "name": "stdout",
          "text": [
            "original_Lis= ['Red', 'Black', 'Blue']\n",
            "upated List= ['Purple', 'Black', 'royal blue']\n"
          ]
        }
      ]
    },
    {
      "cell_type": "code",
      "source": [
        "#Remove an item from a list\n",
        "numbers= [2,4,7,9]\n",
        "print('Orininal List=',numbers)\n",
        "numbers.remove(4)\n",
        "print('Updated List=',numbers)"
      ],
      "metadata": {
        "colab": {
          "base_uri": "https://localhost:8080/"
        },
        "id": "KeSIXRos7hZi",
        "outputId": "812886f5-a924-4269-a861-574efc710de9"
      },
      "execution_count": 7,
      "outputs": [
        {
          "output_type": "stream",
          "name": "stdout",
          "text": [
            "Orininal List= [2, 4, 7, 9]\n",
            "Updated List= [2, 7, 9]\n"
          ]
        }
      ]
    },
    {
      "cell_type": "code",
      "source": [
        "#Remove one or more elements of a list\n",
        "names = ['John','Eva','Laura','Nick','jack']\n",
        "print('Orininal List=',names)\n",
        "del names[1]\n",
        "print('Updated List=',names)\n",
        "del names[1:3]\n",
        "print('Updated List1=',names)\n",
        "# delete entire ist\n",
        "del names\n",
        "print(names)"
      ],
      "metadata": {
        "colab": {
          "base_uri": "https://localhost:8080/",
          "height": 228
        },
        "id": "OB9sSN-U8BNk",
        "outputId": "b04505c4-ab8c-4136-c04a-480d42e7f8b7"
      },
      "execution_count": 11,
      "outputs": [
        {
          "output_type": "stream",
          "name": "stdout",
          "text": [
            "Orininal List= ['John', 'Eva', 'Laura', 'Nick', 'jack']\n",
            "Updated List= ['John', 'Laura', 'Nick', 'jack']\n",
            "Updated List1= ['John', 'jack']\n"
          ]
        },
        {
          "output_type": "error",
          "ename": "NameError",
          "evalue": "name 'names' is not defined",
          "traceback": [
            "\u001b[0;31m---------------------------------------------------------------------------\u001b[0m",
            "\u001b[0;31mNameError\u001b[0m                                 Traceback (most recent call last)",
            "\u001b[0;32m/tmp/ipython-input-11-3771892390.py\u001b[0m in \u001b[0;36m<cell line: 0>\u001b[0;34m()\u001b[0m\n\u001b[1;32m      8\u001b[0m \u001b[0;31m# delete entire ist\u001b[0m\u001b[0;34m\u001b[0m\u001b[0;34m\u001b[0m\u001b[0m\n\u001b[1;32m      9\u001b[0m \u001b[0;32mdel\u001b[0m \u001b[0mnames\u001b[0m\u001b[0;34m\u001b[0m\u001b[0;34m\u001b[0m\u001b[0m\n\u001b[0;32m---> 10\u001b[0;31m \u001b[0mprint\u001b[0m\u001b[0;34m(\u001b[0m\u001b[0mnames\u001b[0m\u001b[0;34m)\u001b[0m\u001b[0;34m\u001b[0m\u001b[0;34m\u001b[0m\u001b[0m\n\u001b[0m",
            "\u001b[0;31mNameError\u001b[0m: name 'names' is not defined"
          ]
        }
      ]
    },
    {
      "cell_type": "code",
      "source": [
        "#List length\n",
        "cars = ['BMW','Mercedes','Tesla']\n",
        "print(\"Total Elements=\", len(cars))"
      ],
      "metadata": {
        "colab": {
          "base_uri": "https://localhost:8080/"
        },
        "id": "B2N53-BG-DNb",
        "outputId": "bd764acb-9504-4210-c759-80c3b028f086"
      },
      "execution_count": 12,
      "outputs": [
        {
          "output_type": "stream",
          "name": "stdout",
          "text": [
            "Total Elements= 3\n"
          ]
        }
      ]
    },
    {
      "cell_type": "code",
      "source": [
        "#Iterating through a list\n",
        "fruits = ['apples','avacadro','dragon fruit']\n",
        "for fruit in fruits:\n",
        "  print(fruit)"
      ],
      "metadata": {
        "colab": {
          "base_uri": "https://localhost:8080/"
        },
        "id": "-8G9wrv7-ani",
        "outputId": "548b6ee2-6119-4d34-969d-83775b0c8a9d"
      },
      "execution_count": 13,
      "outputs": [
        {
          "output_type": "stream",
          "name": "stdout",
          "text": [
            "apples\n",
            "avacadro\n",
            "dragon fruit\n"
          ]
        }
      ]
    }
  ]
}