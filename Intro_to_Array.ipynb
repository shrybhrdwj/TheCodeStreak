{
  "nbformat": 4,
  "nbformat_minor": 0,
  "metadata": {
    "colab": {
      "provenance": [],
      "authorship_tag": "ABX9TyNkcLymJwMTkuV11EE/IH58",
      "include_colab_link": true
    },
    "kernelspec": {
      "name": "python3",
      "display_name": "Python 3"
    },
    "language_info": {
      "name": "python"
    }
  },
  "cells": [
    {
      "cell_type": "markdown",
      "metadata": {
        "id": "view-in-github",
        "colab_type": "text"
      },
      "source": [
        "<a href=\"https://colab.research.google.com/github/shrybhrdwj/TheCodeStreak/blob/main/Intro_to_Array.ipynb\" target=\"_parent\"><img src=\"https://colab.research.google.com/assets/colab-badge.svg\" alt=\"Open In Colab\"/></a>"
      ]
    },
    {
      "cell_type": "code",
      "execution_count": 1,
      "metadata": {
        "colab": {
          "base_uri": "https://localhost:8080/"
        },
        "id": "j5cA7pAoUwZJ",
        "outputId": "91210653-ce8c-44d3-ed27-e5a8f6c61570"
      },
      "outputs": [
        {
          "output_type": "stream",
          "name": "stdout",
          "text": [
            "1\n",
            "array('i', [1, 2, 3, 4, 5])\n",
            "array('i', [10, 2, 3, 4, 5])\n"
          ]
        }
      ],
      "source": [
        "l1 = []\n",
        "\n",
        "l1.append(1)\n",
        "l1.append(1.5)\n",
        "l1.append('python')\n",
        "\n",
        "print(l1[0])\n",
        "\n",
        "\n",
        "import array\n",
        "\n",
        "arr = array.array('i',[1,2,3,4,5])\n",
        "print(arr)\n",
        "arr[0] = 10\n",
        "print(arr)"
      ]
    }
  ]
}