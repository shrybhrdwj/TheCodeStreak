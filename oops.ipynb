{
  "nbformat": 4,
  "nbformat_minor": 0,
  "metadata": {
    "colab": {
      "provenance": [],
      "authorship_tag": "ABX9TyNRn7eKTtXZ/NcsG7kEqgpk",
      "include_colab_link": true
    },
    "kernelspec": {
      "name": "python3",
      "display_name": "Python 3"
    },
    "language_info": {
      "name": "python"
    }
  },
  "cells": [
    {
      "cell_type": "markdown",
      "metadata": {
        "id": "view-in-github",
        "colab_type": "text"
      },
      "source": [
        "<a href=\"https://colab.research.google.com/github/shrybhrdwj/TheCodeStreak/blob/main/oops.ipynb\" target=\"_parent\"><img src=\"https://colab.research.google.com/assets/colab-badge.svg\" alt=\"Open In Colab\"/></a>"
      ]
    },
    {
      "cell_type": "markdown",
      "source": [
        "##  **Classes and Objects**\n",
        "Object-Oriented Programming (OOP) is a programming paradigm that uses \"objects\" to design applications and computer programs. OOP allows for modeling real-world scenarios using classes and objects."
      ],
      "metadata": {
        "id": "fnRzEQwtbYdY"
      }
    },
    {
      "cell_type": "code",
      "execution_count": 1,
      "metadata": {
        "id": "xO59JPp1mExN",
        "colab": {
          "base_uri": "https://localhost:8080/"
        },
        "outputId": "3875d269-83ae-4862-baf1-9a1b8a1a230a"
      },
      "outputs": [
        {
          "output_type": "stream",
          "name": "stdout",
          "text": [
            "<class '__main__.Car'>\n"
          ]
        }
      ],
      "source": [
        "# A class is a blue print for creating objects. Attributes,methods\n",
        "class Car:\n",
        "    pass\n",
        "\n",
        "audi=Car()\n",
        "bmw=Car()\n",
        "\n",
        "print(type(audi))\n"
      ]
    },
    {
      "cell_type": "code",
      "source": [
        "print(audi)\n",
        "print(bmw)"
      ],
      "metadata": {
        "colab": {
          "base_uri": "https://localhost:8080/"
        },
        "id": "mxjNijmVbv_P",
        "outputId": "de3cf7a8-dea9-4b10-e5d4-65583b436a28"
      },
      "execution_count": 2,
      "outputs": [
        {
          "output_type": "stream",
          "name": "stdout",
          "text": [
            "<__main__.Car object at 0x7a873c739dc0>\n",
            "<__main__.Car object at 0x7a873c826540>\n"
          ]
        }
      ]
    },
    {
      "cell_type": "code",
      "source": [
        "audi.windows = 4\n",
        "print(audi.windows)"
      ],
      "metadata": {
        "colab": {
          "base_uri": "https://localhost:8080/"
        },
        "id": "vf1MYhU8b6CB",
        "outputId": "0243db78-1259-402f-aac6-2af2f311cc8a"
      },
      "execution_count": 3,
      "outputs": [
        {
          "output_type": "stream",
          "name": "stdout",
          "text": [
            "4\n"
          ]
        }
      ]
    },
    {
      "cell_type": "code",
      "source": [
        "tata=Car()\n",
        "tata.doors=4\n",
        "print(tata.windows)"
      ],
      "metadata": {
        "colab": {
          "base_uri": "https://localhost:8080/",
          "height": 176
        },
        "id": "YqEfPpaycFP_",
        "outputId": "cb45f2ea-e335-41bb-9c63-909cdc156cac"
      },
      "execution_count": 4,
      "outputs": [
        {
          "output_type": "error",
          "ename": "AttributeError",
          "evalue": "'Car' object has no attribute 'windows'",
          "traceback": [
            "\u001b[0;31m---------------------------------------------------------------------------\u001b[0m",
            "\u001b[0;31mAttributeError\u001b[0m                            Traceback (most recent call last)",
            "\u001b[0;32m/tmp/ipython-input-4031632291.py\u001b[0m in \u001b[0;36m<cell line: 0>\u001b[0;34m()\u001b[0m\n\u001b[1;32m      1\u001b[0m \u001b[0mtata\u001b[0m\u001b[0;34m=\u001b[0m\u001b[0mCar\u001b[0m\u001b[0;34m(\u001b[0m\u001b[0;34m)\u001b[0m\u001b[0;34m\u001b[0m\u001b[0;34m\u001b[0m\u001b[0m\n\u001b[1;32m      2\u001b[0m \u001b[0mtata\u001b[0m\u001b[0;34m.\u001b[0m\u001b[0mdoors\u001b[0m\u001b[0;34m=\u001b[0m\u001b[0;36m4\u001b[0m\u001b[0;34m\u001b[0m\u001b[0;34m\u001b[0m\u001b[0m\n\u001b[0;32m----> 3\u001b[0;31m \u001b[0mprint\u001b[0m\u001b[0;34m(\u001b[0m\u001b[0mtata\u001b[0m\u001b[0;34m.\u001b[0m\u001b[0mwindows\u001b[0m\u001b[0;34m)\u001b[0m\u001b[0;34m\u001b[0m\u001b[0;34m\u001b[0m\u001b[0m\n\u001b[0m",
            "\u001b[0;31mAttributeError\u001b[0m: 'Car' object has no attribute 'windows'"
          ]
        }
      ]
    },
    {
      "cell_type": "code",
      "source": [
        "dir(tata)"
      ],
      "metadata": {
        "colab": {
          "base_uri": "https://localhost:8080/"
        },
        "id": "rt_ugn5zcW5E",
        "outputId": "c8d9b7bc-fb4f-459e-d449-074ee90647a4"
      },
      "execution_count": 5,
      "outputs": [
        {
          "output_type": "execute_result",
          "data": {
            "text/plain": [
              "['__class__',\n",
              " '__delattr__',\n",
              " '__dict__',\n",
              " '__dir__',\n",
              " '__doc__',\n",
              " '__eq__',\n",
              " '__format__',\n",
              " '__ge__',\n",
              " '__getattribute__',\n",
              " '__getstate__',\n",
              " '__gt__',\n",
              " '__hash__',\n",
              " '__init__',\n",
              " '__init_subclass__',\n",
              " '__le__',\n",
              " '__lt__',\n",
              " '__module__',\n",
              " '__ne__',\n",
              " '__new__',\n",
              " '__reduce__',\n",
              " '__reduce_ex__',\n",
              " '__repr__',\n",
              " '__setattr__',\n",
              " '__sizeof__',\n",
              " '__str__',\n",
              " '__subclasshook__',\n",
              " '__weakref__',\n",
              " 'doors']"
            ]
          },
          "metadata": {},
          "execution_count": 5
        }
      ]
    },
    {
      "cell_type": "code",
      "source": [
        "# Instance Variables and Methods\n",
        "class Dog:\n",
        "  # constructor\n",
        "  def __init__(self,name,age):\n",
        "    self.name=name\n",
        "    self.age=age\n",
        "\n",
        "#Create objects\n",
        "dog1=Dog(\"Tiger\",3)\n",
        "print(dog1)\n",
        "print(dog1.name)\n",
        "print(dog1.age)"
      ],
      "metadata": {
        "colab": {
          "base_uri": "https://localhost:8080/"
        },
        "id": "4BGYXqKtcaf0",
        "outputId": "31ee1ed4-14b8-4c54-91a9-96f6261717da"
      },
      "execution_count": 7,
      "outputs": [
        {
          "output_type": "stream",
          "name": "stdout",
          "text": [
            "<__main__.Dog object at 0x7a870f6039b0>\n",
            "Tiger\n",
            "3\n"
          ]
        }
      ]
    },
    {
      "cell_type": "code",
      "source": [
        "dog2=Dog(\"Lucy\",4)\n",
        "print(dog2.name)\n",
        "print(dog2.age)"
      ],
      "metadata": {
        "colab": {
          "base_uri": "https://localhost:8080/"
        },
        "id": "NhXi92W2dIYc",
        "outputId": "4b4886c4-dd3a-4d77-f23b-cad5a67d0d0b"
      },
      "execution_count": 8,
      "outputs": [
        {
          "metadata": {
            "tags": null
          },
          "name": "stdout",
          "output_type": "stream",
          "text": [
            "Lucy\n",
            "4\n"
          ]
        }
      ]
    },
    {
      "cell_type": "code",
      "source": [
        "# define a class with instance methods\n",
        "class Dog:\n",
        "  def __init__(self,name,age):\n",
        "    self.name=name\n",
        "    self.age=age\n",
        "\n",
        "  def bark(self):\n",
        "    print(f\"{self.name} says woof\")\n",
        "\n",
        "dog1=Dog(\"Tiger\",3)\n",
        "dog1.bark()\n",
        "dog2=Dog(\"Lucy\",4)\n",
        "dog2.bark()"
      ],
      "metadata": {
        "colab": {
          "base_uri": "https://localhost:8080/"
        },
        "id": "TgZU7qFidQUe",
        "outputId": "a949940a-d57c-4f60-ea34-8beb761cfbd8"
      },
      "execution_count": 10,
      "outputs": [
        {
          "output_type": "stream",
          "name": "stdout",
          "text": [
            "Tiger says woof\n",
            "Lucy says woof\n"
          ]
        }
      ]
    },
    {
      "cell_type": "code",
      "source": [
        "# Modelling a Bank Account\n",
        "\n",
        "# Define a class for BAnk Account\n",
        "\n",
        "class BankAccount:\n",
        "  def __init__(self,owner,balance=0):\n",
        "    self.owner=owner\n",
        "    self.balance=balance\n",
        "    pass\n",
        "\n",
        "  def deposit(self,amount):\n",
        "    self.balance+=amount\n",
        "    print(f\"{amount} is deposited. New balance is {self.balance}\")\n",
        "\n",
        "  def withdraw(self,amount):\n",
        "    if amount>self.balance:\n",
        "      print(\"Insufficient funds!\")\n",
        "    else:\n",
        "      self.balance-=amount\n",
        "      print(f\"{amount} is withdrawn. New Balance is {self.balance}\")\n",
        "\n",
        "  def get_balance(self):\n",
        "    return self.balance\n",
        "\n",
        "# Create an account\n",
        "\n",
        "account = BankAccount(\"Shreya\",5000)\n",
        "print(account.balance)"
      ],
      "metadata": {
        "colab": {
          "base_uri": "https://localhost:8080/"
        },
        "id": "3zOOCUgueEgb",
        "outputId": "687c46d2-f4fb-46e8-b7ed-142c027285e5"
      },
      "execution_count": 11,
      "outputs": [
        {
          "output_type": "stream",
          "name": "stdout",
          "text": [
            "5000\n"
          ]
        }
      ]
    },
    {
      "cell_type": "code",
      "source": [
        "# Call instance methods\n",
        "\n",
        "account.deposit(200)"
      ],
      "metadata": {
        "colab": {
          "base_uri": "https://localhost:8080/"
        },
        "id": "p0UhnEFGia4X",
        "outputId": "ce1f18a7-e572-4803-f210-dad0b924d8f9"
      },
      "execution_count": 12,
      "outputs": [
        {
          "output_type": "stream",
          "name": "stdout",
          "text": [
            "200 is deposited. New balance is 5200\n"
          ]
        }
      ]
    },
    {
      "cell_type": "code",
      "source": [
        "account.withdraw(300)"
      ],
      "metadata": {
        "colab": {
          "base_uri": "https://localhost:8080/"
        },
        "id": "mWxC5BYqijXP",
        "outputId": "22ae78c6-affd-4acd-9e7a-3844b8b4cf40"
      },
      "execution_count": 13,
      "outputs": [
        {
          "output_type": "stream",
          "name": "stdout",
          "text": [
            "300 is withdrawn. New Balance is 4900\n"
          ]
        }
      ]
    },
    {
      "cell_type": "code",
      "source": [
        "print(account.get_balance())"
      ],
      "metadata": {
        "colab": {
          "base_uri": "https://localhost:8080/"
        },
        "id": "cwUnSqQ0ip69",
        "outputId": "223ec11e-995a-430b-8b3f-cf319896e8b2"
      },
      "execution_count": 14,
      "outputs": [
        {
          "output_type": "stream",
          "name": "stdout",
          "text": [
            "4900\n"
          ]
        }
      ]
    }
  ]
}