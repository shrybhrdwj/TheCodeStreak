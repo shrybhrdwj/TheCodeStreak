{
  "nbformat": 4,
  "nbformat_minor": 0,
  "metadata": {
    "colab": {
      "provenance": [],
      "authorship_tag": "ABX9TyMEORxh3iS1qGkiFoBUZLkz",
      "include_colab_link": true
    },
    "kernelspec": {
      "name": "python3",
      "display_name": "Python 3"
    },
    "language_info": {
      "name": "python"
    }
  },
  "cells": [
    {
      "cell_type": "markdown",
      "metadata": {
        "id": "view-in-github",
        "colab_type": "text"
      },
      "source": [
        "<a href=\"https://colab.research.google.com/github/shrybhrdwj/TheCodeStreak/blob/main/Set_Basic.ipynb\" target=\"_parent\"><img src=\"https://colab.research.google.com/assets/colab-badge.svg\" alt=\"Open In Colab\"/></a>"
      ]
    },
    {
      "cell_type": "markdown",
      "source": [
        "1. Create a Set in Python"
      ],
      "metadata": {
        "id": "xek_2sgwdKA5"
      }
    },
    {
      "cell_type": "code",
      "execution_count": 1,
      "metadata": {
        "colab": {
          "base_uri": "https://localhost:8080/"
        },
        "id": "SorHL0lZbJIj",
        "outputId": "7a2e4687-ee30-4ca4-9887-a410542c3c37"
      },
      "outputs": [
        {
          "output_type": "stream",
          "name": "stdout",
          "text": [
            "Student ID: {112, 114, 115, 116, 118}\n",
            "Vowel Letters: {'a', 'o', 'i', 'u', 'e'}\n",
            "Set of mixed data types: {'Hello', 101, -2, 'Bye'}\n"
          ]
        }
      ],
      "source": [
        "# create a set of integer type\n",
        "student_id = {112, 114, 116, 118, 115}\n",
        "print('Student ID:', student_id)\n",
        "\n",
        "# create a set of string type\n",
        "vowel_letters = {'a', 'e', 'i', 'o', 'u'}\n",
        "print('Vowel Letters:', vowel_letters)\n",
        "\n",
        "# create a set of mixed data types\n",
        "mixed_set = {'Hello', 101, -2, 'Bye'}\n",
        "print('Set of mixed data types:', mixed_set)"
      ]
    },
    {
      "cell_type": "markdown",
      "source": [
        "2. Create an Empty Set in Python"
      ],
      "metadata": {
        "id": "TIbOlbYWdS_p"
      }
    },
    {
      "cell_type": "code",
      "source": [
        "# create an empty set\n",
        "empty_set = set()\n",
        "\n",
        "# create an empty dictionary\n",
        "empty_dictionary = { }\n",
        "\n",
        "# check data type of empty_set\n",
        "print('Data type of empty_set:', type(empty_set))\n",
        "\n",
        "# check data type of dictionary_set\n",
        "print('Data type of empty_dictionary:', type(empty_dictionary))"
      ],
      "metadata": {
        "colab": {
          "base_uri": "https://localhost:8080/"
        },
        "id": "MVgNlts6c3ix",
        "outputId": "a1eca788-967d-457f-bfec-24e68c7c0587"
      },
      "execution_count": 2,
      "outputs": [
        {
          "output_type": "stream",
          "name": "stdout",
          "text": [
            "Data type of empty_set: <class 'set'>\n",
            "Data type of empty_dictionary: <class 'dict'>\n"
          ]
        }
      ]
    },
    {
      "cell_type": "markdown",
      "source": [
        "3. Duplicate Items in a Set"
      ],
      "metadata": {
        "id": "sFqW1UMndo1A"
      }
    },
    {
      "cell_type": "code",
      "source": [
        "numbers = {2, 4, 6, 6, 2, 8}\n",
        "print(numbers)   # {8, 2, 4, 6}"
      ],
      "metadata": {
        "colab": {
          "base_uri": "https://localhost:8080/"
        },
        "id": "FWsz0C2TdBvX",
        "outputId": "9bbe041b-4521-4d5f-fab8-f0d1a737cd2b"
      },
      "execution_count": 3,
      "outputs": [
        {
          "output_type": "stream",
          "name": "stdout",
          "text": [
            "{8, 2, 4, 6}\n"
          ]
        }
      ]
    },
    {
      "cell_type": "markdown",
      "source": [
        "4. Add and Update Set Items in Python"
      ],
      "metadata": {
        "id": "cQ1xWwQPeCoM"
      }
    },
    {
      "cell_type": "code",
      "source": [
        "numbers = {21, 34, 54, 12}\n",
        "\n",
        "print('Initial Set:',numbers)\n",
        "\n",
        "# using add() method\n",
        "numbers.add(32)\n",
        "\n",
        "print('Updated Set:', numbers)"
      ],
      "metadata": {
        "colab": {
          "base_uri": "https://localhost:8080/"
        },
        "id": "7ltrX70Cd-N2",
        "outputId": "0114f69a-2e46-465f-e195-7143eeec9074"
      },
      "execution_count": 4,
      "outputs": [
        {
          "output_type": "stream",
          "name": "stdout",
          "text": [
            "Initial Set: {34, 12, 21, 54}\n",
            "Updated Set: {32, 34, 12, 21, 54}\n"
          ]
        }
      ]
    },
    {
      "cell_type": "markdown",
      "source": [
        "5. Update Python Set"
      ],
      "metadata": {
        "id": "AYAwPYS4ea4S"
      }
    },
    {
      "cell_type": "code",
      "source": [
        "companies = {'Lacoste', 'Ralph Lauren'}\n",
        "tech_companies = ['apple', 'google', 'apple']\n",
        "\n",
        "# using update() method\n",
        "companies.update(tech_companies)\n",
        "\n",
        "print(companies)\n",
        "\n",
        "# Output: {'google', 'apple', 'Lacoste', 'Ralph Lauren'}"
      ],
      "metadata": {
        "colab": {
          "base_uri": "https://localhost:8080/"
        },
        "id": "bHEUXUuheaF9",
        "outputId": "8dc30a10-7072-439a-b4ef-9c2733a82ef1"
      },
      "execution_count": 5,
      "outputs": [
        {
          "output_type": "stream",
          "name": "stdout",
          "text": [
            "{'google', 'Lacoste', 'Ralph Lauren', 'apple'}\n"
          ]
        }
      ]
    },
    {
      "cell_type": "markdown",
      "source": [
        "6. Remove an Element from a Set"
      ],
      "metadata": {
        "id": "taLHOliyel7e"
      }
    },
    {
      "cell_type": "code",
      "source": [
        "languages = {'Swift', 'Java', 'Python'}\n",
        "\n",
        "print('Initial Set:',languages)\n",
        "\n",
        "# remove 'Java' from a set\n",
        "removedValue = languages.discard('Java')\n",
        "\n",
        "print('Set after remove():', languages)"
      ],
      "metadata": {
        "colab": {
          "base_uri": "https://localhost:8080/"
        },
        "id": "V1qc84N4elbT",
        "outputId": "0470bcd9-73fd-4e16-9fb8-4e83b12124af"
      },
      "execution_count": 6,
      "outputs": [
        {
          "output_type": "stream",
          "name": "stdout",
          "text": [
            "Initial Set: {'Python', 'Swift', 'Java'}\n",
            "Set after remove(): {'Python', 'Swift'}\n"
          ]
        }
      ]
    },
    {
      "cell_type": "markdown",
      "source": [
        "7. Iterate Over a Set in Python"
      ],
      "metadata": {
        "id": "Cma034GWe5XH"
      }
    },
    {
      "cell_type": "code",
      "source": [
        "fruits = {\"Apple\", \"Peach\", \"Mango\"}\n",
        "\n",
        "# for loop to access each fruits\n",
        "for fruit in fruits:\n",
        "    print(fruit)"
      ],
      "metadata": {
        "colab": {
          "base_uri": "https://localhost:8080/"
        },
        "id": "SyxSpPmXe4yu",
        "outputId": "5b9213c7-fa6b-495a-c17d-47a28c645b82"
      },
      "execution_count": 7,
      "outputs": [
        {
          "output_type": "stream",
          "name": "stdout",
          "text": [
            "Apple\n",
            "Mango\n",
            "Peach\n"
          ]
        }
      ]
    },
    {
      "cell_type": "markdown",
      "source": [
        "8. Find Number of Set Elements"
      ],
      "metadata": {
        "id": "N8XN8pUufDDp"
      }
    },
    {
      "cell_type": "code",
      "source": [
        "even_numbers = {2,4,6,8}\n",
        "print('Set:',even_numbers)\n",
        "\n",
        "# find number of elements\n",
        "print('Total Elements:', len(even_numbers))"
      ],
      "metadata": {
        "colab": {
          "base_uri": "https://localhost:8080/"
        },
        "id": "IJU8jRfTfCoY",
        "outputId": "2d7895ea-ed8c-4443-c38f-261f4c31487d"
      },
      "execution_count": 8,
      "outputs": [
        {
          "output_type": "stream",
          "name": "stdout",
          "text": [
            "Set: {8, 2, 4, 6}\n",
            "Total Elements: 4\n"
          ]
        }
      ]
    }
  ]
}