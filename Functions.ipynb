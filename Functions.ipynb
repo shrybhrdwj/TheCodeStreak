{
  "nbformat": 4,
  "nbformat_minor": 0,
  "metadata": {
    "colab": {
      "provenance": [],
      "authorship_tag": "ABX9TyN3pOlg5HNu+WYsQjdsP2ud",
      "include_colab_link": true
    },
    "kernelspec": {
      "name": "python3",
      "display_name": "Python 3"
    },
    "language_info": {
      "name": "python"
    }
  },
  "cells": [
    {
      "cell_type": "markdown",
      "metadata": {
        "id": "view-in-github",
        "colab_type": "text"
      },
      "source": [
        "<a href=\"https://colab.research.google.com/github/shrybhrdwj/TheCodeStreak/blob/main/Functions.ipynb\" target=\"_parent\"><img src=\"https://colab.research.google.com/assets/colab-badge.svg\" alt=\"Open In Colab\"/></a>"
      ]
    },
    {
      "cell_type": "markdown",
      "source": [
        "## Functions in Python\n",
        "\n",
        "1. Introduction to Functions\n",
        "2. Defining Functions\n",
        "3. Calling Functions\n",
        "4. Function Parameters\n",
        "5. Default Parameters\n",
        "6. Variable-Length Arguments\n",
        "7. Return Statement"
      ],
      "metadata": {
        "id": "Tvy6Yh95c3hy"
      }
    },
    {
      "cell_type": "code",
      "execution_count": 2,
      "metadata": {
        "colab": {
          "base_uri": "https://localhost:8080/"
        },
        "id": "ABv89k5v4qWn",
        "outputId": "3cbc68e3-9577-480f-92cb-ac2bc7c7092c"
      },
      "outputs": [
        {
          "output_type": "stream",
          "name": "stdout",
          "text": [
            "Enter the number: 78\n",
            "The number is even\n"
          ]
        }
      ],
      "source": [
        "# Defining and calling Functions\n",
        "\n",
        "def even_odd(num):\n",
        "  if num%2==0:\n",
        "    print('The number is even')\n",
        "  else:\n",
        "    print('The number is odd')\n",
        "\n",
        "\n",
        "number = int(input(\"Enter the number: \"))\n",
        "even_odd(number)"
      ]
    },
    {
      "cell_type": "code",
      "source": [
        "def add(a,b):\n",
        "  return a+b\n",
        "\n",
        "number1 = int(input(\"Enter the first number: \"))\n",
        "number2 = int(input(\"Enter the second number: \"))\n",
        "print(f\"Sum of {number1} and {number2} is {add(number1,number2)}\")"
      ],
      "metadata": {
        "colab": {
          "base_uri": "https://localhost:8080/"
        },
        "id": "PtzVAiJnfstn",
        "outputId": "83a43fab-3565-4610-c140-2acd04b352c6"
      },
      "execution_count": 4,
      "outputs": [
        {
          "output_type": "stream",
          "name": "stdout",
          "text": [
            "Enter the first number: 87\n",
            "Enter the second number: 45\n",
            "Sum of 87 and 45 is 132\n"
          ]
        }
      ]
    },
    {
      "cell_type": "code",
      "source": [
        "# Default Parameters\n",
        "\n",
        "def greet(name):\n",
        "  print(f\"Hello {name}! Welcome to the Paradise.\")\n",
        "\n",
        "greet(\"Shreya\")"
      ],
      "metadata": {
        "colab": {
          "base_uri": "https://localhost:8080/"
        },
        "id": "wxghTKgkhMC3",
        "outputId": "c8f4f2a1-279b-4169-9088-24d124af2f9e"
      },
      "execution_count": 5,
      "outputs": [
        {
          "output_type": "stream",
          "name": "stdout",
          "text": [
            "Hello Shreya! Welcome to the Paradise.\n"
          ]
        }
      ]
    },
    {
      "cell_type": "code",
      "source": [
        "def greet(name='Guest'):\n",
        "  print(f\"Hello {name}! Welcome to the Paradise.\")\n",
        "\n",
        "greet(\"Milli\")"
      ],
      "metadata": {
        "colab": {
          "base_uri": "https://localhost:8080/"
        },
        "id": "4G45rxEghugR",
        "outputId": "4667fddd-4bb4-4f54-bf00-9794937a3c05"
      },
      "execution_count": 6,
      "outputs": [
        {
          "output_type": "stream",
          "name": "stdout",
          "text": [
            "Hello Milli! Welcome to the Paradise.\n"
          ]
        }
      ]
    },
    {
      "cell_type": "code",
      "source": [
        "# Variable Length Arguments\n",
        "# Positional and keywords arguments\n",
        "\n",
        "def print_numbers(*Krish):\n",
        "  for number in Krish:\n",
        "    print(number)\n",
        "\n",
        "print_numbers(1,2,3,4,5,6,7,8,'Krish')"
      ],
      "metadata": {
        "colab": {
          "base_uri": "https://localhost:8080/"
        },
        "id": "CQYpIIFiiIBp",
        "outputId": "5c8c52dc-0bda-4c29-fb1c-1e2e5c569087"
      },
      "execution_count": 8,
      "outputs": [
        {
          "output_type": "stream",
          "name": "stdout",
          "text": [
            "1\n",
            "2\n",
            "3\n",
            "4\n",
            "5\n",
            "6\n",
            "7\n",
            "8\n",
            "Krish\n"
          ]
        }
      ]
    },
    {
      "cell_type": "code",
      "source": [
        "# Positional Arguments\n",
        "\n",
        "def print_numbers(*args):\n",
        "  for number in args:\n",
        "    print(number)\n",
        "\n",
        "print_numbers(1,2,3,4,5,6,7,8,'Krish')"
      ],
      "metadata": {
        "colab": {
          "base_uri": "https://localhost:8080/"
        },
        "id": "KQDn05KHi2bW",
        "outputId": "b7ee9639-7d01-4605-9b5d-07680764d5be"
      },
      "execution_count": 9,
      "outputs": [
        {
          "output_type": "stream",
          "name": "stdout",
          "text": [
            "1\n",
            "2\n",
            "3\n",
            "4\n",
            "5\n",
            "6\n",
            "7\n",
            "8\n",
            "Krish\n"
          ]
        }
      ]
    },
    {
      "cell_type": "code",
      "source": [
        "# Keywords Arguments\n",
        "\n",
        "def print_details(**kwargs):\n",
        "  for key,value in kwargs.items():\n",
        "    print(f\"{key}:{value}\")\n",
        "\n",
        "print_details(name='Milli',age='20',country='India')"
      ],
      "metadata": {
        "colab": {
          "base_uri": "https://localhost:8080/"
        },
        "id": "L9mBqjFrjQ3h",
        "outputId": "0372d511-f1c5-46d5-dae1-820efec5fedf"
      },
      "execution_count": 10,
      "outputs": [
        {
          "output_type": "stream",
          "name": "stdout",
          "text": [
            "name:Milli\n",
            "age:20\n",
            "country:India\n"
          ]
        }
      ]
    },
    {
      "cell_type": "code",
      "source": [
        "def print_details(*args,**kwargs):\n",
        "  for val in args:\n",
        "    print(f\"Positional argument: {val}\")\n",
        "\n",
        "  for key,value in kwargs.items():\n",
        "    print(f\"{key}:{value}\")"
      ],
      "metadata": {
        "id": "hcfowYDbkAJU"
      },
      "execution_count": 11,
      "outputs": []
    },
    {
      "cell_type": "code",
      "source": [
        "print_details(1,2,3,4,'Krish',name='Sheelu',age='12',country='India')"
      ],
      "metadata": {
        "colab": {
          "base_uri": "https://localhost:8080/"
        },
        "id": "aREqy3TfkiZS",
        "outputId": "e22ff0b6-e2f2-49da-c4e8-d8251170c6f9"
      },
      "execution_count": 12,
      "outputs": [
        {
          "output_type": "stream",
          "name": "stdout",
          "text": [
            "Positional argument: 1\n",
            "Positional argument: 2\n",
            "Positional argument: 3\n",
            "Positional argument: 4\n",
            "Positional argument: Krish\n",
            "name:Sheelu\n",
            "age:12\n",
            "country:India\n"
          ]
        }
      ]
    },
    {
      "cell_type": "code",
      "source": [
        "# Return Arguments\n",
        "\n",
        "def multiply(a,b):\n",
        "  return a*b\n",
        "\n",
        "multiply(2,4)"
      ],
      "metadata": {
        "colab": {
          "base_uri": "https://localhost:8080/"
        },
        "id": "ZJjXZR98k1kO",
        "outputId": "d0e922a4-f8d7-4132-b630-06715e382500"
      },
      "execution_count": 13,
      "outputs": [
        {
          "output_type": "execute_result",
          "data": {
            "text/plain": [
              "8"
            ]
          },
          "metadata": {},
          "execution_count": 13
        }
      ]
    },
    {
      "cell_type": "code",
      "source": [
        "# Return Multiple Arguments\n",
        "\n",
        "def multiply(a,b):\n",
        "  return a*b,a\n",
        "\n",
        "multiply(2,4)"
      ],
      "metadata": {
        "colab": {
          "base_uri": "https://localhost:8080/"
        },
        "id": "vNiwtFkMlNNL",
        "outputId": "3d5f383e-bbfb-4d54-9261-99703f1bdce7"
      },
      "execution_count": 14,
      "outputs": [
        {
          "output_type": "execute_result",
          "data": {
            "text/plain": [
              "(8, 2)"
            ]
          },
          "metadata": {},
          "execution_count": 14
        }
      ]
    }
  ]
}