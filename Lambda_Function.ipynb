{
  "nbformat": 4,
  "nbformat_minor": 0,
  "metadata": {
    "colab": {
      "provenance": [],
      "authorship_tag": "ABX9TyN2KmX6eIuVDtna38YhMpGV",
      "include_colab_link": true
    },
    "kernelspec": {
      "name": "python3",
      "display_name": "Python 3"
    },
    "language_info": {
      "name": "python"
    }
  },
  "cells": [
    {
      "cell_type": "markdown",
      "metadata": {
        "id": "view-in-github",
        "colab_type": "text"
      },
      "source": [
        "<a href=\"https://colab.research.google.com/github/shrybhrdwj/TheCodeStreak/blob/main/Lambda_Function.ipynb\" target=\"_parent\"><img src=\"https://colab.research.google.com/assets/colab-badge.svg\" alt=\"Open In Colab\"/></a>"
      ]
    },
    {
      "cell_type": "markdown",
      "source": [
        "## Lambda Functions in Python\n",
        "Lambda functions are small anonymous functions defined using the **lambda** keyword. They can have any number of arguments but only one expression. They are commonly used for short operations or as arguments to higher-order functions.\n",
        "\n",
        "Syntax:\n",
        "\n",
        "                    lambda arguments: expression\n",
        "\n",
        "                    lambda arguments: value_if_true if condition else value_if_false\n",
        "\n"
      ],
      "metadata": {
        "id": "pKrMynbQcU89"
      }
    },
    {
      "cell_type": "code",
      "execution_count": null,
      "metadata": {
        "colab": {
          "base_uri": "https://localhost:8080/"
        },
        "id": "EwJfblWQb7Qs",
        "outputId": "8d7f8d9a-8ea5-41a7-ff4f-17648fe0b0e3"
      },
      "outputs": [
        {
          "output_type": "stream",
          "name": "stdout",
          "text": [
            "Enter the 1st number: 5\n",
            "Enter the 2nd number: 7\n",
            "12\n"
          ]
        }
      ],
      "source": [
        "# Adition of numbers by LAMBDA function\n",
        "\n",
        "addition=lambda a,b:a+b\n",
        "type(addition)\n",
        "\n",
        "num1=int(input(\"Enter the 1st number: \"))\n",
        "num2=int(input(\"Enter the 2nd number: \"))\n",
        "print(addition(num1,num2))"
      ]
    },
    {
      "cell_type": "code",
      "source": [
        "# To find even and odd numbers\n",
        "\n",
        "even=lambda num: \"Even\" if num%2==0 else \"odd\"\n",
        "\n",
        "num=int(input(\"Enter the number: \"))\n",
        "print(even(num))"
      ],
      "metadata": {
        "colab": {
          "base_uri": "https://localhost:8080/"
        },
        "id": "tLzwDxrY9D7O",
        "outputId": "c0fee135-6cdb-4b1c-8bbf-09102ed8a64c"
      },
      "execution_count": null,
      "outputs": [
        {
          "output_type": "stream",
          "name": "stdout",
          "text": [
            "Enter the number: 9\n",
            "odd\n"
          ]
        }
      ]
    },
    {
      "cell_type": "code",
      "source": [
        "# Addition of three numbers\n",
        "add= lambda p,q,r:p+q+r\n",
        "\n",
        "add(2,3,4)"
      ],
      "metadata": {
        "colab": {
          "base_uri": "https://localhost:8080/"
        },
        "id": "5D8LV-4eiKTH",
        "outputId": "2c080065-6b54-42b3-b85b-a2db04b2a6f9"
      },
      "execution_count": null,
      "outputs": [
        {
          "output_type": "execute_result",
          "data": {
            "text/plain": [
              "9"
            ]
          },
          "metadata": {},
          "execution_count": 1
        }
      ]
    },
    {
      "cell_type": "code",
      "source": [
        "# map()- applies a function to all items in a list\n",
        "\n",
        "numbers=[1,2,3,4,5,6,7,8,9]\n",
        "list(map(lambda x:x**2,numbers))"
      ],
      "metadata": {
        "colab": {
          "base_uri": "https://localhost:8080/"
        },
        "id": "7LTkIUPbiznq",
        "outputId": "dee1a276-db9a-4c5f-8537-ce7dde172c25"
      },
      "execution_count": null,
      "outputs": [
        {
          "output_type": "execute_result",
          "data": {
            "text/plain": [
              "[1, 4, 9, 16, 25, 36, 49, 64, 81]"
            ]
          },
          "metadata": {},
          "execution_count": 3
        }
      ]
    }
  ]
}