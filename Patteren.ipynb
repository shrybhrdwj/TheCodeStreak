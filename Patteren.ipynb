{
  "nbformat": 4,
  "nbformat_minor": 0,
  "metadata": {
    "colab": {
      "provenance": [],
      "authorship_tag": "ABX9TyMl9luFMit4k1zuvFP3JGj0",
      "include_colab_link": true
    },
    "kernelspec": {
      "name": "python3",
      "display_name": "Python 3"
    },
    "language_info": {
      "name": "python"
    }
  },
  "cells": [
    {
      "cell_type": "markdown",
      "metadata": {
        "id": "view-in-github",
        "colab_type": "text"
      },
      "source": [
        "<a href=\"https://colab.research.google.com/github/shrybhrdwj/TheCodeStreak/blob/main/Patteren.ipynb\" target=\"_parent\"><img src=\"https://colab.research.google.com/assets/colab-badge.svg\" alt=\"Open In Colab\"/></a>"
      ]
    },
    {
      "cell_type": "code",
      "execution_count": 1,
      "metadata": {
        "colab": {
          "base_uri": "https://localhost:8080/"
        },
        "id": "FjcMXf8mu4NL",
        "outputId": "a17b6606-2f1d-4163-f41a-6cbfaf1d7937"
      },
      "outputs": [
        {
          "output_type": "execute_result",
          "data": {
            "text/plain": [
              "['***', '**', '*']"
            ]
          },
          "metadata": {},
          "execution_count": 1
        }
      ],
      "source": [
        "def generate_hollow_inverted_right_angled_triangle(n):\n",
        "\n",
        "    result = []\n",
        "    for i in range(n, 0, -1):\n",
        "        if i == n or i == 1:\n",
        "            result.append('*' * i)\n",
        "        else:\n",
        "            result.append('*' + ' ' * (i - 2) + '*')\n",
        "    return result\n",
        "\n",
        "\n",
        "generate_hollow_inverted_right_angled_triangle(3)"
      ]
    }
  ]
}