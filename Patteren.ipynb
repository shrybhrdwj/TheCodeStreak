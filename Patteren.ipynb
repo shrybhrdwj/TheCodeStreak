{
  "nbformat": 4,
  "nbformat_minor": 0,
  "metadata": {
    "colab": {
      "provenance": [],
      "authorship_tag": "ABX9TyMbu20kpc/BW2fAh6erk7WV",
      "include_colab_link": true
    },
    "kernelspec": {
      "name": "python3",
      "display_name": "Python 3"
    },
    "language_info": {
      "name": "python"
    }
  },
  "cells": [
    {
      "cell_type": "markdown",
      "metadata": {
        "id": "view-in-github",
        "colab_type": "text"
      },
      "source": [
        "<a href=\"https://colab.research.google.com/github/shrybhrdwj/TheCodeStreak/blob/main/Patteren.ipynb\" target=\"_parent\"><img src=\"https://colab.research.google.com/assets/colab-badge.svg\" alt=\"Open In Colab\"/></a>"
      ]
    },
    {
      "cell_type": "markdown",
      "source": [
        "## **1. Square of N**"
      ],
      "metadata": {
        "id": "aXpTU-GV4uGy"
      }
    },
    {
      "cell_type": "code",
      "source": [
        "def generate_square(n):\n",
        "  for i in range(n):\n",
        "    for j in range(n):\n",
        "      print('*', end=\" \")\n",
        "    print()\n",
        "\n",
        "size = int(input(\"Enter the size of square: \"))\n",
        "print(generate_square(size))"
      ],
      "metadata": {
        "colab": {
          "base_uri": "https://localhost:8080/"
        },
        "id": "BXPkFZ-85GmM",
        "outputId": "61b4516d-6a78-49a8-bb62-228eb4daf6b8"
      },
      "execution_count": 3,
      "outputs": [
        {
          "output_type": "stream",
          "name": "stdout",
          "text": [
            "Enter the size of square: 3\n",
            "* * * \n",
            "* * * \n",
            "* * * \n",
            "None\n"
          ]
        }
      ]
    },
    {
      "cell_type": "code",
      "source": [
        "def generate_square(n):\n",
        "  for i in range(n):\n",
        "    for j in range(n):\n",
        "      print(j+1, end=\" \")\n",
        "    print()\n",
        "\n",
        "size = int(input(\"Enter the size of square: \"))\n",
        "print(generate_square(size))"
      ],
      "metadata": {
        "colab": {
          "base_uri": "https://localhost:8080/"
        },
        "id": "eeoQR8Me7qir",
        "outputId": "9d880198-b965-4b85-a076-c7827cc5d78b"
      },
      "execution_count": 4,
      "outputs": [
        {
          "output_type": "stream",
          "name": "stdout",
          "text": [
            "Enter the size of square: 4\n",
            "1 2 3 4 \n",
            "1 2 3 4 \n",
            "1 2 3 4 \n",
            "1 2 3 4 \n",
            "None\n"
          ]
        }
      ]
    },
    {
      "cell_type": "markdown",
      "source": [
        "## **2. Hollow sqaure pattern**"
      ],
      "metadata": {
        "id": "n9kK7fVs8Kq1"
      }
    },
    {
      "cell_type": "code",
      "source": [
        "def hollow_square_pattern(n):\n",
        "  for i in range(n):\n",
        "    for j in range(n):\n",
        "      if i==0 or i==n-1 or j==0 or j==n-1:\n",
        "        print(\"*\",end=\" \")\n",
        "      else:\n",
        "        print(\" \",end=\" \")\n",
        "    print()\n",
        "\n",
        "\n",
        "side = int(input(\"Enter the side of square: \"))\n",
        "print(hollow_square_pattern(side))"
      ],
      "metadata": {
        "colab": {
          "base_uri": "https://localhost:8080/"
        },
        "id": "gjXjZpvV8SvQ",
        "outputId": "f3c8b352-3e09-4c55-f8ec-d7a03a950a23"
      },
      "execution_count": 7,
      "outputs": [
        {
          "output_type": "stream",
          "name": "stdout",
          "text": [
            "Enter the side of square: 5\n",
            "* * * * * \n",
            "*       * \n",
            "*       * \n",
            "*       * \n",
            "* * * * * \n",
            "None\n"
          ]
        }
      ]
    },
    {
      "cell_type": "markdown",
      "source": [
        "## **3. Rectangle Pattern**"
      ],
      "metadata": {
        "id": "BAdflDkc8SG9"
      }
    },
    {
      "cell_type": "code",
      "source": [
        "def rectangle_pattern(n,m):\n",
        "  for i in range(n):\n",
        "    for j in range(m):\n",
        "      print(\"*\",end=\" \")\n",
        "    print()\n",
        "\n",
        "\n",
        "length=int(input(\"Enter the length of the rectangle: \"))\n",
        "breadth=int(input(\"Enter the breadth of the rectangle: \"))\n",
        "print(rectangle_pattern(length,breadth))"
      ],
      "metadata": {
        "colab": {
          "base_uri": "https://localhost:8080/"
        },
        "id": "id6jK01XMizb",
        "outputId": "2100fc5f-7374-4a0b-d7c5-f62ac1dd51f3"
      },
      "execution_count": 23,
      "outputs": [
        {
          "output_type": "stream",
          "name": "stdout",
          "text": [
            "Enter the length of the rectangle: 2\n",
            "Enter the breadth of the rectangle: 4\n",
            "* * * * \n",
            "* * * * \n",
            "None\n"
          ]
        }
      ]
    },
    {
      "cell_type": "code",
      "source": [
        "# Hollow Rectangle Pattern\n",
        "\n",
        "def hollow_rectangle_pattern(n,m):\n",
        "  for i in range(n):\n",
        "    for j in range(m):\n",
        "      if i==0 or i==n-1 or j==0 or j==m-1:\n",
        "        print(\"*\",end=\" \")\n",
        "      else:\n",
        "        print(\" \",end=\" \")\n",
        "    print()\n",
        "\n",
        "length = int(input(\"Enter the length of the rectangle: \"))\n",
        "breadth = int(input(\"Enter the breadth of the rectangle: \"))\n",
        "print(hollow_rectangle_pattern(length,breadth))"
      ],
      "metadata": {
        "colab": {
          "base_uri": "https://localhost:8080/"
        },
        "id": "_CbGSP4xAm6Z",
        "outputId": "2fc35e85-0a2e-443b-e1dc-dcf288479ba7"
      },
      "execution_count": 14,
      "outputs": [
        {
          "output_type": "stream",
          "name": "stdout",
          "text": [
            "Enter the length of the rectangle: 3\n",
            "Enter the breadth of the rectangle: 4\n",
            "* * * * \n",
            "*     * \n",
            "* * * * \n",
            "None\n"
          ]
        }
      ]
    },
    {
      "cell_type": "markdown",
      "source": [
        "## **4. Right Angled Triangle**"
      ],
      "metadata": {
        "id": "QRrjNfmOCU2Y"
      }
    },
    {
      "cell_type": "code",
      "source": [
        "def right_angled_triangle(n):\n",
        "  for i in range(1,n+1):\n",
        "    print(\"*\"*i)\n",
        "\n",
        "side = int(input(\"Enter the height or base of the triangle: \"))\n",
        "print(right_angled_triangle(side))"
      ],
      "metadata": {
        "colab": {
          "base_uri": "https://localhost:8080/"
        },
        "id": "0fdkClDFCgVx",
        "outputId": "f08ff290-3b26-4aeb-863d-49cf9a3d8145"
      },
      "execution_count": 15,
      "outputs": [
        {
          "output_type": "stream",
          "name": "stdout",
          "text": [
            "Enter the height or base of the triangle: 4\n",
            "*\n",
            "**\n",
            "***\n",
            "****\n",
            "None\n"
          ]
        }
      ]
    },
    {
      "cell_type": "code",
      "source": [
        "# Hollow Right Angled Triangle\n",
        "\n",
        "def hollow_right_angled_trianle(n):\n",
        "  for i in range(1,n+1):\n",
        "    for j in range(1,i+1):\n",
        "      if i==n or j==1 or j==i:\n",
        "        print(\"*\",end=\"\")\n",
        "      else:\n",
        "        print(\" \",end=\"\")\n",
        "    print()\n",
        "\n",
        "side = int(input(\"Enter the side of the triangle: \"))\n",
        "print(hollow_right_angled_trianle(side))"
      ],
      "metadata": {
        "colab": {
          "base_uri": "https://localhost:8080/"
        },
        "id": "kvSBrzjAFAeh",
        "outputId": "ebbd436e-df6e-4c5a-b00e-114cfe21c981"
      },
      "execution_count": 17,
      "outputs": [
        {
          "output_type": "stream",
          "name": "stdout",
          "text": [
            "Enter the side of the triangle: 5\n",
            "*\n",
            "**\n",
            "* *\n",
            "*  *\n",
            "*****\n",
            "None\n"
          ]
        }
      ]
    },
    {
      "cell_type": "markdown",
      "source": [
        "## **5. Inverted Right Angled Triangle**"
      ],
      "metadata": {
        "id": "nmIdvLG_EG9n"
      }
    },
    {
      "cell_type": "code",
      "source": [
        "def inverted_right_angled_triangle(n):\n",
        "  for i in range(n,0,-1):\n",
        "    print(\"*\"*i)\n",
        "\n",
        "\n",
        "side = int(input(\"Enter the side of the triangle: \"))\n",
        "print(inverted_right_angled_triangle(side))"
      ],
      "metadata": {
        "colab": {
          "base_uri": "https://localhost:8080/"
        },
        "id": "7YG5wTIJEPiz",
        "outputId": "0680635a-9c75-4474-d300-34aefc622ecd"
      },
      "execution_count": 18,
      "outputs": [
        {
          "output_type": "stream",
          "name": "stdout",
          "text": [
            "Enter the side of the triangle: 5\n",
            "*****\n",
            "****\n",
            "***\n",
            "**\n",
            "*\n",
            "None\n"
          ]
        }
      ]
    },
    {
      "cell_type": "code",
      "source": [
        "# Hollow inverted right angled triangle\n",
        "\n",
        "def hollow_inverted_right_angled_triangle(n):\n",
        "  for i in range(n,0,-1):\n",
        "    for j in range(1,i+1):\n",
        "      if j==1 or j==i or i==n:\n",
        "        print(\"*\",end=\"\")\n",
        "      else:\n",
        "        print(\" \",end=\"\")\n",
        "    print()\n",
        "\n",
        "side = int(input(\"Enter the side of the triangle: \"))\n",
        "print(hollow_inverted_right_angled_triangle(side))"
      ],
      "metadata": {
        "colab": {
          "base_uri": "https://localhost:8080/"
        },
        "id": "ei-kmo7IHpCj",
        "outputId": "5d331440-d2bd-451c-effe-7fa5fc3a1d8e"
      },
      "execution_count": 19,
      "outputs": [
        {
          "output_type": "stream",
          "name": "stdout",
          "text": [
            "Enter the side of the triangle: 8\n",
            "********\n",
            "*     *\n",
            "*    *\n",
            "*   *\n",
            "*  *\n",
            "* *\n",
            "**\n",
            "*\n",
            "None\n"
          ]
        }
      ]
    },
    {
      "cell_type": "markdown",
      "source": [
        "## **6. Pyramid Patteren**"
      ],
      "metadata": {
        "id": "P6NqhApvOCSj"
      }
    },
    {
      "cell_type": "code",
      "source": [
        "def print_pyramid(n):\n",
        "    for i in range(1, n + 1):\n",
        "        spaces = n - i\n",
        "        stars = 2 * i - 1\n",
        "        print(\" \" * spaces + \"*\" * stars)\n",
        "\n",
        "# Example usage\n",
        "rows = int(input(\"Enter the number of pyramid rows: \"))\n",
        "print_pyramid(rows)"
      ],
      "metadata": {
        "colab": {
          "base_uri": "https://localhost:8080/"
        },
        "id": "XRoN_pMjPNE3",
        "outputId": "68a6f9b7-61a4-4c8e-8774-5f2c1263d870"
      },
      "execution_count": 24,
      "outputs": [
        {
          "output_type": "stream",
          "name": "stdout",
          "text": [
            "Enter the number of pyramid rows: 5\n",
            "    *\n",
            "   ***\n",
            "  *****\n",
            " *******\n",
            "*********\n"
          ]
        }
      ]
    },
    {
      "cell_type": "code",
      "source": [
        "# Hollow Pyramid Pattern\n",
        "\n",
        "def print_hollow_pyramid(n):\n",
        "    for i in range(1, n + 1):\n",
        "        for j in range(1, 2 * n):\n",
        "            if j == n - i + 1 or j == n + i - 1 or i == n:\n",
        "                print(\"*\", end=\"\")\n",
        "            elif j > n - i + 1 and j < n + i - 1:\n",
        "                print(\" \", end=\"\")\n",
        "            else:\n",
        "                print(\" \", end=\"\")\n",
        "        print()\n",
        "\n",
        "# Example usage\n",
        "rows = int(input(\"Enter the number of pyramid rows: \"))\n",
        "print_hollow_pyramid(rows)"
      ],
      "metadata": {
        "colab": {
          "base_uri": "https://localhost:8080/"
        },
        "id": "aaVHvOnuPqzn",
        "outputId": "1e3005a2-ae83-4b93-861a-fa925a819903"
      },
      "execution_count": 25,
      "outputs": [
        {
          "output_type": "stream",
          "name": "stdout",
          "text": [
            "Enter the number of pyramid rows: 5\n",
            "    *    \n",
            "   * *   \n",
            "  *   *  \n",
            " *     * \n",
            "*********\n"
          ]
        }
      ]
    },
    {
      "cell_type": "markdown",
      "source": [
        "## **7. Inverted Pyramid Pattern**"
      ],
      "metadata": {
        "id": "u-7_XUU_Ql3T"
      }
    },
    {
      "cell_type": "code",
      "source": [
        "def print_inverted_pyramid(n):\n",
        "    for i in range(n, 0, -1):\n",
        "        spaces = n - i\n",
        "        stars = 2 * i - 1\n",
        "        print(\" \" * spaces + \"*\" * stars)\n",
        "\n",
        "# Example usage\n",
        "rows = int(input(\"Enter the number of rows: \"))\n",
        "print_inverted_pyramid(rows)"
      ],
      "metadata": {
        "colab": {
          "base_uri": "https://localhost:8080/"
        },
        "id": "iCj4CthIQsf1",
        "outputId": "17481415-aba8-4fff-cf6c-2c7859c783e4"
      },
      "execution_count": 26,
      "outputs": [
        {
          "output_type": "stream",
          "name": "stdout",
          "text": [
            "Enter the number of rows: 5\n",
            "*********\n",
            " *******\n",
            "  *****\n",
            "   ***\n",
            "    *\n"
          ]
        }
      ]
    },
    {
      "cell_type": "code",
      "source": [
        "# Hollow Pyramid Pattern\n",
        "\n",
        "def print_hollow_pyramid(n):\n",
        "    for i in range(n,0,-1):\n",
        "        for j in range(1, 2 * n):\n",
        "            if j == n - i + 1 or j == n + i - 1 or i == n:\n",
        "                print(\"*\", end=\"\")\n",
        "            elif j > n - i + 1 and j < n + i - 1:\n",
        "                print(\" \", end=\"\")\n",
        "            else:\n",
        "                print(\" \", end=\"\")\n",
        "        print()\n",
        "\n",
        "# Example usage\n",
        "rows = int(input(\"Enter the number of pyramid rows: \"))\n",
        "print_hollow_pyramid(rows)"
      ],
      "metadata": {
        "colab": {
          "base_uri": "https://localhost:8080/"
        },
        "id": "OjEUtaVXRL-H",
        "outputId": "886bf110-4f9a-44c1-b8a4-5d5e1fb64586"
      },
      "execution_count": 27,
      "outputs": [
        {
          "output_type": "stream",
          "name": "stdout",
          "text": [
            "Enter the number of pyramid rows: 8\n",
            "***************\n",
            " *           * \n",
            "  *         *  \n",
            "   *       *   \n",
            "    *     *    \n",
            "     *   *     \n",
            "      * *      \n",
            "       *       \n"
          ]
        }
      ]
    },
    {
      "cell_type": "markdown",
      "source": [
        "## **8. Right Angled triangle with Numbers**"
      ],
      "metadata": {
        "id": "Mum0XDkcR_ZX"
      }
    },
    {
      "cell_type": "code",
      "source": [
        "# Increasing Numbers Row-wise\n",
        "\n",
        "def number_triangle(n):\n",
        "    for i in range(1, n + 1):\n",
        "        for j in range(1, i + 1):\n",
        "            print(j, end=\" \")\n",
        "        print()\n",
        "\n",
        "\n",
        "rows = int(input(\"Enter number of rows: \"))\n",
        "number_triangle(rows)"
      ],
      "metadata": {
        "colab": {
          "base_uri": "https://localhost:8080/"
        },
        "id": "9qwIyZA0S1Uh",
        "outputId": "3900e9c0-adac-4031-c5a5-257bce0e9860"
      },
      "execution_count": 28,
      "outputs": [
        {
          "output_type": "stream",
          "name": "stdout",
          "text": [
            "Enter number of rows: 5\n",
            "1 \n",
            "1 2 \n",
            "1 2 3 \n",
            "1 2 3 4 \n",
            "1 2 3 4 5 \n"
          ]
        }
      ]
    },
    {
      "cell_type": "code",
      "source": [
        "# Same Number in Each Row\n",
        "\n",
        "def same_number_triangle(n):\n",
        "    for i in range(1, n + 1):\n",
        "        for j in range(1, i + 1):\n",
        "            print(i, end=\" \")\n",
        "        print()\n",
        "\n",
        "# Example usage\n",
        "rows = int(input(\"Enter number of rows: \"))\n",
        "same_number_triangle(rows)"
      ],
      "metadata": {
        "colab": {
          "base_uri": "https://localhost:8080/"
        },
        "id": "ChnjMBboTbRi",
        "outputId": "32dacc2f-f07a-4382-eee6-81b6e7710736"
      },
      "execution_count": 29,
      "outputs": [
        {
          "output_type": "stream",
          "name": "stdout",
          "text": [
            "Enter number of rows: 5\n",
            "1 \n",
            "2 2 \n",
            "3 3 3 \n",
            "4 4 4 4 \n",
            "5 5 5 5 5 \n"
          ]
        }
      ]
    },
    {
      "cell_type": "markdown",
      "source": [
        "## **9. Floyd's Triangle**\n",
        "\n",
        "Floyd’s Triangle is a special kind of right-angled triangle made with consecutive natural numbers, starting from 1, arranged row-wise."
      ],
      "metadata": {
        "id": "yneJjaIKUAIz"
      }
    },
    {
      "cell_type": "code",
      "source": [
        "# Continuous Numbers\n",
        "\n",
        "def continuous_number_triangle(n):\n",
        "    num = 1\n",
        "    for i in range(1, n + 1):\n",
        "        for j in range(i):\n",
        "            print(num, end=\" \")\n",
        "            num += 1\n",
        "        print()\n",
        "\n",
        "# Example usage\n",
        "rows = int(input(\"Enter number of rows: \"))\n",
        "continuous_number_triangle(rows)"
      ],
      "metadata": {
        "colab": {
          "base_uri": "https://localhost:8080/"
        },
        "id": "fAspc1KyTtnb",
        "outputId": "61e332a0-36d8-4d97-e5e6-4d444f1bf57e"
      },
      "execution_count": 30,
      "outputs": [
        {
          "output_type": "stream",
          "name": "stdout",
          "text": [
            "Enter number of rows: 6\n",
            "1 \n",
            "2 3 \n",
            "4 5 6 \n",
            "7 8 9 10 \n",
            "11 12 13 14 15 \n",
            "16 17 18 19 20 21 \n"
          ]
        }
      ]
    },
    {
      "cell_type": "markdown",
      "source": [
        "## **10. Diamond Pattern**\n",
        "\n",
        "A diamond pattern is a combination of a pyramid and an inverted pyramid, centered to form a diamond shape."
      ],
      "metadata": {
        "id": "V4dlgfDkUwcU"
      }
    },
    {
      "cell_type": "code",
      "source": [
        "def print_diamond(n):\n",
        "    # Upper part (pyramid)\n",
        "    for i in range(1, n + 1):\n",
        "        print(\" \" * (n - i) + \"*\" * (2 * i - 1))\n",
        "    # Lower part (inverted pyramid)\n",
        "    for i in range(n - 1, 0, -1):\n",
        "        print(\" \" * (n - i) + \"*\" * (2 * i - 1))\n",
        "\n",
        "# Example usage\n",
        "rows = int(input(\"Enter the number of rows (for half diamond): \"))\n",
        "print_diamond(rows)"
      ],
      "metadata": {
        "colab": {
          "base_uri": "https://localhost:8080/"
        },
        "id": "pGpVOnqZU2s1",
        "outputId": "1550a7b1-dc51-4719-b1ca-f1675df0dd4b"
      },
      "execution_count": 31,
      "outputs": [
        {
          "output_type": "stream",
          "name": "stdout",
          "text": [
            "Enter the number of rows (for half diamond): 5\n",
            "    *\n",
            "   ***\n",
            "  *****\n",
            " *******\n",
            "*********\n",
            " *******\n",
            "  *****\n",
            "   ***\n",
            "    *\n"
          ]
        }
      ]
    },
    {
      "cell_type": "code",
      "source": [
        "# Hollow Diamond Pattern\n",
        "\n",
        "def print_hollow_diamond(n):\n",
        "    # Upper hollow pyramid\n",
        "    for i in range(1, n + 1):\n",
        "        for j in range(1, 2 * n):\n",
        "            if j == n - i + 1 or j == n + i - 1:\n",
        "                print(\"*\", end=\"\")\n",
        "            else:\n",
        "                print(\" \", end=\"\")\n",
        "        print()\n",
        "    # Lower hollow inverted pyramid\n",
        "    for i in range(n - 1, 0, -1):\n",
        "        for j in range(1, 2 * n):\n",
        "            if j == n - i + 1 or j == n + i - 1:\n",
        "                print(\"*\", end=\"\")\n",
        "            else:\n",
        "                print(\" \", end=\"\")\n",
        "        print()\n",
        "\n",
        "# Example usage\n",
        "rows = int(input(\"Enter the number of rows (for half diamond): \"))\n",
        "print_hollow_diamond(rows)\n"
      ],
      "metadata": {
        "colab": {
          "base_uri": "https://localhost:8080/"
        },
        "id": "VOYJAeZhVIDu",
        "outputId": "8485b873-b372-47bc-9c29-d28d75166078"
      },
      "execution_count": 32,
      "outputs": [
        {
          "output_type": "stream",
          "name": "stdout",
          "text": [
            "Enter the number of rows (for half diamond): 5\n",
            "    *    \n",
            "   * *   \n",
            "  *   *  \n",
            " *     * \n",
            "*       *\n",
            " *     * \n",
            "  *   *  \n",
            "   * *   \n",
            "    *    \n"
          ]
        }
      ]
    },
    {
      "cell_type": "markdown",
      "source": [
        "## **11. Right Angled Triangle with left alignment**"
      ],
      "metadata": {
        "id": "KEKK2iMsWGtP"
      }
    },
    {
      "cell_type": "code",
      "source": [
        "def print_left_aligned_triangle(n):\n",
        "    for i in range(1, n + 1):\n",
        "        spaces = n - i\n",
        "        stars = i\n",
        "        print(\" \" * spaces + \"*\" * stars)\n",
        "\n",
        "# Example usage\n",
        "rows = int(input(\"Enter number of rows: \"))\n",
        "print_left_aligned_triangle(rows)"
      ],
      "metadata": {
        "colab": {
          "base_uri": "https://localhost:8080/"
        },
        "id": "gVwT2xDUWV7D",
        "outputId": "9ce9ced6-c18a-4b10-f693-12b05259bc6d"
      },
      "execution_count": 33,
      "outputs": [
        {
          "output_type": "stream",
          "name": "stdout",
          "text": [
            "Enter number of rows: 5\n",
            "    *\n",
            "   **\n",
            "  ***\n",
            " ****\n",
            "*****\n"
          ]
        }
      ]
    },
    {
      "cell_type": "code",
      "source": [
        "# Left-Aligned Triangle with Numbers\n",
        "\n",
        "def left_aligned_number_triangle(n):\n",
        "    for i in range(1, n + 1):\n",
        "        print(\" \" * (n - i), end=\"\")\n",
        "        for j in range(1, i + 1):\n",
        "            print(j, end=\"\")\n",
        "        print()\n",
        "\n",
        "# Example usage\n",
        "rows = int(input(\"Enter number of rows: \"))\n",
        "left_aligned_number_triangle(rows)"
      ],
      "metadata": {
        "colab": {
          "base_uri": "https://localhost:8080/"
        },
        "id": "qHDONEoSW04H",
        "outputId": "defdfbf3-661a-48d7-9004-aeab2e1c9824"
      },
      "execution_count": 34,
      "outputs": [
        {
          "output_type": "stream",
          "name": "stdout",
          "text": [
            "Enter number of rows: 5\n",
            "    1\n",
            "   12\n",
            "  123\n",
            " 1234\n",
            "12345\n"
          ]
        }
      ]
    },
    {
      "cell_type": "code",
      "source": [
        "# Inverted Left-Aligned Triangle\n",
        "\n",
        "def inverted_left_aligned_triangle(n):\n",
        "    for i in range(n, 0, -1):\n",
        "        print(\" \" * (n - i) + \"*\" * i)\n",
        "\n",
        "# Example usage\n",
        "rows = int(input(\"Enter number of rows: \"))\n",
        "inverted_left_aligned_triangle(rows)"
      ],
      "metadata": {
        "colab": {
          "base_uri": "https://localhost:8080/"
        },
        "id": "wkxlbVMRXBUJ",
        "outputId": "46e77bf3-bdd1-41a9-f22a-8081659426bd"
      },
      "execution_count": 35,
      "outputs": [
        {
          "output_type": "stream",
          "name": "stdout",
          "text": [
            "Enter number of rows: 5\n",
            "*****\n",
            " ****\n",
            "  ***\n",
            "   **\n",
            "    *\n"
          ]
        }
      ]
    },
    {
      "cell_type": "markdown",
      "source": [
        "## **12. Sandglass Pattern**"
      ],
      "metadata": {
        "id": "cuXeaVe_YJFH"
      }
    },
    {
      "cell_type": "code",
      "source": [
        "def sandglass_pattern(n):\n",
        "    # Inverted triangle\n",
        "    for i in range(n, 0, -1):\n",
        "        print(\" \" * (n - i) + \"*\" * (2 * i - 1))\n",
        "    # Normal triangle\n",
        "    for i in range(2, n + 1):\n",
        "        print(\" \" * (n - i) + \"*\" * (2 * i - 1))\n",
        "\n",
        "# Example usage\n",
        "rows = int(input(\"Enter number of rows: \"))\n",
        "sandglass_pattern(rows)"
      ],
      "metadata": {
        "colab": {
          "base_uri": "https://localhost:8080/"
        },
        "id": "jt1NmuiYXaQw",
        "outputId": "8ba0f48d-60bb-4d9d-ea86-d8bfd8dde7cc"
      },
      "execution_count": 36,
      "outputs": [
        {
          "output_type": "stream",
          "name": "stdout",
          "text": [
            "Enter number of rows: 5\n",
            "*********\n",
            " *******\n",
            "  *****\n",
            "   ***\n",
            "    *\n",
            "   ***\n",
            "  *****\n",
            " *******\n",
            "*********\n"
          ]
        }
      ]
    },
    {
      "cell_type": "code",
      "source": [
        "# Hollow Sandglass Pattern\n",
        "\n",
        "def hollow_sandglass_pattern(n):\n",
        "    # Inverted hollow triangle\n",
        "    for i in range(n, 0, -1):\n",
        "        for j in range(n - i):\n",
        "            print(\" \", end=\"\")\n",
        "        for j in range(2 * i - 1):\n",
        "            if j == 0 or j == 2 * i - 2 or i == n:\n",
        "                print(\"*\", end=\"\")\n",
        "            else:\n",
        "                print(\" \", end=\"\")\n",
        "        print()\n",
        "\n",
        "    # Upright hollow triangle\n",
        "    for i in range(2, n + 1):\n",
        "        for j in range(n - i):\n",
        "            print(\" \", end=\"\")\n",
        "        for j in range(2 * i - 1):\n",
        "            if j == 0 or j == 2 * i - 2 or i == n:\n",
        "                print(\"*\", end=\"\")\n",
        "            else:\n",
        "                print(\" \", end=\"\")\n",
        "        print()\n",
        "\n",
        "# Example usage\n",
        "rows = int(input(\"Enter number of rows: \"))\n",
        "hollow_sandglass_pattern(rows)"
      ],
      "metadata": {
        "colab": {
          "base_uri": "https://localhost:8080/"
        },
        "id": "LT1PlhpwYe2p",
        "outputId": "51fb75b4-ce2c-487a-ee2f-2056cadbcbb7"
      },
      "execution_count": 37,
      "outputs": [
        {
          "output_type": "stream",
          "name": "stdout",
          "text": [
            "Enter number of rows: 5\n",
            "*********\n",
            " *     *\n",
            "  *   *\n",
            "   * *\n",
            "    *\n",
            "   * *\n",
            "  *   *\n",
            " *     *\n",
            "*********\n"
          ]
        }
      ]
    },
    {
      "cell_type": "code",
      "source": [
        "# Sandglass Pattern with numbers\n",
        "\n",
        "def sandglass_number_pattern(n):\n",
        "    # Inverted number triangle\n",
        "    for i in range(n, 0, -1):\n",
        "        print(\" \" * (n - i), end=\"\")\n",
        "        for j in range(1, 2 * i):\n",
        "            print(j, end=\"\")\n",
        "        print()\n",
        "\n",
        "    # Normal number triangle\n",
        "    for i in range(2, n + 1):\n",
        "        print(\" \" * (n - i), end=\"\")\n",
        "        for j in range(1, 2 * i):\n",
        "            print(j, end=\"\")\n",
        "        print()\n",
        "\n",
        "# Example usage\n",
        "rows = int(input(\"Enter number of rows: \"))\n",
        "sandglass_number_pattern(rows)"
      ],
      "metadata": {
        "colab": {
          "base_uri": "https://localhost:8080/"
        },
        "id": "XSzhNfJqZFon",
        "outputId": "dbadeed8-56e3-49a1-887b-46b756d39b4e"
      },
      "execution_count": 38,
      "outputs": [
        {
          "output_type": "stream",
          "name": "stdout",
          "text": [
            "Enter number of rows: 5\n",
            "123456789\n",
            " 1234567\n",
            "  12345\n",
            "   123\n",
            "    1\n",
            "   123\n",
            "  12345\n",
            " 1234567\n",
            "123456789\n"
          ]
        }
      ]
    },
    {
      "cell_type": "code",
      "source": [
        "# Sandglass Pattern with Characters (like A, B, C)\n",
        "\n",
        "def sandglass_char_pattern(n):\n",
        "    # Inverted character triangle\n",
        "    for i in range(n, 0, -1):\n",
        "        print(\" \" * (n - i), end=\"\")\n",
        "        for j in range(2 * i - 1):\n",
        "            print(chr(65 + j), end=\"\")  # A = 65 in ASCII\n",
        "        print()\n",
        "\n",
        "    # Normal character triangle\n",
        "    for i in range(2, n + 1):\n",
        "        print(\" \" * (n - i), end=\"\")\n",
        "        for j in range(2 * i - 1):\n",
        "            print(chr(65 + j), end=\"\")\n",
        "        print()\n",
        "\n",
        "# Example usage\n",
        "rows = int(input(\"Enter number of rows: \"))\n",
        "sandglass_char_pattern(rows)"
      ],
      "metadata": {
        "colab": {
          "base_uri": "https://localhost:8080/"
        },
        "id": "QVXFnSUTZRFY",
        "outputId": "6a9dab27-3380-4a67-b5db-785800198e74"
      },
      "execution_count": 39,
      "outputs": [
        {
          "output_type": "stream",
          "name": "stdout",
          "text": [
            "Enter number of rows: 5\n",
            "ABCDEFGHI\n",
            " ABCDEFG\n",
            "  ABCDE\n",
            "   ABC\n",
            "    A\n",
            "   ABC\n",
            "  ABCDE\n",
            " ABCDEFG\n",
            "ABCDEFGHI\n"
          ]
        }
      ]
    },
    {
      "cell_type": "code",
      "source": [
        "# Mirrored (Left-Aligned) Sandglass Pattern with Stars\n",
        "\n",
        "def mirrored_sandglass(n):\n",
        "    # Inverted left-aligned triangle\n",
        "    for i in range(n, 0, -1):\n",
        "        for j in range(i):\n",
        "            print(\"*\", end=\"\")\n",
        "        print()\n",
        "\n",
        "    # Normal left-aligned triangle\n",
        "    for i in range(2, n + 1):\n",
        "        for j in range(i):\n",
        "            print(\"*\", end=\"\")\n",
        "        print()\n",
        "\n",
        "# Example usage\n",
        "rows = int(input(\"Enter number of rows: \"))\n",
        "mirrored_sandglass(rows)"
      ],
      "metadata": {
        "colab": {
          "base_uri": "https://localhost:8080/"
        },
        "id": "A4z7-j2RZbQJ",
        "outputId": "7bf30323-e711-485f-c08b-d07a7d16f8bb"
      },
      "execution_count": 40,
      "outputs": [
        {
          "output_type": "stream",
          "name": "stdout",
          "text": [
            "Enter number of rows: 5\n",
            "*****\n",
            "****\n",
            "***\n",
            "**\n",
            "*\n",
            "**\n",
            "***\n",
            "****\n",
            "*****\n"
          ]
        }
      ]
    },
    {
      "cell_type": "code",
      "source": [
        "# Double Sandglass (Side by Side)\n",
        "\n",
        "def double_sandglass(n):\n",
        "    # Inverted\n",
        "    for i in range(n):\n",
        "        print(\"*\" * (n - i) + \" \" * (2 * i) + \"*\" * (n - i))\n",
        "    # Normal\n",
        "    for i in range(1, n + 1):\n",
        "        print(\"*\" * i + \" \" * (2 * (n - i)) + \"*\" * i)\n",
        "\n",
        "# Example usage\n",
        "rows = int(input(\"Enter number of rows: \"))\n",
        "double_sandglass(rows)"
      ],
      "metadata": {
        "colab": {
          "base_uri": "https://localhost:8080/"
        },
        "id": "qbAW0fVCZkrI",
        "outputId": "c3590d5e-0e8d-47ef-837f-97dff391bb12"
      },
      "execution_count": 41,
      "outputs": [
        {
          "output_type": "stream",
          "name": "stdout",
          "text": [
            "Enter number of rows: 5\n",
            "**********\n",
            "****  ****\n",
            "***    ***\n",
            "**      **\n",
            "*        *\n",
            "*        *\n",
            "**      **\n",
            "***    ***\n",
            "****  ****\n",
            "**********\n"
          ]
        }
      ]
    },
    {
      "cell_type": "markdown",
      "source": [
        "## **13. Number Pyramid Pattern**"
      ],
      "metadata": {
        "id": "2KgYNdYDcKp3"
      }
    },
    {
      "cell_type": "code",
      "source": [
        "def number_pyramid(n):\n",
        "    for i in range(1, n + 1):\n",
        "        print(\" \" * (n - i), end=\"\")\n",
        "        for j in range(1, i + 1):\n",
        "            print(j, end=\" \")\n",
        "        print()\n",
        "\n",
        "rows = int(input(\"Enter the number of rows: \"))\n",
        "number_pyramid(rows)"
      ],
      "metadata": {
        "colab": {
          "base_uri": "https://localhost:8080/"
        },
        "id": "tQu3wgeycUVj",
        "outputId": "18b620bd-51c1-4f4b-fb7f-a314281e9b0d"
      },
      "execution_count": 42,
      "outputs": [
        {
          "output_type": "stream",
          "name": "stdout",
          "text": [
            "Enter the number of rows: 5\n",
            "    1 \n",
            "   1 2 \n",
            "  1 2 3 \n",
            " 1 2 3 4 \n",
            "1 2 3 4 5 \n"
          ]
        }
      ]
    },
    {
      "cell_type": "code",
      "source": [
        "# Centered Number Pyramid (Symmetrical)\n",
        "\n",
        "def centered_number_pyramid(n):\n",
        "    for i in range(1, n + 1):\n",
        "        print(\" \" * (n - i), end=\"\")\n",
        "        for j in range(1, i + 1):\n",
        "            print(j, end=\"\")\n",
        "        for j in range(i - 1, 0, -1):\n",
        "            print(j, end=\"\")\n",
        "        print()\n",
        "\n",
        "rows = int(input(\"Enter the number of rows: \"))\n",
        "centered_number_pyramid(rows)"
      ],
      "metadata": {
        "colab": {
          "base_uri": "https://localhost:8080/"
        },
        "id": "5CcrijbvcfDX",
        "outputId": "d9740b0c-4638-4f19-b2c4-3140397014f0"
      },
      "execution_count": 47,
      "outputs": [
        {
          "output_type": "stream",
          "name": "stdout",
          "text": [
            "Enter the number of rows: 6\n",
            "     1\n",
            "    121\n",
            "   12321\n",
            "  1234321\n",
            " 123454321\n",
            "12345654321\n"
          ]
        }
      ]
    },
    {
      "cell_type": "code",
      "source": [
        "# Floyd’s Triangle Style Pyramid (Continuous Numbers)\n",
        "\n",
        "def floyds_number_pyramid(n):\n",
        "    num = 1\n",
        "    for i in range(1, n + 1):\n",
        "        print(\" \" * (n - i), end=\"\")\n",
        "        for j in range(i):\n",
        "            print(num, end=\" \")\n",
        "            num += 1\n",
        "        print()\n",
        "\n",
        "rows = int(input(\"Enter the number of rows: \"))\n",
        "floyds_number_pyramid(rows)"
      ],
      "metadata": {
        "colab": {
          "base_uri": "https://localhost:8080/"
        },
        "id": "9QCD5JNwc4Dz",
        "outputId": "7a6b98df-b5b9-4b11-80ff-722db013be0a"
      },
      "execution_count": 48,
      "outputs": [
        {
          "output_type": "stream",
          "name": "stdout",
          "text": [
            "Enter the number of rows: 6\n",
            "     1 \n",
            "    2 3 \n",
            "   4 5 6 \n",
            "  7 8 9 10 \n",
            " 11 12 13 14 15 \n",
            "16 17 18 19 20 21 \n"
          ]
        }
      ]
    },
    {
      "cell_type": "code",
      "source": [
        "# Hollow number Pyramid\n",
        "\n",
        "def hollow_number_pyramid(n):\n",
        "    for i in range(1, n + 1):\n",
        "        # Print leading spaces\n",
        "        print(\" \" * (n - i), end=\"\")\n",
        "        for j in range(1, i + 1):\n",
        "            if j == 1 or j == i or i == n:\n",
        "                print(j, end=\" \")\n",
        "            else:\n",
        "                print(\" \", end=\" \")\n",
        "        print()\n",
        "\n",
        "rows = int(input(\"Enter the number of rows: \"))\n",
        "hollow_number_pyramid(rows)"
      ],
      "metadata": {
        "colab": {
          "base_uri": "https://localhost:8080/"
        },
        "id": "fglJznomdeE9",
        "outputId": "538d916d-ea33-498f-8569-d504be412e50"
      },
      "execution_count": 49,
      "outputs": [
        {
          "output_type": "stream",
          "name": "stdout",
          "text": [
            "Enter the number of rows: 4\n",
            "   1 \n",
            "  1 2 \n",
            " 1   3 \n",
            "1 2 3 4 \n"
          ]
        }
      ]
    },
    {
      "cell_type": "code",
      "source": [
        "# Inverted Number Pyramid\n",
        "\n",
        "def inverted_number_pyramid(n):\n",
        "    for i in range(n, 0, -1):\n",
        "        print(\" \" * (n - i), end=\"\")\n",
        "        for j in range(1, i + 1):\n",
        "            print(j, end=\" \")\n",
        "        print()\n",
        "\n",
        "rows = int(input(\"Enter the number of rows: \"))\n",
        "inverted_number_pyramid(rows)"
      ],
      "metadata": {
        "colab": {
          "base_uri": "https://localhost:8080/"
        },
        "id": "IyUiusOGdnwW",
        "outputId": "26c91a7f-22dc-464f-ad3a-5ac65e216d4e"
      },
      "execution_count": 50,
      "outputs": [
        {
          "output_type": "stream",
          "name": "stdout",
          "text": [
            "Enter the number of rows: 6\n",
            "1 2 3 4 5 6 \n",
            " 1 2 3 4 5 \n",
            "  1 2 3 4 \n",
            "   1 2 3 \n",
            "    1 2 \n",
            "     1 \n"
          ]
        }
      ]
    },
    {
      "cell_type": "code",
      "source": [
        "# Inverted Centered Number Pyramid (Symmetrical)\n",
        "\n",
        "def inverted_centered_number_pyramid(n):\n",
        "    for i in range(n, 0, -1):\n",
        "        print(\" \" * (n - i), end=\"\")\n",
        "        for j in range(1, i + 1):\n",
        "            print(j, end=\"\")\n",
        "        for j in range(i - 1, 0, -1):\n",
        "            print(j, end=\"\")\n",
        "        print()\n",
        "\n",
        "rows = int(input(\"Enter the number of rows: \"))\n",
        "inverted_centered_number_pyramid(rows)"
      ],
      "metadata": {
        "colab": {
          "base_uri": "https://localhost:8080/"
        },
        "id": "Cswep-FbdzuS",
        "outputId": "40d02658-bc33-41f7-ffea-cc13c5b1a6c8"
      },
      "execution_count": 51,
      "outputs": [
        {
          "output_type": "stream",
          "name": "stdout",
          "text": [
            "Enter the number of rows: 6\n",
            "12345654321\n",
            " 123454321\n",
            "  1234321\n",
            "   12321\n",
            "    121\n",
            "     1\n"
          ]
        }
      ]
    },
    {
      "cell_type": "code",
      "source": [
        "# Alphabet (Character) Pyramid\n",
        "\n",
        "def alphabet_pyramid(n):\n",
        "    for i in range(1, n + 1):\n",
        "        print(\" \" * (n - i), end=\"\")\n",
        "        for j in range(i):\n",
        "            print(chr(65 + j), end=\" \")\n",
        "        print()\n",
        "\n",
        "\n",
        "rows = int(input(\"Enter the number of rows: \"))\n",
        "alphabet_pyramid(rows)"
      ],
      "metadata": {
        "colab": {
          "base_uri": "https://localhost:8080/"
        },
        "id": "tt5ssNRpeA0p",
        "outputId": "e9222bc2-a178-453c-e4cc-32d536e088c3"
      },
      "execution_count": 52,
      "outputs": [
        {
          "output_type": "stream",
          "name": "stdout",
          "text": [
            "Enter the number of rows: 7\n",
            "      A \n",
            "     A B \n",
            "    A B C \n",
            "   A B C D \n",
            "  A B C D E \n",
            " A B C D E F \n",
            "A B C D E F G \n"
          ]
        }
      ]
    },
    {
      "cell_type": "code",
      "source": [
        "# Hollow Alphabet Pyramid\n",
        "\n",
        "def hollow_alphabet_pyramid(n):\n",
        "    for i in range(1, n + 1):\n",
        "        print(\" \" * (n - i), end=\"\")\n",
        "        for j in range(1, i + 1):\n",
        "            if j == 1 or j == i or i == n:\n",
        "                print(chr(64 + j), end=\" \")\n",
        "            else:\n",
        "                print(\" \", end=\" \")\n",
        "        print()\n",
        "\n",
        "rows = int(input(\"Enter number of rows: \"))\n",
        "hollow_alphabet_pyramid(rows)"
      ],
      "metadata": {
        "colab": {
          "base_uri": "https://localhost:8080/"
        },
        "id": "4rJYWusPeKqS",
        "outputId": "5b8a727e-bc9c-4c0b-f6c2-d6b78777df54"
      },
      "execution_count": 53,
      "outputs": [
        {
          "output_type": "stream",
          "name": "stdout",
          "text": [
            "Enter number of rows: 7\n",
            "      A \n",
            "     A B \n",
            "    A   C \n",
            "   A     D \n",
            "  A       E \n",
            " A         F \n",
            "A B C D E F G \n"
          ]
        }
      ]
    },
    {
      "cell_type": "markdown",
      "source": [
        "# **Practical Example**\n",
        "\n",
        "## **Pattern Generator Menu**"
      ],
      "metadata": {
        "id": "wxSl9SY9e1dn"
      }
    },
    {
      "cell_type": "code",
      "source": [
        "def number_pyramid(n):\n",
        "    for i in range(1, n + 1):\n",
        "        print(\" \" * (n - i), end=\"\")\n",
        "        for j in range(1, i + 1):\n",
        "            print(j, end=\" \")\n",
        "        print()\n",
        "\n",
        "def centered_number_pyramid(n):\n",
        "    for i in range(1, n + 1):\n",
        "        print(\" \" * (n - i), end=\"\")\n",
        "        for j in range(1, i + 1):\n",
        "            print(j, end=\"\")\n",
        "        for j in range(i - 1, 0, -1):\n",
        "            print(j, end=\"\")\n",
        "        print()\n",
        "\n",
        "def floyds_number_pyramid(n):\n",
        "    num = 1\n",
        "    for i in range(1, n + 1):\n",
        "        print(\" \" * (n - i), end=\"\")\n",
        "        for j in range(i):\n",
        "            print(num, end=\" \")\n",
        "            num += 1\n",
        "        print()\n",
        "\n",
        "def hollow_number_pyramid(n):\n",
        "    for i in range(1, n + 1):\n",
        "        print(\" \" * (n - i), end=\"\")\n",
        "        for j in range(1, i + 1):\n",
        "            if j == 1 or j == i or i == n:\n",
        "                print(j, end=\" \")\n",
        "            else:\n",
        "                print(\" \", end=\" \")\n",
        "        print()\n",
        "\n",
        "def inverted_number_pyramid(n):\n",
        "    for i in range(n, 0, -1):\n",
        "        print(\" \" * (n - i), end=\"\")\n",
        "        for j in range(1, i + 1):\n",
        "            print(j, end=\" \")\n",
        "        print()\n",
        "\n",
        "def inverted_centered_number_pyramid(n):\n",
        "    for i in range(n, 0, -1):\n",
        "        print(\" \" * (n - i), end=\"\")\n",
        "        for j in range(1, i + 1):\n",
        "            print(j, end=\"\")\n",
        "        for j in range(i - 1, 0, -1):\n",
        "            print(j, end=\"\")\n",
        "        print()\n",
        "\n",
        "def alphabet_pyramid(n):\n",
        "    for i in range(1, n + 1):\n",
        "        print(\" \" * (n - i), end=\"\")\n",
        "        for j in range(i):\n",
        "            print(chr(65 + j), end=\" \")\n",
        "        print()\n",
        "\n",
        "def hollow_alphabet_pyramid(n):\n",
        "    for i in range(1, n + 1):\n",
        "        print(\" \" * (n - i), end=\"\")\n",
        "        for j in range(1, i + 1):\n",
        "            if j == 1 or j == i or i == n:\n",
        "                print(chr(64 + j), end=\" \")\n",
        "            else:\n",
        "                print(\" \", end=\" \")\n",
        "        print()\n",
        "\n",
        "# Menu loop\n",
        "def menu():\n",
        "    while True:\n",
        "        print(\"\\n🔷 Pattern Generator Menu 🔷\")\n",
        "        print(\"1. Number Pyramid\")\n",
        "        print(\"2. Centered Number Pyramid\")\n",
        "        print(\"3. Floyd's Number Pyramid\")\n",
        "        print(\"4. Hollow Number Pyramid\")\n",
        "        print(\"5. Inverted Number Pyramid\")\n",
        "        print(\"6. Inverted Centered Number Pyramid\")\n",
        "        print(\"7. Alphabet Pyramid\")\n",
        "        print(\"8. Hollow Alphabet Pyramid\")\n",
        "        print(\"0. Exit\")\n",
        "\n",
        "        choice = input(\"Enter your choice (0-8): \")\n",
        "        if choice == '0':\n",
        "            print(\"Exiting. Have a great day! 🌟\")\n",
        "            break\n",
        "\n",
        "        rows = int(input(\"Enter number of rows: \"))\n",
        "\n",
        "        if choice == '1':\n",
        "            number_pyramid(rows)\n",
        "        elif choice == '2':\n",
        "            centered_number_pyramid(rows)\n",
        "        elif choice == '3':\n",
        "            floyds_number_pyramid(rows)\n",
        "        elif choice == '4':\n",
        "            hollow_number_pyramid(rows)\n",
        "        elif choice == '5':\n",
        "            inverted_number_pyramid(rows)\n",
        "        elif choice == '6':\n",
        "            inverted_centered_number_pyramid(rows)\n",
        "        elif choice == '7':\n",
        "            alphabet_pyramid(rows)\n",
        "        elif choice == '8':\n",
        "            hollow_alphabet_pyramid(rows)\n",
        "        else:\n",
        "            print(\"Invalid choice. Please try again.\")\n",
        "\n",
        "# Run the program\n",
        "menu()"
      ],
      "metadata": {
        "colab": {
          "base_uri": "https://localhost:8080/"
        },
        "id": "j_nDie9Qe7UR",
        "outputId": "c7b11ba0-6ef6-4745-a33f-9c270176ec78"
      },
      "execution_count": 55,
      "outputs": [
        {
          "output_type": "stream",
          "name": "stdout",
          "text": [
            "\n",
            "🔷 Pattern Generator Menu 🔷\n",
            "1. Number Pyramid\n",
            "2. Centered Number Pyramid\n",
            "3. Floyd's Number Pyramid\n",
            "4. Hollow Number Pyramid\n",
            "5. Inverted Number Pyramid\n",
            "6. Inverted Centered Number Pyramid\n",
            "7. Alphabet Pyramid\n",
            "8. Hollow Alphabet Pyramid\n",
            "0. Exit\n",
            "Enter your choice (0-8): 8\n",
            "Enter number of rows: 5\n",
            "    A \n",
            "   A B \n",
            "  A   C \n",
            " A     D \n",
            "A B C D E \n",
            "\n",
            "🔷 Pattern Generator Menu 🔷\n",
            "1. Number Pyramid\n",
            "2. Centered Number Pyramid\n",
            "3. Floyd's Number Pyramid\n",
            "4. Hollow Number Pyramid\n",
            "5. Inverted Number Pyramid\n",
            "6. Inverted Centered Number Pyramid\n",
            "7. Alphabet Pyramid\n",
            "8. Hollow Alphabet Pyramid\n",
            "0. Exit\n",
            "Enter your choice (0-8): 7\n",
            "Enter number of rows: 8\n",
            "       A \n",
            "      A B \n",
            "     A B C \n",
            "    A B C D \n",
            "   A B C D E \n",
            "  A B C D E F \n",
            " A B C D E F G \n",
            "A B C D E F G H \n",
            "\n",
            "🔷 Pattern Generator Menu 🔷\n",
            "1. Number Pyramid\n",
            "2. Centered Number Pyramid\n",
            "3. Floyd's Number Pyramid\n",
            "4. Hollow Number Pyramid\n",
            "5. Inverted Number Pyramid\n",
            "6. Inverted Centered Number Pyramid\n",
            "7. Alphabet Pyramid\n",
            "8. Hollow Alphabet Pyramid\n",
            "0. Exit\n",
            "Enter your choice (0-8): 6\n",
            "Enter number of rows: 5\n",
            "123454321\n",
            " 1234321\n",
            "  12321\n",
            "   121\n",
            "    1\n",
            "\n",
            "🔷 Pattern Generator Menu 🔷\n",
            "1. Number Pyramid\n",
            "2. Centered Number Pyramid\n",
            "3. Floyd's Number Pyramid\n",
            "4. Hollow Number Pyramid\n",
            "5. Inverted Number Pyramid\n",
            "6. Inverted Centered Number Pyramid\n",
            "7. Alphabet Pyramid\n",
            "8. Hollow Alphabet Pyramid\n",
            "0. Exit\n",
            "Enter your choice (0-8): 5\n",
            "Enter number of rows: 5\n",
            "1 2 3 4 5 \n",
            " 1 2 3 4 \n",
            "  1 2 3 \n",
            "   1 2 \n",
            "    1 \n",
            "\n",
            "🔷 Pattern Generator Menu 🔷\n",
            "1. Number Pyramid\n",
            "2. Centered Number Pyramid\n",
            "3. Floyd's Number Pyramid\n",
            "4. Hollow Number Pyramid\n",
            "5. Inverted Number Pyramid\n",
            "6. Inverted Centered Number Pyramid\n",
            "7. Alphabet Pyramid\n",
            "8. Hollow Alphabet Pyramid\n",
            "0. Exit\n",
            "Enter your choice (0-8): 4\n",
            "Enter number of rows: 5\n",
            "    1 \n",
            "   1 2 \n",
            "  1   3 \n",
            " 1     4 \n",
            "1 2 3 4 5 \n",
            "\n",
            "🔷 Pattern Generator Menu 🔷\n",
            "1. Number Pyramid\n",
            "2. Centered Number Pyramid\n",
            "3. Floyd's Number Pyramid\n",
            "4. Hollow Number Pyramid\n",
            "5. Inverted Number Pyramid\n",
            "6. Inverted Centered Number Pyramid\n",
            "7. Alphabet Pyramid\n",
            "8. Hollow Alphabet Pyramid\n",
            "0. Exit\n",
            "Enter your choice (0-8): 3\n",
            "Enter number of rows: 6\n",
            "     1 \n",
            "    2 3 \n",
            "   4 5 6 \n",
            "  7 8 9 10 \n",
            " 11 12 13 14 15 \n",
            "16 17 18 19 20 21 \n",
            "\n",
            "🔷 Pattern Generator Menu 🔷\n",
            "1. Number Pyramid\n",
            "2. Centered Number Pyramid\n",
            "3. Floyd's Number Pyramid\n",
            "4. Hollow Number Pyramid\n",
            "5. Inverted Number Pyramid\n",
            "6. Inverted Centered Number Pyramid\n",
            "7. Alphabet Pyramid\n",
            "8. Hollow Alphabet Pyramid\n",
            "0. Exit\n",
            "Enter your choice (0-8): 2\n",
            "Enter number of rows: 7\n",
            "      1\n",
            "     121\n",
            "    12321\n",
            "   1234321\n",
            "  123454321\n",
            " 12345654321\n",
            "1234567654321\n",
            "\n",
            "🔷 Pattern Generator Menu 🔷\n",
            "1. Number Pyramid\n",
            "2. Centered Number Pyramid\n",
            "3. Floyd's Number Pyramid\n",
            "4. Hollow Number Pyramid\n",
            "5. Inverted Number Pyramid\n",
            "6. Inverted Centered Number Pyramid\n",
            "7. Alphabet Pyramid\n",
            "8. Hollow Alphabet Pyramid\n",
            "0. Exit\n",
            "Enter your choice (0-8): 1\n",
            "Enter number of rows: 4\n",
            "   1 \n",
            "  1 2 \n",
            " 1 2 3 \n",
            "1 2 3 4 \n",
            "\n",
            "🔷 Pattern Generator Menu 🔷\n",
            "1. Number Pyramid\n",
            "2. Centered Number Pyramid\n",
            "3. Floyd's Number Pyramid\n",
            "4. Hollow Number Pyramid\n",
            "5. Inverted Number Pyramid\n",
            "6. Inverted Centered Number Pyramid\n",
            "7. Alphabet Pyramid\n",
            "8. Hollow Alphabet Pyramid\n",
            "0. Exit\n",
            "Enter your choice (0-8): 0\n",
            "Exiting. Have a great day! 🌟\n"
          ]
        }
      ]
    }
  ]
}