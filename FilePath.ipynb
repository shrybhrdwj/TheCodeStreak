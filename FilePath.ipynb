{
  "nbformat": 4,
  "nbformat_minor": 0,
  "metadata": {
    "colab": {
      "provenance": [],
      "authorship_tag": "ABX9TyMUK+2Y6BJR67w+fQ73ieYm",
      "include_colab_link": true
    },
    "kernelspec": {
      "name": "python3",
      "display_name": "Python 3"
    },
    "language_info": {
      "name": "python"
    }
  },
  "cells": [
    {
      "cell_type": "markdown",
      "metadata": {
        "id": "view-in-github",
        "colab_type": "text"
      },
      "source": [
        "<a href=\"https://colab.research.google.com/github/shrybhrdwj/TheCodeStreak/blob/main/FilePath.ipynb\" target=\"_parent\"><img src=\"https://colab.research.google.com/assets/colab-badge.svg\" alt=\"Open In Colab\"/></a>"
      ]
    },
    {
      "cell_type": "markdown",
      "source": [
        "## Working With File Paths\n",
        "When working with files in Python, handling file paths correctly is crucial to ensure your code works across different operating systems and environments. Python provides several modules and functions for working with file paths effectively."
      ],
      "metadata": {
        "id": "cpI9eCNKhwTx"
      }
    },
    {
      "cell_type": "code",
      "execution_count": 1,
      "metadata": {
        "colab": {
          "base_uri": "https://localhost:8080/"
        },
        "id": "NoAFG3gQhoAy",
        "outputId": "717f345b-4cff-48a4-c23d-05eda5d70462"
      },
      "outputs": [
        {
          "output_type": "stream",
          "name": "stdout",
          "text": [
            "Current working directory is /content\n"
          ]
        }
      ],
      "source": [
        "# Using the os module\n",
        "\n",
        "import os\n",
        "cwd = os.getcwd()\n",
        "print(f\"Current working directory is {cwd}\")"
      ]
    },
    {
      "cell_type": "code",
      "source": [
        "# Create a new directory\n",
        "\n",
        "new_directory = 'package'\n",
        "os.mkdir(new_directory)\n",
        "print(f\"Directory '{new_directory}' craete\")"
      ],
      "metadata": {
        "colab": {
          "base_uri": "https://localhost:8080/"
        },
        "id": "wuZ1DYzwiYAv",
        "outputId": "f3af4ced-b4ac-493b-e125-d941fd67b8ac"
      },
      "execution_count": 2,
      "outputs": [
        {
          "output_type": "stream",
          "name": "stdout",
          "text": [
            "Directory 'package' craete\n"
          ]
        }
      ]
    },
    {
      "cell_type": "code",
      "source": [
        "# Listing Files and directories\n",
        "\n",
        "items = os.listdir('.')\n",
        "print(items)"
      ],
      "metadata": {
        "colab": {
          "base_uri": "https://localhost:8080/"
        },
        "id": "cIgjmDPli4VI",
        "outputId": "3a8d12d7-510a-4498-d019-112e5b7b2f8b"
      },
      "execution_count": 3,
      "outputs": [
        {
          "output_type": "stream",
          "name": "stdout",
          "text": [
            "['.config', 'package', 'sample_data']\n"
          ]
        }
      ]
    },
    {
      "cell_type": "code",
      "source": [
        "# Joining Paths\n",
        "\n",
        "dir_name = \"folder\"\n",
        "file_name = \"file.txt\"\n",
        "full_path = os.path.join(dir_name,file_name)\n",
        "print(full_path)"
      ],
      "metadata": {
        "colab": {
          "base_uri": "https://localhost:8080/"
        },
        "id": "jt0JlJ6GjI_5",
        "outputId": "f0fcb997-2ed2-48a3-978c-f32899ef2a0a"
      },
      "execution_count": 4,
      "outputs": [
        {
          "output_type": "stream",
          "name": "stdout",
          "text": [
            "folder/file.txt\n"
          ]
        }
      ]
    },
    {
      "cell_type": "code",
      "source": [
        "dir_name =\"folder\"\n",
        "file_name=\"file.txt\"\n",
        "full_path = os.path.join(os.getcwd(),dir_name,file_name)\n",
        "print(full_path)"
      ],
      "metadata": {
        "colab": {
          "base_uri": "https://localhost:8080/"
        },
        "id": "D8jJvNzFjjg2",
        "outputId": "a4fd0ca8-19e2-4479-98af-d1540f37ae4f"
      },
      "execution_count": 5,
      "outputs": [
        {
          "output_type": "stream",
          "name": "stdout",
          "text": [
            "/content/folder/file.txt\n"
          ]
        }
      ]
    },
    {
      "cell_type": "code",
      "source": [
        "path = 'example.txt'\n",
        "if os.path.exists(path):\n",
        "  print(f\"The path '{path} exists\")\n",
        "else:\n",
        "  print(f\"The path '{path}' does not exists\")"
      ],
      "metadata": {
        "colab": {
          "base_uri": "https://localhost:8080/"
        },
        "id": "VDl0MVnPj3yS",
        "outputId": "f113264a-d75b-4b38-ce43-4a2d0bb07a12"
      },
      "execution_count": 6,
      "outputs": [
        {
          "output_type": "stream",
          "name": "stdout",
          "text": [
            "The path 'example.txt' does not exists\n"
          ]
        }
      ]
    },
    {
      "cell_type": "code",
      "source": [
        "os.mkdir('example.txt')\n"
      ],
      "metadata": {
        "id": "ZXDEBmjVkf3k"
      },
      "execution_count": 7,
      "outputs": []
    },
    {
      "cell_type": "code",
      "source": [
        "!rm -r example.txt/"
      ],
      "metadata": {
        "id": "YlrAMngIlj9Y"
      },
      "execution_count": 9,
      "outputs": []
    },
    {
      "cell_type": "code",
      "source": [
        "!mkdir package/demo.txt"
      ],
      "metadata": {
        "id": "Ayi4g4jrlthu"
      },
      "execution_count": 10,
      "outputs": []
    },
    {
      "cell_type": "code",
      "source": [
        "from genericpath import isfile\n",
        "# Cheacking if a path is  a file or a directory\n",
        "\n",
        "import os\n",
        "\n",
        "path = 'example.txt'\n",
        "if os.path.isfile(path):\n",
        "  print(f\"The path '{path}' is a file.\")\n",
        "elif os.path.isdir(path):\n",
        "  print(f\"The path '{path}' is a directory.\")\n",
        "else:\n",
        "  print(f\"The path '{path}' is a neither a file nor a directory.\")"
      ],
      "metadata": {
        "colab": {
          "base_uri": "https://localhost:8080/"
        },
        "id": "5qu_E64IkQjb",
        "outputId": "a4abb5d3-01a0-4783-8baf-87fc0bbd899c"
      },
      "execution_count": 11,
      "outputs": [
        {
          "output_type": "stream",
          "name": "stdout",
          "text": [
            "The path 'example.txt' is a neither a file nor a directory.\n"
          ]
        }
      ]
    },
    {
      "cell_type": "code",
      "source": [
        "# Getting the absolute path\n",
        "\n",
        "relative_path = 'demo.txt'\n",
        "absolute_path = os.path.abspath(relative_path)\n",
        "print(absolute_path)"
      ],
      "metadata": {
        "colab": {
          "base_uri": "https://localhost:8080/"
        },
        "id": "nt8XQFQqlUai",
        "outputId": "14b9488e-64f3-4d6f-ca92-9b7ff69c8d60"
      },
      "execution_count": 12,
      "outputs": [
        {
          "output_type": "stream",
          "name": "stdout",
          "text": [
            "/content/demo.txt\n"
          ]
        }
      ]
    }
  ]
}