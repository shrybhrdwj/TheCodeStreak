{
 "cells": [
  {
   "cell_type": "raw",
   "id": "a3d68c92-f03f-4b19-8400-f37f675c5af8",
   "metadata": {},
   "source": [
    "21.Create a generator to produce first n prime numbers\n",
    "\n",
    "   yield keyword used to return a value and then the code is resumed inside the function unlike the return keyword end the code when it is called\n",
    "   yield keyword will turn any expression that is given with it into a generator object and return it to the caller"
   ]
  },
  {
   "cell_type": "code",
   "execution_count": 3,
   "id": "f98ab08d-fbd6-43e8-8c00-fdf98ea19038",
   "metadata": {},
   "outputs": [
    {
     "name": "stdin",
     "output_type": "stream",
     "text": [
      "Enter no. of prime numbers required 5\n"
     ]
    },
    {
     "name": "stdout",
     "output_type": "stream",
     "text": [
      "2 3 5 7 11 "
     ]
    }
   ],
   "source": [
    "def isprime(num):\n",
    "    for i in range(2,num):\n",
    "        if num%i  == 0:\n",
    "            return False\n",
    "    return True\n",
    "\n",
    "def prime_generator(n):\n",
    "    num = 2\n",
    "    while n:\n",
    "        if isprime(num):\n",
    "            yield num\n",
    "            n-=1\n",
    "        num+=1\n",
    "x = int(input(\"Enter no. of prime numbers required\"))\n",
    "it = prime_generator(x)\n",
    "for e in it:\n",
    "    print(e, end=\" \")"
   ]
  },
  {
   "cell_type": "code",
   "execution_count": 5,
   "id": "b668ad60-99ef-46cb-b897-3fd12296ef47",
   "metadata": {},
   "outputs": [
    {
     "name": "stdin",
     "output_type": "stream",
     "text": [
      "Enter a number: 37\n"
     ]
    },
    {
     "data": {
      "text/plain": [
       "True"
      ]
     },
     "execution_count": 5,
     "metadata": {},
     "output_type": "execute_result"
    }
   ],
   "source": [
    "#Program to check if a given number is prime or not\n",
    "def prime_no(n):\n",
    "    Flag = False\n",
    "    if n<2:\n",
    "        return Flag\n",
    "    else:\n",
    "        for i in range(2,n):\n",
    "            if n%i == 0:\n",
    "                return Flag\n",
    "            else:\n",
    "                Flag = True\n",
    "                return Flag\n",
    "\n",
    "num = int(input(\"Enter a number:\"))\n",
    "prime_no(num)"
   ]
  },
  {
   "cell_type": "code",
   "execution_count": 11,
   "id": "8c6f2ff1-e918-4805-bc29-5758a428a95f",
   "metadata": {},
   "outputs": [
    {
     "name": "stdin",
     "output_type": "stream",
     "text": [
      "Enter a number: 25\n"
     ]
    },
    {
     "data": {
      "text/plain": [
       "False"
      ]
     },
     "execution_count": 11,
     "metadata": {},
     "output_type": "execute_result"
    }
   ],
   "source": [
    "def prime_no(n):\n",
    "    Flag = False\n",
    "    if n<2:\n",
    "        return Flag\n",
    "    else:\n",
    "        for i in range(2,n):\n",
    "            if n%i == 0:\n",
    "                return Flag\n",
    "        Flag = True\n",
    "        return Flag\n",
    "\n",
    "num = int(input(\"Enter a number:\"))\n",
    "prime_no(num)"
   ]
  },
  {
   "cell_type": "raw",
   "id": "6f76f5b6-fe32-42b0-8c3b-dd8e78d3d256",
   "metadata": {},
   "source": [
    "22.Implementing variable length arguments in python"
   ]
  },
  {
   "cell_type": "code",
   "execution_count": 15,
   "id": "3d9c01d1-e259-4523-aabf-2a01e7586f79",
   "metadata": {},
   "outputs": [
    {
     "name": "stdout",
     "output_type": "stream",
     "text": [
      "Average is: 38.0\n",
      "Average is: 27.5\n"
     ]
    }
   ],
   "source": [
    "def average(*t): # *t for tuple of variable length\n",
    "    avg = sum(t)/len(t)\n",
    "    return avg\n",
    "\n",
    "result1 = average(32,5,65,22,87,34,2,57)\n",
    "result2 = average(5,10,15,20,25,30,35,40,45,50)\n",
    "\n",
    "print(\"Average is:\",result1)\n",
    "print(\"Average is:\",result2)"
   ]
  },
  {
   "cell_type": "code",
   "execution_count": 21,
   "id": "79b48706-fe97-44ae-96f7-5431c915088d",
   "metadata": {},
   "outputs": [
    {
     "name": "stdout",
     "output_type": "stream",
     "text": [
      "Average is: 31.60\n",
      "Average is: 15.00\n"
     ]
    }
   ],
   "source": [
    "def average_with_kwargs(**kwargs): # **kwargs for a dictionary of variable length\n",
    "    values = list(kwargs.values())\n",
    "    avg = sum(values)/len(values)\n",
    "    return avg\n",
    "\n",
    "result1 = average_with_kwargs(num1=32, num2=5, num3=65, num4 = 22, num5=34)\n",
    "result2 = average_with_kwargs(value1=5, value2=10, value3=15, value4=20, value5=25)\n",
    "\n",
    "print(f'Average is: {result1:.2f}')\n",
    "print(f'Average is: {result2:.2f}')"
   ]
  },
  {
   "cell_type": "raw",
   "id": "2797b22a-a63b-4ae8-b471-6bc81b076e93",
   "metadata": {},
   "source": [
    "23. Creating instance memeber variables in pyhton"
   ]
  },
  {
   "cell_type": "code",
   "execution_count": 25,
   "id": "2c0a0e1b-9793-40f8-8ab0-69ab12079a77",
   "metadata": {},
   "outputs": [
    {
     "name": "stdout",
     "output_type": "stream",
     "text": [
      "{'a': 5, 'b': 10, 'c': 15}\n",
      "{'a': 5}\n"
     ]
    }
   ],
   "source": [
    "class Test:\n",
    "    def __init__(self):\n",
    "        #1st instance variable inside init function\n",
    "        self.a = 5\n",
    "    def f1(self):\n",
    "        #2nd instance variable inside function f1\n",
    "        self.b = 10\n",
    "\n",
    "t1 = Test()\n",
    "t2 = Test()\n",
    "t1.f1()\n",
    "# 3rd instance variable\n",
    "t1.c = 15\n",
    "print(t1.__dict__)\n",
    "print(t2.__dict__)"
   ]
  },
  {
   "cell_type": "raw",
   "id": "a62ef289-6087-49f0-92ec-eea090202c26",
   "metadata": {},
   "source": [
    "24. Addition using Lambda functions"
   ]
  },
  {
   "cell_type": "code",
   "execution_count": 29,
   "id": "f950acf7-fd84-4da3-9fe2-874d03710d3f",
   "metadata": {},
   "outputs": [
    {
     "name": "stdout",
     "output_type": "stream",
     "text": [
      "10\n",
      "12\n"
     ]
    }
   ],
   "source": [
    "#Lambda function to add two variables\n",
    "f = lambda a,b : a+b\n",
    "r = f(3,7)\n",
    "print(r)\n",
    "\n",
    "#OR\n",
    "print((lambda a,b:a+b)(5,7))"
   ]
  },
  {
   "cell_type": "raw",
   "id": "c38fa701-2c61-4bec-9ae2-0b32ab6ab733",
   "metadata": {},
   "source": [
    "25.Finding factorial using Lambda function"
   ]
  },
  {
   "cell_type": "code",
   "execution_count": 33,
   "id": "56ea32ab-a577-424a-aa88-427325dc5712",
   "metadata": {},
   "outputs": [
    {
     "name": "stdin",
     "output_type": "stream",
     "text": [
      "Enter the number: 5\n"
     ]
    },
    {
     "data": {
      "text/plain": [
       "120"
      ]
     },
     "execution_count": 33,
     "metadata": {},
     "output_type": "execute_result"
    }
   ],
   "source": [
    "f = lambda n : 1 if n==0 else n*f(n-1)\n",
    "\n",
    "num = int(input(\"Enter the number:\"))\n",
    "f(num)"
   ]
  },
  {
   "cell_type": "code",
   "execution_count": 41,
   "id": "1baf85e6-619b-4805-a7f8-f3e403ce4350",
   "metadata": {},
   "outputs": [
    {
     "name": "stdin",
     "output_type": "stream",
     "text": [
      "Enter a number: 7\n"
     ]
    },
    {
     "name": "stdout",
     "output_type": "stream",
     "text": [
      "The factorial of 7 is  5040\n"
     ]
    }
   ],
   "source": [
    "num = int(input(\"Enter a number:\")) \n",
    "factorial = 1\n",
    "if num<0:\n",
    "    print(\"Sorry! Factorial does not exist for negative numbers\")\n",
    "elif num == 0:\n",
    "    print(\"The factorial of 0 is 1\")\n",
    "else:\n",
    "    for i in range(1,num+1):\n",
    "        factorial = factorial*i\n",
    "    print(f\"The factorial of {num} is \",factorial)"
   ]
  }
 ],
 "metadata": {
  "kernelspec": {
   "display_name": "Python 3 (ipykernel)",
   "language": "python",
   "name": "python3"
  },
  "language_info": {
   "codemirror_mode": {
    "name": "ipython",
    "version": 3
   },
   "file_extension": ".py",
   "mimetype": "text/x-python",
   "name": "python",
   "nbconvert_exporter": "python",
   "pygments_lexer": "ipython3",
   "version": "3.12.4"
  }
 },
 "nbformat": 4,
 "nbformat_minor": 5
}
