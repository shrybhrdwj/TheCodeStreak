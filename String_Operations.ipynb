{
  "nbformat": 4,
  "nbformat_minor": 0,
  "metadata": {
    "colab": {
      "provenance": [],
      "authorship_tag": "ABX9TyPcJp60b0v2raoCCI5uyKn4",
      "include_colab_link": true
    },
    "kernelspec": {
      "name": "python3",
      "display_name": "Python 3"
    },
    "language_info": {
      "name": "python"
    }
  },
  "cells": [
    {
      "cell_type": "markdown",
      "metadata": {
        "id": "view-in-github",
        "colab_type": "text"
      },
      "source": [
        "<a href=\"https://colab.research.google.com/github/shrybhrdwj/TheCodeStreak/blob/main/String_Operations.ipynb\" target=\"_parent\"><img src=\"https://colab.research.google.com/assets/colab-badge.svg\" alt=\"Open In Colab\"/></a>"
      ]
    },
    {
      "cell_type": "code",
      "execution_count": 1,
      "metadata": {
        "colab": {
          "base_uri": "https://localhost:8080/"
        },
        "id": "IWfBSvrhWN15",
        "outputId": "8ada4fc1-315f-465a-ab09-621c00b09b28"
      },
      "outputs": [
        {
          "output_type": "stream",
          "name": "stdout",
          "text": [
            "False\n",
            "True\n"
          ]
        }
      ],
      "source": [
        "#Compare two strings\n",
        "str1 = \"Hello World!\"\n",
        "str2 = \"I am from Gryffindor\"\n",
        "str3 = \"Hello World!\"\n",
        "print(str1 == str2)\n",
        "print(str1 == str3)"
      ]
    },
    {
      "cell_type": "code",
      "source": [
        "#Join two or more Strings\n",
        "greet = \"Hello, \"\n",
        "name = \"Sheelu\"\n",
        "print(greet + name)"
      ],
      "metadata": {
        "colab": {
          "base_uri": "https://localhost:8080/"
        },
        "id": "qCJBCbEEYB0k",
        "outputId": "5577676d-7d60-417e-a3db-0adb63e763cb"
      },
      "execution_count": 2,
      "outputs": [
        {
          "output_type": "stream",
          "name": "stdout",
          "text": [
            "Hello, Sheelu\n"
          ]
        }
      ]
    },
    {
      "cell_type": "code",
      "source": [
        "#Iterate through a Python String\n",
        "greet = \"Hello\"\n",
        "for letter in greet:\n",
        "  print(letter)"
      ],
      "metadata": {
        "colab": {
          "base_uri": "https://localhost:8080/"
        },
        "id": "z1S2zuMVYGJN",
        "outputId": "cd3ef24d-5c86-406f-aa5d-2c16e2426c82"
      },
      "execution_count": 3,
      "outputs": [
        {
          "output_type": "stream",
          "name": "stdout",
          "text": [
            "H\n",
            "e\n",
            "l\n",
            "l\n",
            "o\n"
          ]
        }
      ]
    },
    {
      "cell_type": "code",
      "source": [
        "#String Length\n",
        "greet = \"Hello\"\n",
        "print(len(greet))"
      ],
      "metadata": {
        "colab": {
          "base_uri": "https://localhost:8080/"
        },
        "id": "Yp02M6zJYGQN",
        "outputId": "68e576a1-09df-427f-d5c2-89c81d1ebc9f"
      },
      "execution_count": 4,
      "outputs": [
        {
          "output_type": "stream",
          "name": "stdout",
          "text": [
            "5\n"
          ]
        }
      ]
    },
    {
      "cell_type": "code",
      "source": [
        "#String Membership Test\n",
        "print('a' in 'Program')\n",
        "print('at' not in 'battle')"
      ],
      "metadata": {
        "colab": {
          "base_uri": "https://localhost:8080/"
        },
        "id": "ojC3hTcHZkn-",
        "outputId": "52b8c8ab-995a-4377-f179-cf81a38488fd"
      },
      "execution_count": 7,
      "outputs": [
        {
          "output_type": "stream",
          "name": "stdout",
          "text": [
            "True\n",
            "False\n"
          ]
        }
      ]
    },
    {
      "cell_type": "code",
      "source": [
        "#String Formatting(f-string)\n",
        "name = 'Cathy'\n",
        "country = 'India'\n",
        "print(f'{name} is from {country}')\n",
        "print(name,'is from', country)"
      ],
      "metadata": {
        "colab": {
          "base_uri": "https://localhost:8080/"
        },
        "id": "cFvw-MWraQJp",
        "outputId": "7523b1ec-1ed8-4972-da71-546ae41a77ed"
      },
      "execution_count": 8,
      "outputs": [
        {
          "output_type": "stream",
          "name": "stdout",
          "text": [
            "Cathy is from India\n",
            "Cathy is from India\n"
          ]
        }
      ]
    },
    {
      "cell_type": "code",
      "source": [
        "#Escape Sequence in Python\n",
        "sentence = \"He said, \"What's there\"\n",
        "print(sentence)"
      ],
      "metadata": {
        "colab": {
          "base_uri": "https://localhost:8080/",
          "height": 106
        },
        "id": "sbyN1vTcbMLr",
        "outputId": "b8fc7f18-1621-4970-e905-ad8cf86b0c04"
      },
      "execution_count": 11,
      "outputs": [
        {
          "output_type": "error",
          "ename": "SyntaxError",
          "evalue": "unterminated string literal (detected at line 2) (ipython-input-11-1932626838.py, line 2)",
          "traceback": [
            "\u001b[0;36m  File \u001b[0;32m\"/tmp/ipython-input-11-1932626838.py\"\u001b[0;36m, line \u001b[0;32m2\u001b[0m\n\u001b[0;31m    sentence = \"He said, \"What's there\"\u001b[0m\n\u001b[0m                              ^\u001b[0m\n\u001b[0;31mSyntaxError\u001b[0m\u001b[0;31m:\u001b[0m unterminated string literal (detected at line 2)\n"
          ]
        }
      ]
    },
    {
      "cell_type": "code",
      "source": [
        "#Corrected form of Escape Sequence\n",
        "#Escape Double Quote\n",
        "sentence = \"He said, \\\"What's there?\\\"\"\n",
        "print(sentence)"
      ],
      "metadata": {
        "colab": {
          "base_uri": "https://localhost:8080/"
        },
        "id": "KsVWY_Q-cST_",
        "outputId": "856d3792-939e-4c92-dea4-b3f728ab6f11"
      },
      "execution_count": 13,
      "outputs": [
        {
          "output_type": "stream",
          "name": "stdout",
          "text": [
            "He said, \"What's there?\"\n"
          ]
        }
      ]
    },
    {
      "cell_type": "code",
      "source": [
        "#Corrected form of Escape Sequence\n",
        "#Escape Single Quote\n",
        "sentence = 'He said, \"What \\'s there?'\n",
        "print(sentence)"
      ],
      "metadata": {
        "colab": {
          "base_uri": "https://localhost:8080/"
        },
        "id": "asmFmeglc9RR",
        "outputId": "96dc70fb-286b-4fd4-db1c-70acfc5e6722"
      },
      "execution_count": 12,
      "outputs": [
        {
          "output_type": "stream",
          "name": "stdout",
          "text": [
            "He said, \"What 's there?\n"
          ]
        }
      ]
    }
  ]
}