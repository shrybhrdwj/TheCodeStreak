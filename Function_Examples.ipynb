{
  "nbformat": 4,
  "nbformat_minor": 0,
  "metadata": {
    "colab": {
      "provenance": [],
      "authorship_tag": "ABX9TyMU3KUKvIn/2JUiFtOkJUnn",
      "include_colab_link": true
    },
    "kernelspec": {
      "name": "python3",
      "display_name": "Python 3"
    },
    "language_info": {
      "name": "python"
    }
  },
  "cells": [
    {
      "cell_type": "markdown",
      "metadata": {
        "id": "view-in-github",
        "colab_type": "text"
      },
      "source": [
        "<a href=\"https://colab.research.google.com/github/shrybhrdwj/TheCodeStreak/blob/main/Function_Examples.ipynb\" target=\"_parent\"><img src=\"https://colab.research.google.com/assets/colab-badge.svg\" alt=\"Open In Colab\"/></a>"
      ]
    },
    {
      "cell_type": "markdown",
      "source": [
        "## **Example 1: Temperature Conversion**"
      ],
      "metadata": {
        "id": "IVqqpeZ5mFgI"
      }
    },
    {
      "cell_type": "code",
      "source": [
        "def convert_temperature(temp,unit):\n",
        "  if unit=='C':\n",
        "    return temp * 9/5 + 32 # Celsius to Fahrenheit\n",
        "  elif unit=='F':\n",
        "    return(temp-32)*5/9 # Fahrenheit to celsius\n",
        "\n",
        "print(f\"{convert_temperature(25,'C')}\")\n",
        "print(f\"{convert_temperature(77,'F')}\")"
      ],
      "metadata": {
        "colab": {
          "base_uri": "https://localhost:8080/"
        },
        "id": "T6WqQVRmnv8k",
        "outputId": "52fcb482-7422-4ff2-cc37-502935047920"
      },
      "execution_count": null,
      "outputs": [
        {
          "output_type": "stream",
          "name": "stdout",
          "text": [
            "77.0\n",
            "25.0\n"
          ]
        }
      ]
    },
    {
      "cell_type": "markdown",
      "source": [
        "## **Example 2: Password Strength Checker**"
      ],
      "metadata": {
        "id": "tVTQjnWmmOXa"
      }
    },
    {
      "cell_type": "code",
      "source": [
        "def is_valid_password(password):\n",
        "  if len(password)<8:\n",
        "    return False\n",
        "  if not any(char.isdigit() for char in password):\n",
        "    return False\n",
        "  if not any(char.islower() for char in password):\n",
        "    return False\n",
        "  if not any(char.isupper() for char in password):\n",
        "    return False\n",
        "  if not any(char in '!@#$%^&*()_+' for char in password):\n",
        "    return False\n",
        "  return True\n",
        "\n",
        "print(is_valid_password(\"1234\"))\n",
        "print(is_valid_password(\"Stron0@Pwd!\"))"
      ],
      "metadata": {
        "colab": {
          "base_uri": "https://localhost:8080/"
        },
        "id": "TNbgrPAcpbR5",
        "outputId": "507e65ad-079c-4317-f8c3-1b02d0f734b8"
      },
      "execution_count": null,
      "outputs": [
        {
          "output_type": "stream",
          "name": "stdout",
          "text": [
            "False\n",
            "True\n"
          ]
        }
      ]
    },
    {
      "cell_type": "markdown",
      "source": [
        "## **Example 3: Calculate the Total Cost of items in a Shopping Cart**"
      ],
      "metadata": {
        "id": "eIslZ5yMmgGX"
      }
    },
    {
      "cell_type": "code",
      "source": [
        "def calculate_total_cost(cart):\n",
        "  total_cost = 0\n",
        "  for item in cart:\n",
        "    total_cost+=item['price']* item['quantity']\n",
        "\n",
        "  return total_cost\n",
        "\n",
        "# Example Cart Data\n",
        "cart=[\n",
        "    {'name':'Apple','price':20,'quantity':4},\n",
        "    {'name':'Banana','price':30,'quantity':6},\n",
        "    {'name':'Grapes','price':50,'quantity':3},\n",
        "    {'name':'Kiwi','price':25,'quantity':4},\n",
        "]\n",
        "\n",
        "# Calling the functions\n",
        "total_cost=calculate_total_cost(cart)\n",
        "print(total_cost)"
      ],
      "metadata": {
        "colab": {
          "base_uri": "https://localhost:8080/"
        },
        "id": "_YlCuS38szZ_",
        "outputId": "8dfc5c0a-8fcf-4227-eec8-deaf6e26b52f"
      },
      "execution_count": null,
      "outputs": [
        {
          "output_type": "stream",
          "name": "stdout",
          "text": [
            "510\n"
          ]
        }
      ]
    },
    {
      "cell_type": "markdown",
      "source": [
        "## **Example 4: Check if a string is Palindrome**"
      ],
      "metadata": {
        "id": "amArqkqPmycE"
      }
    },
    {
      "cell_type": "code",
      "source": [
        "def is_palindrome(s):\n",
        "  s=s.lower().replace(\" \",\"\")\n",
        "  return s==s[::-1]\n",
        "\n",
        "print(is_palindrome(\"A man a plan a canal Panama\"))\n",
        "print(is_palindrome(\"Hello\"))"
      ],
      "metadata": {
        "colab": {
          "base_uri": "https://localhost:8080/"
        },
        "id": "Ls9PMY0XugYQ",
        "outputId": "5bdc2828-3eb9-4bfc-c291-1a23300b4e4c"
      },
      "execution_count": null,
      "outputs": [
        {
          "output_type": "stream",
          "name": "stdout",
          "text": [
            "True\n",
            "False\n"
          ]
        }
      ]
    },
    {
      "cell_type": "markdown",
      "source": [
        "## **Example 5: Calculate the factorials of a number using recursion**"
      ],
      "metadata": {
        "id": "eSspDF3snCWq"
      }
    },
    {
      "cell_type": "code",
      "source": [
        "def factorial(n):\n",
        "  if n==0:\n",
        "    return 1\n",
        "  else:\n",
        "    return n*factorial(n-1)\n",
        "\n",
        "number=int(input(\"Enter the number: \"))\n",
        "factorial(number)"
      ],
      "metadata": {
        "colab": {
          "base_uri": "https://localhost:8080/"
        },
        "id": "F4kRbOZRvZN_",
        "outputId": "c2f0d9d6-eeec-4458-b254-7b754d936716"
      },
      "execution_count": null,
      "outputs": [
        {
          "name": "stdout",
          "output_type": "stream",
          "text": [
            "Enter the number: 5\n"
          ]
        },
        {
          "output_type": "execute_result",
          "data": {
            "text/plain": [
              "120"
            ]
          },
          "metadata": {},
          "execution_count": 14
        }
      ]
    },
    {
      "cell_type": "markdown",
      "source": [
        "## **Example 6: A function to read a file and count the frequency of each word**"
      ],
      "metadata": {
        "id": "7dGiywoEnT4p"
      }
    },
    {
      "cell_type": "code",
      "source": [
        "def count_word_frequency(file_path):\n",
        "  word_count={}\n",
        "  with open(file_path,'r') as file:\n",
        "    for line in file:\n",
        "      words=line.split()\n",
        "      for word in words:\n",
        "        word=word.lower().strip('.,!?;:\"\\'')\n",
        "        word_count[word]=word_count.get(word,0)+1\n",
        "\n",
        "  return word_count\n",
        "\n",
        "filepath = 'sample.txt'\n",
        "word_frequency=count_word_frequency(filepath)\n",
        "print(word_frequency)"
      ],
      "metadata": {
        "colab": {
          "base_uri": "https://localhost:8080/"
        },
        "id": "Vwnbk045wDvh",
        "outputId": "e993f8ea-bdd9-4d14-ea23-2cfa7d801734"
      },
      "execution_count": null,
      "outputs": [
        {
          "output_type": "stream",
          "name": "stdout",
          "text": [
            "{'hello': 1, 'shreya': 1, 'how': 1, 'are': 2, 'you': 2, 'fine': 1}\n"
          ]
        }
      ]
    },
    {
      "cell_type": "markdown",
      "source": [
        "## **Example 7: Validate Email Address**"
      ],
      "metadata": {
        "id": "R2O4Kk5QnkR0"
      }
    },
    {
      "cell_type": "code",
      "execution_count": null,
      "metadata": {
        "colab": {
          "base_uri": "https://localhost:8080/"
        },
        "id": "GqXj9PDlbxB4",
        "outputId": "563e8844-6bc9-4969-b17a-7cdb70058a43"
      },
      "outputs": [
        {
          "output_type": "stream",
          "name": "stdout",
          "text": [
            "True\n",
            "False\n"
          ]
        }
      ],
      "source": [
        "import re\n",
        "\n",
        "# Email Validation Function\n",
        "def is_valid_email(email):\n",
        "  pattern = r'^[a-zA-Z0-9_.+-]+@[a-zA-Z0-9-]+\\.[a-zA-Z0-9-.]+$'\n",
        "  return re.match(pattern,email) is not None\n",
        "\n",
        "# Calling the function\n",
        "print(is_valid_email(\"test@example.com\"))\n",
        "print(is_valid_email(\"invalid-email\"))"
      ]
    },
    {
      "cell_type": "code",
      "source": [
        "is_valid_password(\"test.example@gmail.com\")"
      ],
      "metadata": {
        "colab": {
          "base_uri": "https://localhost:8080/"
        },
        "id": "pOUNLyOUzAok",
        "outputId": "b22124fd-48fd-47d7-aab3-a5f1833369a5"
      },
      "execution_count": null,
      "outputs": [
        {
          "output_type": "execute_result",
          "data": {
            "text/plain": [
              "False"
            ]
          },
          "metadata": {},
          "execution_count": 17
        }
      ]
    }
  ]
}