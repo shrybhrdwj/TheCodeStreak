{
 "cells": [
  {
   "cell_type": "raw",
   "id": "c130b4e0-7fd4-4bb2-ab62-811f27db3006",
   "metadata": {},
   "source": [
    "16.Counting digits, letters, and spaces in a string"
   ]
  },
  {
   "cell_type": "code",
   "execution_count": 33,
   "id": "841698b7-4144-4f98-bc70-fb6bc6da2c49",
   "metadata": {},
   "outputs": [
    {
     "name": "stdout",
     "output_type": "stream",
     "text": [
      "1\n",
      "8\n",
      "0\n"
     ]
    }
   ],
   "source": [
    "#importing regular expressions library\n",
    "import re\n",
    "\n",
    "name = 'Python is 1'\n",
    "digitCount = re.sub(\"[^0-9]\",\"\",name)\n",
    "letterCount = re.sub(\"[^a-zA-Z]\",\"\",name)\n",
    "spaceCount = re.findall(r\"\\s]\",name)\n",
    "\n",
    "print(len(digitCount))\n",
    "print(len(letterCount))\n",
    "print(len(spaceCount))"
   ]
  },
  {
   "cell_type": "raw",
   "id": "305da37e-d633-4dd5-9597-2d419119f9c0",
   "metadata": {},
   "source": [
    "17.Counting special characters in a string"
   ]
  },
  {
   "cell_type": "code",
   "execution_count": 37,
   "id": "d377bfa9-d5d7-41ee-b723-51323a689c84",
   "metadata": {},
   "outputs": [
    {
     "name": "stdout",
     "output_type": "stream",
     "text": [
      "4\n"
     ]
    }
   ],
   "source": [
    "def count_sp_char(string):\n",
    "    sp_char = \"!@#$%^&*()<>{}[];:~`?/\\\"\"\n",
    "    count = 0\n",
    "    for i in string:\n",
    "        if i in sp_char:\n",
    "            count+=1\n",
    "    return count\n",
    "\n",
    "text = 'Hello! How are you? #specialchars! 123'\n",
    "result = count_sp_char(text)\n",
    "print(result)"
   ]
  },
  {
   "cell_type": "raw",
   "id": "d78e8973-ad54-4fdd-aa23-f8ff3f972fc6",
   "metadata": {},
   "source": [
    "18.Removing all whitespaces in a string"
   ]
  },
  {
   "cell_type": "code",
   "execution_count": 11,
   "id": "fccf8feb-b366-4c52-b6bf-b330878471a9",
   "metadata": {},
   "outputs": [
    {
     "name": "stdout",
     "output_type": "stream",
     "text": [
      "CODE\n"
     ]
    }
   ],
   "source": [
    "import re\n",
    "\n",
    "string = \"C O D E\"\n",
    "spaces = re.compile(r'\\s+')\n",
    "result = re.sub(spaces,\"\",string)\n",
    "print(result)"
   ]
  },
  {
   "cell_type": "code",
   "execution_count": 13,
   "id": "d77bd099-6df7-4781-ae71-898bce874bc0",
   "metadata": {},
   "outputs": [
    {
     "name": "stdout",
     "output_type": "stream",
     "text": [
      "CODE\n"
     ]
    }
   ],
   "source": [
    "string = \"C O D E\"\n",
    "string2 = \"\".join(char for char in string if char !=\" \")\n",
    "print(string2)"
   ]
  },
  {
   "cell_type": "code",
   "execution_count": 15,
   "id": "fa83577f-4c92-48bb-ba65-9340b8a2d4de",
   "metadata": {},
   "outputs": [
    {
     "name": "stdout",
     "output_type": "stream",
     "text": [
      "CODE\n"
     ]
    }
   ],
   "source": [
    "string = \"C O D E\"\n",
    "string2 = string.replace(\" \",\"\")\n",
    "print(string2)"
   ]
  },
  {
   "cell_type": "raw",
   "id": "72fb175e-d84b-4dcd-ab99-07e2e94524e8",
   "metadata": {},
   "source": [
    "19.Building Pyramid in python"
   ]
  },
  {
   "cell_type": "code",
   "execution_count": 23,
   "id": "e011f125-a4f4-49ca-8143-925ac5a5c556",
   "metadata": {},
   "outputs": [
    {
     "name": "stdout",
     "output_type": "stream",
     "text": [
      "     *\n",
      "    ***\n",
      "   *****\n",
      "  *******\n",
      " *********\n"
     ]
    }
   ],
   "source": [
    "def pyramid(n):\n",
    "    for i in range(n):\n",
    "        for j in range(i,n):\n",
    "            print(\" \",end=\"\")\n",
    "        for j in range(i+1):\n",
    "            print(\"*\",end=\"\")\n",
    "        for j in range(i):\n",
    "            print(\"*\",end=\"\")\n",
    "        print(\"\")\n",
    "pyramid(5)"
   ]
  },
  {
   "cell_type": "code",
   "execution_count": 29,
   "id": "30a1a4db-4820-4482-87bf-d1ac114fd301",
   "metadata": {},
   "outputs": [
    {
     "name": "stdin",
     "output_type": "stream",
     "text": [
      "Enter odd number 9\n"
     ]
    },
    {
     "name": "stdout",
     "output_type": "stream",
     "text": [
      "    *\n",
      "   ***\n",
      "  *****\n",
      " *******\n",
      "*********\n",
      " *******\n",
      "  *****\n",
      "   ***\n",
      "    *\n"
     ]
    }
   ],
   "source": [
    "num = int(input(\"Enter odd number\")) #5\n",
    "cnt = num//2 #2\n",
    "scnt = 1\n",
    "for i in range(cnt+1):\n",
    "    print(cnt*\" \"+\"*\"*scnt)\n",
    "    cnt = cnt-1\n",
    "    scnt = scnt+2\n",
    "scnt = num-2\n",
    "cnt = 1\n",
    "for i in range(num//2):\n",
    "    print(cnt*\" \"+\"*\"*scnt)\n",
    "    scnt = scnt-2\n",
    "    cnt = cnt+1"
   ]
  },
  {
   "cell_type": "raw",
   "id": "c7532a9f-49c8-437d-af6e-d8df99cb0763",
   "metadata": {},
   "source": [
    "20.Randomizing the items of a list in python"
   ]
  },
  {
   "cell_type": "code",
   "execution_count": 27,
   "id": "e69ccc26-7ba4-4d1d-a251-52460ca67f35",
   "metadata": {},
   "outputs": [
    {
     "name": "stdout",
     "output_type": "stream",
     "text": [
      "['is', 'Easy', 'Python']\n"
     ]
    }
   ],
   "source": [
    "from random import shuffle\n",
    "\n",
    "lst = ['Python','is','Easy']\n",
    "shuffle(lst)\n",
    "print(lst)"
   ]
  }
 ],
 "metadata": {
  "kernelspec": {
   "display_name": "Python 3 (ipykernel)",
   "language": "python",
   "name": "python3"
  },
  "language_info": {
   "codemirror_mode": {
    "name": "ipython",
    "version": 3
   },
   "file_extension": ".py",
   "mimetype": "text/x-python",
   "name": "python",
   "nbconvert_exporter": "python",
   "pygments_lexer": "ipython3",
   "version": "3.12.4"
  }
 },
 "nbformat": 4,
 "nbformat_minor": 5
}
