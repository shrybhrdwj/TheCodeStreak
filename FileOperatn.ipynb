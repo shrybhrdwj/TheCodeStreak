{
  "nbformat": 4,
  "nbformat_minor": 0,
  "metadata": {
    "colab": {
      "provenance": [],
      "authorship_tag": "ABX9TyMMrGoOWiUwPbU6wXl4IrOk",
      "include_colab_link": true
    },
    "kernelspec": {
      "name": "python3",
      "display_name": "Python 3"
    },
    "language_info": {
      "name": "python"
    }
  },
  "cells": [
    {
      "cell_type": "markdown",
      "metadata": {
        "id": "view-in-github",
        "colab_type": "text"
      },
      "source": [
        "<a href=\"https://colab.research.google.com/github/shrybhrdwj/TheCodeStreak/blob/main/FileOperatn.ipynb\" target=\"_parent\"><img src=\"https://colab.research.google.com/assets/colab-badge.svg\" alt=\"Open In Colab\"/></a>"
      ]
    },
    {
      "cell_type": "markdown",
      "source": [
        "## **File Operation- Read And Write Files**\n",
        "\n",
        "Python provides built-in functions and methods to read from and write to files, both text and binary.\n"
      ],
      "metadata": {
        "id": "cXBnhfFCX5Yf"
      }
    },
    {
      "cell_type": "code",
      "source": [
        "%%writefile example.txt\n",
        "\n",
        "Hello, How are you ?\n",
        "I am good.\n",
        "Myself Shreya, and I am here to learn Python"
      ],
      "metadata": {
        "colab": {
          "base_uri": "https://localhost:8080/"
        },
        "id": "QG7PtmKGW6E2",
        "outputId": "02b91004-4b5a-4da8-e800-080a4e785396"
      },
      "execution_count": 26,
      "outputs": [
        {
          "output_type": "stream",
          "name": "stdout",
          "text": [
            "Overwriting example.txt\n"
          ]
        }
      ]
    },
    {
      "cell_type": "code",
      "execution_count": 27,
      "metadata": {
        "colab": {
          "base_uri": "https://localhost:8080/"
        },
        "id": "W8yTolpKWu23",
        "outputId": "5903af22-957e-49b4-b978-1c7d185b9872"
      },
      "outputs": [
        {
          "output_type": "stream",
          "name": "stdout",
          "text": [
            "\n",
            "Hello, How are you ?\n",
            "I am good.\n",
            "Myself Shreya, and I am here to learn Python\n",
            "\n"
          ]
        }
      ],
      "source": [
        "# Read a whole file\n",
        "\n",
        "with open('example.txt','r') as file:\n",
        "  content=file.read()\n",
        "  print(content)"
      ]
    },
    {
      "cell_type": "code",
      "source": [
        "# Read a file line by line\n",
        "\n",
        "with open('example.txt','r') as file:\n",
        "  for line in file:\n",
        "    print(line.strip())  # strip() removes the newline character"
      ],
      "metadata": {
        "colab": {
          "base_uri": "https://localhost:8080/"
        },
        "id": "ids1gLpvYFpj",
        "outputId": "724f244f-e95a-4152-8040-b6e6d696fec3"
      },
      "execution_count": 28,
      "outputs": [
        {
          "output_type": "stream",
          "name": "stdout",
          "text": [
            "\n",
            "Hello, How are you ?\n",
            "I am good.\n",
            "Myself Shreya, and I am here to learn Python\n"
          ]
        }
      ]
    },
    {
      "cell_type": "code",
      "source": [
        "# Writing a File(Overwriting)\n",
        "\n",
        "with open('example.txt','a') as file:\n",
        "  file.write('Hello World!\\n')\n",
        "  file.write('this is new line.')"
      ],
      "metadata": {
        "id": "gP-da6jWYgyy"
      },
      "execution_count": 29,
      "outputs": []
    },
    {
      "cell_type": "code",
      "source": [
        "# Writing a file (Without Overwriting)\n",
        "\n",
        "with open('example.txt','a') as file:\n",
        "  file.write(\"Append operation taking place!\\n\")"
      ],
      "metadata": {
        "id": "aB4wlU98ZCUM"
      },
      "execution_count": 30,
      "outputs": []
    },
    {
      "cell_type": "code",
      "source": [
        "# Writing a list of lines to a file\n",
        "\n",
        "lines = ['First line \\n','Second line \\n', 'Third line\\n']\n",
        "with open('example.txt','a') as file:\n",
        "  file.writelines(lines)"
      ],
      "metadata": {
        "id": "hUFJeH8eZaAc"
      },
      "execution_count": 31,
      "outputs": []
    },
    {
      "cell_type": "markdown",
      "source": [
        "### **Binary Files**"
      ],
      "metadata": {
        "id": "An1xpc-YZ4pQ"
      }
    },
    {
      "cell_type": "code",
      "source": [
        "%%writefile example.bin\n",
        "\n",
        "Hello World!"
      ],
      "metadata": {
        "colab": {
          "base_uri": "https://localhost:8080/"
        },
        "id": "5z8MAAc3eiR5",
        "outputId": "6745c941-003c-47ef-906f-b2ca1bd22bcd"
      },
      "execution_count": 32,
      "outputs": [
        {
          "output_type": "stream",
          "name": "stdout",
          "text": [
            "Overwriting example.bin\n"
          ]
        }
      ]
    },
    {
      "cell_type": "code",
      "source": [
        "# Writing to a binary file\n",
        "data = b'\\x00\\x01\\x02\\x03\\x04'\n",
        "with open('example.bin','wb') as file:\n",
        "  file.write(data)"
      ],
      "metadata": {
        "id": "uLATQ4K7Z8mk"
      },
      "execution_count": 33,
      "outputs": []
    },
    {
      "cell_type": "code",
      "source": [
        "# Reading a binary file\n",
        "\n",
        "with open('example.bin','rb') as file:\n",
        "  content = file.read()\n",
        "  print(content)"
      ],
      "metadata": {
        "colab": {
          "base_uri": "https://localhost:8080/"
        },
        "id": "LMYnLIH_e-Ps",
        "outputId": "37ce48b8-4a2a-4bab-d956-4b2de355add2"
      },
      "execution_count": 34,
      "outputs": [
        {
          "output_type": "stream",
          "name": "stdout",
          "text": [
            "b'\\x00\\x01\\x02\\x03\\x04'\n"
          ]
        }
      ]
    },
    {
      "cell_type": "code",
      "source": [
        "# Read the content froma  source text fiile and write to a destination text file\n",
        "# Copying a text file\n",
        "\n",
        "with open('example.txt','r') as source_file:\n",
        "  content = source_file.read()\n",
        "\n",
        "with open('destination.txt','w') as destination_file:\n",
        "  destination_file.write(content)"
      ],
      "metadata": {
        "id": "tbsCkQAMfXL2"
      },
      "execution_count": 35,
      "outputs": []
    },
    {
      "cell_type": "code",
      "source": [
        "# Read a text file and count the number of lines, words, and characters.\n",
        "# Counting lines, words, and characters in a text file\n",
        "\n",
        "def count_text_file(file_path):\n",
        "  with open(file_path,'r') as file:\n",
        "    lines = file.readlines()\n",
        "    line_count=len(lines)\n",
        "    word_count = sum(len(line.split()) for line in lines)\n",
        "    char_count = sum(len(line) for line in lines)\n",
        "  return line_count,word_count,char_count\n",
        "\n",
        "file_path='example.txt'\n",
        "lines,words,characters = count_text_file(file_path)\n",
        "print(f'Lines:{lines}, Words:{words}, Characters:{characters}')"
      ],
      "metadata": {
        "colab": {
          "base_uri": "https://localhost:8080/"
        },
        "id": "FN5PpLhFbYec",
        "outputId": "8b3f4015-b42b-4105-a465-2b8d5ece6609"
      },
      "execution_count": 36,
      "outputs": [
        {
          "output_type": "stream",
          "name": "stdout",
          "text": [
            "Lines:9, Words:32, Characters:175\n"
          ]
        }
      ]
    },
    {
      "cell_type": "markdown",
      "source": [
        "The w+ mode in Python is used to open a file for both reading and writing. If the file does not exist, it will be created. If the file exists, its content is truncated (i.e., the file is overwritten)."
      ],
      "metadata": {
        "id": "VqU_ICj8apMW"
      }
    },
    {
      "cell_type": "code",
      "source": [
        "# Writing and then reading a file\n",
        "\n",
        "with open('example.txt','w+') as file:\n",
        "  file.write('Hello World!\\n')\n",
        "  file.write('This is a new line\\n')\n",
        "\n",
        "  #Move the file cursor to the beginning\n",
        "  file.seek(0)\n",
        "\n",
        "  # Read the content of the file\n",
        "  content=file.read()\n",
        "  print(content)"
      ],
      "metadata": {
        "colab": {
          "base_uri": "https://localhost:8080/"
        },
        "id": "DMgKu_7caqXS",
        "outputId": "e7f0d70c-53d6-4001-c1e5-8f99d1dd9c97"
      },
      "execution_count": 37,
      "outputs": [
        {
          "output_type": "stream",
          "name": "stdout",
          "text": [
            "Hello World!\n",
            "This is a new line\n",
            "\n"
          ]
        }
      ]
    }
  ]
}