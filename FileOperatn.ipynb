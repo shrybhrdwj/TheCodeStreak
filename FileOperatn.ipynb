{
  "nbformat": 4,
  "nbformat_minor": 0,
  "metadata": {
    "colab": {
      "provenance": [],
      "authorship_tag": "ABX9TyMadDjm7oI8baldt2mLY7Tg",
      "include_colab_link": true
    },
    "kernelspec": {
      "name": "python3",
      "display_name": "Python 3"
    },
    "language_info": {
      "name": "python"
    }
  },
  "cells": [
    {
      "cell_type": "markdown",
      "metadata": {
        "id": "view-in-github",
        "colab_type": "text"
      },
      "source": [
        "<a href=\"https://colab.research.google.com/github/shrybhrdwj/TheCodeStreak/blob/main/FileOperatn.ipynb\" target=\"_parent\"><img src=\"https://colab.research.google.com/assets/colab-badge.svg\" alt=\"Open In Colab\"/></a>"
      ]
    },
    {
      "cell_type": "markdown",
      "source": [
        "## **File Operation- Read And Write Files**\n",
        "\n",
        "Python provides built-in functions and methods to read from and write to files, both text and binary.\n"
      ],
      "metadata": {
        "id": "cXBnhfFCX5Yf"
      }
    },
    {
      "cell_type": "code",
      "source": [
        "%%writefile example.txt\n",
        "\n",
        "Hello, How are you ?\n",
        "I am good.\n",
        "Myself Shreya, and I am here to learn Python"
      ],
      "metadata": {
        "colab": {
          "base_uri": "https://localhost:8080/"
        },
        "id": "QG7PtmKGW6E2",
        "outputId": "151c0813-f979-4e35-e8c2-5b6054e29665"
      },
      "execution_count": 1,
      "outputs": [
        {
          "output_type": "stream",
          "name": "stdout",
          "text": [
            "Writing example.txt\n"
          ]
        }
      ]
    },
    {
      "cell_type": "code",
      "execution_count": 2,
      "metadata": {
        "colab": {
          "base_uri": "https://localhost:8080/"
        },
        "id": "W8yTolpKWu23",
        "outputId": "4f886e91-c6a1-4403-ca37-40d7150f382f"
      },
      "outputs": [
        {
          "output_type": "stream",
          "name": "stdout",
          "text": [
            "\n",
            "Hello, How are you ?\n",
            "I am good.\n",
            "Myself Shreya, and I am here to learn Python\n",
            "\n"
          ]
        }
      ],
      "source": [
        "# Read a whole file\n",
        "\n",
        "with open('example.txt','r') as file:\n",
        "  content=file.read()\n",
        "  print(content)"
      ]
    },
    {
      "cell_type": "code",
      "source": [
        "# Read a file line by line\n",
        "\n",
        "with open('example.txt','r') as file:\n",
        "  for line in file:\n",
        "    print(line.strip())  # strip() removes the newline character"
      ],
      "metadata": {
        "colab": {
          "base_uri": "https://localhost:8080/"
        },
        "id": "ids1gLpvYFpj",
        "outputId": "6dd9235c-cc05-4ebd-b4a5-f402922b7fbf"
      },
      "execution_count": 3,
      "outputs": [
        {
          "output_type": "stream",
          "name": "stdout",
          "text": [
            "\n",
            "Hello, How are you ?\n",
            "I am good.\n",
            "Myself Shreya, and I am here to learn Python\n"
          ]
        }
      ]
    },
    {
      "cell_type": "code",
      "source": [
        "# Writing a File(Overwriting)\n",
        "\n",
        "with open('example.txt','a') as file:\n",
        "  file.write('Hello World!\\n')\n",
        "  file.write('this is new line.')"
      ],
      "metadata": {
        "id": "gP-da6jWYgyy"
      },
      "execution_count": 4,
      "outputs": []
    },
    {
      "cell_type": "code",
      "source": [
        "# Writing a file (Without Overwriting)\n",
        "\n",
        "with open('example.txt','a') as file:\n",
        "  file.write(\"Append operation taking place!\\n\")"
      ],
      "metadata": {
        "id": "aB4wlU98ZCUM"
      },
      "execution_count": 5,
      "outputs": []
    },
    {
      "cell_type": "code",
      "source": [
        "# Writing a list of lines to a file\n",
        "\n",
        "lines = ['First line \\n','Second line \\n', 'Third line\\n']\n",
        "with open('example.txt','a') as file:\n",
        "  file.writelines(lines)"
      ],
      "metadata": {
        "id": "hUFJeH8eZaAc"
      },
      "execution_count": 6,
      "outputs": []
    },
    {
      "cell_type": "markdown",
      "source": [
        "### **Binary Files**"
      ],
      "metadata": {
        "id": "An1xpc-YZ4pQ"
      }
    },
    {
      "cell_type": "code",
      "source": [
        "# Writing to a binary file\n",
        "data = b"
      ],
      "metadata": {
        "id": "uLATQ4K7Z8mk"
      },
      "execution_count": null,
      "outputs": []
    }
  ]
}