{
  "nbformat": 4,
  "nbformat_minor": 0,
  "metadata": {
    "colab": {
      "provenance": [],
      "authorship_tag": "ABX9TyMpPjKdrEcXbd3Oh5KPa1i1",
      "include_colab_link": true
    },
    "kernelspec": {
      "name": "python3",
      "display_name": "Python 3"
    },
    "language_info": {
      "name": "python"
    }
  },
  "cells": [
    {
      "cell_type": "markdown",
      "metadata": {
        "id": "view-in-github",
        "colab_type": "text"
      },
      "source": [
        "<a href=\"https://colab.research.google.com/github/shrybhrdwj/TheCodeStreak/blob/main/OperatorOverloading.ipynb\" target=\"_parent\"><img src=\"https://colab.research.google.com/assets/colab-badge.svg\" alt=\"Open In Colab\"/></a>"
      ]
    },
    {
      "cell_type": "markdown",
      "source": [
        "## Operator Overloading\n",
        "Operator overloading allows you to define the behavior of operators (+, -, *, etc.) for custom objects. You achieve this by overriding specific magic methods in your class."
      ],
      "metadata": {
        "id": "yzs85qyIwh-o"
      }
    },
    {
      "cell_type": "code",
      "execution_count": null,
      "metadata": {
        "colab": {
          "base_uri": "https://localhost:8080/",
          "height": 122
        },
        "id": "G_6-N-_PwUKu",
        "outputId": "f0289c00-43a3-4f26-aaa8-6a5709da0c45"
      },
      "outputs": [
        {
          "output_type": "execute_result",
          "data": {
            "text/plain": [
              "'\\n__add__(self, other): Adds two objects using the + operator.\\n__sub__(self, other): Subtracts two objects using the - operator.\\n__mul__(self, other): Multiplies two objects using the * operator.\\n__truediv__(self, other): Divides two objects using the / operator.\\n__eq__(self, other): Checks if two objects are equal using the == operator.\\n__lt__(self, other): Checks if one object is less than another using the < operator.\\n\\n__gt__\\n'"
            ],
            "application/vnd.google.colaboratory.intrinsic+json": {
              "type": "string"
            }
          },
          "metadata": {},
          "execution_count": 1
        }
      ],
      "source": [
        "# Common Operator Overloading Magic Methods\n",
        "'''\n",
        "__add__(self, other): Adds two objects using the + operator.\n",
        "__sub__(self, other): Subtracts two objects using the - operator.\n",
        "__mul__(self, other): Multiplies two objects using the * operator.\n",
        "__truediv__(self, other): Divides two objects using the / operator.\n",
        "__eq__(self, other): Checks if two objects are equal using the == operator.\n",
        "__lt__(self, other): Checks if one object is less than another using the < operator.\n",
        "\n",
        "__gt__\n",
        "'''"
      ]
    },
    {
      "cell_type": "code",
      "source": [
        "# MAthematical Operation for vectors\n",
        "\n",
        "class Vector:\n",
        "  def __init__(self,x,y):\n",
        "    self.x=x\n",
        "    self.y=y\n",
        "\n",
        "  def __add__(self,other):\n",
        "    return Vector(self.x + other.x,self.y + other.y)\n",
        "\n",
        "  def __sub__(self,other):\n",
        "    return Vector(self.x - other.x,self.y - other.y)\n",
        "\n",
        "  def __mul__(self,other):\n",
        "    return Vector(self.x * other,self.y * other)\n",
        "\n",
        "  def __eq__(self,other):\n",
        "    return Vector(self.x == other.x,self.y == other.y)\n",
        "\n",
        "  def __repr__(self):\n",
        "    return f\"Vector({self.x}, {self.y})\"\n",
        "\n",
        "# Create objects of the Vector Class\n",
        "v1=Vector(2,3)\n",
        "v2=Vector(4,5)\n",
        "\n",
        "print(v1+v2)\n",
        "print(v1-v2)\n",
        "print(v1*3)"
      ],
      "metadata": {
        "colab": {
          "base_uri": "https://localhost:8080/"
        },
        "id": "Dh1NcmyFwqGT",
        "outputId": "9790c45a-bdf9-4c85-c605-6e7b8aa19bc0"
      },
      "execution_count": null,
      "outputs": [
        {
          "output_type": "stream",
          "name": "stdout",
          "text": [
            "Vector(6, 8)\n",
            "Vector(-2, -2)\n",
            "Vector(6, 9)\n"
          ]
        }
      ]
    },
    {
      "cell_type": "code",
      "source": [
        "# Overloading Operators for Complex Numbers\n",
        "\n",
        "class ComplexNumber:\n",
        "  def __init__(self,real,imag):\n",
        "    self.real=real\n",
        "    self.imag=imag\n",
        "\n",
        "  def __add__(self,other):\n",
        "    return ComplexNumber(self.real + other.real, self.imag + self.imag)\n",
        "\n",
        "  def __sub__(self,other):\n",
        "    return ComplexNumber(self.real - other.real, self.imag - self.imag)\n",
        "\n",
        "  def __mul__(self,other):\n",
        "    real_part = self.real * other.real - self.imag * other.imag\n",
        "    imag_part = self.real * other.imag + self.imag * other.real\n",
        "    return ComplexNumber(real_part, imag_part)\n",
        "\n",
        "  def __truediv__(self,other):\n",
        "    denominator = other.real**2 + other.imag**2\n",
        "    real_part = (self.real * other.real + self.imag * other.imag) / denominator\n",
        "    imag_part = (self.imag * other.real - self.real * other.imag) / denominator\n",
        "    return ComplexNumber(real_part, imag_part)\n",
        "\n",
        "  def __eq__(self,other):\n",
        "    return self.real == other.real and self.imag == other.imag_part\n",
        "\n",
        "  def __repr__(self):\n",
        "    return f\"{self.real} + {self.imag}i\"\n",
        "\n",
        "# Create objects of the ComplexNumber class\n",
        "c1= ComplexNumber(2,3)\n",
        "c2 = ComplexNumber(1,4)\n",
        "\n",
        "# Use overloaded operators\n",
        "print(c1 + c2)\n",
        "print(c1 - c2)\n",
        "print(c1 * c2)\n",
        "print(c1 / c2)\n",
        "print(c1 == c2)"
      ],
      "metadata": {
        "id": "FhleLOBm2wc6",
        "colab": {
          "base_uri": "https://localhost:8080/"
        },
        "outputId": "da8d302d-348f-42b2-e4af-ae604643ece5"
      },
      "execution_count": 3,
      "outputs": [
        {
          "output_type": "stream",
          "name": "stdout",
          "text": [
            "3 + 6i\n",
            "1 + 0i\n",
            "-10 + 11i\n",
            "0.8235294117647058 + -0.29411764705882354i\n",
            "False\n"
          ]
        }
      ]
    }
  ]
}