{
  "nbformat": 4,
  "nbformat_minor": 0,
  "metadata": {
    "colab": {
      "provenance": [],
      "collapsed_sections": [
        "8OJJorYFJQtZ",
        "S8luT-YyR7Nr",
        "Bl_KuPFHcCxD",
        "mo0x8MCqDHhF",
        "HD6kmr9VDsxe",
        "untlyHtTDlrc",
        "BRRE71I8DOE5",
        "qwEoVpR-C1Ts",
        "YBO_Vv5sDobt",
        "vqHCu9tRDBRN",
        "nyISE9j0DacV"
      ],
      "authorship_tag": "ABX9TyPiS+BIIhI6x6N9X4P/P0NH",
      "include_colab_link": true
    },
    "kernelspec": {
      "name": "python3",
      "display_name": "Python 3"
    },
    "language_info": {
      "name": "python"
    }
  },
  "cells": [
    {
      "cell_type": "markdown",
      "metadata": {
        "id": "view-in-github",
        "colab_type": "text"
      },
      "source": [
        "<a href=\"https://colab.research.google.com/github/shrybhrdwj/TheCodeStreak/blob/main/Dictionary_Method.ipynb\" target=\"_parent\"><img src=\"https://colab.research.google.com/assets/colab-badge.svg\" alt=\"Open In Colab\"/></a>"
      ]
    },
    {
      "cell_type": "markdown",
      "source": [
        "## **Dictionary Method**\n",
        "\n",
        "1. pop():\tRemoves the item with the specified key.\n",
        "2. update():\tAdds or changes dictionary items.\n",
        "3. clear():\tRemove all the items from the dictionary.\n",
        "4. keys():\tReturns all the dictionary's keys.\n",
        "5. values():\tReturns all the dictionary's values.\n",
        "6. get()\tReturns the value of the specified key.\n",
        "7. popitem()\tReturns the last inserted key and value as a tuple.\n",
        "8. copy()\tReturns a copy of the dictionary."
      ],
      "metadata": {
        "id": "QhOB-zZ1ChvG"
      }
    },
    {
      "cell_type": "markdown",
      "source": [
        "### **Dictionary fromkeys():**\n",
        "* The fromkeys() method creates a dictionary from the given sequence of keys and values."
      ],
      "metadata": {
        "id": "8OJJorYFJQtZ"
      }
    },
    {
      "cell_type": "code",
      "source": [
        "#set of vowels\n",
        "keys={'a','e','i','o','u'}\n",
        "\n",
        "# assign string as a value\n",
        "value='vowel'\n",
        "\n",
        "# creates a dictionary with keys and values\n",
        "vowels=dict.fromkeys(keys,value)\n",
        "print(vowels)"
      ],
      "metadata": {
        "colab": {
          "base_uri": "https://localhost:8080/"
        },
        "id": "YE6Ci5wmJcVj",
        "outputId": "6fc0c1d4-b006-418c-cf49-cfd03d1f0b06"
      },
      "execution_count": 4,
      "outputs": [
        {
          "output_type": "stream",
          "name": "stdout",
          "text": [
            "{'i': 'vowel', 'u': 'vowel', 'a': 'vowel', 'e': 'vowel', 'o': 'vowel'}\n"
          ]
        }
      ]
    },
    {
      "cell_type": "code",
      "source": [
        "keys={1,2,3,4}\n",
        "\n",
        "numbers=dict.fromkeys(keys)\n",
        "print(numbers)"
      ],
      "metadata": {
        "colab": {
          "base_uri": "https://localhost:8080/"
        },
        "id": "BeyI7JfVJpFE",
        "outputId": "9f5144c3-bfaa-4970-e3f3-5c77198e3e60"
      },
      "execution_count": 5,
      "outputs": [
        {
          "output_type": "stream",
          "name": "stdout",
          "text": [
            "{1: None, 2: None, 3: None, 4: None}\n"
          ]
        }
      ]
    },
    {
      "cell_type": "code",
      "source": [
        "keys={'a','e','i','o','u'}\n",
        "value=[1]\n",
        "\n",
        "vowels=dict.fromkeys(keys,value)\n",
        "print(vowels)\n",
        "\n",
        "#update the value\n",
        "value.append(2)\n",
        "print(vowels)"
      ],
      "metadata": {
        "colab": {
          "base_uri": "https://localhost:8080/"
        },
        "id": "vgAYEuLVL_FV",
        "outputId": "7d55bcad-2106-4846-ce07-0e1a869a2d38"
      },
      "execution_count": 6,
      "outputs": [
        {
          "output_type": "stream",
          "name": "stdout",
          "text": [
            "{'i': [1], 'u': [1], 'a': [1], 'e': [1], 'o': [1]}\n",
            "{'i': [1, 2], 'u': [1, 2], 'a': [1, 2], 'e': [1, 2], 'o': [1, 2]}\n"
          ]
        }
      ]
    },
    {
      "cell_type": "code",
      "source": [
        "keys = {'a', 'e', 'i', 'o', 'u' }\n",
        "value = [1]\n",
        "\n",
        "# creates dictionary using dictionary comprehension\n",
        "vowels = { key : list(value) for key in keys }\n",
        "print(vowels)\n",
        "\n",
        "# updates the value list\n",
        "value.append(2)\n",
        "print(vowels)"
      ],
      "metadata": {
        "colab": {
          "base_uri": "https://localhost:8080/"
        },
        "id": "pq4UhRvuMGct",
        "outputId": "140b899c-f5fb-4237-ece8-2837cd8d354d"
      },
      "execution_count": 7,
      "outputs": [
        {
          "output_type": "stream",
          "name": "stdout",
          "text": [
            "{'i': [1], 'u': [1], 'a': [1], 'e': [1], 'o': [1]}\n",
            "{'i': [1], 'u': [1], 'a': [1], 'e': [1], 'o': [1]}\n"
          ]
        }
      ]
    },
    {
      "cell_type": "markdown",
      "source": [
        "### **items():**\n",
        "* The items() method returns a view object that displays a list of dictionary's (key, value) tuple pairs."
      ],
      "metadata": {
        "id": "S8luT-YyR7Nr"
      }
    },
    {
      "cell_type": "code",
      "source": [
        "# random sales dictionary\n",
        "sales = { 'apple': 2, 'orange': 3, 'grapes': 4 }\n",
        "\n",
        "print(sales.items())"
      ],
      "metadata": {
        "colab": {
          "base_uri": "https://localhost:8080/"
        },
        "id": "gJAHS_ssTDm3",
        "outputId": "a8f0e37d-716e-46db-acb2-4890ec965b00"
      },
      "execution_count": 13,
      "outputs": [
        {
          "output_type": "stream",
          "name": "stdout",
          "text": [
            "dict_items([('apple', 2), ('orange', 3), ('grapes', 4)])\n"
          ]
        }
      ]
    },
    {
      "cell_type": "code",
      "source": [
        "# random sales dictionary\n",
        "sales = { 'apple': 2, 'orange': 3, 'grapes': 4 }\n",
        "\n",
        "items = sales.items()\n",
        "\n",
        "print('Original items:', items)\n",
        "\n",
        "# delete an item from dictionary\n",
        "del[sales['apple']]\n",
        "\n",
        "print('Updated items:', items)"
      ],
      "metadata": {
        "colab": {
          "base_uri": "https://localhost:8080/"
        },
        "id": "0Y7nc2mESPBL",
        "outputId": "3afac1d5-954f-4ffc-aa35-17cb8031a0ae"
      },
      "execution_count": 14,
      "outputs": [
        {
          "output_type": "stream",
          "name": "stdout",
          "text": [
            "Original items: dict_items([('apple', 2), ('orange', 3), ('grapes', 4)])\n",
            "Updated items: dict_items([('orange', 3), ('grapes', 4)])\n"
          ]
        }
      ]
    },
    {
      "cell_type": "markdown",
      "source": [
        "### Dictionary setdefault()\n",
        "The syntax of setdefault() is:\n",
        "\n",
        "     dict.setdefault(key[, default_value])\n",
        "\n",
        "**setdefault() takes a maximum of two parameters:**\n",
        "\n",
        "* key - the key to be searched in the dictionary\n",
        "* default_value (optional) - key with a value default_value is inserted to the dictionary if the key is not in the dictionary.\n",
        "* If not provided, the default_value will be None."
      ],
      "metadata": {
        "id": "Bl_KuPFHcCxD"
      }
    },
    {
      "cell_type": "code",
      "source": [
        "person = {'name': 'Shreya', 'age': 21}\n",
        "\n",
        "age = person.setdefault('age')\n",
        "print('person = ',person)\n",
        "print('Age = ',age)"
      ],
      "metadata": {
        "colab": {
          "base_uri": "https://localhost:8080/"
        },
        "id": "-Ed6KVWPc8j1",
        "outputId": "6ce6de6e-1739-4eb9-f60f-8027f1f24df9"
      },
      "execution_count": 30,
      "outputs": [
        {
          "output_type": "stream",
          "name": "stdout",
          "text": [
            "person =  {'name': 'Shreya', 'age': 21}\n",
            "Age =  21\n"
          ]
        }
      ]
    },
    {
      "cell_type": "code",
      "source": [
        "person = {'name':'Shreya','age':21}\n",
        "\n",
        "print(f'Person before update: {person}')\n",
        "salary=person.setdefault('Salary')\n",
        "print(f'Person = {person}')\n",
        "print(f'Salary: {salary}')\n",
        "\n",
        "profession=person.setdefault('profession','Engineer')\n",
        "print(f'Person = {person}')\n",
        "print(f'Profession: {profession}')"
      ],
      "metadata": {
        "colab": {
          "base_uri": "https://localhost:8080/"
        },
        "id": "_jTlnRSEdbAB",
        "outputId": "8ff3ba0a-937b-40d5-cc6f-0c1799c3a1fa"
      },
      "execution_count": 32,
      "outputs": [
        {
          "output_type": "stream",
          "name": "stdout",
          "text": [
            "Person before update: {'name': 'Shreya', 'age': 21}\n",
            "Person = {'name': 'Shreya', 'age': 21, 'Salary': None}\n",
            "Salary: None\n",
            "Person = {'name': 'Shreya', 'age': 21, 'Salary': None, 'profession': 'Engineer'}\n",
            "Profession: Engineer\n"
          ]
        }
      ]
    },
    {
      "cell_type": "markdown",
      "source": [
        "### **1. clear() method**"
      ],
      "metadata": {
        "id": "mo0x8MCqDHhF"
      }
    },
    {
      "cell_type": "code",
      "source": [
        "cityTemperature={'New York': 18, 'Russia': 9}\n",
        "\n",
        "print(f'Dictionary before clear(): {cityTemperature}')\n",
        "\n",
        "cityTemperature.clear()\n",
        "print(f'Dictionary after clear(): {cityTemperature}')"
      ],
      "metadata": {
        "colab": {
          "base_uri": "https://localhost:8080/"
        },
        "id": "s7-TgdZ6EOnc",
        "outputId": "645cdfc7-d12a-4420-ec48-b99544bbfc8a"
      },
      "execution_count": 1,
      "outputs": [
        {
          "output_type": "stream",
          "name": "stdout",
          "text": [
            "Dictionary before clear(): {'New York': 18, 'Russia': 9}\n",
            "Dictionary after clear(): {}\n"
          ]
        }
      ]
    },
    {
      "cell_type": "markdown",
      "source": [
        "### **2. copy() method**"
      ],
      "metadata": {
        "id": "HD6kmr9VDsxe"
      }
    },
    {
      "cell_type": "code",
      "source": [
        "Original_marks={'Physics':80, 'Maths':60}\n",
        "Copied_marks=Original_marks.copy()\n",
        "\n",
        "print(f'Original Marks= {Original_marks}')\n",
        "print(f'Copied Marks= {Copied_marks}')"
      ],
      "metadata": {
        "colab": {
          "base_uri": "https://localhost:8080/"
        },
        "id": "Ytir9PaJH1vM",
        "outputId": "7e41cc21-4432-44bc-d54b-7593a772f4ee"
      },
      "execution_count": 2,
      "outputs": [
        {
          "output_type": "stream",
          "name": "stdout",
          "text": [
            "Original Marks= {'Physics': 80, 'Maths': 60}\n",
            "Copied Marks= {'Physics': 80, 'Maths': 60}\n"
          ]
        }
      ]
    },
    {
      "cell_type": "code",
      "source": [
        "Original_marks={'Physics':80, 'Maths':60}\n",
        "Copied_marks=Original_marks.copy()\n",
        "Original_marks.clear()\n",
        "\n",
        "print(f'Original Marks= {Original_marks}')\n",
        "print(f'Copied Marks= {Copied_marks}')"
      ],
      "metadata": {
        "colab": {
          "base_uri": "https://localhost:8080/"
        },
        "id": "hBKC4wGCIcl9",
        "outputId": "ff75373f-d1a5-4996-8973-462df0606d17"
      },
      "execution_count": 3,
      "outputs": [
        {
          "output_type": "stream",
          "name": "stdout",
          "text": [
            "Original Marks= {}\n",
            "Copied Marks= {'Physics': 80, 'Maths': 60}\n"
          ]
        }
      ]
    },
    {
      "cell_type": "code",
      "source": [
        "#Using = Operator to Copy Dictionaries\n",
        "\n",
        "original = {1:'one', 2:'two'}\n",
        "new = original\n",
        "\n",
        "# removing all elements from the list\n",
        "# when the new dictionary is cleared, the original dictionary is also cleared.\n",
        "original.clear()\n",
        "\n",
        "print('new: ', new)\n",
        "print('original: ', original)"
      ],
      "metadata": {
        "colab": {
          "base_uri": "https://localhost:8080/"
        },
        "id": "DKYrAL0aRPJM",
        "outputId": "b573298e-921d-4465-db01-da1c12bac37a"
      },
      "execution_count": 12,
      "outputs": [
        {
          "output_type": "stream",
          "name": "stdout",
          "text": [
            "new:  {}\n",
            "original:  {}\n"
          ]
        }
      ]
    },
    {
      "cell_type": "markdown",
      "source": [
        "### **3. get() method**\n",
        "The syntax of get() is:\n",
        "    \n",
        "             dict.get(key,value)\n",
        "\n",
        "\n",
        "* key - key to be searched in the dictionary.\n",
        "* value (optional) - Value to be returned if the key is not found. The default value is None."
      ],
      "metadata": {
        "id": "untlyHtTDlrc"
      }
    },
    {
      "cell_type": "code",
      "source": [
        "info={'Name':'Shreya','Age': 21}\n",
        "print(f\"Name: {info.get('Name')}\")\n",
        "print(f\"Age: {info.get('Age')}\")\n",
        "\n",
        "#Value is not provided\n",
        "print(f\"Salary: {info.get('Salary')}\")\n",
        "\n",
        "#Value is provided inside the parameter\n",
        "print(f\"Salary: {info.get('Salary',0)}\")"
      ],
      "metadata": {
        "colab": {
          "base_uri": "https://localhost:8080/"
        },
        "id": "p0WF6YzcNynz",
        "outputId": "4e0cb04c-ff24-4ea3-fdb6-d646a1aabd42"
      },
      "execution_count": 8,
      "outputs": [
        {
          "output_type": "stream",
          "name": "stdout",
          "text": [
            "Name: Shreya\n",
            "Age: 21\n",
            "Salary: None\n",
            "Salary: 0\n"
          ]
        }
      ]
    },
    {
      "cell_type": "code",
      "source": [
        "person = {}\n",
        "\n",
        "# Using get() results in None\n",
        "print('Salary: ', person.get('salary'))\n",
        "\n",
        "\n",
        "# Using [] results in KeyError\n",
        "print(person['salary'])"
      ],
      "metadata": {
        "colab": {
          "base_uri": "https://localhost:8080/",
          "height": 193
        },
        "id": "lmdiaNHmQv-7",
        "outputId": "a3b7e0d6-1376-4ffe-a19a-d92655a3021f"
      },
      "execution_count": 9,
      "outputs": [
        {
          "output_type": "stream",
          "name": "stdout",
          "text": [
            "Salary:  None\n"
          ]
        },
        {
          "output_type": "error",
          "ename": "KeyError",
          "evalue": "'salary'",
          "traceback": [
            "\u001b[0;31m---------------------------------------------------------------------------\u001b[0m",
            "\u001b[0;31mKeyError\u001b[0m                                  Traceback (most recent call last)",
            "\u001b[0;32m/tmp/ipython-input-9-629314538.py\u001b[0m in \u001b[0;36m<cell line: 0>\u001b[0;34m()\u001b[0m\n\u001b[1;32m      6\u001b[0m \u001b[0;34m\u001b[0m\u001b[0m\n\u001b[1;32m      7\u001b[0m \u001b[0;31m# Using [] results in KeyError\u001b[0m\u001b[0;34m\u001b[0m\u001b[0;34m\u001b[0m\u001b[0m\n\u001b[0;32m----> 8\u001b[0;31m \u001b[0mprint\u001b[0m\u001b[0;34m(\u001b[0m\u001b[0mperson\u001b[0m\u001b[0;34m[\u001b[0m\u001b[0;34m'salary'\u001b[0m\u001b[0;34m]\u001b[0m\u001b[0;34m)\u001b[0m\u001b[0;34m\u001b[0m\u001b[0;34m\u001b[0m\u001b[0m\n\u001b[0m",
            "\u001b[0;31mKeyError\u001b[0m: 'salary'"
          ]
        }
      ]
    },
    {
      "cell_type": "markdown",
      "source": [
        "### **4. keys() method**"
      ],
      "metadata": {
        "id": "BRRE71I8DOE5"
      }
    },
    {
      "cell_type": "code",
      "source": [
        "employee = {'name': 'shreya', 'age': 21, 'salary': 3500.0}\n",
        "\n",
        "# extract the keys of the dictionary\n",
        "dictionaryKeys=employee.keys()\n",
        "print(dictionaryKeys)"
      ],
      "metadata": {
        "colab": {
          "base_uri": "https://localhost:8080/"
        },
        "id": "9Hkka7slQ3wa",
        "outputId": "b7d3b03c-e966-4570-d7ed-29642e15afac"
      },
      "execution_count": 15,
      "outputs": [
        {
          "output_type": "stream",
          "name": "stdout",
          "text": [
            "dict_keys(['name', 'age', 'salary'])\n"
          ]
        }
      ]
    },
    {
      "cell_type": "code",
      "source": [
        "employee={'name': 'Shreya', 'age':21}\n",
        "\n",
        "dictionaryKeys=employee.keys()\n",
        "print(f\"Before Update:{dictionaryKeys}\")\n",
        "\n",
        "employee.update({'salary':0})\n",
        "print(f\"After Update: {dictionaryKeys}\")"
      ],
      "metadata": {
        "colab": {
          "base_uri": "https://localhost:8080/"
        },
        "id": "X_Ai41zFUoqt",
        "outputId": "5b3a77c9-481b-47cb-93f3-4244584e29dc"
      },
      "execution_count": 16,
      "outputs": [
        {
          "output_type": "stream",
          "name": "stdout",
          "text": [
            "Before Update:dict_keys(['name', 'age'])\n",
            "After Update: dict_keys(['name', 'age', 'salary'])\n"
          ]
        }
      ]
    },
    {
      "cell_type": "markdown",
      "source": [
        "### **5. pop() method**"
      ],
      "metadata": {
        "id": "qwEoVpR-C1Ts"
      }
    },
    {
      "cell_type": "code",
      "source": [
        "sales = { 'apple': 2, 'orange': 3, 'grapes': 4 }\n",
        "\n",
        "element = sales.pop('apple')\n",
        "\n",
        "print('The popped element is:', element)\n",
        "print('The dictionary is:', sales)"
      ],
      "metadata": {
        "colab": {
          "base_uri": "https://localhost:8080/"
        },
        "id": "eiWiCB5hWa6m",
        "outputId": "20c758ab-df5e-4c32-b9ed-fb2448152a0e"
      },
      "execution_count": 17,
      "outputs": [
        {
          "output_type": "stream",
          "name": "stdout",
          "text": [
            "The popped element is: 2\n",
            "The dictionary is: {'orange': 3, 'grapes': 4}\n"
          ]
        }
      ]
    },
    {
      "cell_type": "code",
      "source": [
        "# Pop an element not present from the dictionary\n",
        "sales = { 'apple': 2, 'orange': 3, 'grapes': 4 }\n",
        "\n",
        "element = sales.pop('guava')\n"
      ],
      "metadata": {
        "colab": {
          "base_uri": "https://localhost:8080/",
          "height": 176
        },
        "id": "7qcR8yJ7XVJM",
        "outputId": "fcdf02cf-975a-41a8-b080-128bed2d93ac"
      },
      "execution_count": 20,
      "outputs": [
        {
          "output_type": "error",
          "ename": "KeyError",
          "evalue": "'guava'",
          "traceback": [
            "\u001b[0;31m---------------------------------------------------------------------------\u001b[0m",
            "\u001b[0;31mKeyError\u001b[0m                                  Traceback (most recent call last)",
            "\u001b[0;32m/tmp/ipython-input-20-2023083897.py\u001b[0m in \u001b[0;36m<cell line: 0>\u001b[0;34m()\u001b[0m\n\u001b[1;32m      2\u001b[0m \u001b[0msales\u001b[0m \u001b[0;34m=\u001b[0m \u001b[0;34m{\u001b[0m \u001b[0;34m'apple'\u001b[0m\u001b[0;34m:\u001b[0m \u001b[0;36m2\u001b[0m\u001b[0;34m,\u001b[0m \u001b[0;34m'orange'\u001b[0m\u001b[0;34m:\u001b[0m \u001b[0;36m3\u001b[0m\u001b[0;34m,\u001b[0m \u001b[0;34m'grapes'\u001b[0m\u001b[0;34m:\u001b[0m \u001b[0;36m4\u001b[0m \u001b[0;34m}\u001b[0m\u001b[0;34m\u001b[0m\u001b[0;34m\u001b[0m\u001b[0m\n\u001b[1;32m      3\u001b[0m \u001b[0;34m\u001b[0m\u001b[0m\n\u001b[0;32m----> 4\u001b[0;31m \u001b[0melement\u001b[0m \u001b[0;34m=\u001b[0m \u001b[0msales\u001b[0m\u001b[0;34m.\u001b[0m\u001b[0mpop\u001b[0m\u001b[0;34m(\u001b[0m\u001b[0;34m'guava'\u001b[0m\u001b[0;34m)\u001b[0m\u001b[0;34m\u001b[0m\u001b[0;34m\u001b[0m\u001b[0m\n\u001b[0m",
            "\u001b[0;31mKeyError\u001b[0m: 'guava'"
          ]
        }
      ]
    },
    {
      "cell_type": "code",
      "source": [
        "#Pop an element not present from the dictionary, provided a default value\n",
        "\n",
        "sales = { 'apple': 2, 'orange': 3, 'grapes': 4 }\n",
        "\n",
        "element = sales.pop('guava', 'banana')\n",
        "\n",
        "print('The popped element is:', element)\n",
        "print('The dictionary is:', sales)"
      ],
      "metadata": {
        "colab": {
          "base_uri": "https://localhost:8080/"
        },
        "id": "i3YoGnbgXG52",
        "outputId": "3ac9be34-0fdf-415f-cec8-4673cd2c76a2"
      },
      "execution_count": 21,
      "outputs": [
        {
          "output_type": "stream",
          "name": "stdout",
          "text": [
            "The popped element is: banana\n",
            "The dictionary is: {'apple': 2, 'orange': 3, 'grapes': 4}\n"
          ]
        }
      ]
    },
    {
      "cell_type": "markdown",
      "source": [
        "### **6. popitem() method**"
      ],
      "metadata": {
        "id": "YBO_Vv5sDobt"
      }
    },
    {
      "cell_type": "code",
      "source": [
        "person = {'name': 'Shreya', 'age': 21, 'salary': 30000}\n",
        "\n",
        "result=person.popitem()\n",
        "\n",
        "print(f\"Return Value = {result}\")\n",
        "print(f\"Person Details= {person}\")\n",
        "\n",
        "# inserting a new pair to the person\n",
        "person['profession']='Plumber'\n",
        "print(f\"Person with updated details: {person}\")\n",
        "\n",
        "# now ('profession', 'Plumber') is the latest element\n",
        "result=person.popitem()\n",
        "print(f\"Person after removing latest updated details: {person}\")"
      ],
      "metadata": {
        "colab": {
          "base_uri": "https://localhost:8080/"
        },
        "id": "03EiRygxX5ce",
        "outputId": "f1044071-c48e-4a6a-d490-ae15090a9bd0"
      },
      "execution_count": 29,
      "outputs": [
        {
          "output_type": "stream",
          "name": "stdout",
          "text": [
            "Return Value = ('salary', 30000)\n",
            "Person Details= {'name': 'Shreya', 'age': 21}\n",
            "Person with updated details: {'name': 'Shreya', 'age': 21, 'profession': 'Plumber'}\n",
            "Person after removing latest updated details: {'name': 'Shreya', 'age': 21}\n"
          ]
        }
      ]
    },
    {
      "cell_type": "markdown",
      "source": [
        "### **7. update() method**"
      ],
      "metadata": {
        "id": "vqHCu9tRDBRN"
      }
    },
    {
      "cell_type": "code",
      "source": [
        "marks = {'Maths': 88, 'English': '88'}\n",
        "another_subject = {'Physics': 80}\n",
        "\n",
        "marks.update(another_subject)\n",
        "print(marks)"
      ],
      "metadata": {
        "colab": {
          "base_uri": "https://localhost:8080/"
        },
        "id": "8LvkEnsqb9iJ",
        "outputId": "a19ce183-9919-4554-ca41-6272f2d16bee"
      },
      "execution_count": 33,
      "outputs": [
        {
          "output_type": "stream",
          "name": "stdout",
          "text": [
            "{'Maths': 88, 'English': '88', 'Physics': 80}\n"
          ]
        }
      ]
    },
    {
      "cell_type": "code",
      "source": [
        "d = {1: 'one', 2:'three'}\n",
        "d1 = {2:'two'}\n",
        "d.update(d1)\n",
        "print(d)\n",
        "\n",
        "d1={3:'three'}\n",
        "d.update(d1)\n",
        "print(d)"
      ],
      "metadata": {
        "colab": {
          "base_uri": "https://localhost:8080/"
        },
        "id": "kwFLw5QOpT1_",
        "outputId": "65a75010-f845-40f0-b094-dba182868869"
      },
      "execution_count": 36,
      "outputs": [
        {
          "output_type": "stream",
          "name": "stdout",
          "text": [
            "{1: 'one', 2: 'two'}\n",
            "{1: 'one', 2: 'two', 3: 'three'}\n"
          ]
        }
      ]
    },
    {
      "cell_type": "code",
      "source": [
        "dictionary ={'x':1}\n",
        "dictionary.update([('y',3),('z',6)])\n",
        "print(dictionary)"
      ],
      "metadata": {
        "colab": {
          "base_uri": "https://localhost:8080/"
        },
        "id": "l9d5lpCwqjW4",
        "outputId": "26c29ff0-be37-44e5-f961-cc43e99a200e"
      },
      "execution_count": 37,
      "outputs": [
        {
          "output_type": "stream",
          "name": "stdout",
          "text": [
            "{'x': 1, 'y': 3, 'z': 6}\n"
          ]
        }
      ]
    },
    {
      "cell_type": "markdown",
      "source": [
        "### **8. values() method**"
      ],
      "metadata": {
        "id": "nyISE9j0DacV"
      }
    },
    {
      "cell_type": "code",
      "source": [
        "sales = { 'apple': 2, 'orange': 3, 'grapes': 4 }\n",
        "print(sales)\n",
        "\n",
        "print(sales.values())"
      ],
      "metadata": {
        "colab": {
          "base_uri": "https://localhost:8080/"
        },
        "id": "4J8LojmqrIZe",
        "outputId": "b20363c7-b3c5-4fb6-d566-018a293c41e0"
      },
      "execution_count": 38,
      "outputs": [
        {
          "output_type": "stream",
          "name": "stdout",
          "text": [
            "{'apple': 2, 'orange': 3, 'grapes': 4}\n",
            "dict_values([2, 3, 4])\n"
          ]
        }
      ]
    },
    {
      "cell_type": "code",
      "source": [
        "# How values() works when a dictionary is modified?\n",
        "\n",
        "sales = { 'apple': 2, 'orange': 3, 'grapes': 4 }\n",
        "\n",
        "values = sales.values()\n",
        "print('Original items:', values)\n",
        "\n",
        "# delete an item from dictionary\n",
        "del[sales['apple']]\n",
        "print('Updated items:', values)"
      ],
      "metadata": {
        "colab": {
          "base_uri": "https://localhost:8080/"
        },
        "id": "7k5JJli2sIQm",
        "outputId": "3092d5b1-7a62-480e-930c-2be75b89aff5"
      },
      "execution_count": 39,
      "outputs": [
        {
          "output_type": "stream",
          "name": "stdout",
          "text": [
            "Original items: dict_values([2, 3, 4])\n",
            "Updated items: dict_values([3, 4])\n"
          ]
        }
      ]
    }
  ]
}