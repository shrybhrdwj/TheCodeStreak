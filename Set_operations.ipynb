{
  "nbformat": 4,
  "nbformat_minor": 0,
  "metadata": {
    "colab": {
      "provenance": [],
      "gpuType": "T4",
      "authorship_tag": "ABX9TyPSQk2MGCUnMMMRAFDxiGfC",
      "include_colab_link": true
    },
    "kernelspec": {
      "name": "python3",
      "display_name": "Python 3"
    },
    "language_info": {
      "name": "python"
    },
    "accelerator": "GPU"
  },
  "cells": [
    {
      "cell_type": "markdown",
      "metadata": {
        "id": "view-in-github",
        "colab_type": "text"
      },
      "source": [
        "<a href=\"https://colab.research.google.com/github/shrybhrdwj/TheCodeStreak/blob/main/Set_operations.ipynb\" target=\"_parent\"><img src=\"https://colab.research.google.com/assets/colab-badge.svg\" alt=\"Open In Colab\"/></a>"
      ]
    },
    {
      "cell_type": "markdown",
      "source": [
        "1. Union of Two Sets"
      ],
      "metadata": {
        "id": "S61m1LJmODTf"
      }
    },
    {
      "cell_type": "code",
      "source": [
        "# first set\n",
        "A = {1, 3, 5}\n",
        "\n",
        "# second set\n",
        "B = {0, 2, 4}\n",
        "\n",
        "# perform union operation using |\n",
        "print('Union using |:', A | B)\n",
        "\n",
        "# perform union operation using union()\n",
        "print('Union using union():', A.union(B))"
      ],
      "metadata": {
        "colab": {
          "base_uri": "https://localhost:8080/"
        },
        "id": "jpIM1YjgImiH",
        "outputId": "f9fcf624-e5a6-4f89-e5e4-24c2d8cce722"
      },
      "execution_count": 1,
      "outputs": [
        {
          "output_type": "stream",
          "name": "stdout",
          "text": [
            "Union using |: {0, 1, 2, 3, 4, 5}\n",
            "Union using union(): {0, 1, 2, 3, 4, 5}\n"
          ]
        }
      ]
    },
    {
      "cell_type": "markdown",
      "source": [
        "2. Set Intersection"
      ],
      "metadata": {
        "id": "O-F-brSfOJL6"
      }
    },
    {
      "cell_type": "code",
      "source": [
        "# first set\n",
        "A = {1, 3, 5}\n",
        "\n",
        "# second set\n",
        "B = {1, 2, 3}\n",
        "\n",
        "# perform intersection operation using &\n",
        "print('Intersection using &:', A & B)\n",
        "\n",
        "# perform intersection operation using intersection()\n",
        "print('Intersection using intersection():', A.intersection(B))"
      ],
      "metadata": {
        "colab": {
          "base_uri": "https://localhost:8080/"
        },
        "id": "JeSp54xRMQAH",
        "outputId": "ae674f70-c8b7-4e18-d20a-63341a1ec363"
      },
      "execution_count": 2,
      "outputs": [
        {
          "output_type": "stream",
          "name": "stdout",
          "text": [
            "Intersection using &: {1, 3}\n",
            "Intersection using intersection(): {1, 3}\n"
          ]
        }
      ]
    },
    {
      "cell_type": "markdown",
      "source": [
        "3. Difference between Two Sets"
      ],
      "metadata": {
        "id": "cJymWwvnORMM"
      }
    },
    {
      "cell_type": "code",
      "source": [
        "# first set\n",
        "A = {2, 3, 5}\n",
        "\n",
        "# second set\n",
        "B = {1, 2, 6}\n",
        "\n",
        "# perform difference operation using &\n",
        "print('Difference using &:', A - B)\n",
        "\n",
        "# perform difference operation using difference()\n",
        "print('Difference using difference():', A.difference(B))\n"
      ],
      "metadata": {
        "colab": {
          "base_uri": "https://localhost:8080/"
        },
        "id": "vsm0u0FSNKJl",
        "outputId": "cbc702a9-fe03-4285-ae90-1e0ed964dc44"
      },
      "execution_count": 3,
      "outputs": [
        {
          "output_type": "stream",
          "name": "stdout",
          "text": [
            "Difference using &: {3, 5}\n",
            "Difference using difference(): {3, 5}\n"
          ]
        }
      ]
    }
  ]
}
