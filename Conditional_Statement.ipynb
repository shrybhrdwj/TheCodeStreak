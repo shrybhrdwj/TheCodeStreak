{
  "nbformat": 4,
  "nbformat_minor": 0,
  "metadata": {
    "colab": {
      "provenance": [],
      "authorship_tag": "ABX9TyNqhmyT2kNECVMyGUyHX6ms",
      "include_colab_link": true
    },
    "kernelspec": {
      "name": "python3",
      "display_name": "Python 3"
    },
    "language_info": {
      "name": "python"
    }
  },
  "cells": [
    {
      "cell_type": "markdown",
      "metadata": {
        "id": "view-in-github",
        "colab_type": "text"
      },
      "source": [
        "<a href=\"https://colab.research.google.com/github/shrybhrdwj/TheCodeStreak/blob/main/Conditional_Statement.ipynb\" target=\"_parent\"><img src=\"https://colab.research.google.com/assets/colab-badge.svg\" alt=\"Open In Colab\"/></a>"
      ]
    },
    {
      "cell_type": "markdown",
      "source": [
        "# **1. If Statement**"
      ],
      "metadata": {
        "id": "DyBOfVxAATk5"
      }
    },
    {
      "cell_type": "code",
      "execution_count": 1,
      "metadata": {
        "colab": {
          "base_uri": "https://localhost:8080/"
        },
        "id": "gNvIt2c__3sH",
        "outputId": "9683b132-6d1e-4b48-b518-d3cfe0cf6dca"
      },
      "outputs": [
        {
          "output_type": "stream",
          "name": "stdout",
          "text": [
            "Enter your age =23\n",
            "You are eligible for vote\n"
          ]
        }
      ],
      "source": [
        "age = int(input(\"Enter your age =\"))\n",
        "\n",
        "if age>=18:\n",
        "  print(\"You are eligible for vote\")"
      ]
    },
    {
      "cell_type": "markdown",
      "source": [
        "## **2. Else Statement**"
      ],
      "metadata": {
        "id": "-ktO38AQAT5e"
      }
    },
    {
      "cell_type": "code",
      "source": [
        "age = int(input(\"Enter your age =\"))\n",
        "\n",
        "if age<18:\n",
        "  print(\"You are eligible for vote\")\n",
        "else:\n",
        "  print(\"You are not eligible for vote... kyoki tum lol singh ho.\")"
      ],
      "metadata": {
        "colab": {
          "base_uri": "https://localhost:8080/"
        },
        "id": "-T6NA6xKBPQN",
        "outputId": "e7727d5e-e16e-4540-ce4c-50a9671b43de"
      },
      "execution_count": 5,
      "outputs": [
        {
          "output_type": "stream",
          "name": "stdout",
          "text": [
            "Enter your age =18\n",
            "You are not eligible for vote... kyoki tum lol singh ho.\n"
          ]
        }
      ]
    },
    {
      "cell_type": "markdown",
      "source": [
        "## **3. Elif Statement**"
      ],
      "metadata": {
        "id": "7lr9UhM1AUJ5"
      }
    },
    {
      "cell_type": "code",
      "source": [
        "name = str(input(\"Enter your name =\"))\n",
        "\n",
        "#name = int(str(name))\n",
        "\n",
        "if name == \"Minshu\":\n",
        "  print(\"Minshu is kutti, chipkali...\")\n",
        "elif name == \"Swapnil\":\n",
        "  print(\"You are lol..\")\n",
        "elif name == \"Saksham\":\n",
        "  print(\"Sakshamwa dom h..\")\n",
        "else:\n",
        "  print(name)"
      ],
      "metadata": {
        "colab": {
          "base_uri": "https://localhost:8080/"
        },
        "id": "9ZEPV6ilB9X1",
        "outputId": "7e56d5b6-88ea-4b79-b1b1-b7b1693d0c94"
      },
      "execution_count": 14,
      "outputs": [
        {
          "output_type": "stream",
          "name": "stdout",
          "text": [
            "Enter your name =Saksham\n",
            "Sakshamwa dom h..\n"
          ]
        }
      ]
    },
    {
      "cell_type": "markdown",
      "source": [
        "## **4. Nested Conditional Statements**"
      ],
      "metadata": {
        "id": "3SQrrfciEpcc"
      }
    },
    {
      "cell_type": "code",
      "source": [
        "number = int(input(\"Enter number = \"))\n",
        "\n",
        "'''\n",
        "if number>=0:\n",
        "  print(\"Number is whole number..\")\n",
        "'''\n",
        "\n",
        "if number > 0:\n",
        "  print(\"Number is Positive and Natural number..\")\n",
        "  if (number%2 == 0 ):\n",
        "    print(\"Number is even..\")\n",
        "  else:\n",
        "    print(\"Number is odd..\")\n",
        "else:\n",
        "  print(\"Number is Negative\")"
      ],
      "metadata": {
        "colab": {
          "base_uri": "https://localhost:8080/"
        },
        "id": "U1YUziawE1b8",
        "outputId": "c67284b1-99bb-4597-8e70-46dd849c5e97"
      },
      "execution_count": 16,
      "outputs": [
        {
          "output_type": "stream",
          "name": "stdout",
          "text": [
            "Enter number = 5\n",
            "Number is Positive and Natural number..\n",
            "Number is odd..\n"
          ]
        }
      ]
    },
    {
      "cell_type": "markdown",
      "source": [
        "# **Some Practical Examples**"
      ],
      "metadata": {
        "id": "GqAJ6Rd4In6o"
      }
    },
    {
      "cell_type": "code",
      "source": [
        "#Check a year is leap year or not..\n",
        "\n",
        "year = int(input(\"Enter Year = \"))\n",
        "\n",
        "if (year%4 == 0):\n",
        "  print(f\"Year {year} is a leap year..\")\n",
        "else:\n",
        "  print(f\"Year {year} is not a leap year..\")"
      ],
      "metadata": {
        "colab": {
          "base_uri": "https://localhost:8080/"
        },
        "id": "JdY9nBCvIt6K",
        "outputId": "c46103d0-9ee9-426a-fdd7-c1e6b48d71e8"
      },
      "execution_count": 21,
      "outputs": [
        {
          "output_type": "stream",
          "name": "stdout",
          "text": [
            "Enter Year = 2002\n",
            "Year 2002 is not a leap year..\n"
          ]
        }
      ]
    },
    {
      "cell_type": "code",
      "source": [
        "#Simple Calculator\n",
        "\n",
        "num1 = int(input(\"Enter first Number = \"))\n",
        "num2 = int(input(\"Enter Second Number = \"))\n",
        "operation = input(\"Enter Operation (+, -, *, /)\")\n",
        "\n",
        "if operation == '+':\n",
        "  result = num1+num2\n",
        "elif operation == '-':\n",
        "  result = num1-num2\n",
        "elif operation == '*':\n",
        "  result = num1*num2\n",
        "elif operation == '/':\n",
        "  if num2 != 0:\n",
        "    result = num1/num2\n",
        "  else:\n",
        "    result = \"Error! Division by 0 is not Possible.\"\n",
        "else:\n",
        "  print(\"Invalid Operation!\")\n",
        "  print(\"Please Choose correct Operation..\")\n",
        "\n",
        "print(\"Result = \",result)"
      ],
      "metadata": {
        "colab": {
          "base_uri": "https://localhost:8080/"
        },
        "id": "DSj7bv4uL91G",
        "outputId": "21687a3d-1cde-412c-f098-819d682b5397"
      },
      "execution_count": 23,
      "outputs": [
        {
          "output_type": "stream",
          "name": "stdout",
          "text": [
            "Enter first Number = 10\n",
            "Enter Second Number = 6\n",
            "Enter Operation (+, -, *, /)/\n",
            "Result =  1.6666666666666667\n"
          ]
        }
      ]
    }
  ]
}