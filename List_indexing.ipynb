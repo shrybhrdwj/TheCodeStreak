{
  "nbformat": 4,
  "nbformat_minor": 0,
  "metadata": {
    "colab": {
      "provenance": [],
      "authorship_tag": "ABX9TyN5Db6NoZfS/oTxGFx28xmH",
      "include_colab_link": true
    },
    "kernelspec": {
      "name": "python3",
      "display_name": "Python 3"
    },
    "language_info": {
      "name": "python"
    }
  },
  "cells": [
    {
      "cell_type": "markdown",
      "metadata": {
        "id": "view-in-github",
        "colab_type": "text"
      },
      "source": [
        "<a href=\"https://colab.research.google.com/github/shrybhrdwj/TheCodeStreak/blob/main/List_indexing.ipynb\" target=\"_parent\"><img src=\"https://colab.research.google.com/assets/colab-badge.svg\" alt=\"Open In Colab\"/></a>"
      ]
    },
    {
      "cell_type": "code",
      "source": [
        "#Create a python list\n",
        "ages = [19,26,29]\n",
        "print(ages)"
      ],
      "metadata": {
        "colab": {
          "base_uri": "https://localhost:8080/"
        },
        "id": "Z4u22CaNwPyp",
        "outputId": "f8b323b3-9641-48a8-b304-3f2f95dbb024"
      },
      "execution_count": 1,
      "outputs": [
        {
          "output_type": "stream",
          "name": "stdout",
          "text": [
            "[19, 26, 29]\n"
          ]
        }
      ]
    },
    {
      "cell_type": "code",
      "source": [
        "#List items of different types\n",
        "student = ['Jack', 32, 'Comuter Science', [2,4]]\n",
        "print(student)\n",
        "empty_list = []\n",
        "print(empty_list)"
      ],
      "metadata": {
        "colab": {
          "base_uri": "https://localhost:8080/"
        },
        "id": "1F17E_vUwlK-",
        "outputId": "bebcb538-89c9-49de-c6a8-4b2d79aff9a2"
      },
      "execution_count": 2,
      "outputs": [
        {
          "output_type": "stream",
          "name": "stdout",
          "text": [
            "['Jack', 32, 'Comuter Science', [2, 4]]\n",
            "[]\n"
          ]
        }
      ]
    },
    {
      "cell_type": "code",
      "execution_count": 3,
      "metadata": {
        "colab": {
          "base_uri": "https://localhost:8080/"
        },
        "id": "GZ2bs0wqdrpc",
        "outputId": "0b7742c9-c59b-49aa-b402-90c8999252ad"
      },
      "outputs": [
        {
          "output_type": "stream",
          "name": "stdout",
          "text": [
            "swift\n",
            "Python\n"
          ]
        }
      ],
      "source": [
        "#Acces List Items\n",
        "language = [\"swift\", \"java\", \"Python\"]\n",
        "print(language[0])\n",
        "print(language[2])"
      ]
    },
    {
      "cell_type": "code",
      "source": [
        "#Negative Indexing\n",
        "language = ['Python', 'Swift', 'C++']\n",
        "print(language[-1])\n",
        "print(language[-3])"
      ],
      "metadata": {
        "colab": {
          "base_uri": "https://localhost:8080/"
        },
        "id": "8YNXJ1nVxz6g",
        "outputId": "e9226fa3-fbd9-4517-d2d4-35416b23a6c4"
      },
      "execution_count": 4,
      "outputs": [
        {
          "output_type": "stream",
          "name": "stdout",
          "text": [
            "C++\n",
            "Python\n"
          ]
        }
      ]
    },
    {
      "cell_type": "code",
      "source": [
        "#Slicing of a List in Python\n",
        "my_list = ['p','r','o','g','r','a','m']\n",
        "print('M_list=', my_list)\n",
        "print('M_list[2:5]=', my_list[2:5])\n",
        "print('M_list[2:-2]=', my_list[2:-2])\n",
        "print('M_list[0:3]=', my_list[0:3])"
      ],
      "metadata": {
        "colab": {
          "base_uri": "https://localhost:8080/"
        },
        "id": "Lu8jexrwzM7Z",
        "outputId": "4aed3dcc-2cf1-482a-da96-e4f3431733f7"
      },
      "execution_count": 6,
      "outputs": [
        {
          "output_type": "stream",
          "name": "stdout",
          "text": [
            "M_list= ['p', 'r', 'o', 'g', 'r', 'a', 'm']\n",
            "M_list[2:5]= ['o', 'g', 'r']\n",
            "M_list[2:-2]= ['o', 'g', 'r']\n",
            "M_list[0:3]= ['p', 'r', 'o']\n"
          ]
        }
      ]
    },
    {
      "cell_type": "code",
      "source": [
        "#omitting start and end indices in slicing\n",
        "my_list = ['p','r','o','g','r','a','m']\n",
        "print('M_list=', my_list)\n",
        "print('M_list[5:]=', my_list[5:])\n",
        "print('M_list[:-4]=', my_list[:-4])\n",
        "print('M_list[:]=', my_list[:])\n"
      ],
      "metadata": {
        "colab": {
          "base_uri": "https://localhost:8080/"
        },
        "id": "fqlQN572z7_i",
        "outputId": "744f2369-04b1-42c3-8e0d-e89c96e11600"
      },
      "execution_count": 7,
      "outputs": [
        {
          "output_type": "stream",
          "name": "stdout",
          "text": [
            "M_list= ['p', 'r', 'o', 'g', 'r', 'a', 'm']\n",
            "M_list[5:]= ['a', 'm']\n",
            "M_list[:-4]= ['p', 'r', 'o']\n",
            "M_list[:]= ['p', 'r', 'o', 'g', 'r', 'a', 'm']\n"
          ]
        }
      ]
    }
  ]
}