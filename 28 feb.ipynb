{
 "cells": [
  {
   "cell_type": "raw",
   "id": "33e9fadf-ce43-42de-a5c3-e20b5638b372",
   "metadata": {},
   "source": [
    "26. List compression(to create a list in single line)\n",
    "\n",
    "    List compression is a concise and expressive way to create lists in Python. It provides a more compact syntax for generating lists compared to \n",
    "    using traditional loops."
   ]
  },
  {
   "cell_type": "code",
   "execution_count": 1,
   "id": "afa28c31-c139-47c3-b987-eca90d51c0e1",
   "metadata": {},
   "outputs": [
    {
     "name": "stdout",
     "output_type": "stream",
     "text": [
      "[2, 4, 6, 8, 10, 12, 14, 16, 18]\n",
      "[56, 22, 62, 32, 76]\n"
     ]
    }
   ],
   "source": [
    "# list of even numbers\n",
    "l1 = [2*e for e in range(1,10)]\n",
    "print(l1)\n",
    "\n",
    "# to create a list of even numbers from a given list\n",
    "list = [23,56,65,22,62,32,65,76,33,99]\n",
    "l2 = [e for e in list if e%2==0]\n",
    "print(l2)"
   ]
  },
  {
   "cell_type": "raw",
   "id": "4536082d-2591-48dc-80c1-61243337e60d",
   "metadata": {},
   "source": [
    "27. What is the use of split and join function of str?"
   ]
  },
  {
   "cell_type": "code",
   "execution_count": 5,
   "id": "ea6452fc-337c-4be0-a2bb-7737a763924d",
   "metadata": {},
   "outputs": [
    {
     "name": "stdout",
     "output_type": "stream",
     "text": [
      "['What', 'is', 'right', 'in', 'your', 'mind', 'is', 'right', 'in', 'your', 'world']\n",
      "['world', 'your', 'in', 'right', 'is', 'mind', 'your', 'in', 'right', 'is', 'What']\n",
      "world your in right is mind your in right is What\n"
     ]
    }
   ],
   "source": [
    "s = \"What is right in your mind is right in your world\"\n",
    "\n",
    "#split - to convert string into list of strings\n",
    "s1 = s.split(\" \")\n",
    "print(s1)\n",
    "s1 = s1[::-1]\n",
    "print(s1)\n",
    "\n",
    "#join - to convert the list of strings into string\n",
    "print(\" \".join(s1))"
   ]
  },
  {
   "cell_type": "raw",
   "id": "20b0bce0-0246-4b58-acd4-96a838b4787f",
   "metadata": {},
   "source": [
    "28. Global and local variable"
   ]
  },
  {
   "cell_type": "code",
   "execution_count": 3,
   "id": "e8b58b5a-e72e-4f14-92fb-e914cbb7601d",
   "metadata": {},
   "outputs": [
    {
     "name": "stdout",
     "output_type": "stream",
     "text": [
      "x=15 y=10\n",
      "15\n"
     ]
    }
   ],
   "source": [
    "x = 5 # global variable\n",
    "def f1():\n",
    "    global x\n",
    "    x=15 # global variable updated\n",
    "    y=10 # local variable\n",
    "    print(\"x=%d y=%d\"%(x,y))\n",
    "\n",
    "f1()\n",
    "print(x)"
   ]
  },
  {
   "cell_type": "raw",
   "id": "607e8f39-0c54-4508-8a6e-9dbcd37e9d4e",
   "metadata": {},
   "source": [
    "29. Globals function"
   ]
  },
  {
   "cell_type": "code",
   "execution_count": 13,
   "id": "3f22ef27-f81a-4fde-a0f7-59230eb44b9c",
   "metadata": {},
   "outputs": [
    {
     "name": "stdout",
     "output_type": "stream",
     "text": [
      "local x=10 global x=5\n"
     ]
    }
   ],
   "source": [
    "#globals function returns dictionary\n",
    "#you can use globals() function to access or modify global variables within a function or code block.\n",
    "x = 5 #global variable\n",
    "def fun():\n",
    "    x = 10 #local variable\n",
    "    d = globals() #d is dictonary\n",
    "    # d['x'] = 15 # x is the key in dictonary d which assigns value to global variable\n",
    "    print(\"local x=%d global x=%d\"%(x,d['x']))\n",
    "\n",
    "fun()"
   ]
  },
  {
   "cell_type": "raw",
   "id": "8ff67593-d468-4831-b538-96be3cd2991f",
   "metadata": {},
   "source": [
    "30. Type conversion basics"
   ]
  },
  {
   "cell_type": "code",
   "execution_count": 9,
   "id": "504b59c1-f0b9-4714-8797-7f4776da9393",
   "metadata": {},
   "outputs": [
    {
     "name": "stdout",
     "output_type": "stream",
     "text": [
      "123\n",
      "123.42\n",
      "(3+4j)\n",
      "12\n",
      "True\n",
      "0b11001\n",
      "0o31\n",
      "0x19\n",
      "65\n",
      "b\n"
     ]
    }
   ],
   "source": [
    "x= int('123')\n",
    "a = float('123.42')\n",
    "b = complex('3+4j')\n",
    "c = str(12)\n",
    "d = bool('True')\n",
    "e = bin(25) #binary\n",
    "f = oct(25)\n",
    "g = hex(25)\n",
    "h = ord('A') #char to unicode\n",
    "i = chr(98) # unicode to character\n",
    "print(x,a,b,c,d,e,f,g,h,i,sep=\"\\n\")"
   ]
  }
 ],
 "metadata": {
  "kernelspec": {
   "display_name": "Python 3 (ipykernel)",
   "language": "python",
   "name": "python3"
  },
  "language_info": {
   "codemirror_mode": {
    "name": "ipython",
    "version": 3
   },
   "file_extension": ".py",
   "mimetype": "text/x-python",
   "name": "python",
   "nbconvert_exporter": "python",
   "pygments_lexer": "ipython3",
   "version": "3.12.4"
  }
 },
 "nbformat": 4,
 "nbformat_minor": 5
}
