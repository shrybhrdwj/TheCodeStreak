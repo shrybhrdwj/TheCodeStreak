{
  "nbformat": 4,
  "nbformat_minor": 0,
  "metadata": {
    "colab": {
      "provenance": [],
      "authorship_tag": "ABX9TyNfxRzvIRa7i8Z9u2NS6mtZ",
      "include_colab_link": true
    },
    "kernelspec": {
      "name": "python3",
      "display_name": "Python 3"
    },
    "language_info": {
      "name": "python"
    }
  },
  "cells": [
    {
      "cell_type": "markdown",
      "metadata": {
        "id": "view-in-github",
        "colab_type": "text"
      },
      "source": [
        "<a href=\"https://colab.research.google.com/github/shrybhrdwj/TheCodeStreak/blob/main/Tuple1.ipynb\" target=\"_parent\"><img src=\"https://colab.research.google.com/assets/colab-badge.svg\" alt=\"Open In Colab\"/></a>"
      ]
    },
    {
      "cell_type": "markdown",
      "source": [
        "#### Tuples\n",
        "Video Outline:\n",
        "1. Introduction to Tuples\n",
        "2. Creating Tuples\n",
        "3. Accessing Tuple Elements\n",
        "4. Tuple Operations\n",
        "5. Immutable Nature of Tuples\n",
        "6. Tuple Methods\n",
        "7. Packing and Unpacking Tuples\n",
        "8. Nested Tuples\n",
        "9. Practical Examples and Common Errors"
      ],
      "metadata": {
        "id": "1iBdt8cH_am4"
      }
    },
    {
      "cell_type": "markdown",
      "source": [
        "# **Accessing Tuple Elements**"
      ],
      "metadata": {
        "id": "sy4zlqzVBh6_"
      }
    },
    {
      "cell_type": "code",
      "source": [
        "mixed_tuple=(1,'Hello World',3.14,True)\n",
        "print(mixed_tuple)"
      ],
      "metadata": {
        "colab": {
          "base_uri": "https://localhost:8080/"
        },
        "id": "TJktm8NyCmwB",
        "outputId": "a96dab13-0741-44d4-d303-d8cbf098a3f3"
      },
      "execution_count": null,
      "outputs": [
        {
          "output_type": "stream",
          "name": "stdout",
          "text": [
            "(1, 'Hello World', 3.14, True)\n"
          ]
        }
      ]
    },
    {
      "cell_type": "code",
      "execution_count": null,
      "metadata": {
        "colab": {
          "base_uri": "https://localhost:8080/"
        },
        "id": "HvtF9Sw27TPb",
        "outputId": "8f28017b-997e-4c6b-baf9-ae102bd2bf08"
      },
      "outputs": [
        {
          "output_type": "stream",
          "name": "stdout",
          "text": [
            "(1, 2, 3, 4, 5, 6)\n",
            "3\n",
            "6\n",
            "(1, 2, 3, 4)\n",
            "(6, 5, 4, 3, 2, 1)\n"
          ]
        }
      ],
      "source": [
        "numbers=tuple([1,2,3,4,5,6])\n",
        "numbers\n",
        "print(numbers)\n",
        "\n",
        "print(numbers[2])\n",
        "print(numbers[-1])\n",
        "print(numbers[0:4])\n",
        "print(numbers[::-1])"
      ]
    },
    {
      "cell_type": "markdown",
      "source": [
        "# **Tuple Operations**"
      ],
      "metadata": {
        "id": "eIHNsPi59vJ5"
      }
    },
    {
      "cell_type": "code",
      "source": [
        "concatenation_tuple=numbers + mixed_tuple\n",
        "print(concatenation_tuple)"
      ],
      "metadata": {
        "colab": {
          "base_uri": "https://localhost:8080/"
        },
        "id": "TfAVapjuBs2H",
        "outputId": "9d7fe7e6-3f39-4f92-c66b-83851f741ecc"
      },
      "execution_count": null,
      "outputs": [
        {
          "output_type": "stream",
          "name": "stdout",
          "text": [
            "(1, 2, 3, 4, 5, 6, 1, 'Hello World', 3.14, True)\n"
          ]
        }
      ]
    },
    {
      "cell_type": "code",
      "source": [
        "mixed_tuple*3"
      ],
      "metadata": {
        "colab": {
          "base_uri": "https://localhost:8080/"
        },
        "id": "k8B45RggDByE",
        "outputId": "99aec258-ca3a-4985-8324-688b9c54a489"
      },
      "execution_count": null,
      "outputs": [
        {
          "output_type": "execute_result",
          "data": {
            "text/plain": [
              "(1,\n",
              " 'Hello World',\n",
              " 3.14,\n",
              " True,\n",
              " 1,\n",
              " 'Hello World',\n",
              " 3.14,\n",
              " True,\n",
              " 1,\n",
              " 'Hello World',\n",
              " 3.14,\n",
              " True)"
            ]
          },
          "metadata": {},
          "execution_count": 8
        }
      ]
    },
    {
      "cell_type": "code",
      "source": [
        "numbers*3"
      ],
      "metadata": {
        "colab": {
          "base_uri": "https://localhost:8080/"
        },
        "id": "fpyp1jq0DIu_",
        "outputId": "6fba8f9f-e950-48d1-b8ad-b5846a53b88f"
      },
      "execution_count": null,
      "outputs": [
        {
          "output_type": "execute_result",
          "data": {
            "text/plain": [
              "(1, 2, 3, 4, 5, 6, 1, 2, 3, 4, 5, 6, 1, 2, 3, 4, 5, 6)"
            ]
          },
          "metadata": {},
          "execution_count": 9
        }
      ]
    },
    {
      "cell_type": "markdown",
      "source": [
        "# **Immutable Nature of Tuples**"
      ],
      "metadata": {
        "id": "hMIBcbSODUVV"
      }
    },
    {
      "cell_type": "code",
      "source": [
        "lst=[1,2,3,4,5]\n",
        "print(lst)\n",
        "\n",
        "lst[1]='Krish'\n",
        "print(lst)"
      ],
      "metadata": {
        "colab": {
          "base_uri": "https://localhost:8080/"
        },
        "id": "6TSOiWKzDc68",
        "outputId": "fef0c8c7-97e1-4576-a585-407ade915baf"
      },
      "execution_count": null,
      "outputs": [
        {
          "output_type": "stream",
          "name": "stdout",
          "text": [
            "[1, 2, 3, 4, 5]\n",
            "[1, 'Krish', 3, 4, 5]\n"
          ]
        }
      ]
    },
    {
      "cell_type": "code",
      "source": [
        "\n",
        "type(numbers)"
      ],
      "metadata": {
        "colab": {
          "base_uri": "https://localhost:8080/"
        },
        "id": "SVnJd4_ZEkZN",
        "outputId": "86fb2ecd-3708-42ff-cab0-3632d643db80"
      },
      "execution_count": null,
      "outputs": [
        {
          "output_type": "execute_result",
          "data": {
            "text/plain": [
              "tuple"
            ]
          },
          "metadata": {},
          "execution_count": 14
        }
      ]
    },
    {
      "cell_type": "code",
      "source": [
        "numbers[1]='Krish'"
      ],
      "metadata": {
        "colab": {
          "base_uri": "https://localhost:8080/",
          "height": 141
        },
        "id": "0uS_H273Edrc",
        "outputId": "555a2d8c-2bbd-4a05-8782-79c68b7723a0"
      },
      "execution_count": null,
      "outputs": [
        {
          "output_type": "error",
          "ename": "TypeError",
          "evalue": "'tuple' object does not support item assignment",
          "traceback": [
            "\u001b[0;31m---------------------------------------------------------------------------\u001b[0m",
            "\u001b[0;31mTypeError\u001b[0m                                 Traceback (most recent call last)",
            "\u001b[0;32m/tmp/ipython-input-11-3541559501.py\u001b[0m in \u001b[0;36m<cell line: 0>\u001b[0;34m()\u001b[0m\n\u001b[0;32m----> 1\u001b[0;31m \u001b[0mnumbers\u001b[0m\u001b[0;34m[\u001b[0m\u001b[0;36m1\u001b[0m\u001b[0;34m]\u001b[0m\u001b[0;34m=\u001b[0m\u001b[0;34m'Krish'\u001b[0m\u001b[0;34m\u001b[0m\u001b[0;34m\u001b[0m\u001b[0m\n\u001b[0m",
            "\u001b[0;31mTypeError\u001b[0m: 'tuple' object does not support item assignment"
          ]
        }
      ]
    },
    {
      "cell_type": "code",
      "source": [
        "numbers"
      ],
      "metadata": {
        "colab": {
          "base_uri": "https://localhost:8080/"
        },
        "id": "sJ7JdyxtFQd_",
        "outputId": "e84f11c1-7159-4772-bb72-959357e362d3"
      },
      "execution_count": null,
      "outputs": [
        {
          "output_type": "execute_result",
          "data": {
            "text/plain": [
              "(1, 2, 3, 4, 5, 6)"
            ]
          },
          "metadata": {},
          "execution_count": 16
        }
      ]
    },
    {
      "cell_type": "markdown",
      "source": [
        "# **Tuple Methods**"
      ],
      "metadata": {
        "id": "NuWaABDV9mz7"
      }
    },
    {
      "cell_type": "code",
      "source": [
        "## Tuple Methods\n",
        "print(numbers.count(1))\n",
        "print(numbers.index(3))"
      ],
      "metadata": {
        "colab": {
          "base_uri": "https://localhost:8080/"
        },
        "id": "edS4zSW-FJnb",
        "outputId": "8e0fbbfc-2352-4f65-f0de-24a7fa7cbac0"
      },
      "execution_count": null,
      "outputs": [
        {
          "output_type": "stream",
          "name": "stdout",
          "text": [
            "1\n",
            "2\n"
          ]
        }
      ]
    },
    {
      "cell_type": "markdown",
      "source": [
        "# **Packing and Unpacking Tuples**"
      ],
      "metadata": {
        "id": "BFeww1ID9dsY"
      }
    },
    {
      "cell_type": "code",
      "source": [
        "# packing\n",
        "packed_tuple=1,\"Hello\",3.14\n",
        "print(packed_tuple)"
      ],
      "metadata": {
        "colab": {
          "base_uri": "https://localhost:8080/"
        },
        "id": "zlwxOwGmFmXr",
        "outputId": "929821c8-7fdd-4739-8786-bffef8d57440"
      },
      "execution_count": null,
      "outputs": [
        {
          "output_type": "stream",
          "name": "stdout",
          "text": [
            "(1, 'Hello', 3.14)\n"
          ]
        }
      ]
    },
    {
      "cell_type": "code",
      "source": [
        "#unpacking a tuple\n",
        "a,b,c=packed_tuple\n",
        "\n",
        "print(a)\n",
        "print(b)\n",
        "print(c)"
      ],
      "metadata": {
        "colab": {
          "base_uri": "https://localhost:8080/"
        },
        "id": "X_R30TCOFqHt",
        "outputId": "83327bc2-0bd3-421d-a116-72990c9c32b6"
      },
      "execution_count": null,
      "outputs": [
        {
          "output_type": "stream",
          "name": "stdout",
          "text": [
            "1\n",
            "Hello\n",
            "3.14\n"
          ]
        }
      ]
    },
    {
      "cell_type": "code",
      "source": [
        "# Unpacking with *\n",
        "numbers=(1,2,3,4,5,6)\n",
        "first,*middle,last=numbers\n",
        "print(first)\n",
        "print(middle)\n",
        "print(last)"
      ],
      "metadata": {
        "colab": {
          "base_uri": "https://localhost:8080/"
        },
        "id": "H3tjTO35FxPH",
        "outputId": "7daa88f7-da38-491a-c6f9-3e258e10ee6c"
      },
      "execution_count": null,
      "outputs": [
        {
          "output_type": "stream",
          "name": "stdout",
          "text": [
            "1\n",
            "[2, 3, 4, 5]\n",
            "6\n"
          ]
        }
      ]
    },
    {
      "cell_type": "markdown",
      "source": [
        "# **Nested Tuple**"
      ],
      "metadata": {
        "id": "4UkUhmz49VOd"
      }
    },
    {
      "cell_type": "code",
      "source": [
        "#Nested List\n",
        "lst=[[1,2,3,4],[6,7,8,9],[1,\"Hello\",3.14,\"c\"]]\n",
        "print(lst[0][0:3])\n",
        "\n",
        "#Nested Tuple\n",
        "lst=[[1,2,3,4],[6,7,8,9],(1,\"Hello\",3.14,\"c\")]\n",
        "lst[2][0:3]"
      ],
      "metadata": {
        "colab": {
          "base_uri": "https://localhost:8080/"
        },
        "id": "49A3S_6RI_Ha",
        "outputId": "97c20d24-2b51-47b4-a449-eecffe43b3af"
      },
      "execution_count": null,
      "outputs": [
        {
          "output_type": "stream",
          "name": "stdout",
          "text": [
            "[1, 2, 3]\n"
          ]
        }
      ]
    },
    {
      "cell_type": "code",
      "source": [
        "nested_tuple = ((1, 2, 3), (\"a\", \"b\", \"c\"), (True, False))\n",
        "\n",
        "## access the elements inside a tuple\n",
        "print(nested_tuple[0])\n",
        "print(nested_tuple[1][2])"
      ],
      "metadata": {
        "colab": {
          "base_uri": "https://localhost:8080/"
        },
        "id": "vkBF3qM7Jwpo",
        "outputId": "625745ec-e8d0-45f4-d90a-93164b41b911"
      },
      "execution_count": null,
      "outputs": [
        {
          "output_type": "stream",
          "name": "stdout",
          "text": [
            "(1, 2, 3)\n",
            "c\n"
          ]
        }
      ]
    },
    {
      "cell_type": "markdown",
      "source": [
        "# **Practical Examples**"
      ],
      "metadata": {
        "id": "VwxkHhlG9EVF"
      }
    },
    {
      "cell_type": "code",
      "source": [
        "# iterating over nested tuples\n",
        "for sub_tuple in nested_tuple:\n",
        "    for item in sub_tuple:\n",
        "        print(item,end=\" \")\n",
        "    print()"
      ],
      "metadata": {
        "colab": {
          "base_uri": "https://localhost:8080/"
        },
        "id": "XZrJ6fAUJ8DU",
        "outputId": "90999874-7ff5-4a03-f606-41b8ea7e7ef1"
      },
      "execution_count": null,
      "outputs": [
        {
          "output_type": "stream",
          "name": "stdout",
          "text": [
            "1 2 3 \n",
            "a b c \n",
            "True False \n"
          ]
        }
      ]
    }
  ]
}