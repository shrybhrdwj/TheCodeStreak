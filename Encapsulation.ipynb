{
  "nbformat": 4,
  "nbformat_minor": 0,
  "metadata": {
    "colab": {
      "provenance": [],
      "authorship_tag": "ABX9TyO900rCIku8Ts181kvwgw+3",
      "include_colab_link": true
    },
    "kernelspec": {
      "name": "python3",
      "display_name": "Python 3"
    },
    "language_info": {
      "name": "python"
    }
  },
  "cells": [
    {
      "cell_type": "markdown",
      "metadata": {
        "id": "view-in-github",
        "colab_type": "text"
      },
      "source": [
        "<a href=\"https://colab.research.google.com/github/shrybhrdwj/TheCodeStreak/blob/main/Encapsulation.ipynb\" target=\"_parent\"><img src=\"https://colab.research.google.com/assets/colab-badge.svg\" alt=\"Open In Colab\"/></a>"
      ]
    },
    {
      "cell_type": "markdown",
      "source": [
        "## **Encapsulation And Abstraction**\n",
        "Encapsulation and abstraction are two fundamental principles of Object-Oriented Programming (OOP) that help in designing robust, maintainable, and reusable code. Encapsulation involves bundling data and methods that operate on the data within a single unit, while abstraction involves hiding complex implementation details and exposing only the necessary features."
      ],
      "metadata": {
        "id": "-a0eP35a_L1u"
      }
    },
    {
      "cell_type": "markdown",
      "source": [
        "### **Encapsulation**\n",
        "Encapsulation is the concept of wrapping data (variables) and methods (functions) together as a single unit. It restricts direct access to some of the object's components, which is a means of preventing accidental interference and misuse of the data.\n"
      ],
      "metadata": {
        "id": "KseVKLq2_XlX"
      }
    },
    {
      "cell_type": "code",
      "execution_count": 1,
      "metadata": {
        "colab": {
          "base_uri": "https://localhost:8080/",
          "height": 36
        },
        "id": "_7VMHPyc-LPq",
        "outputId": "cf66efa6-577f-4577-f700-1df2932b9eb8"
      },
      "outputs": [
        {
          "output_type": "execute_result",
          "data": {
            "text/plain": [
              "'Shreya'"
            ],
            "application/vnd.google.colaboratory.intrinsic+json": {
              "type": "string"
            }
          },
          "metadata": {},
          "execution_count": 1
        }
      ],
      "source": [
        "# Encapsulation  with Getter and Setter MEthods\n",
        "# Public,protected,private variables or access modifiers\n",
        "\n",
        "class Person:\n",
        "  def __init__(self,name,age):\n",
        "    self.name=name\n",
        "    self.age=age\n",
        "\n",
        "def get_name(person):\n",
        "  return person.name\n",
        "\n",
        "person=Person(\"Shreya\",21)\n",
        "get_name(person)"
      ]
    },
    {
      "cell_type": "code",
      "source": [
        "dir(person)"
      ],
      "metadata": {
        "colab": {
          "base_uri": "https://localhost:8080/"
        },
        "id": "0fQ2ATNyAN5J",
        "outputId": "0f545cad-d672-45f5-dd90-e075e8d4382e"
      },
      "execution_count": 2,
      "outputs": [
        {
          "output_type": "execute_result",
          "data": {
            "text/plain": [
              "['__class__',\n",
              " '__delattr__',\n",
              " '__dict__',\n",
              " '__dir__',\n",
              " '__doc__',\n",
              " '__eq__',\n",
              " '__format__',\n",
              " '__ge__',\n",
              " '__getattribute__',\n",
              " '__getstate__',\n",
              " '__gt__',\n",
              " '__hash__',\n",
              " '__init__',\n",
              " '__init_subclass__',\n",
              " '__le__',\n",
              " '__lt__',\n",
              " '__module__',\n",
              " '__ne__',\n",
              " '__new__',\n",
              " '__reduce__',\n",
              " '__reduce_ex__',\n",
              " '__repr__',\n",
              " '__setattr__',\n",
              " '__sizeof__',\n",
              " '__str__',\n",
              " '__subclasshook__',\n",
              " '__weakref__',\n",
              " 'age',\n",
              " 'name']"
            ]
          },
          "metadata": {},
          "execution_count": 2
        }
      ]
    },
    {
      "cell_type": "code",
      "source": [
        "class Person:\n",
        "    def __init__(self,name,age,gender):\n",
        "        self.__name=name    ## private variables\n",
        "        self.__age=age      ## private variables\n",
        "        self.gender=gender\n",
        "\n",
        "def get_name(person):\n",
        "    return person.__name\n",
        "\n",
        "person=Person(\"Krish\",34,\"Male\")\n",
        "get_name(person)\n"
      ],
      "metadata": {
        "colab": {
          "base_uri": "https://localhost:8080/",
          "height": 297
        },
        "id": "FJLqO0ZjAao5",
        "outputId": "d3bb2804-85a3-43b2-87d8-f7cdbfe8e7a4"
      },
      "execution_count": 3,
      "outputs": [
        {
          "output_type": "error",
          "ename": "AttributeError",
          "evalue": "'Person' object has no attribute '__name'",
          "traceback": [
            "\u001b[0;31m---------------------------------------------------------------------------\u001b[0m",
            "\u001b[0;31mAttributeError\u001b[0m                            Traceback (most recent call last)",
            "\u001b[0;32m/tmp/ipython-input-4213561321.py\u001b[0m in \u001b[0;36m<cell line: 0>\u001b[0;34m()\u001b[0m\n\u001b[1;32m      9\u001b[0m \u001b[0;34m\u001b[0m\u001b[0m\n\u001b[1;32m     10\u001b[0m \u001b[0mperson\u001b[0m\u001b[0;34m=\u001b[0m\u001b[0mPerson\u001b[0m\u001b[0;34m(\u001b[0m\u001b[0;34m\"Krish\"\u001b[0m\u001b[0;34m,\u001b[0m\u001b[0;36m34\u001b[0m\u001b[0;34m,\u001b[0m\u001b[0;34m\"Male\"\u001b[0m\u001b[0;34m)\u001b[0m\u001b[0;34m\u001b[0m\u001b[0;34m\u001b[0m\u001b[0m\n\u001b[0;32m---> 11\u001b[0;31m \u001b[0mget_name\u001b[0m\u001b[0;34m(\u001b[0m\u001b[0mperson\u001b[0m\u001b[0;34m)\u001b[0m\u001b[0;34m\u001b[0m\u001b[0;34m\u001b[0m\u001b[0m\n\u001b[0m",
            "\u001b[0;32m/tmp/ipython-input-4213561321.py\u001b[0m in \u001b[0;36mget_name\u001b[0;34m(person)\u001b[0m\n\u001b[1;32m      6\u001b[0m \u001b[0;34m\u001b[0m\u001b[0m\n\u001b[1;32m      7\u001b[0m \u001b[0;32mdef\u001b[0m \u001b[0mget_name\u001b[0m\u001b[0;34m(\u001b[0m\u001b[0mperson\u001b[0m\u001b[0;34m)\u001b[0m\u001b[0;34m:\u001b[0m\u001b[0;34m\u001b[0m\u001b[0;34m\u001b[0m\u001b[0m\n\u001b[0;32m----> 8\u001b[0;31m     \u001b[0;32mreturn\u001b[0m \u001b[0mperson\u001b[0m\u001b[0;34m.\u001b[0m\u001b[0m__name\u001b[0m\u001b[0;34m\u001b[0m\u001b[0;34m\u001b[0m\u001b[0m\n\u001b[0m\u001b[1;32m      9\u001b[0m \u001b[0;34m\u001b[0m\u001b[0m\n\u001b[1;32m     10\u001b[0m \u001b[0mperson\u001b[0m\u001b[0;34m=\u001b[0m\u001b[0mPerson\u001b[0m\u001b[0;34m(\u001b[0m\u001b[0;34m\"Krish\"\u001b[0m\u001b[0;34m,\u001b[0m\u001b[0;36m34\u001b[0m\u001b[0;34m,\u001b[0m\u001b[0;34m\"Male\"\u001b[0m\u001b[0;34m)\u001b[0m\u001b[0;34m\u001b[0m\u001b[0;34m\u001b[0m\u001b[0m\n",
            "\u001b[0;31mAttributeError\u001b[0m: 'Person' object has no attribute '__name'"
          ]
        }
      ]
    },
    {
      "cell_type": "code",
      "source": [
        "dir(person)"
      ],
      "metadata": {
        "colab": {
          "base_uri": "https://localhost:8080/"
        },
        "id": "c-7vaIc6Agwz",
        "outputId": "6a9c9410-e3d3-4d76-ccff-cba70c959f4e"
      },
      "execution_count": 4,
      "outputs": [
        {
          "output_type": "execute_result",
          "data": {
            "text/plain": [
              "['_Person__age',\n",
              " '_Person__name',\n",
              " '__class__',\n",
              " '__delattr__',\n",
              " '__dict__',\n",
              " '__dir__',\n",
              " '__doc__',\n",
              " '__eq__',\n",
              " '__format__',\n",
              " '__ge__',\n",
              " '__getattribute__',\n",
              " '__getstate__',\n",
              " '__gt__',\n",
              " '__hash__',\n",
              " '__init__',\n",
              " '__init_subclass__',\n",
              " '__le__',\n",
              " '__lt__',\n",
              " '__module__',\n",
              " '__ne__',\n",
              " '__new__',\n",
              " '__reduce__',\n",
              " '__reduce_ex__',\n",
              " '__repr__',\n",
              " '__setattr__',\n",
              " '__sizeof__',\n",
              " '__str__',\n",
              " '__subclasshook__',\n",
              " '__weakref__',\n",
              " 'gender']"
            ]
          },
          "metadata": {},
          "execution_count": 4
        }
      ]
    },
    {
      "cell_type": "code",
      "source": [
        "class Person:\n",
        "  def __init__(self,name,age,gender):\n",
        "    self._name=name         # protected variables\n",
        "    self._age=age           # protected variables\n",
        "    self.gender=gender\n",
        "\n",
        "class Employee(Person):\n",
        "  def __init__(self,name,age,gender):\n",
        "    super().__init__(name,age,gender)\n",
        "\n",
        "employee=Employee(\"Shreya\",21,\"Female\")\n",
        "print(employee._name)"
      ],
      "metadata": {
        "colab": {
          "base_uri": "https://localhost:8080/"
        },
        "id": "j3FDsKz8AkNY",
        "outputId": "20019df9-7615-444e-fab1-321f64127602"
      },
      "execution_count": 5,
      "outputs": [
        {
          "output_type": "stream",
          "name": "stdout",
          "text": [
            "Shreya\n"
          ]
        }
      ]
    },
    {
      "cell_type": "code",
      "source": [
        "# Encapsulation with Getter and Setter\n",
        "\n",
        "class Person:\n",
        "  def __init__(self,name,age):\n",
        "    self.__name=name  ## Private access modifier or variable\n",
        "    self.__age=age ## Private variable\n",
        "    pass\n",
        "\n",
        "  # getter method for name\n",
        "  def get_name(self):\n",
        "    return self.__name\n",
        "\n",
        "  # setter method for name\n",
        "  def set_name(self,name):\n",
        "    self.__name=name\n",
        "\n",
        "  # Getter method for age\n",
        "  def get_age(self):\n",
        "    return self.__age\n",
        "\n",
        "  # Setter method for age\n",
        "  def set_age(self, age):\n",
        "    if age > 0:\n",
        "      self.__age = age\n",
        "    else:\n",
        "      print(\"Age cannot be negative.\")\n",
        "\n",
        "\n",
        "\n",
        "person=Person(\"Shreya\",21)\n",
        "\n",
        "## Access and modify private variables using getter and setter\n",
        "\n",
        "print(person.get_name())\n",
        "print(person.get_age())\n",
        "\n",
        "person.set_age(35)\n",
        "print(person.get_age())\n",
        "\n",
        "person.set_age(-5)"
      ],
      "metadata": {
        "colab": {
          "base_uri": "https://localhost:8080/"
        },
        "id": "MnwqdRxkB71k",
        "outputId": "fd4c7096-cdfc-4233-b32a-d186e28ca5f1"
      },
      "execution_count": 6,
      "outputs": [
        {
          "output_type": "stream",
          "name": "stdout",
          "text": [
            "Shreya\n",
            "21\n",
            "35\n",
            "Age cannot be negative.\n"
          ]
        }
      ]
    }
  ]
}